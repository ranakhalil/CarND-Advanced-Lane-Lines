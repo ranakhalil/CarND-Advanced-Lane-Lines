{
 "cells": [
  {
   "cell_type": "code",
   "execution_count": 1,
   "metadata": {
    "collapsed": false
   },
   "outputs": [
    {
     "name": "stdout",
     "output_type": "stream",
     "text": [
      "Loaded Modules!!\n"
     ]
    }
   ],
   "source": [
    "import numpy as np\n",
    "import cv2\n",
    "from Undistort import Undistort\n",
    "from Threshold import Threshold\n",
    "from Warp import Warp\n",
    "from Polyfit import Polyfit\n",
    "from Polydraw import Polydraw\n",
    "import matplotlib.pyplot as plt\n",
    "import matplotlib.image as mpimg\n",
    "from moviepy.video.io.VideoFileClip import VideoFileClip\n",
    "from IPython.display import HTML\n",
    "\n",
    "print('Loaded Modules!!')"
   ]
  },
  {
   "cell_type": "code",
   "execution_count": 2,
   "metadata": {
    "collapsed": true
   },
   "outputs": [],
   "source": [
    "undistort = Undistort()\n",
    "polydraw = Polydraw()\n",
    "polyfit = Polyfit()"
   ]
  },
  {
   "cell_type": "code",
   "execution_count": 3,
   "metadata": {
    "collapsed": true
   },
   "outputs": [],
   "source": [
    "src = np.float32([\n",
    "    [580, 460],\n",
    "    [700, 460],\n",
    "    [1040, 680],\n",
    "    [260, 680],\n",
    "])\n",
    "\n",
    "dst = np.float32([\n",
    "    [260, 0],\n",
    "    [1040, 0],\n",
    "    [1040, 720],\n",
    "    [260, 720],\n",
    "])"
   ]
  },
  {
   "cell_type": "code",
   "execution_count": 4,
   "metadata": {
    "collapsed": false
   },
   "outputs": [
    {
     "name": "stdout",
     "output_type": "stream",
     "text": [
      "Working on Image :  ./camera_cal/calibration10.jpg\n",
      "Working on Image :  ./camera_cal/calibration11.jpg\n",
      "Working on Image :  ./camera_cal/calibration12.jpg\n",
      "Working on Image :  ./camera_cal/calibration13.jpg\n",
      "Working on Image :  ./camera_cal/calibration14.jpg\n",
      "Working on Image :  ./camera_cal/calibration15.jpg\n",
      "Working on Image :  ./camera_cal/calibration16.jpg\n",
      "Working on Image :  ./camera_cal/calibration17.jpg\n",
      "Working on Image :  ./camera_cal/calibration18.jpg\n",
      "Working on Image :  ./camera_cal/calibration19.jpg\n",
      "Working on Image :  ./camera_cal/calibration2.jpg\n",
      "Working on Image :  ./camera_cal/calibration20.jpg\n",
      "Working on Image :  ./camera_cal/calibration3.jpg\n",
      "Working on Image :  ./camera_cal/calibration6.jpg\n",
      "Working on Image :  ./camera_cal/calibration7.jpg\n",
      "Working on Image :  ./camera_cal/calibration8.jpg\n",
      "Working on Image :  ./camera_cal/calibration9.jpg\n"
     ]
    },
    {
     "data": {
      "text/plain": [
       "<Undistort.Undistort at 0x107e8dd68>"
      ]
     },
     "execution_count": 4,
     "metadata": {},
     "output_type": "execute_result"
    }
   ],
   "source": [
    "warp = Warp(src, dst)\n",
    "undistort.calibratie_camera()"
   ]
  },
  {
   "cell_type": "code",
   "execution_count": 5,
   "metadata": {
    "collapsed": true
   },
   "outputs": [],
   "source": [
    "def process_images_test(base_image, name):\n",
    "\n",
    "    img_undist = undistort.undistort(base_image)\n",
    "    mpimg.imsave('./output_images/undistorted_{}'.format(name), img_undist)\n",
    "\n",
    "    threshold = Threshold()\n",
    "    img = threshold.combined_threshold(img_undist)\n",
    "    mpimg.imsave('./output_images/thresholded_{}'.format(name), img, cmap=\"gray\")\n",
    "\n",
    "    img = warp.warp(img)\n",
    "    mpimg.imsave('./output_images/warped_{}'.format(name), img, cmap=\"gray\")\n",
    "\n",
    "    left_fit, right_fit = polyfit.polyfit(img, visualize=True)\n",
    "\n",
    "    img = polydraw.draw(img_undist, left_fit, right_fit, warp.Minv)\n",
    "\n",
    "    mpimg.imsave('./output_images/final_{}'.format(name), img, cmap=\"gray\")\n",
    "    # Measure curvature\n",
    "    lane_curve, car_position = polyfit.curvature(img)\n",
    "    font = cv2.FONT_HERSHEY_SIMPLEX\n",
    "\n",
    "    if car_position > 0:\n",
    "        cv2.putText(img, 'Radius of curvature (Left)  = %.2f m' % (lane_curve), (10, 40), font, 1,\n",
    "                    (255, 255, 255), 2, cv2.LINE_AA)\n",
    "        pos_text = '{}m right of center'.format(car_position)\n",
    "    else:\n",
    "        cv2.putText(img, 'Radius of curvature (Right) = %.2f m' % (lane_curve), (10, 70), font, 1,\n",
    "                    (255, 255, 255), 2, cv2.LINE_AA)\n",
    "        pos_text = '{}m left of center'.format(abs(car_position))\n",
    "\n",
    "    cv2.putText(img, \"Lane curve: {}m\".format(lane_curve.round()), (10, 40), font, 1,\n",
    "                color=(255, 255, 255), thickness=2)\n",
    "    cv2.putText(img, \"Car is {}\".format(pos_text), (10, 100), cv2.FONT_HERSHEY_SIMPLEX, 1, color=(255, 255, 255),\n",
    "                thickness=2)\n",
    "    mpimg.imsave('./output_images/annotated_{}'.format(name), img)"
   ]
  },
  {
   "cell_type": "code",
   "execution_count": 6,
   "metadata": {
    "collapsed": false
   },
   "outputs": [
    {
     "name": "stdout",
     "output_type": "stream",
     "text": [
      "11051.5742606 m 2996.69988358 m\n",
      "Ratio:  3.68791493641\n",
      "2109.53496587 m 71136.351446 m\n",
      "Ratio:  0.0296548097139\n",
      "11430.179363 m 21481.4627923 m\n",
      "Ratio:  0.532095019483\n",
      "575.790920946 m 1584.41528244 m\n",
      "Ratio:  0.363409093139\n",
      "1250.56483841 m 955.222163812 m\n",
      "Ratio:  1.30918741816\n",
      "945.269229927 m 261.329120735 m\n",
      "Ratio:  3.61715995242\n",
      "432.247219507 m 789.153199627 m\n",
      "Ratio:  0.547735496367\n",
      "1244.23709825 m 942.62970202 m\n",
      "Ratio:  1.31996381567\n"
     ]
    }
   ],
   "source": [
    "test_images = ['straight_lines1.jpg', 'straight_lines2.jpg', 'test1.jpg', 'test2.jpg', 'test3.jpg', 'test4.jpg', 'test5.jpg', 'test6.jpg']\n",
    "for image in test_images:\n",
    "    img = mpimg.imread('./test_images/' + image)\n",
    "    process_images_test(img, image)"
   ]
  },
  {
   "cell_type": "code",
   "execution_count": 7,
   "metadata": {
    "collapsed": true
   },
   "outputs": [],
   "source": [
    "def process_image(base_image):\n",
    "    img_undist = undistort.undistort(base_image)\n",
    "    threshold = Threshold()\n",
    "    img = threshold.combined_threshold(img_undist)\n",
    "    img = warp.warp(img)\n",
    "    left_fit, right_fit = polyfit.polyfit(img, visualize=False)\n",
    "    img = polydraw.draw(img_undist, left_fit, right_fit, warp.Minv)\n",
    "    # Measure curvature\n",
    "    lane_curve, car_position = polyfit.curvature(img)\n",
    "    font = cv2.FONT_HERSHEY_SIMPLEX\n",
    "\n",
    "    if car_position > 0:\n",
    "        cv2.putText(img, 'Radius of curvature (Left)  = %.2f m' % (lane_curve), (10, 40), font, 1,\n",
    "                    (255, 255, 255), 2, cv2.LINE_AA)\n",
    "        pos_text = '{}m right of center'.format(car_position)\n",
    "    else:\n",
    "        cv2.putText(img, 'Radius of curvature (Right) = %.2f m' % (lane_curve), (10, 70), font, 1,\n",
    "                    (255, 255, 255), 2, cv2.LINE_AA)\n",
    "        pos_text = '{}m left of center'.format(abs(car_position))\n",
    "\n",
    "    cv2.putText(img, \"Lane curve: {}m\".format(lane_curve.round()), (10, 40), font, 1,\n",
    "                color=(255, 255, 255), thickness=2)\n",
    "    \n",
    "    cv2.putText(img, \"Car is {}\".format(pos_text), (10, 100), cv2.FONT_HERSHEY_SIMPLEX, 1, color=(255, 255, 255),\n",
    "                thickness=2)\n",
    "    return img"
   ]
  },
  {
   "cell_type": "code",
   "execution_count": 8,
   "metadata": {
    "collapsed": false
   },
   "outputs": [
    {
     "name": "stdout",
     "output_type": "stream",
     "text": [
      "595.440372068 m 1941.69970587 m\n",
      "Ratio:  0.306659351221\n",
      "1145.20002737 m 1563.38327804 m\n",
      "Ratio:  0.732513928899\n",
      "[MoviePy] >>>> Building video project_video_test.mp4\n",
      "[MoviePy] Writing video project_video_test.mp4\n"
     ]
    },
    {
     "name": "stderr",
     "output_type": "stream",
     "text": [
      "  1%|          | 1/126 [00:00<00:18,  6.63it/s]"
     ]
    },
    {
     "name": "stdout",
     "output_type": "stream",
     "text": [
      "1145.20002737 m 1563.38327804 m\n",
      "Ratio:  0.732513928899\n"
     ]
    },
    {
     "name": "stderr",
     "output_type": "stream",
     "text": [
      "\r",
      "  2%|▏         | 2/126 [00:00<00:18,  6.65it/s]"
     ]
    },
    {
     "name": "stdout",
     "output_type": "stream",
     "text": [
      "1304.18857792 m 2306.12875618 m\n",
      "Ratio:  0.565531553442\n"
     ]
    },
    {
     "name": "stderr",
     "output_type": "stream",
     "text": [
      "\r",
      "  2%|▏         | 3/126 [00:00<00:18,  6.66it/s]"
     ]
    },
    {
     "name": "stdout",
     "output_type": "stream",
     "text": [
      "1384.01138796 m 8598.18963453 m\n",
      "Ratio:  0.160965441191\n"
     ]
    },
    {
     "name": "stderr",
     "output_type": "stream",
     "text": [
      "\r",
      "  3%|▎         | 4/126 [00:00<00:19,  6.38it/s]"
     ]
    },
    {
     "name": "stdout",
     "output_type": "stream",
     "text": [
      "1041.83018885 m 3300.81994428 m\n",
      "Ratio:  0.315627694464\n"
     ]
    },
    {
     "name": "stderr",
     "output_type": "stream",
     "text": [
      "\r",
      "  4%|▍         | 5/126 [00:00<00:19,  6.32it/s]"
     ]
    },
    {
     "name": "stdout",
     "output_type": "stream",
     "text": [
      "946.82858943 m 3759.36619368 m\n",
      "Ratio:  0.251858568879\n"
     ]
    },
    {
     "name": "stderr",
     "output_type": "stream",
     "text": [
      "\r",
      "  5%|▍         | 6/126 [00:00<00:18,  6.32it/s]"
     ]
    },
    {
     "name": "stdout",
     "output_type": "stream",
     "text": [
      "958.587237322 m 1396.55934796 m\n",
      "Ratio:  0.686392052525\n"
     ]
    },
    {
     "name": "stderr",
     "output_type": "stream",
     "text": [
      "\r",
      "  6%|▌         | 7/126 [00:01<00:18,  6.31it/s]"
     ]
    },
    {
     "name": "stdout",
     "output_type": "stream",
     "text": [
      "1134.55096502 m 1012.26861315 m\n",
      "Ratio:  1.12080029972\n"
     ]
    },
    {
     "name": "stderr",
     "output_type": "stream",
     "text": [
      "\r",
      "  6%|▋         | 8/126 [00:01<00:18,  6.33it/s]"
     ]
    },
    {
     "name": "stdout",
     "output_type": "stream",
     "text": [
      "1057.84557037 m 1310.62269364 m\n",
      "Ratio:  0.80713204151\n"
     ]
    },
    {
     "name": "stderr",
     "output_type": "stream",
     "text": [
      "\r",
      "  7%|▋         | 9/126 [00:01<00:18,  6.39it/s]"
     ]
    },
    {
     "name": "stdout",
     "output_type": "stream",
     "text": [
      "1141.20020045 m 1584.54065392 m\n",
      "Ratio:  0.720208848935\n"
     ]
    },
    {
     "name": "stderr",
     "output_type": "stream",
     "text": [
      "\r",
      "  8%|▊         | 10/126 [00:01<00:19,  6.09it/s]"
     ]
    },
    {
     "name": "stdout",
     "output_type": "stream",
     "text": [
      "1341.64193192 m 972.131754378 m\n",
      "Ratio:  1.38010298077\n"
     ]
    },
    {
     "name": "stderr",
     "output_type": "stream",
     "text": [
      "\r",
      "  9%|▊         | 11/126 [00:01<00:19,  5.96it/s]"
     ]
    },
    {
     "name": "stdout",
     "output_type": "stream",
     "text": [
      "1298.76890347 m 1486.52389237 m\n",
      "Ratio:  0.8736952767\n"
     ]
    },
    {
     "name": "stderr",
     "output_type": "stream",
     "text": [
      "\r",
      " 10%|▉         | 12/126 [00:01<00:18,  6.11it/s]"
     ]
    },
    {
     "name": "stdout",
     "output_type": "stream",
     "text": [
      "1322.17625735 m 1990.13458529 m\n",
      "Ratio:  0.664365248021\n"
     ]
    },
    {
     "name": "stderr",
     "output_type": "stream",
     "text": [
      "\r",
      " 10%|█         | 13/126 [00:02<00:18,  6.27it/s]"
     ]
    },
    {
     "name": "stdout",
     "output_type": "stream",
     "text": [
      "1048.83864018 m 2217.80243616 m\n",
      "Ratio:  0.472917976405\n"
     ]
    },
    {
     "name": "stderr",
     "output_type": "stream",
     "text": [
      "\r",
      " 11%|█         | 14/126 [00:02<00:17,  6.39it/s]"
     ]
    },
    {
     "name": "stdout",
     "output_type": "stream",
     "text": [
      "2882.05777188 m 4682.1476202 m\n",
      "Ratio:  0.615541842262\n"
     ]
    },
    {
     "name": "stderr",
     "output_type": "stream",
     "text": [
      "\r",
      " 12%|█▏        | 15/126 [00:02<00:17,  6.46it/s]"
     ]
    },
    {
     "name": "stdout",
     "output_type": "stream",
     "text": [
      "3029.7582872 m 3023.32618728 m\n",
      "Ratio:  1.00212749122\n"
     ]
    },
    {
     "name": "stderr",
     "output_type": "stream",
     "text": [
      "\r",
      " 13%|█▎        | 16/126 [00:02<00:17,  6.39it/s]"
     ]
    },
    {
     "name": "stdout",
     "output_type": "stream",
     "text": [
      "1341.75036989 m 1126.20427335 m\n",
      "Ratio:  1.19139165216\n"
     ]
    },
    {
     "name": "stderr",
     "output_type": "stream",
     "text": [
      "\r",
      " 13%|█▎        | 17/126 [00:02<00:17,  6.39it/s]"
     ]
    },
    {
     "name": "stdout",
     "output_type": "stream",
     "text": [
      "1040.29061798 m 1015.54604461 m\n",
      "Ratio:  1.02436578184\n"
     ]
    },
    {
     "name": "stderr",
     "output_type": "stream",
     "text": [
      "\r",
      " 14%|█▍        | 18/126 [00:02<00:16,  6.38it/s]"
     ]
    },
    {
     "name": "stdout",
     "output_type": "stream",
     "text": [
      "1176.89641188 m 708.071280117 m\n",
      "Ratio:  1.66211572892\n"
     ]
    },
    {
     "name": "stderr",
     "output_type": "stream",
     "text": [
      "\r",
      " 15%|█▌        | 19/126 [00:03<00:16,  6.33it/s]"
     ]
    },
    {
     "name": "stdout",
     "output_type": "stream",
     "text": [
      "3446.59884595 m 704.598495014 m\n",
      "Ratio:  4.89157849518\n"
     ]
    },
    {
     "name": "stderr",
     "output_type": "stream",
     "text": [
      "\r",
      " 16%|█▌        | 20/126 [00:03<00:16,  6.38it/s]"
     ]
    },
    {
     "name": "stdout",
     "output_type": "stream",
     "text": [
      "1442.59426129 m 1150.10306255 m\n",
      "Ratio:  1.254317381\n"
     ]
    },
    {
     "name": "stderr",
     "output_type": "stream",
     "text": [
      "\r",
      " 17%|█▋        | 21/126 [00:03<00:16,  6.37it/s]"
     ]
    },
    {
     "name": "stdout",
     "output_type": "stream",
     "text": [
      "2779.90824527 m 952.105825951 m\n",
      "Ratio:  2.91974712211\n"
     ]
    },
    {
     "name": "stderr",
     "output_type": "stream",
     "text": [
      "\r",
      " 17%|█▋        | 22/126 [00:03<00:17,  6.11it/s]"
     ]
    },
    {
     "name": "stdout",
     "output_type": "stream",
     "text": [
      "16599.7094687 m 860.579626669 m\n",
      "Ratio:  19.2889872759\n"
     ]
    },
    {
     "name": "stderr",
     "output_type": "stream",
     "text": [
      "\r",
      " 18%|█▊        | 23/126 [00:03<00:17,  5.97it/s]"
     ]
    },
    {
     "name": "stdout",
     "output_type": "stream",
     "text": [
      "4581.3564209 m 946.547355093 m\n",
      "Ratio:  4.84007101837\n"
     ]
    },
    {
     "name": "stderr",
     "output_type": "stream",
     "text": [
      "\r",
      " 19%|█▉        | 24/126 [00:03<00:16,  6.03it/s]"
     ]
    },
    {
     "name": "stdout",
     "output_type": "stream",
     "text": [
      "41280.5076151 m 1450.8142076 m\n",
      "Ratio:  28.4533384074\n"
     ]
    },
    {
     "name": "stderr",
     "output_type": "stream",
     "text": [
      "\r",
      " 20%|█▉        | 25/126 [00:04<00:16,  6.02it/s]"
     ]
    },
    {
     "name": "stdout",
     "output_type": "stream",
     "text": [
      "2982.48479854 m 1705.07361367 m\n",
      "Ratio:  1.74918242511\n"
     ]
    },
    {
     "name": "stderr",
     "output_type": "stream",
     "text": [
      "\r",
      " 21%|██        | 26/126 [00:04<00:16,  6.12it/s]"
     ]
    },
    {
     "name": "stdout",
     "output_type": "stream",
     "text": [
      "2036.63354616 m 19529.751324 m\n",
      "Ratio:  0.104283639477\n"
     ]
    },
    {
     "name": "stderr",
     "output_type": "stream",
     "text": [
      "\r",
      " 21%|██▏       | 27/126 [00:04<00:16,  6.18it/s]"
     ]
    },
    {
     "name": "stdout",
     "output_type": "stream",
     "text": [
      "2111.8083568 m 4710.30503657 m\n",
      "Ratio:  0.448337918756\n"
     ]
    },
    {
     "name": "stderr",
     "output_type": "stream",
     "text": [
      "\r",
      " 22%|██▏       | 28/126 [00:04<00:16,  6.12it/s]"
     ]
    },
    {
     "name": "stdout",
     "output_type": "stream",
     "text": [
      "2286.67722481 m 5470.83863327 m\n",
      "Ratio:  0.417975630081\n"
     ]
    },
    {
     "name": "stderr",
     "output_type": "stream",
     "text": [
      "\r",
      " 23%|██▎       | 29/126 [00:04<00:16,  5.96it/s]"
     ]
    },
    {
     "name": "stdout",
     "output_type": "stream",
     "text": [
      "2030.95392786 m 4361.62183202 m\n",
      "Ratio:  0.465641911673\n"
     ]
    },
    {
     "name": "stderr",
     "output_type": "stream",
     "text": [
      "\r",
      " 24%|██▍       | 30/126 [00:04<00:15,  6.10it/s]"
     ]
    },
    {
     "name": "stdout",
     "output_type": "stream",
     "text": [
      "3093.68578858 m 1134.87228824 m\n",
      "Ratio:  2.72602108682\n"
     ]
    },
    {
     "name": "stderr",
     "output_type": "stream",
     "text": [
      "\r",
      " 25%|██▍       | 31/126 [00:04<00:15,  6.18it/s]"
     ]
    },
    {
     "name": "stdout",
     "output_type": "stream",
     "text": [
      "2212.87916116 m 782.554309411 m\n",
      "Ratio:  2.82776432837\n"
     ]
    },
    {
     "name": "stderr",
     "output_type": "stream",
     "text": [
      "\r",
      " 25%|██▌       | 32/126 [00:05<00:14,  6.29it/s]"
     ]
    },
    {
     "name": "stdout",
     "output_type": "stream",
     "text": [
      "391671.803569 m 988.807550774 m\n",
      "Ratio:  396.105190806\n"
     ]
    },
    {
     "name": "stderr",
     "output_type": "stream",
     "text": [
      "\r",
      " 26%|██▌       | 33/126 [00:05<00:14,  6.28it/s]"
     ]
    },
    {
     "name": "stdout",
     "output_type": "stream",
     "text": [
      "2650.29317671 m 703.275816114 m\n",
      "Ratio:  3.76849753111\n"
     ]
    },
    {
     "name": "stderr",
     "output_type": "stream",
     "text": [
      "\r",
      " 27%|██▋       | 34/126 [00:05<00:15,  5.90it/s]"
     ]
    },
    {
     "name": "stdout",
     "output_type": "stream",
     "text": [
      "2294.53405994 m 650.621517839 m\n",
      "Ratio:  3.52668025423\n"
     ]
    },
    {
     "name": "stderr",
     "output_type": "stream",
     "text": [
      "\r",
      " 28%|██▊       | 35/126 [00:05<00:15,  5.85it/s]"
     ]
    },
    {
     "name": "stdout",
     "output_type": "stream",
     "text": [
      "2474.91501412 m 557.005873803 m\n",
      "Ratio:  4.44324760388\n"
     ]
    },
    {
     "name": "stderr",
     "output_type": "stream",
     "text": [
      "\r",
      " 29%|██▊       | 36/126 [00:05<00:15,  5.81it/s]"
     ]
    },
    {
     "name": "stdout",
     "output_type": "stream",
     "text": [
      "2174.7103625 m 534.101053211 m\n",
      "Ratio:  4.07172079034\n"
     ]
    },
    {
     "name": "stderr",
     "output_type": "stream",
     "text": [
      "\r",
      " 29%|██▉       | 37/126 [00:05<00:15,  5.91it/s]"
     ]
    },
    {
     "name": "stdout",
     "output_type": "stream",
     "text": [
      "1350.99005412 m 563.138165991 m\n",
      "Ratio:  2.39903834566\n"
     ]
    },
    {
     "name": "stderr",
     "output_type": "stream",
     "text": [
      "\r",
      " 30%|███       | 38/126 [00:06<00:14,  6.03it/s]"
     ]
    },
    {
     "name": "stdout",
     "output_type": "stream",
     "text": [
      "1222.26916409 m 705.284973061 m\n",
      "Ratio:  1.73301461222\n"
     ]
    },
    {
     "name": "stderr",
     "output_type": "stream",
     "text": [
      "\r",
      " 31%|███       | 39/126 [00:06<00:14,  6.12it/s]"
     ]
    },
    {
     "name": "stdout",
     "output_type": "stream",
     "text": [
      "2049.03742318 m 669.772448738 m\n",
      "Ratio:  3.05930383826\n"
     ]
    },
    {
     "name": "stderr",
     "output_type": "stream",
     "text": [
      "\r",
      " 32%|███▏      | 40/126 [00:06<00:14,  6.00it/s]"
     ]
    },
    {
     "name": "stdout",
     "output_type": "stream",
     "text": [
      "2687.4720028 m 562.274959503 m\n",
      "Ratio:  4.77964020517\n"
     ]
    },
    {
     "name": "stderr",
     "output_type": "stream",
     "text": [
      "\r",
      " 33%|███▎      | 41/126 [00:06<00:13,  6.13it/s]"
     ]
    },
    {
     "name": "stdout",
     "output_type": "stream",
     "text": [
      "1375.19909536 m 470.425302624 m\n",
      "Ratio:  2.92331022095\n"
     ]
    },
    {
     "name": "stderr",
     "output_type": "stream",
     "text": [
      "\r",
      " 33%|███▎      | 42/126 [00:06<00:13,  6.19it/s]"
     ]
    },
    {
     "name": "stdout",
     "output_type": "stream",
     "text": [
      "1189.98038357 m 691.363847734 m\n",
      "Ratio:  1.72120712917\n"
     ]
    },
    {
     "name": "stderr",
     "output_type": "stream",
     "text": [
      "\r",
      " 34%|███▍      | 43/126 [00:06<00:13,  5.94it/s]"
     ]
    },
    {
     "name": "stdout",
     "output_type": "stream",
     "text": [
      "1477.94390476 m 481.205967691 m\n",
      "Ratio:  3.07133328345\n"
     ]
    },
    {
     "name": "stderr",
     "output_type": "stream",
     "text": [
      "\r",
      " 35%|███▍      | 44/126 [00:07<00:13,  5.96it/s]"
     ]
    },
    {
     "name": "stdout",
     "output_type": "stream",
     "text": [
      "1323.90586211 m 492.092435821 m\n",
      "Ratio:  2.69036011476\n"
     ]
    },
    {
     "name": "stderr",
     "output_type": "stream",
     "text": [
      "\r",
      " 36%|███▌      | 45/126 [00:07<00:13,  6.01it/s]"
     ]
    },
    {
     "name": "stdout",
     "output_type": "stream",
     "text": [
      "845.10164901 m 420.527531649 m\n",
      "Ratio:  2.00962264158\n"
     ]
    },
    {
     "name": "stderr",
     "output_type": "stream",
     "text": [
      "\r",
      " 37%|███▋      | 46/126 [00:07<00:13,  5.80it/s]"
     ]
    },
    {
     "name": "stdout",
     "output_type": "stream",
     "text": [
      "2385.52396141 m 734.52993252 m\n",
      "Ratio:  3.24768788282\n"
     ]
    },
    {
     "name": "stderr",
     "output_type": "stream",
     "text": [
      "\r",
      " 37%|███▋      | 47/126 [00:07<00:13,  5.66it/s]"
     ]
    },
    {
     "name": "stdout",
     "output_type": "stream",
     "text": [
      "2004.80763589 m 763.767365239 m\n",
      "Ratio:  2.62489303306\n"
     ]
    },
    {
     "name": "stderr",
     "output_type": "stream",
     "text": [
      "\r",
      " 38%|███▊      | 48/126 [00:07<00:14,  5.54it/s]"
     ]
    },
    {
     "name": "stdout",
     "output_type": "stream",
     "text": [
      "3092.3081412 m 4327.74157317 m\n",
      "Ratio:  0.714531607056\n"
     ]
    },
    {
     "name": "stderr",
     "output_type": "stream",
     "text": [
      "\r",
      " 39%|███▉      | 49/126 [00:08<00:13,  5.59it/s]"
     ]
    },
    {
     "name": "stdout",
     "output_type": "stream",
     "text": [
      "5094.77735335 m 3966.78655363 m\n",
      "Ratio:  1.28435883415\n"
     ]
    },
    {
     "name": "stderr",
     "output_type": "stream",
     "text": [
      "\r",
      " 40%|███▉      | 50/126 [00:08<00:13,  5.55it/s]"
     ]
    },
    {
     "name": "stdout",
     "output_type": "stream",
     "text": [
      "7074.87580303 m 197414.621136 m\n",
      "Ratio:  0.03583764851\n"
     ]
    },
    {
     "name": "stderr",
     "output_type": "stream",
     "text": [
      "\r",
      " 40%|████      | 51/126 [00:08<00:13,  5.63it/s]"
     ]
    },
    {
     "name": "stdout",
     "output_type": "stream",
     "text": [
      "873.786553626 m 4374.85922612 m\n",
      "Ratio:  0.199729067489\n"
     ]
    },
    {
     "name": "stderr",
     "output_type": "stream",
     "text": [
      "\r",
      " 41%|████▏     | 52/126 [00:08<00:12,  5.79it/s]"
     ]
    },
    {
     "name": "stdout",
     "output_type": "stream",
     "text": [
      "757.489923475 m 949.816764323 m\n",
      "Ratio:  0.797511637958\n"
     ]
    },
    {
     "name": "stderr",
     "output_type": "stream",
     "text": [
      "\r",
      " 42%|████▏     | 53/126 [00:08<00:12,  5.91it/s]"
     ]
    },
    {
     "name": "stdout",
     "output_type": "stream",
     "text": [
      "689.907969155 m 758.42868462 m\n",
      "Ratio:  0.909654372449\n"
     ]
    },
    {
     "name": "stderr",
     "output_type": "stream",
     "text": [
      "\r",
      " 43%|████▎     | 54/126 [00:08<00:12,  5.72it/s]"
     ]
    },
    {
     "name": "stdout",
     "output_type": "stream",
     "text": [
      "1220.09816637 m 1177.67923262 m\n",
      "Ratio:  1.03601908956\n"
     ]
    },
    {
     "name": "stderr",
     "output_type": "stream",
     "text": [
      " 44%|████▍     | 56/126 [00:09<00:14,  4.87it/s]"
     ]
    },
    {
     "name": "stdout",
     "output_type": "stream",
     "text": [
      "5991.26485 m 5358.97748652 m\n",
      "Ratio:  1.11798656835\n",
      "18923.4572032 m 564.320285868 m\n",
      "Ratio:  33.533186166\n"
     ]
    },
    {
     "name": "stderr",
     "output_type": "stream",
     "text": [
      " 46%|████▌     | 58/126 [00:09<00:13,  5.21it/s]"
     ]
    },
    {
     "name": "stdout",
     "output_type": "stream",
     "text": [
      "1661.17608851 m 359.711693461 m\n",
      "Ratio:  4.61807641705\n",
      "3042.48549962 m 405.092422276 m\n",
      "Ratio:  7.51059593394\n"
     ]
    },
    {
     "name": "stderr",
     "output_type": "stream",
     "text": [
      " 48%|████▊     | 60/126 [00:10<00:11,  5.70it/s]"
     ]
    },
    {
     "name": "stdout",
     "output_type": "stream",
     "text": [
      "2570.63631366 m 494.816862594 m\n",
      "Ratio:  5.19512673877\n",
      "4737.68896192 m 498.421074881 m\n",
      "Ratio:  9.50539453623\n"
     ]
    },
    {
     "name": "stderr",
     "output_type": "stream",
     "text": [
      " 49%|████▉     | 62/126 [00:10<00:10,  5.93it/s]"
     ]
    },
    {
     "name": "stdout",
     "output_type": "stream",
     "text": [
      "1183.2633944 m 473.882472378 m\n",
      "Ratio:  2.49695539162\n",
      "1929.89353527 m 589.444237986 m\n",
      "Ratio:  3.27409008502\n"
     ]
    },
    {
     "name": "stderr",
     "output_type": "stream",
     "text": [
      " 51%|█████     | 64/126 [00:10<00:11,  5.34it/s]"
     ]
    },
    {
     "name": "stdout",
     "output_type": "stream",
     "text": [
      "1613.30766796 m 529.932733934 m\n",
      "Ratio:  3.04436311375\n",
      "1555.70377543 m 848.50881905 m\n",
      "Ratio:  1.83345622403\n"
     ]
    },
    {
     "name": "stderr",
     "output_type": "stream",
     "text": [
      " 52%|█████▏    | 66/126 [00:11<00:10,  5.48it/s]"
     ]
    },
    {
     "name": "stdout",
     "output_type": "stream",
     "text": [
      "2222.16781905 m 2407.72562767 m\n",
      "Ratio:  0.922932328132\n",
      "1002.46486101 m 1385.83483486 m\n",
      "Ratio:  0.723365321609\n"
     ]
    },
    {
     "name": "stderr",
     "output_type": "stream",
     "text": [
      " 54%|█████▍    | 68/126 [00:11<00:10,  5.47it/s]"
     ]
    },
    {
     "name": "stdout",
     "output_type": "stream",
     "text": [
      "809.014988342 m 1132.13775936 m\n",
      "Ratio:  0.714590589044\n",
      "1239.93499699 m 708.321209705 m\n",
      "Ratio:  1.75052642784\n"
     ]
    },
    {
     "name": "stderr",
     "output_type": "stream",
     "text": [
      "\r",
      " 55%|█████▍    | 69/126 [00:11<00:10,  5.40it/s]"
     ]
    },
    {
     "name": "stdout",
     "output_type": "stream",
     "text": [
      "1390.9674832 m 682.082295476 m\n",
      "Ratio:  2.03929568679\n"
     ]
    },
    {
     "name": "stderr",
     "output_type": "stream",
     "text": [
      "\r",
      " 56%|█████▌    | 70/126 [00:11<00:11,  5.08it/s]"
     ]
    },
    {
     "name": "stdout",
     "output_type": "stream",
     "text": [
      "2461.67405633 m 808.429850692 m\n",
      "Ratio:  3.04500638395\n"
     ]
    },
    {
     "name": "stderr",
     "output_type": "stream",
     "text": [
      " 57%|█████▋    | 72/126 [00:12<00:10,  5.27it/s]"
     ]
    },
    {
     "name": "stdout",
     "output_type": "stream",
     "text": [
      "12416.222648 m 804.713915516 m\n",
      "Ratio:  15.4293624214\n",
      "2722.63623342 m 716.325463672 m\n",
      "Ratio:  3.80083687024\n"
     ]
    },
    {
     "name": "stderr",
     "output_type": "stream",
     "text": [
      " 59%|█████▊    | 74/126 [00:12<00:09,  5.23it/s]"
     ]
    },
    {
     "name": "stdout",
     "output_type": "stream",
     "text": [
      "2905.27805928 m 698.46129086 m\n",
      "Ratio:  4.1595405462\n",
      "3503.05588299 m 696.358042673 m\n",
      "Ratio:  5.03053841317\n"
     ]
    },
    {
     "name": "stderr",
     "output_type": "stream",
     "text": [
      " 60%|██████    | 76/126 [00:13<00:08,  5.59it/s]"
     ]
    },
    {
     "name": "stdout",
     "output_type": "stream",
     "text": [
      "962.194733739 m 1665.28748808 m\n",
      "Ratio:  0.577794969715\n",
      "800.845688258 m 1087.79043307 m\n",
      "Ratio:  0.736213211582\n"
     ]
    },
    {
     "name": "stderr",
     "output_type": "stream",
     "text": [
      " 62%|██████▏   | 78/126 [00:13<00:08,  5.68it/s]"
     ]
    },
    {
     "name": "stdout",
     "output_type": "stream",
     "text": [
      "639.925684285 m 554.477804195 m\n",
      "Ratio:  1.15410514081\n",
      "460.112523951 m 519.578554566 m\n",
      "Ratio:  0.885549489886\n"
     ]
    },
    {
     "name": "stderr",
     "output_type": "stream",
     "text": [
      " 63%|██████▎   | 80/126 [00:13<00:08,  5.66it/s]"
     ]
    },
    {
     "name": "stdout",
     "output_type": "stream",
     "text": [
      "698.123940072 m 555.719549441 m\n",
      "Ratio:  1.25625226029\n",
      "711.876660391 m 647.722092212 m\n",
      "Ratio:  1.09904644129\n"
     ]
    },
    {
     "name": "stderr",
     "output_type": "stream",
     "text": [
      " 65%|██████▌   | 82/126 [00:14<00:07,  5.73it/s]"
     ]
    },
    {
     "name": "stdout",
     "output_type": "stream",
     "text": [
      "584.699189125 m 581.245727938 m\n",
      "Ratio:  1.00594148227\n",
      "566.03193935 m 671.93918784 m\n",
      "Ratio:  0.842385664646\n"
     ]
    },
    {
     "name": "stderr",
     "output_type": "stream",
     "text": [
      " 67%|██████▋   | 84/126 [00:14<00:07,  5.86it/s]"
     ]
    },
    {
     "name": "stdout",
     "output_type": "stream",
     "text": [
      "384.226095665 m 839.820994862 m\n",
      "Ratio:  0.457509514546\n",
      "344.581793947 m 835.877031103 m\n",
      "Ratio:  0.412239816534\n"
     ]
    },
    {
     "name": "stderr",
     "output_type": "stream",
     "text": [
      " 68%|██████▊   | 86/126 [00:14<00:06,  6.03it/s]"
     ]
    },
    {
     "name": "stdout",
     "output_type": "stream",
     "text": [
      "813.058139423 m 799.282755777 m\n",
      "Ratio:  1.0172346814\n",
      "878.800063136 m 472.970601185 m\n",
      "Ratio:  1.85804373662\n"
     ]
    },
    {
     "name": "stderr",
     "output_type": "stream",
     "text": [
      " 70%|██████▉   | 88/126 [00:15<00:06,  6.01it/s]"
     ]
    },
    {
     "name": "stdout",
     "output_type": "stream",
     "text": [
      "1314.44782915 m 410.391914059 m\n",
      "Ratio:  3.20290869319\n",
      "30225.6832011 m 314.422756874 m\n",
      "Ratio:  96.13071109\n"
     ]
    },
    {
     "name": "stderr",
     "output_type": "stream",
     "text": [
      " 71%|███████▏  | 90/126 [00:15<00:05,  6.03it/s]"
     ]
    },
    {
     "name": "stdout",
     "output_type": "stream",
     "text": [
      "927.255972613 m 276.740251018 m\n",
      "Ratio:  3.35063645134\n",
      "3581.15930253 m 285.218344078 m\n",
      "Ratio:  12.555851953\n"
     ]
    },
    {
     "name": "stderr",
     "output_type": "stream",
     "text": [
      " 73%|███████▎  | 92/126 [00:15<00:05,  5.88it/s]"
     ]
    },
    {
     "name": "stdout",
     "output_type": "stream",
     "text": [
      "8754.43040636 m 271.73509952 m\n",
      "Ratio:  32.2167817917\n",
      "954.300699636 m 272.173076344 m\n",
      "Ratio:  3.50622740668\n"
     ]
    },
    {
     "name": "stderr",
     "output_type": "stream",
     "text": [
      " 75%|███████▍  | 94/126 [00:16<00:05,  5.85it/s]"
     ]
    },
    {
     "name": "stdout",
     "output_type": "stream",
     "text": [
      "640.180684135 m 279.53283356 m\n",
      "Ratio:  2.29018064168\n",
      "541.561526182 m 297.732175258 m\n",
      "Ratio:  1.81895532693\n"
     ]
    },
    {
     "name": "stderr",
     "output_type": "stream",
     "text": [
      " 76%|███████▌  | 96/126 [00:16<00:05,  5.74it/s]"
     ]
    },
    {
     "name": "stdout",
     "output_type": "stream",
     "text": [
      "530.287356951 m 341.862560123 m\n",
      "Ratio:  1.55117119804\n",
      "603.826977366 m 1415.3532524 m\n",
      "Ratio:  0.426626339639\n"
     ]
    },
    {
     "name": "stderr",
     "output_type": "stream",
     "text": [
      " 78%|███████▊  | 98/126 [00:16<00:04,  5.78it/s]"
     ]
    },
    {
     "name": "stdout",
     "output_type": "stream",
     "text": [
      "480.067469671 m 1300.37402445 m\n",
      "Ratio:  0.369176452809\n",
      "461.743507609 m 4169.38345091 m\n",
      "Ratio:  0.110746232158\n"
     ]
    },
    {
     "name": "stderr",
     "output_type": "stream",
     "text": [
      " 79%|███████▉  | 100/126 [00:17<00:04,  5.86it/s]"
     ]
    },
    {
     "name": "stdout",
     "output_type": "stream",
     "text": [
      "577.786446153 m 3767.70120914 m\n",
      "Ratio:  0.153352512336\n",
      "612.531997019 m 21634.0277731 m\n",
      "Ratio:  0.0283133590954\n"
     ]
    },
    {
     "name": "stderr",
     "output_type": "stream",
     "text": [
      " 81%|████████  | 102/126 [00:17<00:04,  5.89it/s]"
     ]
    },
    {
     "name": "stdout",
     "output_type": "stream",
     "text": [
      "731.514080884 m 742.364639393 m\n",
      "Ratio:  0.985383788595\n",
      "832.532015749 m 613.910195161 m\n",
      "Ratio:  1.35611368293\n"
     ]
    },
    {
     "name": "stderr",
     "output_type": "stream",
     "text": [
      " 83%|████████▎ | 104/126 [00:17<00:03,  5.90it/s]"
     ]
    },
    {
     "name": "stdout",
     "output_type": "stream",
     "text": [
      "1046.61093413 m 540.912329283 m\n",
      "Ratio:  1.9348993866\n",
      "1460.91601385 m 539.401469716 m\n",
      "Ratio:  2.70840198974\n"
     ]
    },
    {
     "name": "stderr",
     "output_type": "stream",
     "text": [
      " 84%|████████▍ | 106/126 [00:18<00:03,  5.96it/s]"
     ]
    },
    {
     "name": "stdout",
     "output_type": "stream",
     "text": [
      "2009.99832394 m 3321.99764467 m\n",
      "Ratio:  0.605057118919\n",
      "1968.10235161 m 2117.04416842 m\n",
      "Ratio:  0.929646334718\n"
     ]
    },
    {
     "name": "stderr",
     "output_type": "stream",
     "text": [
      " 86%|████████▌ | 108/126 [00:18<00:03,  5.86it/s]"
     ]
    },
    {
     "name": "stdout",
     "output_type": "stream",
     "text": [
      "1902.06796875 m 1289.6859361 m\n",
      "Ratio:  1.47483035637\n",
      "1785.63665545 m 921.700072654 m\n",
      "Ratio:  1.93732940729\n"
     ]
    },
    {
     "name": "stderr",
     "output_type": "stream",
     "text": [
      " 87%|████████▋ | 110/126 [00:18<00:02,  5.97it/s]"
     ]
    },
    {
     "name": "stdout",
     "output_type": "stream",
     "text": [
      "1294.61151468 m 701.900276957 m\n",
      "Ratio:  1.84443795961\n",
      "1638.8825097 m 438.668743652 m\n",
      "Ratio:  3.73603666415\n"
     ]
    },
    {
     "name": "stderr",
     "output_type": "stream",
     "text": [
      " 89%|████████▉ | 112/126 [00:19<00:02,  6.03it/s]"
     ]
    },
    {
     "name": "stdout",
     "output_type": "stream",
     "text": [
      "1285.8887977 m 437.27960623 m\n",
      "Ratio:  2.94065577123\n",
      "1156.87605278 m 624.589885477 m\n",
      "Ratio:  1.85221707824\n"
     ]
    },
    {
     "name": "stderr",
     "output_type": "stream",
     "text": [
      "\r",
      " 90%|████████▉ | 113/126 [00:19<00:02,  6.00it/s]"
     ]
    },
    {
     "name": "stdout",
     "output_type": "stream",
     "text": [
      "1295.13129165 m 514.340034947 m\n",
      "Ratio:  2.51804488014\n",
      "1503.30949481 m 627.413225186 m\n",
      "Ratio:  2.39604368295\n"
     ]
    },
    {
     "name": "stderr",
     "output_type": "stream",
     "text": [
      " 92%|█████████▏| 116/126 [00:19<00:01,  5.86it/s]"
     ]
    },
    {
     "name": "stdout",
     "output_type": "stream",
     "text": [
      "1260.75894364 m 551.100688605 m\n",
      "Ratio:  2.28771070279\n",
      "1746.91574014 m 482.404139403 m\n",
      "Ratio:  3.62127021194\n"
     ]
    },
    {
     "name": "stderr",
     "output_type": "stream",
     "text": [
      " 94%|█████████▎| 118/126 [00:20<00:01,  5.85it/s]"
     ]
    },
    {
     "name": "stdout",
     "output_type": "stream",
     "text": [
      "1612.9476915 m 651.560245586 m\n",
      "Ratio:  2.47551581366\n",
      "2086.56793559 m 589.032618031 m\n",
      "Ratio:  3.54236399092\n"
     ]
    },
    {
     "name": "stderr",
     "output_type": "stream",
     "text": [
      " 95%|█████████▌| 120/126 [00:20<00:01,  5.88it/s]"
     ]
    },
    {
     "name": "stdout",
     "output_type": "stream",
     "text": [
      "2705.79719999 m 719.629451316 m\n",
      "Ratio:  3.75998674741\n",
      "2232.10390121 m 1026.65169311 m\n",
      "Ratio:  2.17415888582\n"
     ]
    },
    {
     "name": "stderr",
     "output_type": "stream",
     "text": [
      " 97%|█████████▋| 122/126 [00:20<00:00,  5.76it/s]"
     ]
    },
    {
     "name": "stdout",
     "output_type": "stream",
     "text": [
      "2671.30244438 m 1271.47333424 m\n",
      "Ratio:  2.10095042691\n",
      "1405.69270103 m 1706.33218461 m\n",
      "Ratio:  0.823809521795\n"
     ]
    },
    {
     "name": "stderr",
     "output_type": "stream",
     "text": [
      " 98%|█████████▊| 124/126 [00:21<00:00,  5.96it/s]"
     ]
    },
    {
     "name": "stdout",
     "output_type": "stream",
     "text": [
      "2343.94043753 m 2314.07726748 m\n",
      "Ratio:  1.01290500126\n",
      "1094.57574376 m 914.076936244 m\n",
      "Ratio:  1.1974656622\n"
     ]
    },
    {
     "name": "stderr",
     "output_type": "stream",
     "text": [
      " 99%|█████████▉| 125/126 [00:21<00:00,  5.78it/s]\n"
     ]
    },
    {
     "name": "stdout",
     "output_type": "stream",
     "text": [
      "1781.55159479 m 685.128197449 m\n",
      "Ratio:  2.60031859939\n",
      "[MoviePy] Done.\n",
      "[MoviePy] >>>> Video ready: project_video_test.mp4 \n",
      "\n"
     ]
    }
   ],
   "source": [
    "test_output = 'project_video_test.mp4'\n",
    "clip_test = VideoFileClip('project_video.mp4')\n",
    "test_clip = clip_test.fl_image(process_image).subclip(38,43)  # NOTE: this function expects color images!!\n",
    "test_clip.write_videofile(test_output, audio=False)"
   ]
  },
  {
   "cell_type": "code",
   "execution_count": 9,
   "metadata": {
    "collapsed": false
   },
   "outputs": [
    {
     "data": {
      "text/html": [
       "\n",
       "<video width=\"960\" height=\"540\" controls>\n",
       "  <source src=\"project_video_test.mp4\">\n",
       "</video>\n"
      ],
      "text/plain": [
       "<IPython.core.display.HTML object>"
      ]
     },
     "execution_count": 9,
     "metadata": {},
     "output_type": "execute_result"
    }
   ],
   "source": [
    "HTML(\"\"\"\n",
    "<video width=\"960\" height=\"540\" controls>\n",
    "  <source src=\"{0}\">\n",
    "</video>\n",
    "\"\"\".format(test_output))"
   ]
  },
  {
   "cell_type": "code",
   "execution_count": 10,
   "metadata": {
    "collapsed": false
   },
   "outputs": [
    {
     "name": "stdout",
     "output_type": "stream",
     "text": [
      "595.440372068 m 1941.69970587 m\n",
      "Ratio:  0.306659351221\n",
      "[MoviePy] >>>> Building video project_video_done_2.mp4\n",
      "[MoviePy] Writing video project_video_done_2.mp4\n"
     ]
    },
    {
     "name": "stderr",
     "output_type": "stream",
     "text": [
      "  0%|          | 1/1261 [00:00<03:18,  6.33it/s]"
     ]
    },
    {
     "name": "stdout",
     "output_type": "stream",
     "text": [
      "595.440372068 m 1941.69970587 m\n",
      "Ratio:  0.306659351221\n"
     ]
    },
    {
     "name": "stderr",
     "output_type": "stream",
     "text": [
      "\r",
      "  0%|          | 2/1261 [00:00<03:19,  6.32it/s]"
     ]
    },
    {
     "name": "stdout",
     "output_type": "stream",
     "text": [
      "566.391709418 m 1573.21662084 m\n",
      "Ratio:  0.360021437553\n"
     ]
    },
    {
     "name": "stderr",
     "output_type": "stream",
     "text": [
      "\r",
      "  0%|          | 3/1261 [00:00<03:20,  6.28it/s]"
     ]
    },
    {
     "name": "stdout",
     "output_type": "stream",
     "text": [
      "551.33477987 m 916.413602858 m\n",
      "Ratio:  0.601622213105\n"
     ]
    },
    {
     "name": "stderr",
     "output_type": "stream",
     "text": [
      "\r",
      "  0%|          | 4/1261 [00:00<03:18,  6.33it/s]"
     ]
    },
    {
     "name": "stdout",
     "output_type": "stream",
     "text": [
      "568.93925261 m 630.672006989 m\n",
      "Ratio:  0.902115911767\n"
     ]
    },
    {
     "name": "stderr",
     "output_type": "stream",
     "text": [
      "\r",
      "  0%|          | 5/1261 [00:00<03:18,  6.33it/s]"
     ]
    },
    {
     "name": "stdout",
     "output_type": "stream",
     "text": [
      "559.84795722 m 668.232633459 m\n",
      "Ratio:  0.837803976023\n"
     ]
    },
    {
     "name": "stderr",
     "output_type": "stream",
     "text": [
      "\r",
      "  0%|          | 6/1261 [00:00<03:20,  6.27it/s]"
     ]
    },
    {
     "name": "stdout",
     "output_type": "stream",
     "text": [
      "564.711069064 m 633.642315869 m\n",
      "Ratio:  0.891214262243\n"
     ]
    },
    {
     "name": "stderr",
     "output_type": "stream",
     "text": [
      "\r",
      "  1%|          | 7/1261 [00:01<03:18,  6.31it/s]"
     ]
    },
    {
     "name": "stdout",
     "output_type": "stream",
     "text": [
      "574.05013551 m 876.350813197 m\n",
      "Ratio:  0.655046046475\n"
     ]
    },
    {
     "name": "stderr",
     "output_type": "stream",
     "text": [
      "\r",
      "  1%|          | 8/1261 [00:01<03:22,  6.20it/s]"
     ]
    },
    {
     "name": "stdout",
     "output_type": "stream",
     "text": [
      "569.001526218 m 24411.0914795 m\n",
      "Ratio:  0.0233091390729\n"
     ]
    },
    {
     "name": "stderr",
     "output_type": "stream",
     "text": [
      "\r",
      "  1%|          | 9/1261 [00:01<03:21,  6.22it/s]"
     ]
    },
    {
     "name": "stdout",
     "output_type": "stream",
     "text": [
      "556.925579945 m 3506.8667014 m\n",
      "Ratio:  0.158810022555\n"
     ]
    },
    {
     "name": "stderr",
     "output_type": "stream",
     "text": [
      "\r",
      "  1%|          | 10/1261 [00:01<03:21,  6.22it/s]"
     ]
    },
    {
     "name": "stdout",
     "output_type": "stream",
     "text": [
      "609.389258157 m 48041.070009 m\n",
      "Ratio:  0.0126847561481\n"
     ]
    },
    {
     "name": "stderr",
     "output_type": "stream",
     "text": [
      "\r",
      "  1%|          | 11/1261 [00:01<03:18,  6.31it/s]"
     ]
    },
    {
     "name": "stdout",
     "output_type": "stream",
     "text": [
      "660.822263145 m 21107.3911559 m\n",
      "Ratio:  0.0313076238681\n"
     ]
    },
    {
     "name": "stderr",
     "output_type": "stream",
     "text": [
      "\r",
      "  1%|          | 12/1261 [00:01<03:17,  6.34it/s]"
     ]
    },
    {
     "name": "stdout",
     "output_type": "stream",
     "text": [
      "682.610261337 m 1941.58757176 m\n",
      "Ratio:  0.351573254416\n"
     ]
    },
    {
     "name": "stderr",
     "output_type": "stream",
     "text": [
      "\r",
      "  1%|          | 13/1261 [00:02<03:16,  6.34it/s]"
     ]
    },
    {
     "name": "stdout",
     "output_type": "stream",
     "text": [
      "718.741026476 m 6755.43326586 m\n",
      "Ratio:  0.106394512119\n"
     ]
    },
    {
     "name": "stderr",
     "output_type": "stream",
     "text": [
      "\r",
      "  1%|          | 14/1261 [00:02<03:24,  6.08it/s]"
     ]
    },
    {
     "name": "stdout",
     "output_type": "stream",
     "text": [
      "815.554632453 m 1046.86758791 m\n",
      "Ratio:  0.779042776633\n"
     ]
    },
    {
     "name": "stderr",
     "output_type": "stream",
     "text": [
      "\r",
      "  1%|          | 15/1261 [00:02<03:23,  6.11it/s]"
     ]
    },
    {
     "name": "stdout",
     "output_type": "stream",
     "text": [
      "806.699008979 m 881.195508328 m\n",
      "Ratio:  0.915459737771\n"
     ]
    },
    {
     "name": "stderr",
     "output_type": "stream",
     "text": [
      "\r",
      "  1%|▏         | 16/1261 [00:02<03:20,  6.22it/s]"
     ]
    },
    {
     "name": "stdout",
     "output_type": "stream",
     "text": [
      "781.789944934 m 1158.61201842 m\n",
      "Ratio:  0.674764228665\n"
     ]
    },
    {
     "name": "stderr",
     "output_type": "stream",
     "text": [
      "\r",
      "  1%|▏         | 17/1261 [00:02<03:22,  6.15it/s]"
     ]
    },
    {
     "name": "stdout",
     "output_type": "stream",
     "text": [
      "784.612190933 m 827.570851359 m\n",
      "Ratio:  0.948090655495\n"
     ]
    },
    {
     "name": "stderr",
     "output_type": "stream",
     "text": [
      "\r",
      "  1%|▏         | 18/1261 [00:02<03:29,  5.93it/s]"
     ]
    },
    {
     "name": "stdout",
     "output_type": "stream",
     "text": [
      "829.961852056 m 1101.37230354 m\n",
      "Ratio:  0.753570658523\n"
     ]
    },
    {
     "name": "stderr",
     "output_type": "stream",
     "text": [
      "\r",
      "  2%|▏         | 19/1261 [00:03<03:39,  5.67it/s]"
     ]
    },
    {
     "name": "stdout",
     "output_type": "stream",
     "text": [
      "935.114729854 m 1495.65726811 m\n",
      "Ratio:  0.625219928248\n"
     ]
    },
    {
     "name": "stderr",
     "output_type": "stream",
     "text": [
      "\r",
      "  2%|▏         | 20/1261 [00:03<03:38,  5.67it/s]"
     ]
    },
    {
     "name": "stdout",
     "output_type": "stream",
     "text": [
      "1005.7419442 m 3016.99441623 m\n",
      "Ratio:  0.333358901427\n"
     ]
    },
    {
     "name": "stderr",
     "output_type": "stream",
     "text": [
      "\r",
      "  2%|▏         | 21/1261 [00:03<03:34,  5.78it/s]"
     ]
    },
    {
     "name": "stdout",
     "output_type": "stream",
     "text": [
      "1150.26367649 m 3904.28088525 m\n",
      "Ratio:  0.294616015164\n"
     ]
    },
    {
     "name": "stderr",
     "output_type": "stream",
     "text": [
      "\r",
      "  2%|▏         | 22/1261 [00:03<03:31,  5.87it/s]"
     ]
    },
    {
     "name": "stdout",
     "output_type": "stream",
     "text": [
      "1066.65531153 m 13880.6823168 m\n",
      "Ratio:  0.0768445878371\n"
     ]
    },
    {
     "name": "stderr",
     "output_type": "stream",
     "text": [
      "\r",
      "  2%|▏         | 23/1261 [00:03<03:34,  5.78it/s]"
     ]
    },
    {
     "name": "stdout",
     "output_type": "stream",
     "text": [
      "982.023952583 m 6342.41208202 m\n",
      "Ratio:  0.154834460436\n"
     ]
    },
    {
     "name": "stderr",
     "output_type": "stream",
     "text": [
      "\r",
      "  2%|▏         | 24/1261 [00:03<03:39,  5.64it/s]"
     ]
    },
    {
     "name": "stdout",
     "output_type": "stream",
     "text": [
      "1030.53697113 m 4989.46995116 m\n",
      "Ratio:  0.206542374485\n"
     ]
    },
    {
     "name": "stderr",
     "output_type": "stream",
     "text": [
      "\r",
      "  2%|▏         | 25/1261 [00:04<03:39,  5.64it/s]"
     ]
    },
    {
     "name": "stdout",
     "output_type": "stream",
     "text": [
      "977.353204871 m 1585.4791013 m\n",
      "Ratio:  0.61644029497\n"
     ]
    },
    {
     "name": "stderr",
     "output_type": "stream",
     "text": [
      "\r",
      "  2%|▏         | 26/1261 [00:04<03:34,  5.75it/s]"
     ]
    },
    {
     "name": "stdout",
     "output_type": "stream",
     "text": [
      "1021.23408162 m 717.71037916 m\n",
      "Ratio:  1.42290554975\n"
     ]
    },
    {
     "name": "stderr",
     "output_type": "stream",
     "text": [
      "\r",
      "  2%|▏         | 27/1261 [00:04<03:31,  5.84it/s]"
     ]
    },
    {
     "name": "stdout",
     "output_type": "stream",
     "text": [
      "872.5896516 m 677.069085617 m\n",
      "Ratio:  1.28877491254\n"
     ]
    },
    {
     "name": "stderr",
     "output_type": "stream",
     "text": [
      "\r",
      "  2%|▏         | 28/1261 [00:04<03:33,  5.77it/s]"
     ]
    },
    {
     "name": "stdout",
     "output_type": "stream",
     "text": [
      "821.018612563 m 837.059730431 m\n",
      "Ratio:  0.980836352193\n"
     ]
    },
    {
     "name": "stderr",
     "output_type": "stream",
     "text": [
      "\r",
      "  2%|▏         | 29/1261 [00:04<03:34,  5.74it/s]"
     ]
    },
    {
     "name": "stdout",
     "output_type": "stream",
     "text": [
      "754.10645887 m 564.539378018 m\n",
      "Ratio:  1.33579071405\n"
     ]
    },
    {
     "name": "stderr",
     "output_type": "stream",
     "text": [
      "\r",
      "  2%|▏         | 30/1261 [00:05<03:32,  5.80it/s]"
     ]
    },
    {
     "name": "stdout",
     "output_type": "stream",
     "text": [
      "627.993158311 m 487.669711028 m\n",
      "Ratio:  1.28774279827\n"
     ]
    },
    {
     "name": "stderr",
     "output_type": "stream",
     "text": [
      "  3%|▎         | 32/1261 [00:05<03:37,  5.65it/s]"
     ]
    },
    {
     "name": "stdout",
     "output_type": "stream",
     "text": [
      "618.870017604 m 747.827295509 m\n",
      "Ratio:  0.827557407065\n",
      "565.733758556 m 646.806360046 m\n",
      "Ratio:  0.87465707436\n"
     ]
    },
    {
     "name": "stderr",
     "output_type": "stream",
     "text": [
      "  3%|▎         | 34/1261 [00:05<03:24,  6.01it/s]"
     ]
    },
    {
     "name": "stdout",
     "output_type": "stream",
     "text": [
      "556.312401427 m 784.542610998 m\n",
      "Ratio:  0.709091378376\n",
      "552.768803026 m 874.039591991 m\n",
      "Ratio:  0.632429935773\n"
     ]
    },
    {
     "name": "stderr",
     "output_type": "stream",
     "text": [
      "  3%|▎         | 36/1261 [00:06<03:21,  6.09it/s]"
     ]
    },
    {
     "name": "stdout",
     "output_type": "stream",
     "text": [
      "508.426923763 m 1062.56689747 m\n",
      "Ratio:  0.47848933086\n",
      "498.172688874 m 989.260621261 m\n",
      "Ratio:  0.503580834178\n"
     ]
    },
    {
     "name": "stderr",
     "output_type": "stream",
     "text": [
      "  3%|▎         | 38/1261 [00:06<03:13,  6.32it/s]"
     ]
    },
    {
     "name": "stdout",
     "output_type": "stream",
     "text": [
      "489.654086683 m 862.479813361 m\n",
      "Ratio:  0.567728170674\n",
      "453.037885597 m 686.741311064 m\n",
      "Ratio:  0.659692198938\n"
     ]
    },
    {
     "name": "stderr",
     "output_type": "stream",
     "text": [
      "  3%|▎         | 40/1261 [00:06<03:10,  6.40it/s]"
     ]
    },
    {
     "name": "stdout",
     "output_type": "stream",
     "text": [
      "423.76278218 m 568.592484688 m\n",
      "Ratio:  0.745283825572\n",
      "433.048883087 m 577.885864277 m\n",
      "Ratio:  0.749367496001\n"
     ]
    },
    {
     "name": "stderr",
     "output_type": "stream",
     "text": [
      "  3%|▎         | 42/1261 [00:06<03:07,  6.49it/s]"
     ]
    },
    {
     "name": "stdout",
     "output_type": "stream",
     "text": [
      "455.293077718 m 852.470392583 m\n",
      "Ratio:  0.534086675243\n",
      "442.155533797 m 510.28908665 m\n",
      "Ratio:  0.866480482072\n"
     ]
    },
    {
     "name": "stderr",
     "output_type": "stream",
     "text": [
      "  3%|▎         | 44/1261 [00:07<03:19,  6.11it/s]"
     ]
    },
    {
     "name": "stdout",
     "output_type": "stream",
     "text": [
      "446.995992792 m 537.614883749 m\n",
      "Ratio:  0.831442741456\n",
      "462.548727412 m 612.98024642 m\n",
      "Ratio:  0.754589940073\n"
     ]
    },
    {
     "name": "stderr",
     "output_type": "stream",
     "text": [
      "  4%|▎         | 46/1261 [00:07<03:19,  6.08it/s]"
     ]
    },
    {
     "name": "stdout",
     "output_type": "stream",
     "text": [
      "475.803938087 m 801.839837167 m\n",
      "Ratio:  0.593390245823\n",
      "499.728338226 m 6158.19387515 m\n",
      "Ratio:  0.0811485231477\n"
     ]
    },
    {
     "name": "stderr",
     "output_type": "stream",
     "text": [
      "  4%|▍         | 48/1261 [00:07<03:29,  5.79it/s]"
     ]
    },
    {
     "name": "stdout",
     "output_type": "stream",
     "text": [
      "512.718945311 m 60533.1349553 m\n",
      "Ratio:  0.0084700543874\n",
      "539.432180008 m 7688.77899525 m\n",
      "Ratio:  0.0701583671922\n"
     ]
    },
    {
     "name": "stderr",
     "output_type": "stream",
     "text": [
      "  4%|▍         | 50/1261 [00:08<03:36,  5.59it/s]"
     ]
    },
    {
     "name": "stdout",
     "output_type": "stream",
     "text": [
      "587.235741796 m 1221.98800615 m\n",
      "Ratio:  0.480557696837\n",
      "625.949652778 m 1706.29362374 m\n",
      "Ratio:  0.366847560156\n"
     ]
    },
    {
     "name": "stderr",
     "output_type": "stream",
     "text": [
      "  4%|▍         | 52/1261 [00:08<03:24,  5.90it/s]"
     ]
    },
    {
     "name": "stdout",
     "output_type": "stream",
     "text": [
      "674.004416086 m 1412.26607994 m\n",
      "Ratio:  0.477250304076\n",
      "750.197031243 m 1578.46262613 m\n",
      "Ratio:  0.475270696198\n"
     ]
    },
    {
     "name": "stderr",
     "output_type": "stream",
     "text": [
      "  4%|▍         | 54/1261 [00:08<03:20,  6.03it/s]"
     ]
    },
    {
     "name": "stdout",
     "output_type": "stream",
     "text": [
      "809.295710692 m 441.870088958 m\n",
      "Ratio:  1.83152408573\n",
      "827.948920099 m 481.454606079 m\n",
      "Ratio:  1.71968220814\n"
     ]
    },
    {
     "name": "stderr",
     "output_type": "stream",
     "text": [
      "  4%|▍         | 56/1261 [00:09<03:15,  6.16it/s]"
     ]
    },
    {
     "name": "stdout",
     "output_type": "stream",
     "text": [
      "960.482244584 m 596.783499247 m\n",
      "Ratio:  1.60943163776\n",
      "1036.32547859 m 642.361279698 m\n",
      "Ratio:  1.61330626758\n"
     ]
    },
    {
     "name": "stderr",
     "output_type": "stream",
     "text": [
      "  5%|▍         | 58/1261 [00:09<03:24,  5.89it/s]"
     ]
    },
    {
     "name": "stdout",
     "output_type": "stream",
     "text": [
      "1019.34155658 m 806.370603311 m\n",
      "Ratio:  1.26411051245\n",
      "973.98054324 m 3033.09135566 m\n",
      "Ratio:  0.321118103292\n"
     ]
    },
    {
     "name": "stderr",
     "output_type": "stream",
     "text": [
      "  5%|▍         | 60/1261 [00:09<03:17,  6.07it/s]"
     ]
    },
    {
     "name": "stdout",
     "output_type": "stream",
     "text": [
      "849.129062309 m 1698.44949626 m\n",
      "Ratio:  0.499943662839\n",
      "846.500615873 m 1273.49823464 m\n",
      "Ratio:  0.664704977871\n"
     ]
    },
    {
     "name": "stderr",
     "output_type": "stream",
     "text": [
      "  5%|▍         | 62/1261 [00:10<03:20,  5.98it/s]"
     ]
    },
    {
     "name": "stdout",
     "output_type": "stream",
     "text": [
      "829.957046198 m 1391.74062514 m\n",
      "Ratio:  0.596344628592\n",
      "760.939856147 m 787.654258754 m\n",
      "Ratio:  0.966083592757\n"
     ]
    },
    {
     "name": "stderr",
     "output_type": "stream",
     "text": [
      "  5%|▌         | 64/1261 [00:10<03:14,  6.17it/s]"
     ]
    },
    {
     "name": "stdout",
     "output_type": "stream",
     "text": [
      "757.805508541 m 645.70065006 m\n",
      "Ratio:  1.17361738519\n",
      "712.925463268 m 744.587650068 m\n",
      "Ratio:  0.957476884291\n"
     ]
    },
    {
     "name": "stderr",
     "output_type": "stream",
     "text": [
      "  5%|▌         | 66/1261 [00:10<03:10,  6.27it/s]"
     ]
    },
    {
     "name": "stdout",
     "output_type": "stream",
     "text": [
      "639.361169496 m 486.998261536 m\n",
      "Ratio:  1.31286129745\n",
      "641.009233158 m 662.298170007 m\n",
      "Ratio:  0.96785596305\n"
     ]
    },
    {
     "name": "stderr",
     "output_type": "stream",
     "text": [
      "\r",
      "  5%|▌         | 67/1261 [00:11<03:11,  6.23it/s]"
     ]
    },
    {
     "name": "stdout",
     "output_type": "stream",
     "text": [
      "690.905794847 m 797.672645935 m\n",
      "Ratio:  0.866152046667\n",
      "690.585466133 m 1062.21694925 m\n",
      "Ratio:  0.650135988344\n"
     ]
    },
    {
     "name": "stderr",
     "output_type": "stream",
     "text": [
      "  6%|▌         | 70/1261 [00:11<03:17,  6.03it/s]"
     ]
    },
    {
     "name": "stdout",
     "output_type": "stream",
     "text": [
      "675.597149499 m 1450.08211262 m\n",
      "Ratio:  0.465902684833\n",
      "698.78910417 m 2476.87029906 m\n",
      "Ratio:  0.282125836155\n"
     ]
    },
    {
     "name": "stderr",
     "output_type": "stream",
     "text": [
      "  6%|▌         | 72/1261 [00:11<03:13,  6.14it/s]"
     ]
    },
    {
     "name": "stdout",
     "output_type": "stream",
     "text": [
      "688.699288585 m 2765.94101267 m\n",
      "Ratio:  0.248992760666\n",
      "777.631619696 m 1255.93993254 m\n",
      "Ratio:  0.619163066279\n"
     ]
    },
    {
     "name": "stderr",
     "output_type": "stream",
     "text": [
      "  6%|▌         | 74/1261 [00:12<03:18,  5.97it/s]"
     ]
    },
    {
     "name": "stdout",
     "output_type": "stream",
     "text": [
      "790.491978645 m 2025.60090263 m\n",
      "Ratio:  0.390250605447\n",
      "874.101687053 m 3582.50924329 m\n",
      "Ratio:  0.243991467347\n"
     ]
    },
    {
     "name": "stderr",
     "output_type": "stream",
     "text": [
      "  6%|▌         | 76/1261 [00:12<03:15,  6.07it/s]"
     ]
    },
    {
     "name": "stdout",
     "output_type": "stream",
     "text": [
      "1189.35529875 m 2094.03421163 m\n",
      "Ratio:  0.567973193632\n",
      "1231.77677801 m 7002.93268865 m\n",
      "Ratio:  0.175894419207\n"
     ]
    },
    {
     "name": "stderr",
     "output_type": "stream",
     "text": [
      "  6%|▌         | 78/1261 [00:12<03:10,  6.19it/s]"
     ]
    },
    {
     "name": "stdout",
     "output_type": "stream",
     "text": [
      "1402.05622566 m 1329.83470671 m\n",
      "Ratio:  1.05430864346\n",
      "1433.40181374 m 529.667444502 m\n",
      "Ratio:  2.70622978365\n"
     ]
    },
    {
     "name": "stderr",
     "output_type": "stream",
     "text": [
      "  6%|▋         | 80/1261 [00:13<03:13,  6.10it/s]"
     ]
    },
    {
     "name": "stdout",
     "output_type": "stream",
     "text": [
      "1177.64751335 m 524.260983446 m\n",
      "Ratio:  2.24630012633\n",
      "1614.77529717 m 595.368644388 m\n",
      "Ratio:  2.71222764651\n"
     ]
    },
    {
     "name": "stderr",
     "output_type": "stream",
     "text": [
      "  7%|▋         | 82/1261 [00:13<03:13,  6.09it/s]"
     ]
    },
    {
     "name": "stdout",
     "output_type": "stream",
     "text": [
      "1820.16939079 m 658.71349581 m\n",
      "Ratio:  2.76321861078\n",
      "1458.27217492 m 800.239288264 m\n",
      "Ratio:  1.82229515135\n"
     ]
    },
    {
     "name": "stderr",
     "output_type": "stream",
     "text": [
      "  7%|▋         | 84/1261 [00:13<03:17,  5.97it/s]"
     ]
    },
    {
     "name": "stdout",
     "output_type": "stream",
     "text": [
      "1485.7215555 m 2405.91952461 m\n",
      "Ratio:  0.617527535857\n",
      "1735.78107148 m 1500.56112809 m\n",
      "Ratio:  1.15675465597\n"
     ]
    },
    {
     "name": "stderr",
     "output_type": "stream",
     "text": [
      "\r",
      "  7%|▋         | 85/1261 [00:14<03:17,  5.95it/s]"
     ]
    },
    {
     "name": "stdout",
     "output_type": "stream",
     "text": [
      "1335.67501821 m 14647.8139268 m\n",
      "Ratio:  0.0911859629626\n",
      "1404.79024815 m 3608.86981602 m\n",
      "Ratio:  0.389260438799\n"
     ]
    },
    {
     "name": "stderr",
     "output_type": "stream",
     "text": [
      "  7%|▋         | 88/1261 [00:14<03:20,  5.86it/s]"
     ]
    },
    {
     "name": "stdout",
     "output_type": "stream",
     "text": [
      "999.177728224 m 2119.18645814 m\n",
      "Ratio:  0.471491182093\n",
      "937.038440146 m 762.232673693 m\n",
      "Ratio:  1.22933386679\n"
     ]
    },
    {
     "name": "stderr",
     "output_type": "stream",
     "text": [
      "  7%|▋         | 90/1261 [00:14<03:20,  5.83it/s]"
     ]
    },
    {
     "name": "stdout",
     "output_type": "stream",
     "text": [
      "755.098114811 m 516.912883378 m\n",
      "Ratio:  1.46078408779\n",
      "705.118819428 m 709.391578212 m\n",
      "Ratio:  0.993976868466\n"
     ]
    },
    {
     "name": "stderr",
     "output_type": "stream",
     "text": [
      "  7%|▋         | 92/1261 [00:15<03:18,  5.90it/s]"
     ]
    },
    {
     "name": "stdout",
     "output_type": "stream",
     "text": [
      "621.1282553 m 707.166802377 m\n",
      "Ratio:  0.878333447232\n",
      "637.486010986 m 632.362340413 m\n",
      "Ratio:  1.00810242838\n"
     ]
    },
    {
     "name": "stderr",
     "output_type": "stream",
     "text": [
      "  7%|▋         | 94/1261 [00:15<03:13,  6.02it/s]"
     ]
    },
    {
     "name": "stdout",
     "output_type": "stream",
     "text": [
      "610.472969468 m 643.296212555 m\n",
      "Ratio:  0.948976470798\n",
      "625.017118172 m 654.377971955 m\n",
      "Ratio:  0.955131659314\n"
     ]
    },
    {
     "name": "stderr",
     "output_type": "stream",
     "text": [
      "  8%|▊         | 96/1261 [00:15<03:07,  6.21it/s]"
     ]
    },
    {
     "name": "stdout",
     "output_type": "stream",
     "text": [
      "649.17794372 m 794.377788439 m\n",
      "Ratio:  0.817215628594\n",
      "642.4019294 m 840.85356084 m\n",
      "Ratio:  0.763987880075\n"
     ]
    },
    {
     "name": "stderr",
     "output_type": "stream",
     "text": [
      "  8%|▊         | 98/1261 [00:16<03:19,  5.82it/s]"
     ]
    },
    {
     "name": "stdout",
     "output_type": "stream",
     "text": [
      "685.78546799 m 778.756128324 m\n",
      "Ratio:  0.880616463932\n",
      "668.862200963 m 1010.76451469 m\n",
      "Ratio:  0.66173890282\n"
     ]
    },
    {
     "name": "stderr",
     "output_type": "stream",
     "text": [
      "  8%|▊         | 100/1261 [00:16<03:08,  6.17it/s]"
     ]
    },
    {
     "name": "stdout",
     "output_type": "stream",
     "text": [
      "683.720867146 m 781.401167724 m\n",
      "Ratio:  0.874993403373\n",
      "709.747171412 m 725.28468205 m\n",
      "Ratio:  0.978577362762\n"
     ]
    },
    {
     "name": "stderr",
     "output_type": "stream",
     "text": [
      "  8%|▊         | 102/1261 [00:16<03:07,  6.18it/s]"
     ]
    },
    {
     "name": "stdout",
     "output_type": "stream",
     "text": [
      "713.722934576 m 1064.53467765 m\n",
      "Ratio:  0.670455316825\n",
      "707.229564781 m 456.00589923 m\n",
      "Ratio:  1.55092196389\n"
     ]
    },
    {
     "name": "stderr",
     "output_type": "stream",
     "text": [
      "  8%|▊         | 104/1261 [00:17<03:14,  5.94it/s]"
     ]
    },
    {
     "name": "stdout",
     "output_type": "stream",
     "text": [
      "669.532090329 m 537.880381369 m\n",
      "Ratio:  1.24476019859\n",
      "676.751907906 m 661.308918341 m\n",
      "Ratio:  1.02335215682\n"
     ]
    },
    {
     "name": "stderr",
     "output_type": "stream",
     "text": [
      "  8%|▊         | 106/1261 [00:17<03:09,  6.09it/s]"
     ]
    },
    {
     "name": "stdout",
     "output_type": "stream",
     "text": [
      "754.155882299 m 561.071053507 m\n",
      "Ratio:  1.34413614387\n",
      "753.249127913 m 802.282202395 m\n",
      "Ratio:  0.938883008579\n"
     ]
    },
    {
     "name": "stderr",
     "output_type": "stream",
     "text": [
      "  9%|▊         | 108/1261 [00:17<03:04,  6.24it/s]"
     ]
    },
    {
     "name": "stdout",
     "output_type": "stream",
     "text": [
      "676.877020755 m 714.113686082 m\n",
      "Ratio:  0.947856110235\n",
      "637.970212668 m 786.718431589 m\n",
      "Ratio:  0.810925722662\n"
     ]
    },
    {
     "name": "stderr",
     "output_type": "stream",
     "text": [
      "  9%|▊         | 110/1261 [00:18<03:09,  6.08it/s]"
     ]
    },
    {
     "name": "stdout",
     "output_type": "stream",
     "text": [
      "632.605711102 m 953.782474661 m\n",
      "Ratio:  0.663259944389\n",
      "642.206109407 m 1205.57696055 m\n",
      "Ratio:  0.532696070364\n"
     ]
    },
    {
     "name": "stderr",
     "output_type": "stream",
     "text": [
      "  9%|▉         | 112/1261 [00:18<03:12,  5.96it/s]"
     ]
    },
    {
     "name": "stdout",
     "output_type": "stream",
     "text": [
      "615.691782405 m 999.197068713 m\n",
      "Ratio:  0.616186537855\n",
      "643.776183396 m 759.867201684 m\n",
      "Ratio:  0.847221964534\n"
     ]
    },
    {
     "name": "stderr",
     "output_type": "stream",
     "text": [
      "  9%|▉         | 114/1261 [00:18<03:07,  6.12it/s]"
     ]
    },
    {
     "name": "stdout",
     "output_type": "stream",
     "text": [
      "631.56749419 m 675.896018449 m\n",
      "Ratio:  0.934415171788\n",
      "600.634493431 m 667.329216988 m\n",
      "Ratio:  0.900057240326\n"
     ]
    },
    {
     "name": "stderr",
     "output_type": "stream",
     "text": [
      "  9%|▉         | 116/1261 [00:19<03:11,  5.99it/s]"
     ]
    },
    {
     "name": "stdout",
     "output_type": "stream",
     "text": [
      "548.322783053 m 429.100439665 m\n",
      "Ratio:  1.27784251044\n",
      "570.304897197 m 502.15102967 m\n",
      "Ratio:  1.13572384303\n"
     ]
    },
    {
     "name": "stderr",
     "output_type": "stream",
     "text": [
      "  9%|▉         | 118/1261 [00:19<03:09,  6.04it/s]"
     ]
    },
    {
     "name": "stdout",
     "output_type": "stream",
     "text": [
      "565.636943342 m 620.557451308 m\n",
      "Ratio:  0.911498108918\n",
      "534.002573616 m 508.14649366 m\n",
      "Ratio:  1.05088312185\n"
     ]
    },
    {
     "name": "stderr",
     "output_type": "stream",
     "text": [
      " 10%|▉         | 120/1261 [00:19<03:04,  6.18it/s]"
     ]
    },
    {
     "name": "stdout",
     "output_type": "stream",
     "text": [
      "540.16960288 m 556.793464259 m\n",
      "Ratio:  0.970143576666\n",
      "511.201252234 m 604.59575166 m\n",
      "Ratio:  0.845525710079\n"
     ]
    },
    {
     "name": "stderr",
     "output_type": "stream",
     "text": [
      "\r",
      " 10%|▉         | 121/1261 [00:20<03:04,  6.19it/s]"
     ]
    },
    {
     "name": "stdout",
     "output_type": "stream",
     "text": [
      "510.914059045 m 10886.5303587 m\n",
      "Ratio:  0.0469308440991\n"
     ]
    },
    {
     "name": "stderr",
     "output_type": "stream",
     "text": [
      " 10%|▉         | 123/1261 [00:20<03:17,  5.75it/s]"
     ]
    },
    {
     "name": "stdout",
     "output_type": "stream",
     "text": [
      "506.898550816 m 29862.3370809 m\n",
      "Ratio:  0.0169745103822\n",
      "498.827532729 m 915.429031457 m\n",
      "Ratio:  0.544911200746\n"
     ]
    },
    {
     "name": "stderr",
     "output_type": "stream",
     "text": [
      " 10%|▉         | 125/1261 [00:20<03:09,  5.99it/s]"
     ]
    },
    {
     "name": "stdout",
     "output_type": "stream",
     "text": [
      "528.792155916 m 716.500720806 m\n",
      "Ratio:  0.738020410254\n",
      "527.525279724 m 649.243223305 m\n",
      "Ratio:  0.812523351477\n"
     ]
    },
    {
     "name": "stderr",
     "output_type": "stream",
     "text": [
      " 10%|█         | 127/1261 [00:21<03:05,  6.11it/s]"
     ]
    },
    {
     "name": "stdout",
     "output_type": "stream",
     "text": [
      "559.62533837 m 571.270129569 m\n",
      "Ratio:  0.979615963454\n",
      "550.452928886 m 543.193573618 m\n",
      "Ratio:  1.0133642142\n"
     ]
    },
    {
     "name": "stderr",
     "output_type": "stream",
     "text": [
      " 10%|█         | 129/1261 [00:21<03:01,  6.22it/s]"
     ]
    },
    {
     "name": "stdout",
     "output_type": "stream",
     "text": [
      "580.112585883 m 574.069823846 m\n",
      "Ratio:  1.01052617954\n",
      "579.560257967 m 665.05826404 m\n",
      "Ratio:  0.871442833364\n"
     ]
    },
    {
     "name": "stderr",
     "output_type": "stream",
     "text": [
      " 10%|█         | 131/1261 [00:21<03:04,  6.14it/s]"
     ]
    },
    {
     "name": "stdout",
     "output_type": "stream",
     "text": [
      "616.707101281 m 666.818688226 m\n",
      "Ratio:  0.924849756267\n",
      "619.185901575 m 543.796600161 m\n",
      "Ratio:  1.13863510988\n"
     ]
    },
    {
     "name": "stderr",
     "output_type": "stream",
     "text": [
      " 11%|█         | 133/1261 [00:22<03:06,  6.04it/s]"
     ]
    },
    {
     "name": "stdout",
     "output_type": "stream",
     "text": [
      "603.506133029 m 681.377707266 m\n",
      "Ratio:  0.885714526016\n",
      "608.2630516 m 717.993832605 m\n",
      "Ratio:  0.847170301439\n"
     ]
    },
    {
     "name": "stderr",
     "output_type": "stream",
     "text": [
      " 11%|█         | 135/1261 [00:22<03:10,  5.91it/s]"
     ]
    },
    {
     "name": "stdout",
     "output_type": "stream",
     "text": [
      "644.34771074 m 1307.50918072 m\n",
      "Ratio:  0.492805496315\n",
      "634.201340829 m 694.708076349 m\n",
      "Ratio:  0.912903365341\n"
     ]
    },
    {
     "name": "stderr",
     "output_type": "stream",
     "text": [
      " 11%|█         | 137/1261 [00:22<03:07,  6.00it/s]"
     ]
    },
    {
     "name": "stdout",
     "output_type": "stream",
     "text": [
      "716.83443391 m 690.808351136 m\n",
      "Ratio:  1.03767482361\n",
      "706.394669098 m 723.133222293 m\n",
      "Ratio:  0.976852739331\n"
     ]
    },
    {
     "name": "stderr",
     "output_type": "stream",
     "text": [
      " 11%|█         | 139/1261 [00:23<03:04,  6.07it/s]"
     ]
    },
    {
     "name": "stdout",
     "output_type": "stream",
     "text": [
      "705.177289309 m 597.108220982 m\n",
      "Ratio:  1.18098740652\n",
      "740.908517105 m 830.916629739 m\n",
      "Ratio:  0.89167612079\n"
     ]
    },
    {
     "name": "stderr",
     "output_type": "stream",
     "text": [
      " 11%|█         | 141/1261 [00:23<03:07,  5.97it/s]"
     ]
    },
    {
     "name": "stdout",
     "output_type": "stream",
     "text": [
      "768.761451892 m 1454.58100209 m\n",
      "Ratio:  0.528510581938\n",
      "784.361293553 m 713.836935342 m\n",
      "Ratio:  1.0987961742\n"
     ]
    },
    {
     "name": "stderr",
     "output_type": "stream",
     "text": [
      " 11%|█▏        | 143/1261 [00:23<03:02,  6.14it/s]"
     ]
    },
    {
     "name": "stdout",
     "output_type": "stream",
     "text": [
      "722.454522346 m 721.525770937 m\n",
      "Ratio:  1.00128720476\n",
      "761.182178393 m 972.082104361 m\n",
      "Ratio:  0.783043093766\n"
     ]
    },
    {
     "name": "stderr",
     "output_type": "stream",
     "text": [
      " 11%|█▏        | 145/1261 [00:24<03:08,  5.93it/s]"
     ]
    },
    {
     "name": "stdout",
     "output_type": "stream",
     "text": [
      "746.957301017 m 1152.05195134 m\n",
      "Ratio:  0.648371195541\n",
      "762.180841209 m 1474.44916336 m\n",
      "Ratio:  0.516925818909\n"
     ]
    },
    {
     "name": "stderr",
     "output_type": "stream",
     "text": [
      " 12%|█▏        | 147/1261 [00:24<03:05,  6.00it/s]"
     ]
    },
    {
     "name": "stdout",
     "output_type": "stream",
     "text": [
      "804.424597215 m 11193.3113237 m\n",
      "Ratio:  0.071866543684\n",
      "830.954405415 m 6402.84646325 m\n",
      "Ratio:  0.129778905395\n"
     ]
    },
    {
     "name": "stderr",
     "output_type": "stream",
     "text": [
      " 12%|█▏        | 149/1261 [00:24<03:01,  6.14it/s]"
     ]
    },
    {
     "name": "stdout",
     "output_type": "stream",
     "text": [
      "809.72730294 m 1186.26135156 m\n",
      "Ratio:  0.682587611808\n",
      "811.189074234 m 1606.26088152 m\n",
      "Ratio:  0.505017014089\n"
     ]
    },
    {
     "name": "stderr",
     "output_type": "stream",
     "text": [
      " 12%|█▏        | 151/1261 [00:25<03:03,  6.04it/s]"
     ]
    },
    {
     "name": "stdout",
     "output_type": "stream",
     "text": [
      "831.078573168 m 6551.342326 m\n",
      "Ratio:  0.126856227596\n",
      "920.762709945 m 999.591866411 m\n",
      "Ratio:  0.921138657572\n"
     ]
    },
    {
     "name": "stderr",
     "output_type": "stream",
     "text": [
      " 12%|█▏        | 153/1261 [00:25<03:10,  5.82it/s]"
     ]
    },
    {
     "name": "stdout",
     "output_type": "stream",
     "text": [
      "912.088348045 m 511.405264519 m\n",
      "Ratio:  1.78349424874\n",
      "822.714179555 m 518.981505091 m\n",
      "Ratio:  1.58524758876\n"
     ]
    },
    {
     "name": "stderr",
     "output_type": "stream",
     "text": [
      " 12%|█▏        | 155/1261 [00:25<03:02,  6.06it/s]"
     ]
    },
    {
     "name": "stdout",
     "output_type": "stream",
     "text": [
      "949.268738406 m 661.969265688 m\n",
      "Ratio:  1.43400726833\n",
      "811.191667968 m 791.59982903 m\n",
      "Ratio:  1.02474967555\n"
     ]
    },
    {
     "name": "stderr",
     "output_type": "stream",
     "text": [
      " 12%|█▏        | 157/1261 [00:26<03:00,  6.12it/s]"
     ]
    },
    {
     "name": "stdout",
     "output_type": "stream",
     "text": [
      "797.222419918 m 702.410705239 m\n",
      "Ratio:  1.13498045228\n",
      "826.828789387 m 812.884295154 m\n",
      "Ratio:  1.0171543408\n"
     ]
    },
    {
     "name": "stderr",
     "output_type": "stream",
     "text": [
      " 13%|█▎        | 159/1261 [00:26<03:15,  5.62it/s]"
     ]
    },
    {
     "name": "stdout",
     "output_type": "stream",
     "text": [
      "678.054158418 m 1375.53907053 m\n",
      "Ratio:  0.492937040426\n",
      "663.61603288 m 1350.99179062 m\n",
      "Ratio:  0.491206562089\n"
     ]
    },
    {
     "name": "stderr",
     "output_type": "stream",
     "text": [
      " 13%|█▎        | 161/1261 [00:26<03:06,  5.90it/s]"
     ]
    },
    {
     "name": "stdout",
     "output_type": "stream",
     "text": [
      "620.740617623 m 3969.94462392 m\n",
      "Ratio:  0.156360019201\n",
      "657.613399673 m 3825.95887659 m\n",
      "Ratio:  0.171881983284\n"
     ]
    },
    {
     "name": "stderr",
     "output_type": "stream",
     "text": [
      " 13%|█▎        | 163/1261 [00:27<03:06,  5.89it/s]"
     ]
    },
    {
     "name": "stdout",
     "output_type": "stream",
     "text": [
      "676.592424069 m 1738.6563689 m\n",
      "Ratio:  0.389146720519\n",
      "707.107460342 m 1060.68895759 m\n",
      "Ratio:  0.666649214443\n"
     ]
    },
    {
     "name": "stderr",
     "output_type": "stream",
     "text": [
      " 13%|█▎        | 165/1261 [00:27<02:59,  6.11it/s]"
     ]
    },
    {
     "name": "stdout",
     "output_type": "stream",
     "text": [
      "676.75086302 m 620.448200225 m\n",
      "Ratio:  1.09074514645\n",
      "612.806749078 m 873.791808284 m\n",
      "Ratio:  0.701318944934\n"
     ]
    },
    {
     "name": "stderr",
     "output_type": "stream",
     "text": [
      " 13%|█▎        | 167/1261 [00:27<02:59,  6.09it/s]"
     ]
    },
    {
     "name": "stdout",
     "output_type": "stream",
     "text": [
      "680.264083934 m 975.359978375 m\n",
      "Ratio:  0.6974492485\n",
      "652.667953229 m 752.119825249 m\n",
      "Ratio:  0.867771239793\n"
     ]
    },
    {
     "name": "stderr",
     "output_type": "stream",
     "text": [
      " 13%|█▎        | 169/1261 [00:28<02:58,  6.12it/s]"
     ]
    },
    {
     "name": "stdout",
     "output_type": "stream",
     "text": [
      "694.745979857 m 689.515511885 m\n",
      "Ratio:  1.00758571473\n",
      "783.44534827 m 985.376382113 m\n",
      "Ratio:  0.795072180023\n"
     ]
    },
    {
     "name": "stderr",
     "output_type": "stream",
     "text": [
      " 14%|█▎        | 171/1261 [00:28<03:07,  5.80it/s]"
     ]
    },
    {
     "name": "stdout",
     "output_type": "stream",
     "text": [
      "881.551910591 m 989.242384202 m\n",
      "Ratio:  0.891138435503\n",
      "932.49399995 m 4217.24572 m\n",
      "Ratio:  0.221114457601\n"
     ]
    },
    {
     "name": "stderr",
     "output_type": "stream",
     "text": [
      " 14%|█▎        | 173/1261 [00:28<03:00,  6.01it/s]"
     ]
    },
    {
     "name": "stdout",
     "output_type": "stream",
     "text": [
      "889.744573812 m 1719.23478305 m\n",
      "Ratio:  0.517523599791\n",
      "842.876115523 m 1050.96773599 m\n",
      "Ratio:  0.801999991686\n"
     ]
    },
    {
     "name": "stderr",
     "output_type": "stream",
     "text": [
      " 14%|█▍        | 175/1261 [00:29<03:02,  5.95it/s]"
     ]
    },
    {
     "name": "stdout",
     "output_type": "stream",
     "text": [
      "866.513170115 m 903.39384035 m\n",
      "Ratio:  0.959175424286\n",
      "822.898254719 m 612.303924682 m\n",
      "Ratio:  1.34393757993\n"
     ]
    },
    {
     "name": "stderr",
     "output_type": "stream",
     "text": [
      " 14%|█▍        | 177/1261 [00:29<03:05,  5.84it/s]"
     ]
    },
    {
     "name": "stdout",
     "output_type": "stream",
     "text": [
      "781.041955515 m 470.811016278 m\n",
      "Ratio:  1.65892880267\n",
      "859.080638455 m 453.806295049 m\n",
      "Ratio:  1.89305579898\n"
     ]
    },
    {
     "name": "stderr",
     "output_type": "stream",
     "text": [
      " 14%|█▍        | 179/1261 [00:29<03:01,  5.98it/s]"
     ]
    },
    {
     "name": "stdout",
     "output_type": "stream",
     "text": [
      "859.928260888 m 452.514374427 m\n",
      "Ratio:  1.9003335794\n",
      "807.363052451 m 642.743460753 m\n",
      "Ratio:  1.25612021242\n"
     ]
    },
    {
     "name": "stderr",
     "output_type": "stream",
     "text": [
      " 14%|█▍        | 181/1261 [00:30<03:01,  5.95it/s]"
     ]
    },
    {
     "name": "stdout",
     "output_type": "stream",
     "text": [
      "679.025447152 m 575.432972671 m\n",
      "Ratio:  1.18002526689\n",
      "607.341279778 m 419.967237599 m\n",
      "Ratio:  1.44616347516\n"
     ]
    },
    {
     "name": "stderr",
     "output_type": "stream",
     "text": [
      " 15%|█▍        | 183/1261 [00:30<02:59,  5.99it/s]"
     ]
    },
    {
     "name": "stdout",
     "output_type": "stream",
     "text": [
      "592.860752589 m 483.89780872 m\n",
      "Ratio:  1.22517759309\n",
      "545.211369309 m 568.981780928 m\n",
      "Ratio:  0.958222894975\n"
     ]
    },
    {
     "name": "stderr",
     "output_type": "stream",
     "text": [
      " 15%|█▍        | 185/1261 [00:30<03:01,  5.94it/s]"
     ]
    },
    {
     "name": "stdout",
     "output_type": "stream",
     "text": [
      "490.771001027 m 858.224040985 m\n",
      "Ratio:  0.571844853546\n",
      "459.945913181 m 555.267876602 m\n",
      "Ratio:  0.828331572135\n"
     ]
    },
    {
     "name": "stderr",
     "output_type": "stream",
     "text": [
      " 15%|█▍        | 187/1261 [00:31<03:01,  5.91it/s]"
     ]
    },
    {
     "name": "stdout",
     "output_type": "stream",
     "text": [
      "410.518740296 m 524.570368108 m\n",
      "Ratio:  0.78258088\n",
      "424.287986488 m 444.44960668 m\n",
      "Ratio:  0.954636881461\n"
     ]
    },
    {
     "name": "stderr",
     "output_type": "stream",
     "text": [
      " 15%|█▍        | 189/1261 [00:31<02:59,  5.96it/s]"
     ]
    },
    {
     "name": "stdout",
     "output_type": "stream",
     "text": [
      "420.865256702 m 898.253777262 m\n",
      "Ratio:  0.468537141013\n",
      "405.433675817 m 1071.73173006 m\n",
      "Ratio:  0.378297725489\n"
     ]
    },
    {
     "name": "stderr",
     "output_type": "stream",
     "text": [
      " 15%|█▌        | 191/1261 [00:31<02:55,  6.09it/s]"
     ]
    },
    {
     "name": "stdout",
     "output_type": "stream",
     "text": [
      "421.445301409 m 508.654502699 m\n",
      "Ratio:  0.828549239559\n",
      "420.840212431 m 523.332437649 m\n",
      "Ratio:  0.804154648471\n"
     ]
    },
    {
     "name": "stderr",
     "output_type": "stream",
     "text": [
      " 15%|█▌        | 193/1261 [00:32<02:57,  6.00it/s]"
     ]
    },
    {
     "name": "stdout",
     "output_type": "stream",
     "text": [
      "443.253294805 m 623.475853545 m\n",
      "Ratio:  0.710938991918\n",
      "438.238980216 m 658.891340411 m\n",
      "Ratio:  0.665115707763\n"
     ]
    },
    {
     "name": "stderr",
     "output_type": "stream",
     "text": [
      " 15%|█▌        | 195/1261 [00:32<03:00,  5.91it/s]"
     ]
    },
    {
     "name": "stdout",
     "output_type": "stream",
     "text": [
      "528.919844443 m 665.329861329 m\n",
      "Ratio:  0.794973854602\n",
      "515.779447161 m 1110.55985339 m\n",
      "Ratio:  0.464431921959\n"
     ]
    },
    {
     "name": "stderr",
     "output_type": "stream",
     "text": [
      " 16%|█▌        | 197/1261 [00:32<02:53,  6.13it/s]"
     ]
    },
    {
     "name": "stdout",
     "output_type": "stream",
     "text": [
      "624.873375144 m 7364.06732002 m\n",
      "Ratio:  0.0848543811441\n",
      "686.546950698 m 1096.6659539 m\n",
      "Ratio:  0.626031061016\n"
     ]
    },
    {
     "name": "stderr",
     "output_type": "stream",
     "text": [
      " 16%|█▌        | 199/1261 [00:33<02:57,  5.99it/s]"
     ]
    },
    {
     "name": "stdout",
     "output_type": "stream",
     "text": [
      "739.250030815 m 2407.24139467 m\n",
      "Ratio:  0.307094266679\n",
      "772.338654826 m 2055.53049715 m\n",
      "Ratio:  0.375736899013\n"
     ]
    },
    {
     "name": "stderr",
     "output_type": "stream",
     "text": [
      " 16%|█▌        | 201/1261 [00:33<03:01,  5.85it/s]"
     ]
    },
    {
     "name": "stdout",
     "output_type": "stream",
     "text": [
      "774.876116492 m 637.318473319 m\n",
      "Ratio:  1.2158381546\n",
      "852.67403242 m 736.905688033 m\n",
      "Ratio:  1.15710062531\n"
     ]
    },
    {
     "name": "stderr",
     "output_type": "stream",
     "text": [
      " 16%|█▌        | 203/1261 [00:33<02:57,  5.96it/s]"
     ]
    },
    {
     "name": "stdout",
     "output_type": "stream",
     "text": [
      "858.585293895 m 969.403639621 m\n",
      "Ratio:  0.885684000764\n",
      "876.759752273 m 1377.90757891 m\n",
      "Ratio:  0.636297938767\n"
     ]
    },
    {
     "name": "stderr",
     "output_type": "stream",
     "text": [
      " 16%|█▋        | 205/1261 [00:34<03:02,  5.79it/s]"
     ]
    },
    {
     "name": "stdout",
     "output_type": "stream",
     "text": [
      "749.19198663 m 434.324135792 m\n",
      "Ratio:  1.72496051886\n",
      "680.675451643 m 850.460090299 m\n",
      "Ratio:  0.800361427194\n"
     ]
    },
    {
     "name": "stderr",
     "output_type": "stream",
     "text": [
      " 16%|█▋        | 207/1261 [00:34<02:59,  5.89it/s]"
     ]
    },
    {
     "name": "stdout",
     "output_type": "stream",
     "text": [
      "651.077846368 m 637.486277971 m\n",
      "Ratio:  1.02132056621\n",
      "548.739844691 m 800.517181395 m\n",
      "Ratio:  0.685481657913\n"
     ]
    },
    {
     "name": "stderr",
     "output_type": "stream",
     "text": [
      " 17%|█▋        | 209/1261 [00:34<02:54,  6.04it/s]"
     ]
    },
    {
     "name": "stdout",
     "output_type": "stream",
     "text": [
      "543.159652839 m 2105.69644415 m\n",
      "Ratio:  0.257947746622\n",
      "551.819999708 m 656.105160166 m\n",
      "Ratio:  0.841054198641\n"
     ]
    },
    {
     "name": "stderr",
     "output_type": "stream",
     "text": [
      " 17%|█▋        | 211/1261 [00:35<03:03,  5.73it/s]"
     ]
    },
    {
     "name": "stdout",
     "output_type": "stream",
     "text": [
      "582.770685924 m 1608.55075288 m\n",
      "Ratio:  0.36229549169\n",
      "573.021477743 m 683.286610344 m\n",
      "Ratio:  0.838625357308\n"
     ]
    },
    {
     "name": "stderr",
     "output_type": "stream",
     "text": [
      " 17%|█▋        | 213/1261 [00:35<02:59,  5.84it/s]"
     ]
    },
    {
     "name": "stdout",
     "output_type": "stream",
     "text": [
      "563.926295303 m 592.15930975 m\n",
      "Ratio:  0.952321927594\n",
      "555.069267251 m 520.967115857 m\n",
      "Ratio:  1.06545931663\n"
     ]
    },
    {
     "name": "stderr",
     "output_type": "stream",
     "text": [
      " 17%|█▋        | 215/1261 [00:35<02:53,  6.04it/s]"
     ]
    },
    {
     "name": "stdout",
     "output_type": "stream",
     "text": [
      "547.88345119 m 538.607241572 m\n",
      "Ratio:  1.01722258615\n",
      "541.2945173 m 591.486161722 m\n",
      "Ratio:  0.915143163661\n"
     ]
    },
    {
     "name": "stderr",
     "output_type": "stream",
     "text": [
      " 17%|█▋        | 217/1261 [00:36<02:52,  6.06it/s]"
     ]
    },
    {
     "name": "stdout",
     "output_type": "stream",
     "text": [
      "524.885933817 m 767.600281824 m\n",
      "Ratio:  0.683801121816\n",
      "525.857234373 m 647.819205001 m\n",
      "Ratio:  0.811734555434\n"
     ]
    },
    {
     "name": "stderr",
     "output_type": "stream",
     "text": [
      " 17%|█▋        | 219/1261 [00:36<02:50,  6.11it/s]"
     ]
    },
    {
     "name": "stdout",
     "output_type": "stream",
     "text": [
      "558.383190866 m 889.398904593 m\n",
      "Ratio:  0.627820866411\n",
      "528.473656164 m 846.90527154 m\n",
      "Ratio:  0.624005628401\n"
     ]
    },
    {
     "name": "stderr",
     "output_type": "stream",
     "text": [
      " 18%|█▊        | 221/1261 [00:36<02:50,  6.09it/s]"
     ]
    },
    {
     "name": "stdout",
     "output_type": "stream",
     "text": [
      "551.370572069 m 1953.86367008 m\n",
      "Ratio:  0.282195007007\n",
      "584.152210751 m 1253.22305887 m\n",
      "Ratio:  0.466119903091\n"
     ]
    },
    {
     "name": "stderr",
     "output_type": "stream",
     "text": [
      " 18%|█▊        | 223/1261 [00:37<02:56,  5.87it/s]"
     ]
    },
    {
     "name": "stdout",
     "output_type": "stream",
     "text": [
      "628.668827113 m 2097.23873934 m\n",
      "Ratio:  0.299760258726\n",
      "662.386411956 m 5098.23006254 m\n",
      "Ratio:  0.129924778566\n"
     ]
    },
    {
     "name": "stderr",
     "output_type": "stream",
     "text": [
      " 18%|█▊        | 225/1261 [00:37<02:51,  6.05it/s]"
     ]
    },
    {
     "name": "stdout",
     "output_type": "stream",
     "text": [
      "691.86604954 m 2583.01523705 m\n",
      "Ratio:  0.267852097664\n",
      "743.914222897 m 1798.77827756 m\n",
      "Ratio:  0.413566381237\n"
     ]
    },
    {
     "name": "stderr",
     "output_type": "stream",
     "text": [
      " 18%|█▊        | 227/1261 [00:37<02:50,  6.05it/s]"
     ]
    },
    {
     "name": "stdout",
     "output_type": "stream",
     "text": [
      "718.260791112 m 662.257936985 m\n",
      "Ratio:  1.08456350766\n",
      "775.459080618 m 746.092488088 m\n",
      "Ratio:  1.03936052567\n"
     ]
    },
    {
     "name": "stderr",
     "output_type": "stream",
     "text": [
      " 18%|█▊        | 229/1261 [00:38<02:56,  5.83it/s]"
     ]
    },
    {
     "name": "stdout",
     "output_type": "stream",
     "text": [
      "749.000891591 m 853.449039796 m\n",
      "Ratio:  0.877616420741\n",
      "837.391255462 m 1059.87178008 m\n",
      "Ratio:  0.790087321125\n"
     ]
    },
    {
     "name": "stderr",
     "output_type": "stream",
     "text": [
      " 18%|█▊        | 231/1261 [00:38<02:54,  5.90it/s]"
     ]
    },
    {
     "name": "stdout",
     "output_type": "stream",
     "text": [
      "850.690961794 m 612.403889744 m\n",
      "Ratio:  1.38910117333\n",
      "876.364127792 m 754.835497671 m\n",
      "Ratio:  1.16100015235\n"
     ]
    },
    {
     "name": "stderr",
     "output_type": "stream",
     "text": [
      " 18%|█▊        | 233/1261 [00:38<02:49,  6.06it/s]"
     ]
    },
    {
     "name": "stdout",
     "output_type": "stream",
     "text": [
      "954.32434841 m 907.908002738 m\n",
      "Ratio:  1.05112450329\n",
      "817.727598904 m 2659.27988695 m\n",
      "Ratio:  0.307499636619\n"
     ]
    },
    {
     "name": "stderr",
     "output_type": "stream",
     "text": [
      " 19%|█▊        | 235/1261 [00:39<02:49,  6.04it/s]"
     ]
    },
    {
     "name": "stdout",
     "output_type": "stream",
     "text": [
      "806.958608628 m 1393.30893895 m\n",
      "Ratio:  0.579167036161\n",
      "765.978268871 m 1018.54259299 m\n",
      "Ratio:  0.752033615625\n"
     ]
    },
    {
     "name": "stderr",
     "output_type": "stream",
     "text": [
      " 19%|█▉        | 237/1261 [00:39<02:47,  6.12it/s]"
     ]
    },
    {
     "name": "stdout",
     "output_type": "stream",
     "text": [
      "781.996378181 m 529.814737942 m\n",
      "Ratio:  1.47598079513\n",
      "779.088851054 m 534.515219908 m\n",
      "Ratio:  1.45756158485\n"
     ]
    },
    {
     "name": "stderr",
     "output_type": "stream",
     "text": [
      " 19%|█▉        | 239/1261 [00:39<02:53,  5.90it/s]"
     ]
    },
    {
     "name": "stdout",
     "output_type": "stream",
     "text": [
      "748.679544181 m 490.890709351 m\n",
      "Ratio:  1.52514506777\n",
      "746.331380767 m 589.900243094 m\n",
      "Ratio:  1.26518235838\n"
     ]
    },
    {
     "name": "stderr",
     "output_type": "stream",
     "text": [
      " 19%|█▉        | 241/1261 [00:40<02:59,  5.68it/s]"
     ]
    },
    {
     "name": "stdout",
     "output_type": "stream",
     "text": [
      "760.968340583 m 763.155807145 m\n",
      "Ratio:  0.997133656665\n",
      "696.08723405 m 482.275782127 m\n",
      "Ratio:  1.44333856239\n"
     ]
    },
    {
     "name": "stderr",
     "output_type": "stream",
     "text": [
      " 19%|█▉        | 243/1261 [00:40<03:04,  5.52it/s]"
     ]
    },
    {
     "name": "stdout",
     "output_type": "stream",
     "text": [
      "718.394952884 m 503.494994892 m\n",
      "Ratio:  1.4268164732\n",
      "673.060249801 m 485.261613595 m\n",
      "Ratio:  1.38700492878\n"
     ]
    },
    {
     "name": "stderr",
     "output_type": "stream",
     "text": [
      " 19%|█▉        | 245/1261 [00:40<03:00,  5.63it/s]"
     ]
    },
    {
     "name": "stdout",
     "output_type": "stream",
     "text": [
      "679.96573639 m 686.256142246 m\n",
      "Ratio:  0.990833734711\n",
      "623.718057589 m 1084.52946126 m\n",
      "Ratio:  0.575104761899\n"
     ]
    },
    {
     "name": "stderr",
     "output_type": "stream",
     "text": [
      "\r",
      " 20%|█▉        | 246/1261 [00:41<02:57,  5.73it/s]"
     ]
    },
    {
     "name": "stdout",
     "output_type": "stream",
     "text": [
      "580.192169265 m 798.517962584 m\n",
      "Ratio:  0.726586246586\n"
     ]
    },
    {
     "name": "stderr",
     "output_type": "stream",
     "text": [
      " 20%|█▉        | 248/1261 [00:41<02:58,  5.67it/s]"
     ]
    },
    {
     "name": "stdout",
     "output_type": "stream",
     "text": [
      "605.42784307 m 648.305286167 m\n",
      "Ratio:  0.933862265183\n",
      "619.743419163 m 535.690982164 m\n",
      "Ratio:  1.15690470775\n"
     ]
    },
    {
     "name": "stderr",
     "output_type": "stream",
     "text": [
      " 20%|█▉        | 250/1261 [00:41<02:52,  5.85it/s]"
     ]
    },
    {
     "name": "stdout",
     "output_type": "stream",
     "text": [
      "609.624958701 m 477.520439162 m\n",
      "Ratio:  1.27664683793\n",
      "583.806309625 m 471.064126841 m\n",
      "Ratio:  1.23933510611\n"
     ]
    },
    {
     "name": "stderr",
     "output_type": "stream",
     "text": [
      " 20%|█▉        | 252/1261 [00:42<02:48,  5.99it/s]"
     ]
    },
    {
     "name": "stdout",
     "output_type": "stream",
     "text": [
      "595.534059611 m 547.683378341 m\n",
      "Ratio:  1.08736924136\n",
      "617.544043547 m 740.940180726 m\n",
      "Ratio:  0.833460054686\n"
     ]
    },
    {
     "name": "stderr",
     "output_type": "stream",
     "text": [
      " 20%|██        | 254/1261 [00:42<02:53,  5.80it/s]"
     ]
    },
    {
     "name": "stdout",
     "output_type": "stream",
     "text": [
      "615.01089961 m 678.942888838 m\n",
      "Ratio:  0.905835983734\n",
      "681.025396888 m 762.37312431 m\n",
      "Ratio:  0.893296701014\n"
     ]
    },
    {
     "name": "stderr",
     "output_type": "stream",
     "text": [
      " 20%|██        | 256/1261 [00:42<02:49,  5.94it/s]"
     ]
    },
    {
     "name": "stdout",
     "output_type": "stream",
     "text": [
      "640.940643795 m 760.49704234 m\n",
      "Ratio:  0.842791763953\n",
      "677.730748298 m 946.807416101 m\n",
      "Ratio:  0.71580633693\n"
     ]
    },
    {
     "name": "stderr",
     "output_type": "stream",
     "text": [
      " 20%|██        | 258/1261 [00:43<02:51,  5.84it/s]"
     ]
    },
    {
     "name": "stdout",
     "output_type": "stream",
     "text": [
      "633.028130167 m 7045.23469613 m\n",
      "Ratio:  0.0898519577375\n",
      "652.689402279 m 7396.62438143 m\n",
      "Ratio:  0.0882415232438\n"
     ]
    },
    {
     "name": "stderr",
     "output_type": "stream",
     "text": [
      " 21%|██        | 260/1261 [00:43<02:48,  5.94it/s]"
     ]
    },
    {
     "name": "stdout",
     "output_type": "stream",
     "text": [
      "656.379460351 m 1606.42105932 m\n",
      "Ratio:  0.40859739515\n",
      "737.024732094 m 1617.99358916 m\n",
      "Ratio:  0.455517708495\n"
     ]
    },
    {
     "name": "stderr",
     "output_type": "stream",
     "text": [
      " 21%|██        | 262/1261 [00:43<02:48,  5.94it/s]"
     ]
    },
    {
     "name": "stdout",
     "output_type": "stream",
     "text": [
      "741.618779852 m 425.306669864 m\n",
      "Ratio:  1.74372713245\n",
      "779.202112375 m 446.448940207 m\n",
      "Ratio:  1.74533309904\n"
     ]
    },
    {
     "name": "stderr",
     "output_type": "stream",
     "text": [
      "\r",
      " 21%|██        | 263/1261 [00:44<02:49,  5.89it/s]"
     ]
    },
    {
     "name": "stdout",
     "output_type": "stream",
     "text": [
      "818.181135236 m 423.205605495 m\n",
      "Ratio:  1.93329465539\n"
     ]
    },
    {
     "name": "stderr",
     "output_type": "stream",
     "text": [
      " 21%|██        | 265/1261 [00:44<03:03,  5.44it/s]"
     ]
    },
    {
     "name": "stdout",
     "output_type": "stream",
     "text": [
      "813.395930629 m 610.579409613 m\n",
      "Ratio:  1.33217058719\n",
      "791.15602669 m 619.580918257 m\n",
      "Ratio:  1.27692122752\n"
     ]
    },
    {
     "name": "stderr",
     "output_type": "stream",
     "text": [
      " 21%|██        | 267/1261 [00:44<02:53,  5.73it/s]"
     ]
    },
    {
     "name": "stdout",
     "output_type": "stream",
     "text": [
      "836.631621532 m 599.726251869 m\n",
      "Ratio:  1.39502251056\n",
      "881.598929865 m 654.312321564 m\n",
      "Ratio:  1.34736715298\n"
     ]
    },
    {
     "name": "stderr",
     "output_type": "stream",
     "text": [
      " 21%|██▏       | 269/1261 [00:45<02:47,  5.93it/s]"
     ]
    },
    {
     "name": "stdout",
     "output_type": "stream",
     "text": [
      "732.492426129 m 734.556726839 m\n",
      "Ratio:  0.997189732753\n",
      "720.072471873 m 747.980791096 m\n",
      "Ratio:  0.962688454631\n"
     ]
    },
    {
     "name": "stderr",
     "output_type": "stream",
     "text": [
      " 21%|██▏       | 271/1261 [00:45<02:44,  6.04it/s]"
     ]
    },
    {
     "name": "stdout",
     "output_type": "stream",
     "text": [
      "685.744754932 m 1647.78499305 m\n",
      "Ratio:  0.416161548881\n",
      "764.225347663 m 979.06064943 m\n",
      "Ratio:  0.780569976035\n"
     ]
    },
    {
     "name": "stderr",
     "output_type": "stream",
     "text": [
      " 22%|██▏       | 273/1261 [00:45<02:41,  6.12it/s]"
     ]
    },
    {
     "name": "stdout",
     "output_type": "stream",
     "text": [
      "730.78516315 m 1014.68382052 m\n",
      "Ratio:  0.720209732702\n",
      "740.704427007 m 435.568413148 m\n",
      "Ratio:  1.70054669863\n"
     ]
    },
    {
     "name": "stderr",
     "output_type": "stream",
     "text": [
      " 22%|██▏       | 275/1261 [00:46<02:40,  6.15it/s]"
     ]
    },
    {
     "name": "stdout",
     "output_type": "stream",
     "text": [
      "716.046372369 m 497.465379567 m\n",
      "Ratio:  1.43938935608\n",
      "726.424649986 m 641.805097681 m\n",
      "Ratio:  1.13184618292\n"
     ]
    },
    {
     "name": "stderr",
     "output_type": "stream",
     "text": [
      " 22%|██▏       | 277/1261 [00:46<02:46,  5.92it/s]"
     ]
    },
    {
     "name": "stdout",
     "output_type": "stream",
     "text": [
      "800.997677409 m 715.550622232 m\n",
      "Ratio:  1.11941440972\n",
      "802.60385578 m 780.108479153 m\n",
      "Ratio:  1.02883621602\n"
     ]
    },
    {
     "name": "stderr",
     "output_type": "stream",
     "text": [
      " 22%|██▏       | 279/1261 [00:46<02:48,  5.81it/s]"
     ]
    },
    {
     "name": "stdout",
     "output_type": "stream",
     "text": [
      "840.397896241 m 782.309485879 m\n",
      "Ratio:  1.07425246838\n",
      "816.319606037 m 911.848961972 m\n",
      "Ratio:  0.895235548957\n"
     ]
    },
    {
     "name": "stderr",
     "output_type": "stream",
     "text": [
      " 22%|██▏       | 281/1261 [00:47<02:41,  6.08it/s]"
     ]
    },
    {
     "name": "stdout",
     "output_type": "stream",
     "text": [
      "939.297952254 m 878.266540079 m\n",
      "Ratio:  1.06949076321\n",
      "852.321033788 m 1301.04919309 m\n",
      "Ratio:  0.655102849545\n"
     ]
    },
    {
     "name": "stderr",
     "output_type": "stream",
     "text": [
      " 22%|██▏       | 283/1261 [00:47<02:48,  5.82it/s]"
     ]
    },
    {
     "name": "stdout",
     "output_type": "stream",
     "text": [
      "961.766981021 m 887.985038354 m\n",
      "Ratio:  1.08308917322\n",
      "947.319787415 m 965.896716724 m\n",
      "Ratio:  0.980767167972\n"
     ]
    },
    {
     "name": "stderr",
     "output_type": "stream",
     "text": [
      " 23%|██▎       | 285/1261 [00:47<02:45,  5.89it/s]"
     ]
    },
    {
     "name": "stdout",
     "output_type": "stream",
     "text": [
      "1121.45503777 m 720.446211888 m\n",
      "Ratio:  1.55661174876\n",
      "989.410218795 m 755.180594477 m\n",
      "Ratio:  1.31016372247\n"
     ]
    },
    {
     "name": "stderr",
     "output_type": "stream",
     "text": [
      " 23%|██▎       | 287/1261 [00:48<02:44,  5.92it/s]"
     ]
    },
    {
     "name": "stdout",
     "output_type": "stream",
     "text": [
      "1059.32906451 m 1178.55387328 m\n",
      "Ratio:  0.898838049345\n",
      "1212.70398984 m 507.469402477 m\n",
      "Ratio:  2.38970858917\n"
     ]
    },
    {
     "name": "stderr",
     "output_type": "stream",
     "text": [
      " 23%|██▎       | 289/1261 [00:48<02:43,  5.95it/s]"
     ]
    },
    {
     "name": "stdout",
     "output_type": "stream",
     "text": [
      "1262.99743458 m 562.453337808 m\n",
      "Ratio:  2.2455150493\n",
      "1266.66289287 m 855.881997588 m\n",
      "Ratio:  1.4799503862\n"
     ]
    },
    {
     "name": "stderr",
     "output_type": "stream",
     "text": [
      " 23%|██▎       | 291/1261 [00:48<02:44,  5.90it/s]"
     ]
    },
    {
     "name": "stdout",
     "output_type": "stream",
     "text": [
      "1355.63605497 m 888.469468667 m\n",
      "Ratio:  1.5258105121\n",
      "1063.10442984 m 1013.41295056 m\n",
      "Ratio:  1.04903379145\n"
     ]
    },
    {
     "name": "stderr",
     "output_type": "stream",
     "text": [
      " 23%|██▎       | 293/1261 [00:49<02:39,  6.05it/s]"
     ]
    },
    {
     "name": "stdout",
     "output_type": "stream",
     "text": [
      "1133.63727634 m 1432.15167539 m\n",
      "Ratio:  0.791562301546\n",
      "1308.6995631 m 3529.31676776 m\n",
      "Ratio:  0.370808190144\n"
     ]
    },
    {
     "name": "stderr",
     "output_type": "stream",
     "text": [
      " 23%|██▎       | 295/1261 [00:49<02:41,  5.97it/s]"
     ]
    },
    {
     "name": "stdout",
     "output_type": "stream",
     "text": [
      "1502.54990499 m 9482.99455152 m\n",
      "Ratio:  0.158446775101\n",
      "1302.6001117 m 3362.09403343 m\n",
      "Ratio:  0.387437144455\n"
     ]
    },
    {
     "name": "stderr",
     "output_type": "stream",
     "text": [
      " 24%|██▎       | 297/1261 [00:49<02:36,  6.15it/s]"
     ]
    },
    {
     "name": "stdout",
     "output_type": "stream",
     "text": [
      "1519.53340194 m 5181.47462971 m\n",
      "Ratio:  0.293262731274\n",
      "1448.28814467 m 2506.21355925 m\n",
      "Ratio:  0.577878983744\n"
     ]
    },
    {
     "name": "stderr",
     "output_type": "stream",
     "text": [
      " 24%|██▎       | 299/1261 [00:50<02:34,  6.24it/s]"
     ]
    },
    {
     "name": "stdout",
     "output_type": "stream",
     "text": [
      "1459.18266556 m 460.188576399 m\n",
      "Ratio:  3.17083634925\n",
      "1845.28972822 m 559.048629896 m\n",
      "Ratio:  3.30076782151\n"
     ]
    },
    {
     "name": "stderr",
     "output_type": "stream",
     "text": [
      " 24%|██▍       | 301/1261 [00:50<02:39,  6.03it/s]"
     ]
    },
    {
     "name": "stdout",
     "output_type": "stream",
     "text": [
      "2064.81096267 m 608.540530275 m\n",
      "Ratio:  3.39305413517\n",
      "2088.32608433 m 1071.74322584 m\n",
      "Ratio:  1.94853210544\n"
     ]
    },
    {
     "name": "stderr",
     "output_type": "stream",
     "text": [
      " 24%|██▍       | 303/1261 [00:50<02:40,  5.96it/s]"
     ]
    },
    {
     "name": "stdout",
     "output_type": "stream",
     "text": [
      "1560.4517234 m 1206.15261589 m\n",
      "Ratio:  1.29374318212\n",
      "2639.75009011 m 1245.8414835 m\n",
      "Ratio:  2.11884908719\n"
     ]
    },
    {
     "name": "stderr",
     "output_type": "stream",
     "text": [
      " 24%|██▍       | 305/1261 [00:51<02:41,  5.92it/s]"
     ]
    },
    {
     "name": "stdout",
     "output_type": "stream",
     "text": [
      "3683.42927432 m 1777.74987584 m\n",
      "Ratio:  2.07196148591\n",
      "6983.10488517 m 835.371177473 m\n",
      "Ratio:  8.35928396081\n"
     ]
    },
    {
     "name": "stderr",
     "output_type": "stream",
     "text": [
      " 24%|██▍       | 307/1261 [00:51<02:39,  5.99it/s]"
     ]
    },
    {
     "name": "stdout",
     "output_type": "stream",
     "text": [
      "3364.24145185 m 779.326424456 m\n",
      "Ratio:  4.31685792535\n",
      "2340.97982424 m 21131.6188663 m\n",
      "Ratio:  0.110780903207\n"
     ]
    },
    {
     "name": "stderr",
     "output_type": "stream",
     "text": [
      " 25%|██▍       | 309/1261 [00:51<02:38,  6.01it/s]"
     ]
    },
    {
     "name": "stdout",
     "output_type": "stream",
     "text": [
      "1847.27243377 m 13789.4556634 m\n",
      "Ratio:  0.133962679809\n",
      "1704.5312894 m 4524.75114181 m\n",
      "Ratio:  0.376712715458\n"
     ]
    },
    {
     "name": "stderr",
     "output_type": "stream",
     "text": [
      " 25%|██▍       | 311/1261 [00:52<02:36,  6.08it/s]"
     ]
    },
    {
     "name": "stdout",
     "output_type": "stream",
     "text": [
      "2268.94218144 m 943.574311076 m\n",
      "Ratio:  2.40462479193\n",
      "4647.92027267 m 1223.13312628 m\n",
      "Ratio:  3.80001176715\n"
     ]
    },
    {
     "name": "stderr",
     "output_type": "stream",
     "text": [
      " 25%|██▍       | 313/1261 [00:52<02:42,  5.85it/s]"
     ]
    },
    {
     "name": "stdout",
     "output_type": "stream",
     "text": [
      "4883.36276696 m 5289.95386343 m\n",
      "Ratio:  0.923139008965\n",
      "5549.72975057 m 6685.15344533 m\n",
      "Ratio:  0.830157422107\n"
     ]
    },
    {
     "name": "stderr",
     "output_type": "stream",
     "text": [
      " 25%|██▍       | 315/1261 [00:52<02:41,  5.85it/s]"
     ]
    },
    {
     "name": "stdout",
     "output_type": "stream",
     "text": [
      "27752.1354234 m 9019.40635039 m\n",
      "Ratio:  3.07693592519\n",
      "5321.69105884 m 2973.79113835 m\n",
      "Ratio:  1.78953087532\n"
     ]
    },
    {
     "name": "stderr",
     "output_type": "stream",
     "text": [
      " 25%|██▌       | 317/1261 [00:53<02:36,  6.02it/s]"
     ]
    },
    {
     "name": "stdout",
     "output_type": "stream",
     "text": [
      "5101.78904884 m 1848.87885486 m\n",
      "Ratio:  2.75939607153\n",
      "6232.15071048 m 3380.48923918 m\n",
      "Ratio:  1.84356472378\n"
     ]
    },
    {
     "name": "stderr",
     "output_type": "stream",
     "text": [
      " 25%|██▌       | 319/1261 [00:53<02:42,  5.80it/s]"
     ]
    },
    {
     "name": "stdout",
     "output_type": "stream",
     "text": [
      "7413.5482619 m 1950.43003842 m\n",
      "Ratio:  3.80098138147\n",
      "10074.1424845 m 22809.5349133 m\n",
      "Ratio:  0.441663651748\n"
     ]
    },
    {
     "name": "stderr",
     "output_type": "stream",
     "text": [
      " 25%|██▌       | 321/1261 [00:53<02:39,  5.90it/s]"
     ]
    },
    {
     "name": "stdout",
     "output_type": "stream",
     "text": [
      "12434.0194649 m 695.329942615 m\n",
      "Ratio:  17.8821861433\n",
      "15518.1141442 m 600.788783253 m\n",
      "Ratio:  25.8295670238\n"
     ]
    },
    {
     "name": "stderr",
     "output_type": "stream",
     "text": [
      " 26%|██▌       | 323/1261 [00:54<02:50,  5.49it/s]"
     ]
    },
    {
     "name": "stdout",
     "output_type": "stream",
     "text": [
      "2910.16143098 m 589.405671484 m\n",
      "Ratio:  4.93745067578\n",
      "5177.72694708 m 868.87955012 m\n",
      "Ratio:  5.959084831\n"
     ]
    },
    {
     "name": "stderr",
     "output_type": "stream",
     "text": [
      " 26%|██▌       | 325/1261 [00:54<02:44,  5.69it/s]"
     ]
    },
    {
     "name": "stdout",
     "output_type": "stream",
     "text": [
      "2040.40016172 m 1177.80409674 m\n",
      "Ratio:  1.73237651946\n",
      "4346.00185657 m 2366.48674742 m\n",
      "Ratio:  1.8364784258\n"
     ]
    },
    {
     "name": "stderr",
     "output_type": "stream",
     "text": [
      " 26%|██▌       | 327/1261 [00:54<02:44,  5.69it/s]"
     ]
    },
    {
     "name": "stdout",
     "output_type": "stream",
     "text": [
      "3477.54924811 m 2331.63748392 m\n",
      "Ratio:  1.49146223291\n",
      "2926.8419962 m 3727.95045768 m\n",
      "Ratio:  0.785107535473\n"
     ]
    },
    {
     "name": "stderr",
     "output_type": "stream",
     "text": [
      " 26%|██▌       | 329/1261 [00:55<02:41,  5.78it/s]"
     ]
    },
    {
     "name": "stdout",
     "output_type": "stream",
     "text": [
      "2774.13911818 m 2316.52004879 m\n",
      "Ratio:  1.19754591359\n",
      "15188.2234635 m 2358.04462266 m\n",
      "Ratio:  6.4410246174\n"
     ]
    },
    {
     "name": "stderr",
     "output_type": "stream",
     "text": [
      " 26%|██▌       | 331/1261 [00:55<02:35,  5.96it/s]"
     ]
    },
    {
     "name": "stdout",
     "output_type": "stream",
     "text": [
      "40756.1595375 m 3492.51032468 m\n",
      "Ratio:  11.6695888483\n",
      "6315.41756787 m 3705.48505693 m\n",
      "Ratio:  1.70434301336\n"
     ]
    },
    {
     "name": "stderr",
     "output_type": "stream",
     "text": [
      " 26%|██▋       | 333/1261 [00:55<02:38,  5.85it/s]"
     ]
    },
    {
     "name": "stdout",
     "output_type": "stream",
     "text": [
      "3248.39933067 m 2158.62454293 m\n",
      "Ratio:  1.50484684394\n",
      "5043.73908604 m 1487.83819177 m\n",
      "Ratio:  3.38997823415\n"
     ]
    },
    {
     "name": "stderr",
     "output_type": "stream",
     "text": [
      " 27%|██▋       | 335/1261 [00:56<02:46,  5.57it/s]"
     ]
    },
    {
     "name": "stdout",
     "output_type": "stream",
     "text": [
      "4760.68601787 m 1448.42135171 m\n",
      "Ratio:  3.28681016215\n",
      "7850.64216327 m 4867.26567212 m\n",
      "Ratio:  1.61294712311\n"
     ]
    },
    {
     "name": "stderr",
     "output_type": "stream",
     "text": [
      " 27%|██▋       | 337/1261 [00:56<02:39,  5.79it/s]"
     ]
    },
    {
     "name": "stdout",
     "output_type": "stream",
     "text": [
      "10180.5036829 m 1552.84959871 m\n",
      "Ratio:  6.55601398313\n",
      "5770.24692961 m 2765.62529739 m\n",
      "Ratio:  2.08641674455\n"
     ]
    },
    {
     "name": "stderr",
     "output_type": "stream",
     "text": [
      " 27%|██▋       | 339/1261 [00:56<02:37,  5.85it/s]"
     ]
    },
    {
     "name": "stdout",
     "output_type": "stream",
     "text": [
      "10494.4331807 m 4192.23107023 m\n",
      "Ratio:  2.50330504327\n",
      "40302.5654732 m 84317.3749418 m\n",
      "Ratio:  0.477986482632\n"
     ]
    },
    {
     "name": "stderr",
     "output_type": "stream",
     "text": [
      "\r",
      " 27%|██▋       | 340/1261 [00:57<02:38,  5.81it/s]"
     ]
    },
    {
     "name": "stdout",
     "output_type": "stream",
     "text": [
      "14691.5644212 m 3418.85074322 m\n",
      "Ratio:  4.29722310936\n",
      "8481.86623535 m 754.434127587 m\n",
      "Ratio:  11.2426863065\n"
     ]
    },
    {
     "name": "stderr",
     "output_type": "stream",
     "text": [
      " 27%|██▋       | 343/1261 [00:57<02:37,  5.83it/s]"
     ]
    },
    {
     "name": "stdout",
     "output_type": "stream",
     "text": [
      "15051.2841505 m 1336.25762845 m\n",
      "Ratio:  11.2637591959\n",
      "10011.8079832 m 921.752694687 m\n",
      "Ratio:  10.8617073114\n"
     ]
    },
    {
     "name": "stderr",
     "output_type": "stream",
     "text": [
      " 27%|██▋       | 345/1261 [00:57<02:33,  5.95it/s]"
     ]
    },
    {
     "name": "stdout",
     "output_type": "stream",
     "text": [
      "2892.96328418 m 8640.87020551 m\n",
      "Ratio:  0.334799992984\n",
      "5928.26564233 m 5394.28645844 m\n",
      "Ratio:  1.09898977149\n"
     ]
    },
    {
     "name": "stderr",
     "output_type": "stream",
     "text": [
      " 28%|██▊       | 347/1261 [00:58<02:42,  5.63it/s]"
     ]
    },
    {
     "name": "stdout",
     "output_type": "stream",
     "text": [
      "3172.95288239 m 798.676870487 m\n",
      "Ratio:  3.9727617008\n",
      "4695.17616912 m 1305.75413953 m\n",
      "Ratio:  3.59575821127\n"
     ]
    },
    {
     "name": "stderr",
     "output_type": "stream",
     "text": [
      " 28%|██▊       | 349/1261 [00:58<02:48,  5.41it/s]"
     ]
    },
    {
     "name": "stdout",
     "output_type": "stream",
     "text": [
      "3719.88335655 m 1368.9849855 m\n",
      "Ratio:  2.7172565046\n",
      "3652.41891764 m 3570.04008005 m\n",
      "Ratio:  1.02307504558\n"
     ]
    },
    {
     "name": "stderr",
     "output_type": "stream",
     "text": [
      " 28%|██▊       | 351/1261 [00:59<02:47,  5.42it/s]"
     ]
    },
    {
     "name": "stdout",
     "output_type": "stream",
     "text": [
      "11192.7248705 m 31314.0111816 m\n",
      "Ratio:  0.357435040998\n",
      "18095.5118724 m 17662.2053481 m\n",
      "Ratio:  1.02453297965\n"
     ]
    },
    {
     "name": "stderr",
     "output_type": "stream",
     "text": [
      " 28%|██▊       | 353/1261 [00:59<02:56,  5.14it/s]"
     ]
    },
    {
     "name": "stdout",
     "output_type": "stream",
     "text": [
      "3813.84134703 m 3257.97937891 m\n",
      "Ratio:  1.17061555752\n",
      "5895.41035955 m 798.429019548 m\n",
      "Ratio:  7.38376263289\n"
     ]
    },
    {
     "name": "stderr",
     "output_type": "stream",
     "text": [
      " 28%|██▊       | 355/1261 [00:59<02:50,  5.30it/s]"
     ]
    },
    {
     "name": "stdout",
     "output_type": "stream",
     "text": [
      "2899.26610953 m 1314.66924102 m\n",
      "Ratio:  2.20531980141\n",
      "4010.17052279 m 6450.80289225 m\n",
      "Ratio:  0.621654480809\n"
     ]
    },
    {
     "name": "stderr",
     "output_type": "stream",
     "text": [
      "\r",
      " 28%|██▊       | 356/1261 [01:00<02:51,  5.28it/s]"
     ]
    },
    {
     "name": "stdout",
     "output_type": "stream",
     "text": [
      "1655.77653015 m 2806.89608481 m\n",
      "Ratio:  0.589895913536\n"
     ]
    },
    {
     "name": "stderr",
     "output_type": "stream",
     "text": [
      "\r",
      " 28%|██▊       | 357/1261 [01:00<02:56,  5.13it/s]"
     ]
    },
    {
     "name": "stdout",
     "output_type": "stream",
     "text": [
      "1765.9159667 m 5492.7420654 m\n",
      "Ratio:  0.321499889432\n",
      "1539.48975272 m 684.937502483 m\n",
      "Ratio:  2.24763536402\n"
     ]
    },
    {
     "name": "stderr",
     "output_type": "stream",
     "text": [
      " 28%|██▊       | 359/1261 [01:00<02:57,  5.09it/s]"
     ]
    },
    {
     "name": "stdout",
     "output_type": "stream",
     "text": [
      "2670.0884583 m 888.578172719 m\n",
      "Ratio:  3.00489989545\n",
      "6690.35076921 m 1130.639633 m\n",
      "Ratio:  5.91731491974\n"
     ]
    },
    {
     "name": "stderr",
     "output_type": "stream",
     "text": [
      " 29%|██▊       | 361/1261 [01:01<03:01,  4.95it/s]"
     ]
    },
    {
     "name": "stdout",
     "output_type": "stream",
     "text": [
      "8453.83135711 m 1798.65775931 m\n",
      "Ratio:  4.70007777374\n"
     ]
    },
    {
     "name": "stderr",
     "output_type": "stream",
     "text": [
      "\r",
      " 29%|██▊       | 362/1261 [01:01<03:08,  4.78it/s]"
     ]
    },
    {
     "name": "stdout",
     "output_type": "stream",
     "text": [
      "10902.9433089 m 3080.47360679 m\n",
      "Ratio:  3.53937241497\n",
      "2873.3880854 m 3735.27306347 m\n",
      "Ratio:  0.769257839138\n"
     ]
    },
    {
     "name": "stderr",
     "output_type": "stream",
     "text": [
      " 29%|██▉       | 365/1261 [01:01<02:55,  5.09it/s]"
     ]
    },
    {
     "name": "stdout",
     "output_type": "stream",
     "text": [
      "2516.79352966 m 93850.1777665 m\n",
      "Ratio:  0.0268171418484\n",
      "1666.83845323 m 606.508443493 m\n",
      "Ratio:  2.74825267663\n"
     ]
    },
    {
     "name": "stderr",
     "output_type": "stream",
     "text": [
      "\r",
      " 29%|██▉       | 366/1261 [01:02<02:53,  5.15it/s]"
     ]
    },
    {
     "name": "stdout",
     "output_type": "stream",
     "text": [
      "1228.98537979 m 1039.54303458 m\n",
      "Ratio:  1.18223617389\n"
     ]
    },
    {
     "name": "stderr",
     "output_type": "stream",
     "text": [
      " 29%|██▉       | 368/1261 [01:02<02:53,  5.14it/s]"
     ]
    },
    {
     "name": "stdout",
     "output_type": "stream",
     "text": [
      "1347.03323808 m 2684.30410796 m\n",
      "Ratio:  0.501818416953\n",
      "1012.77807694 m 892.854033614 m\n",
      "Ratio:  1.13431539625\n"
     ]
    },
    {
     "name": "stderr",
     "output_type": "stream",
     "text": [
      " 29%|██▉       | 370/1261 [01:02<02:52,  5.16it/s]"
     ]
    },
    {
     "name": "stdout",
     "output_type": "stream",
     "text": [
      "907.087540068 m 787.131715083 m\n",
      "Ratio:  1.15239612721\n",
      "949.287668426 m 865.950985227 m\n",
      "Ratio:  1.09623718273\n"
     ]
    },
    {
     "name": "stderr",
     "output_type": "stream",
     "text": [
      " 30%|██▉       | 372/1261 [01:03<02:49,  5.25it/s]"
     ]
    },
    {
     "name": "stdout",
     "output_type": "stream",
     "text": [
      "1084.19003912 m 1019.22451925 m\n",
      "Ratio:  1.06374014619\n",
      "951.015167916 m 2286.45208179 m\n",
      "Ratio:  0.415934878097\n"
     ]
    },
    {
     "name": "stderr",
     "output_type": "stream",
     "text": [
      " 30%|██▉       | 374/1261 [01:03<02:43,  5.44it/s]"
     ]
    },
    {
     "name": "stdout",
     "output_type": "stream",
     "text": [
      "1577.62697433 m 2855.75790973 m\n",
      "Ratio:  0.552437224791\n",
      "2181.55709441 m 22304.3706461 m\n",
      "Ratio:  0.0978085026036\n"
     ]
    },
    {
     "name": "stderr",
     "output_type": "stream",
     "text": [
      " 30%|██▉       | 376/1261 [01:03<02:38,  5.60it/s]"
     ]
    },
    {
     "name": "stdout",
     "output_type": "stream",
     "text": [
      "2948.83752685 m 4916.04002172 m\n",
      "Ratio:  0.599840016318\n",
      "23845.1607328 m 2997.22387041 m\n",
      "Ratio:  7.95574897432\n"
     ]
    },
    {
     "name": "stderr",
     "output_type": "stream",
     "text": [
      "\r",
      " 30%|██▉       | 377/1261 [01:04<02:34,  5.72it/s]"
     ]
    },
    {
     "name": "stdout",
     "output_type": "stream",
     "text": [
      "15189.1135252 m 1046.86790504 m\n",
      "Ratio:  14.5091022965\n"
     ]
    },
    {
     "name": "stderr",
     "output_type": "stream",
     "text": [
      " 30%|███       | 379/1261 [01:04<02:45,  5.33it/s]"
     ]
    },
    {
     "name": "stdout",
     "output_type": "stream",
     "text": [
      "4018.38970107 m 1434.06164778 m\n",
      "Ratio:  2.80210387559\n",
      "2718.6436616 m 928.283094481 m\n",
      "Ratio:  2.92867949202\n"
     ]
    },
    {
     "name": "stderr",
     "output_type": "stream",
     "text": [
      " 30%|███       | 381/1261 [01:04<02:40,  5.48it/s]"
     ]
    },
    {
     "name": "stdout",
     "output_type": "stream",
     "text": [
      "2700.90617574 m 1136.55719629 m\n",
      "Ratio:  2.37639265719\n",
      "3929.6757606 m 1434.23382263 m\n",
      "Ratio:  2.73991290582\n"
     ]
    },
    {
     "name": "stderr",
     "output_type": "stream",
     "text": [
      "\r",
      " 30%|███       | 382/1261 [01:05<02:40,  5.47it/s]"
     ]
    },
    {
     "name": "stdout",
     "output_type": "stream",
     "text": [
      "3842.19849076 m 1194.64036256 m\n",
      "Ratio:  3.21619678289\n"
     ]
    },
    {
     "name": "stderr",
     "output_type": "stream",
     "text": [
      " 30%|███       | 384/1261 [01:05<02:47,  5.24it/s]"
     ]
    },
    {
     "name": "stdout",
     "output_type": "stream",
     "text": [
      "2121.16583767 m 1470.33356258 m\n",
      "Ratio:  1.44264260278\n",
      "2639.8831289 m 2169.42935583 m\n",
      "Ratio:  1.21685600031\n"
     ]
    },
    {
     "name": "stderr",
     "output_type": "stream",
     "text": [
      " 31%|███       | 386/1261 [01:05<02:42,  5.40it/s]"
     ]
    },
    {
     "name": "stdout",
     "output_type": "stream",
     "text": [
      "2515.28697915 m 4144.68234785 m\n",
      "Ratio:  0.606870869237\n",
      "5333.55463056 m 8194.02034263 m\n",
      "Ratio:  0.65090815101\n"
     ]
    },
    {
     "name": "stderr",
     "output_type": "stream",
     "text": [
      " 31%|███       | 388/1261 [01:06<02:34,  5.65it/s]"
     ]
    },
    {
     "name": "stdout",
     "output_type": "stream",
     "text": [
      "5525.54298292 m 72212.8402296 m\n",
      "Ratio:  0.0765174581882\n",
      "7864.23706738 m 4581.84366643 m\n",
      "Ratio:  1.71639140047\n"
     ]
    },
    {
     "name": "stderr",
     "output_type": "stream",
     "text": [
      "\r",
      " 31%|███       | 389/1261 [01:06<02:32,  5.73it/s]"
     ]
    },
    {
     "name": "stdout",
     "output_type": "stream",
     "text": [
      "12054.4794457 m 6282.18144242 m\n",
      "Ratio:  1.91883656277\n",
      "24630.1014833 m 1755.29610341 m\n",
      "Ratio:  14.0318784024\n"
     ]
    },
    {
     "name": "stderr",
     "output_type": "stream",
     "text": [
      " 31%|███       | 392/1261 [01:06<02:36,  5.56it/s]"
     ]
    },
    {
     "name": "stdout",
     "output_type": "stream",
     "text": [
      "2940.89102551 m 1237.05142221 m\n",
      "Ratio:  2.37733935124\n",
      "12469.5439335 m 1347.0258566 m\n",
      "Ratio:  9.2570932268\n"
     ]
    },
    {
     "name": "stderr",
     "output_type": "stream",
     "text": [
      " 31%|███       | 394/1261 [01:07<02:43,  5.31it/s]"
     ]
    },
    {
     "name": "stdout",
     "output_type": "stream",
     "text": [
      "5422.8165748 m 1513.12110496 m\n",
      "Ratio:  3.58386156733\n",
      "2940.6138699 m 1484.98229872 m\n",
      "Ratio:  1.98023496472\n"
     ]
    },
    {
     "name": "stderr",
     "output_type": "stream",
     "text": [
      " 31%|███▏      | 396/1261 [01:07<02:37,  5.50it/s]"
     ]
    },
    {
     "name": "stdout",
     "output_type": "stream",
     "text": [
      "2715.59510122 m 2089.22721453 m\n",
      "Ratio:  1.29980840874\n",
      "2734.74137814 m 1562.3963426 m\n",
      "Ratio:  1.75035060156\n"
     ]
    },
    {
     "name": "stderr",
     "output_type": "stream",
     "text": [
      " 32%|███▏      | 398/1261 [01:08<02:37,  5.46it/s]"
     ]
    },
    {
     "name": "stdout",
     "output_type": "stream",
     "text": [
      "2149.80355558 m 1504.38181049 m\n",
      "Ratio:  1.42902788414\n",
      "2179.57477549 m 3727.4433377 m\n",
      "Ratio:  0.584737198672\n"
     ]
    },
    {
     "name": "stderr",
     "output_type": "stream",
     "text": [
      " 32%|███▏      | 400/1261 [01:08<02:40,  5.36it/s]"
     ]
    },
    {
     "name": "stdout",
     "output_type": "stream",
     "text": [
      "2821.70188899 m 22560.0938127 m\n",
      "Ratio:  0.125074918235\n",
      "4920.97422191 m 4340.54511145 m\n",
      "Ratio:  1.13372263058\n"
     ]
    },
    {
     "name": "stderr",
     "output_type": "stream",
     "text": [
      " 32%|███▏      | 402/1261 [01:08<02:40,  5.36it/s]"
     ]
    },
    {
     "name": "stdout",
     "output_type": "stream",
     "text": [
      "4832.43234179 m 919.435477569 m\n",
      "Ratio:  5.25586891052\n",
      "4062.85948489 m 2826.0583572 m\n",
      "Ratio:  1.43764175094\n"
     ]
    },
    {
     "name": "stderr",
     "output_type": "stream",
     "text": [
      "\r",
      " 32%|███▏      | 403/1261 [01:08<02:40,  5.33it/s]"
     ]
    },
    {
     "name": "stdout",
     "output_type": "stream",
     "text": [
      "6176.11705679 m 1005.9699235 m\n",
      "Ratio:  6.1394649209\n"
     ]
    },
    {
     "name": "stderr",
     "output_type": "stream",
     "text": [
      " 32%|███▏      | 405/1261 [01:09<02:45,  5.18it/s]"
     ]
    },
    {
     "name": "stdout",
     "output_type": "stream",
     "text": [
      "6864.802961 m 1345.57076932 m\n",
      "Ratio:  5.10177771213\n",
      "46544.8773573 m 1090.65335332 m\n",
      "Ratio:  42.67614198\n"
     ]
    },
    {
     "name": "stderr",
     "output_type": "stream",
     "text": [
      "\r",
      " 32%|███▏      | 406/1261 [01:09<02:51,  4.99it/s]"
     ]
    },
    {
     "name": "stdout",
     "output_type": "stream",
     "text": [
      "18854.8434185 m 1359.2673484 m\n",
      "Ratio:  13.8713281392\n",
      "44008.6177421 m 1876.91816704 m\n",
      "Ratio:  23.447275707\n"
     ]
    },
    {
     "name": "stderr",
     "output_type": "stream",
     "text": [
      " 32%|███▏      | 408/1261 [01:09<02:46,  5.12it/s]"
     ]
    },
    {
     "name": "stdout",
     "output_type": "stream",
     "text": [
      "7665.5811708 m 1858.7516989 m\n",
      "Ratio:  4.12404797011\n"
     ]
    },
    {
     "name": "stderr",
     "output_type": "stream",
     "text": [
      " 33%|███▎      | 410/1261 [01:10<02:49,  5.03it/s]"
     ]
    },
    {
     "name": "stdout",
     "output_type": "stream",
     "text": [
      "8143.26845425 m 1770.424848 m\n",
      "Ratio:  4.59961260907\n",
      "19574.5086134 m 2396.85942015 m\n",
      "Ratio:  8.16673203646\n"
     ]
    },
    {
     "name": "stderr",
     "output_type": "stream",
     "text": [
      "\r",
      " 33%|███▎      | 411/1261 [01:10<02:50,  4.97it/s]"
     ]
    },
    {
     "name": "stdout",
     "output_type": "stream",
     "text": [
      "6196.31149669 m 9286.7910662 m\n",
      "Ratio:  0.667217713043\n"
     ]
    },
    {
     "name": "stderr",
     "output_type": "stream",
     "text": [
      " 33%|███▎      | 413/1261 [01:10<02:48,  5.03it/s]"
     ]
    },
    {
     "name": "stdout",
     "output_type": "stream",
     "text": [
      "21459.2627624 m 6721.43677384 m\n",
      "Ratio:  3.19266006428\n",
      "19529.4793755 m 855.094071048 m\n",
      "Ratio:  22.8389834952\n"
     ]
    },
    {
     "name": "stderr",
     "output_type": "stream",
     "text": [
      " 33%|███▎      | 415/1261 [01:11<02:46,  5.08it/s]"
     ]
    },
    {
     "name": "stdout",
     "output_type": "stream",
     "text": [
      "200512.405046 m 1057.41579167 m\n",
      "Ratio:  189.624939051\n",
      "3719.72534848 m 950.768834643 m\n",
      "Ratio:  3.91233411629\n"
     ]
    },
    {
     "name": "stderr",
     "output_type": "stream",
     "text": [
      " 33%|███▎      | 417/1261 [01:11<02:41,  5.23it/s]"
     ]
    },
    {
     "name": "stdout",
     "output_type": "stream",
     "text": [
      "5160.03867287 m 1175.98644433 m\n",
      "Ratio:  4.38783856542\n",
      "2306.65790962 m 1122.18363864 m\n",
      "Ratio:  2.05550841251\n"
     ]
    },
    {
     "name": "stderr",
     "output_type": "stream",
     "text": [
      " 33%|███▎      | 419/1261 [01:12<02:36,  5.39it/s]"
     ]
    },
    {
     "name": "stdout",
     "output_type": "stream",
     "text": [
      "2359.2153715 m 894.614573235 m\n",
      "Ratio:  2.63713049405\n",
      "2596.9475399 m 934.458380009 m\n",
      "Ratio:  2.77909385314\n"
     ]
    },
    {
     "name": "stderr",
     "output_type": "stream",
     "text": [
      "\r",
      " 33%|███▎      | 420/1261 [01:12<02:39,  5.28it/s]"
     ]
    },
    {
     "name": "stdout",
     "output_type": "stream",
     "text": [
      "2037.97608134 m 1672.48356347 m\n",
      "Ratio:  1.21853280107\n",
      "2225.70218023 m 2478.04219909 m\n",
      "Ratio:  0.898169603829\n"
     ]
    },
    {
     "name": "stderr",
     "output_type": "stream",
     "text": [
      " 34%|███▎      | 423/1261 [01:12<02:31,  5.53it/s]"
     ]
    },
    {
     "name": "stdout",
     "output_type": "stream",
     "text": [
      "12698.0323733 m 17688.2526616 m\n",
      "Ratio:  0.717879409362\n",
      "6701.99424387 m 7489.21680029 m\n",
      "Ratio:  0.89488586358\n"
     ]
    },
    {
     "name": "stderr",
     "output_type": "stream",
     "text": [
      " 34%|███▎      | 425/1261 [01:13<02:32,  5.47it/s]"
     ]
    },
    {
     "name": "stdout",
     "output_type": "stream",
     "text": [
      "3938.14511207 m 7890.13355043 m\n",
      "Ratio:  0.499122744489\n",
      "2513.85261222 m 8352.47570935 m\n",
      "Ratio:  0.300970957557\n"
     ]
    },
    {
     "name": "stderr",
     "output_type": "stream",
     "text": [
      " 34%|███▍      | 427/1261 [01:13<02:32,  5.47it/s]"
     ]
    },
    {
     "name": "stdout",
     "output_type": "stream",
     "text": [
      "2824.06498504 m 9960.97916895 m\n",
      "Ratio:  0.283512788968\n",
      "3177.84415094 m 5255.94667974 m\n",
      "Ratio:  0.604618795543\n"
     ]
    },
    {
     "name": "stderr",
     "output_type": "stream",
     "text": [
      " 34%|███▍      | 429/1261 [01:13<02:27,  5.62it/s]"
     ]
    },
    {
     "name": "stdout",
     "output_type": "stream",
     "text": [
      "4174.55835421 m 2768.72749924 m\n",
      "Ratio:  1.50775341934\n",
      "6007.46584355 m 4283.02233999 m\n",
      "Ratio:  1.40262304669\n"
     ]
    },
    {
     "name": "stderr",
     "output_type": "stream",
     "text": [
      "\r",
      " 34%|███▍      | 430/1261 [01:14<02:24,  5.73it/s]"
     ]
    },
    {
     "name": "stdout",
     "output_type": "stream",
     "text": [
      "7067.83306087 m 2109.73773223 m\n",
      "Ratio:  3.35010032427\n"
     ]
    },
    {
     "name": "stderr",
     "output_type": "stream",
     "text": [
      " 34%|███▍      | 432/1261 [01:14<02:28,  5.56it/s]"
     ]
    },
    {
     "name": "stdout",
     "output_type": "stream",
     "text": [
      "3821.41935857 m 4710.85600774 m\n",
      "Ratio:  0.811194261148\n",
      "5745.08403767 m 2132.56667039 m\n",
      "Ratio:  2.69397628569\n"
     ]
    },
    {
     "name": "stderr",
     "output_type": "stream",
     "text": [
      " 34%|███▍      | 434/1261 [01:14<02:22,  5.80it/s]"
     ]
    },
    {
     "name": "stdout",
     "output_type": "stream",
     "text": [
      "3057.17996547 m 6375.1344381 m\n",
      "Ratio:  0.479547528786\n",
      "3340.31833843 m 1615.99143949 m\n",
      "Ratio:  2.0670396246\n"
     ]
    },
    {
     "name": "stderr",
     "output_type": "stream",
     "text": [
      " 35%|███▍      | 436/1261 [01:15<02:19,  5.91it/s]"
     ]
    },
    {
     "name": "stdout",
     "output_type": "stream",
     "text": [
      "4381.81679366 m 2329.2040168 m\n",
      "Ratio:  1.88125074577\n",
      "34233.5239709 m 31076.6236906 m\n",
      "Ratio:  1.1015844035\n"
     ]
    },
    {
     "name": "stderr",
     "output_type": "stream",
     "text": [
      " 35%|███▍      | 438/1261 [01:15<02:16,  6.04it/s]"
     ]
    },
    {
     "name": "stdout",
     "output_type": "stream",
     "text": [
      "8088.75152369 m 1015.13976202 m\n",
      "Ratio:  7.96811614158\n",
      "11449.9050631 m 2327.16360511 m\n",
      "Ratio:  4.92011177813\n"
     ]
    },
    {
     "name": "stderr",
     "output_type": "stream",
     "text": [
      " 35%|███▍      | 440/1261 [01:15<02:14,  6.09it/s]"
     ]
    },
    {
     "name": "stdout",
     "output_type": "stream",
     "text": [
      "3878.24105975 m 1320.43058785 m\n",
      "Ratio:  2.93710331722\n",
      "3063.42593326 m 4136.57671287 m\n",
      "Ratio:  0.740570318383\n"
     ]
    },
    {
     "name": "stderr",
     "output_type": "stream",
     "text": [
      " 35%|███▌      | 442/1261 [01:16<02:13,  6.15it/s]"
     ]
    },
    {
     "name": "stdout",
     "output_type": "stream",
     "text": [
      "3618.19023046 m 3182.69601541 m\n",
      "Ratio:  1.13683185983\n",
      "2946.60482832 m 2348.51546973 m\n",
      "Ratio:  1.254666987\n"
     ]
    },
    {
     "name": "stderr",
     "output_type": "stream",
     "text": [
      " 35%|███▌      | 444/1261 [01:16<02:15,  6.03it/s]"
     ]
    },
    {
     "name": "stdout",
     "output_type": "stream",
     "text": [
      "2965.77167946 m 5230.92559371 m\n",
      "Ratio:  0.566968813899\n",
      "3000.44967985 m 2251.89308229 m\n",
      "Ratio:  1.33241213956\n"
     ]
    },
    {
     "name": "stderr",
     "output_type": "stream",
     "text": [
      " 35%|███▌      | 446/1261 [01:16<02:17,  5.91it/s]"
     ]
    },
    {
     "name": "stdout",
     "output_type": "stream",
     "text": [
      "5957.13329585 m 1451.36383278 m\n",
      "Ratio:  4.10450719613\n",
      "3791.5347157 m 3536.76958182 m\n",
      "Ratio:  1.07203328574\n"
     ]
    },
    {
     "name": "stderr",
     "output_type": "stream",
     "text": [
      " 36%|███▌      | 448/1261 [01:17<02:12,  6.14it/s]"
     ]
    },
    {
     "name": "stdout",
     "output_type": "stream",
     "text": [
      "3268.00453942 m 5503.56652492 m\n",
      "Ratio:  0.593797590095\n",
      "5858.70274412 m 5075.94618235 m\n",
      "Ratio:  1.15420899546\n"
     ]
    },
    {
     "name": "stderr",
     "output_type": "stream",
     "text": [
      " 36%|███▌      | 450/1261 [01:17<02:18,  5.87it/s]"
     ]
    },
    {
     "name": "stdout",
     "output_type": "stream",
     "text": [
      "5586.27068389 m 672.882216968 m\n",
      "Ratio:  8.30200374304\n",
      "7264.61897574 m 40306.413078 m\n",
      "Ratio:  0.18023481677\n"
     ]
    },
    {
     "name": "stderr",
     "output_type": "stream",
     "text": [
      " 36%|███▌      | 452/1261 [01:17<02:11,  6.14it/s]"
     ]
    },
    {
     "name": "stdout",
     "output_type": "stream",
     "text": [
      "6181.5590697 m 1802.79549419 m\n",
      "Ratio:  3.42887426201\n",
      "5415.22403471 m 2872.43668236 m\n",
      "Ratio:  1.88523704211\n"
     ]
    },
    {
     "name": "stderr",
     "output_type": "stream",
     "text": [
      " 36%|███▌      | 454/1261 [01:18<02:08,  6.28it/s]"
     ]
    },
    {
     "name": "stdout",
     "output_type": "stream",
     "text": [
      "7547.46042844 m 5926.42658146 m\n",
      "Ratio:  1.27352635263\n",
      "5528.23881177 m 3355.06695166 m\n",
      "Ratio:  1.64772831404\n"
     ]
    },
    {
     "name": "stderr",
     "output_type": "stream",
     "text": [
      " 36%|███▌      | 456/1261 [01:18<02:08,  6.27it/s]"
     ]
    },
    {
     "name": "stdout",
     "output_type": "stream",
     "text": [
      "18838.4615184 m 1138.12028639 m\n",
      "Ratio:  16.5522587935\n",
      "8070.39985479 m 1171.99617519 m\n",
      "Ratio:  6.88602917454\n"
     ]
    },
    {
     "name": "stderr",
     "output_type": "stream",
     "text": [
      " 36%|███▋      | 458/1261 [01:18<02:09,  6.21it/s]"
     ]
    },
    {
     "name": "stdout",
     "output_type": "stream",
     "text": [
      "9327.62283917 m 2241.83629541 m\n",
      "Ratio:  4.16070649683\n",
      "5992.18803822 m 4761.49213747 m\n",
      "Ratio:  1.25846853575\n"
     ]
    },
    {
     "name": "stderr",
     "output_type": "stream",
     "text": [
      " 36%|███▋      | 460/1261 [01:19<02:08,  6.23it/s]"
     ]
    },
    {
     "name": "stdout",
     "output_type": "stream",
     "text": [
      "18604.6478396 m 4190.46174985 m\n",
      "Ratio:  4.43976080686\n",
      "59851.342969 m 3535.64798114 m\n",
      "Ratio:  16.9279700039\n"
     ]
    },
    {
     "name": "stderr",
     "output_type": "stream",
     "text": [
      " 37%|███▋      | 462/1261 [01:19<02:13,  5.99it/s]"
     ]
    },
    {
     "name": "stdout",
     "output_type": "stream",
     "text": [
      "3762.36636272 m 1460.76758556 m\n",
      "Ratio:  2.57560915227\n",
      "2238.73273572 m 1023.03987447 m\n",
      "Ratio:  2.1883142501\n"
     ]
    },
    {
     "name": "stderr",
     "output_type": "stream",
     "text": [
      " 37%|███▋      | 464/1261 [01:19<02:11,  6.04it/s]"
     ]
    },
    {
     "name": "stdout",
     "output_type": "stream",
     "text": [
      "2653.67894438 m 1623.58189315 m\n",
      "Ratio:  1.63445955856\n",
      "1929.66823844 m 6834.96957419 m\n",
      "Ratio:  0.28232287174\n"
     ]
    },
    {
     "name": "stderr",
     "output_type": "stream",
     "text": [
      " 37%|███▋      | 466/1261 [01:20<02:10,  6.11it/s]"
     ]
    },
    {
     "name": "stdout",
     "output_type": "stream",
     "text": [
      "1394.08606827 m 768.868469497 m\n",
      "Ratio:  1.81316587112\n",
      "1734.54156596 m 1454.1915654 m\n",
      "Ratio:  1.19278753036\n"
     ]
    },
    {
     "name": "stderr",
     "output_type": "stream",
     "text": [
      " 37%|███▋      | 468/1261 [01:20<02:13,  5.92it/s]"
     ]
    },
    {
     "name": "stdout",
     "output_type": "stream",
     "text": [
      "1759.68617867 m 1045.72014144 m\n",
      "Ratio:  1.68275058395\n",
      "1947.99834688 m 7877.36426567 m\n",
      "Ratio:  0.247290626811\n"
     ]
    },
    {
     "name": "stderr",
     "output_type": "stream",
     "text": [
      " 37%|███▋      | 470/1261 [01:20<02:07,  6.19it/s]"
     ]
    },
    {
     "name": "stdout",
     "output_type": "stream",
     "text": [
      "2035.86017306 m 4525.44302565 m\n",
      "Ratio:  0.449869805348\n",
      "3536.24076941 m 3156.39314248 m\n",
      "Ratio:  1.12034230522\n"
     ]
    },
    {
     "name": "stderr",
     "output_type": "stream",
     "text": [
      " 37%|███▋      | 472/1261 [01:21<02:05,  6.31it/s]"
     ]
    },
    {
     "name": "stdout",
     "output_type": "stream",
     "text": [
      "3103.55628207 m 1717.12168392 m\n",
      "Ratio:  1.80741779173\n",
      "1953.37218893 m 2178.52177713 m\n",
      "Ratio:  0.896650292614\n"
     ]
    },
    {
     "name": "stderr",
     "output_type": "stream",
     "text": [
      " 38%|███▊      | 474/1261 [01:21<02:06,  6.22it/s]"
     ]
    },
    {
     "name": "stdout",
     "output_type": "stream",
     "text": [
      "2668.81119568 m 1662.93330072 m\n",
      "Ratio:  1.60488168379\n",
      "4252.94528177 m 2858.47681472 m\n",
      "Ratio:  1.48783619999\n"
     ]
    },
    {
     "name": "stderr",
     "output_type": "stream",
     "text": [
      " 38%|███▊      | 476/1261 [01:21<02:05,  6.28it/s]"
     ]
    },
    {
     "name": "stdout",
     "output_type": "stream",
     "text": [
      "5232.38664858 m 2000.60003967 m\n",
      "Ratio:  2.61540864982\n",
      "20176.4209019 m 4461.29259918 m\n",
      "Ratio:  4.52255046118\n"
     ]
    },
    {
     "name": "stderr",
     "output_type": "stream",
     "text": [
      " 38%|███▊      | 478/1261 [01:21<02:03,  6.36it/s]"
     ]
    },
    {
     "name": "stdout",
     "output_type": "stream",
     "text": [
      "11897.6581496 m 940.999736524 m\n",
      "Ratio:  12.6436360052\n",
      "23001.7045611 m 1045.8590671 m\n",
      "Ratio:  21.9931205692\n"
     ]
    },
    {
     "name": "stderr",
     "output_type": "stream",
     "text": [
      " 38%|███▊      | 480/1261 [01:22<02:06,  6.16it/s]"
     ]
    },
    {
     "name": "stdout",
     "output_type": "stream",
     "text": [
      "12804.551063 m 851.754537674 m\n",
      "Ratio:  15.0331468711\n",
      "10899.6454411 m 7714.8403446 m\n",
      "Ratio:  1.41281542511\n"
     ]
    },
    {
     "name": "stderr",
     "output_type": "stream",
     "text": [
      " 38%|███▊      | 482/1261 [01:22<02:06,  6.16it/s]"
     ]
    },
    {
     "name": "stdout",
     "output_type": "stream",
     "text": [
      "6615.34204079 m 2997.86474065 m\n",
      "Ratio:  2.20668462826\n",
      "5595.93597602 m 6640.39067095 m\n",
      "Ratio:  0.842711860387\n"
     ]
    },
    {
     "name": "stderr",
     "output_type": "stream",
     "text": [
      " 38%|███▊      | 484/1261 [01:22<02:06,  6.16it/s]"
     ]
    },
    {
     "name": "stdout",
     "output_type": "stream",
     "text": [
      "3387.87969414 m 4124.56418129 m\n",
      "Ratio:  0.821390950712\n",
      "13796.9708143 m 13432.4250346 m\n",
      "Ratio:  1.02713923798\n"
     ]
    },
    {
     "name": "stderr",
     "output_type": "stream",
     "text": [
      " 39%|███▊      | 486/1261 [01:23<02:13,  5.82it/s]"
     ]
    },
    {
     "name": "stdout",
     "output_type": "stream",
     "text": [
      "13387.990409 m 1299.63767317 m\n",
      "Ratio:  10.3013252735\n",
      "6652.96890308 m 968.771580542 m\n",
      "Ratio:  6.86742781962\n"
     ]
    },
    {
     "name": "stderr",
     "output_type": "stream",
     "text": [
      " 39%|███▊      | 488/1261 [01:23<02:09,  5.99it/s]"
     ]
    },
    {
     "name": "stdout",
     "output_type": "stream",
     "text": [
      "11032.7630471 m 1006.0769479 m\n",
      "Ratio:  10.9661224921\n",
      "16714.7574114 m 2244.19864515 m\n",
      "Ratio:  7.44798480632\n"
     ]
    },
    {
     "name": "stderr",
     "output_type": "stream",
     "text": [
      " 39%|███▉      | 490/1261 [01:23<02:05,  6.16it/s]"
     ]
    },
    {
     "name": "stdout",
     "output_type": "stream",
     "text": [
      "27614.7051818 m 1092.15639882 m\n",
      "Ratio:  25.2845702425\n",
      "143636.130188 m 17815.8740145 m\n",
      "Ratio:  8.06225560818\n"
     ]
    },
    {
     "name": "stderr",
     "output_type": "stream",
     "text": [
      " 39%|███▉      | 492/1261 [01:24<02:05,  6.15it/s]"
     ]
    },
    {
     "name": "stdout",
     "output_type": "stream",
     "text": [
      "6274.76651982 m 2139.64093096 m\n",
      "Ratio:  2.93262595094\n",
      "4159.30911258 m 3357.19254663 m\n",
      "Ratio:  1.23892480244\n"
     ]
    },
    {
     "name": "stderr",
     "output_type": "stream",
     "text": [
      " 39%|███▉      | 494/1261 [01:24<02:04,  6.18it/s]"
     ]
    },
    {
     "name": "stdout",
     "output_type": "stream",
     "text": [
      "40490.2761736 m 3145.35219426 m\n",
      "Ratio:  12.8730500347\n",
      "8720.37301587 m 6147.56628532 m\n",
      "Ratio:  1.41850817236\n"
     ]
    },
    {
     "name": "stderr",
     "output_type": "stream",
     "text": [
      " 39%|███▉      | 496/1261 [01:24<02:02,  6.27it/s]"
     ]
    },
    {
     "name": "stdout",
     "output_type": "stream",
     "text": [
      "98167.9387019 m 19251.3773134 m\n",
      "Ratio:  5.09926833306\n",
      "25675.8535247 m 8847.44512067 m\n",
      "Ratio:  2.90206417497\n"
     ]
    },
    {
     "name": "stderr",
     "output_type": "stream",
     "text": [
      " 39%|███▉      | 498/1261 [01:25<02:04,  6.11it/s]"
     ]
    },
    {
     "name": "stdout",
     "output_type": "stream",
     "text": [
      "1049665.23177 m 5484.49263832 m\n",
      "Ratio:  191.387845875\n",
      "7545.8782632 m 12434.7580835 m\n",
      "Ratio:  0.606837560691\n"
     ]
    },
    {
     "name": "stderr",
     "output_type": "stream",
     "text": [
      " 40%|███▉      | 500/1261 [01:25<02:04,  6.13it/s]"
     ]
    },
    {
     "name": "stdout",
     "output_type": "stream",
     "text": [
      "5857.09572419 m 11337.4003221 m\n",
      "Ratio:  0.516617174817\n",
      "3942.52016651 m 6266.89017144 m\n",
      "Ratio:  0.629103121111\n"
     ]
    },
    {
     "name": "stderr",
     "output_type": "stream",
     "text": [
      " 40%|███▉      | 502/1261 [01:25<02:03,  6.13it/s]"
     ]
    },
    {
     "name": "stdout",
     "output_type": "stream",
     "text": [
      "5679.64503478 m 1706.59641537 m\n",
      "Ratio:  3.32805400482\n",
      "13656.2305769 m 1926.87078483 m\n",
      "Ratio:  7.08725809975\n"
     ]
    },
    {
     "name": "stderr",
     "output_type": "stream",
     "text": [
      " 40%|███▉      | 504/1261 [01:26<02:07,  5.95it/s]"
     ]
    },
    {
     "name": "stdout",
     "output_type": "stream",
     "text": [
      "26646.8849629 m 2637.04520475 m\n",
      "Ratio:  10.104826764\n",
      "6502.30988815 m 2899.6560531 m\n",
      "Ratio:  2.24244178243\n"
     ]
    },
    {
     "name": "stderr",
     "output_type": "stream",
     "text": [
      " 40%|████      | 506/1261 [01:26<02:03,  6.10it/s]"
     ]
    },
    {
     "name": "stdout",
     "output_type": "stream",
     "text": [
      "4323.61275845 m 3176.0319182 m\n",
      "Ratio:  1.36132534867\n",
      "5037.46912258 m 1201.69775932 m\n",
      "Ratio:  4.19196015263\n"
     ]
    },
    {
     "name": "stderr",
     "output_type": "stream",
     "text": [
      " 40%|████      | 508/1261 [01:26<02:00,  6.26it/s]"
     ]
    },
    {
     "name": "stdout",
     "output_type": "stream",
     "text": [
      "7084.86903815 m 10148.2697425 m\n",
      "Ratio:  0.698135664297\n",
      "5439.98147749 m 3518.03677336 m\n",
      "Ratio:  1.5463117153\n"
     ]
    },
    {
     "name": "stderr",
     "output_type": "stream",
     "text": [
      " 40%|████      | 510/1261 [01:27<02:02,  6.14it/s]"
     ]
    },
    {
     "name": "stdout",
     "output_type": "stream",
     "text": [
      "4785.91681724 m 4738.22164116 m\n",
      "Ratio:  1.01006605003\n",
      "4149.41048116 m 4222.98958427 m\n",
      "Ratio:  0.98257653692\n"
     ]
    },
    {
     "name": "stderr",
     "output_type": "stream",
     "text": [
      " 41%|████      | 512/1261 [01:27<02:02,  6.11it/s]"
     ]
    },
    {
     "name": "stdout",
     "output_type": "stream",
     "text": [
      "18763.8448423 m 10466.7814162 m\n",
      "Ratio:  1.7927043755\n",
      "11417.6135178 m 3058.42987159 m\n",
      "Ratio:  3.73316178471\n"
     ]
    },
    {
     "name": "stderr",
     "output_type": "stream",
     "text": [
      " 41%|████      | 514/1261 [01:27<02:00,  6.20it/s]"
     ]
    },
    {
     "name": "stdout",
     "output_type": "stream",
     "text": [
      "2724.6086042 m 5271.64439426 m\n",
      "Ratio:  0.516842260295\n",
      "2221.42719148 m 4417.64858798 m\n",
      "Ratio:  0.502852851972\n"
     ]
    },
    {
     "name": "stderr",
     "output_type": "stream",
     "text": [
      " 41%|████      | 516/1261 [01:28<02:03,  6.03it/s]"
     ]
    },
    {
     "name": "stdout",
     "output_type": "stream",
     "text": [
      "1626.65016304 m 100285.142008 m\n",
      "Ratio:  0.0162202508814\n",
      "1841.77894822 m 80395.3500767 m\n",
      "Ratio:  0.0229090233013\n"
     ]
    },
    {
     "name": "stderr",
     "output_type": "stream",
     "text": [
      " 41%|████      | 518/1261 [01:28<02:00,  6.18it/s]"
     ]
    },
    {
     "name": "stdout",
     "output_type": "stream",
     "text": [
      "1779.87847259 m 13060.3035635 m\n",
      "Ratio:  0.136281554555\n",
      "49822.3160793 m 1308.60018135 m\n",
      "Ratio:  38.072985767\n"
     ]
    },
    {
     "name": "stderr",
     "output_type": "stream",
     "text": [
      " 41%|████      | 520/1261 [01:28<01:58,  6.25it/s]"
     ]
    },
    {
     "name": "stdout",
     "output_type": "stream",
     "text": [
      "3872.44483429 m 1608.64065284 m\n",
      "Ratio:  2.40727773942\n",
      "2226.3619422 m 2036.91898485 m\n",
      "Ratio:  1.09300465987\n"
     ]
    },
    {
     "name": "stderr",
     "output_type": "stream",
     "text": [
      " 41%|████▏     | 522/1261 [01:29<02:02,  6.02it/s]"
     ]
    },
    {
     "name": "stdout",
     "output_type": "stream",
     "text": [
      "1884.02702352 m 4411.96832697 m\n",
      "Ratio:  0.427026416305\n",
      "3680.34839486 m 2778.64943225 m\n",
      "Ratio:  1.32450979679\n"
     ]
    },
    {
     "name": "stderr",
     "output_type": "stream",
     "text": [
      " 42%|████▏     | 524/1261 [01:29<02:06,  5.85it/s]"
     ]
    },
    {
     "name": "stdout",
     "output_type": "stream",
     "text": [
      "3554.37797583 m 1983.46688631 m\n",
      "Ratio:  1.79200267994\n",
      "66260.5476857 m 2161.36509302 m\n",
      "Ratio:  30.6568047665\n"
     ]
    },
    {
     "name": "stderr",
     "output_type": "stream",
     "text": [
      " 42%|████▏     | 526/1261 [01:29<02:02,  6.00it/s]"
     ]
    },
    {
     "name": "stdout",
     "output_type": "stream",
     "text": [
      "2510.38838357 m 1628.82612941 m\n",
      "Ratio:  1.54122551097\n",
      "1742.48780019 m 6726.13094076 m\n",
      "Ratio:  0.259062426161\n"
     ]
    },
    {
     "name": "stderr",
     "output_type": "stream",
     "text": [
      " 42%|████▏     | 528/1261 [01:30<02:01,  6.02it/s]"
     ]
    },
    {
     "name": "stdout",
     "output_type": "stream",
     "text": [
      "1151.45391377 m 7278.89783941 m\n",
      "Ratio:  0.158190695786\n",
      "1230.52739593 m 5684.56127377 m\n",
      "Ratio:  0.216468314206\n"
     ]
    },
    {
     "name": "stderr",
     "output_type": "stream",
     "text": [
      " 42%|████▏     | 530/1261 [01:30<02:00,  6.08it/s]"
     ]
    },
    {
     "name": "stdout",
     "output_type": "stream",
     "text": [
      "22497.675922 m 1992.06590982 m\n",
      "Ratio:  11.2936403414\n",
      "6498.10975654 m 2377.27882127 m\n",
      "Ratio:  2.73342348335\n"
     ]
    },
    {
     "name": "stderr",
     "output_type": "stream",
     "text": [
      " 42%|████▏     | 532/1261 [01:30<01:59,  6.12it/s]"
     ]
    },
    {
     "name": "stdout",
     "output_type": "stream",
     "text": [
      "2349.88998154 m 3780.20809905 m\n",
      "Ratio:  0.62162979391\n",
      "1813.58233921 m 6079.50472599 m\n",
      "Ratio:  0.298310869216\n"
     ]
    },
    {
     "name": "stderr",
     "output_type": "stream",
     "text": [
      " 42%|████▏     | 534/1261 [01:31<02:01,  6.00it/s]"
     ]
    },
    {
     "name": "stdout",
     "output_type": "stream",
     "text": [
      "1549.94225207 m 2092.53353228 m\n",
      "Ratio:  0.740701273438\n",
      "1247.69373689 m 6578.53254686 m\n",
      "Ratio:  0.189661406704\n"
     ]
    },
    {
     "name": "stderr",
     "output_type": "stream",
     "text": [
      " 43%|████▎     | 536/1261 [01:31<01:58,  6.12it/s]"
     ]
    },
    {
     "name": "stdout",
     "output_type": "stream",
     "text": [
      "1626.25341014 m 905.233152401 m\n",
      "Ratio:  1.79650226665\n",
      "1544.70513411 m 5425.09872227 m\n",
      "Ratio:  0.284733092095\n"
     ]
    },
    {
     "name": "stderr",
     "output_type": "stream",
     "text": [
      " 43%|████▎     | 538/1261 [01:31<01:57,  6.16it/s]"
     ]
    },
    {
     "name": "stdout",
     "output_type": "stream",
     "text": [
      "3191.65627749 m 7560.24818372 m\n",
      "Ratio:  0.422162897293\n",
      "2591.06016115 m 3516.67997003 m\n",
      "Ratio:  0.736791571379\n"
     ]
    },
    {
     "name": "stderr",
     "output_type": "stream",
     "text": [
      " 43%|████▎     | 540/1261 [01:32<01:57,  6.13it/s]"
     ]
    },
    {
     "name": "stdout",
     "output_type": "stream",
     "text": [
      "4866.32860881 m 1802.84929477 m\n",
      "Ratio:  2.69924314968\n",
      "3251.36281116 m 1832.22512266 m\n",
      "Ratio:  1.77454329763\n"
     ]
    },
    {
     "name": "stderr",
     "output_type": "stream",
     "text": [
      " 43%|████▎     | 542/1261 [01:32<02:02,  5.89it/s]"
     ]
    },
    {
     "name": "stdout",
     "output_type": "stream",
     "text": [
      "2272.81545309 m 1348.10967828 m\n",
      "Ratio:  1.68592770285\n",
      "2152.39750504 m 975.683020751 m\n",
      "Ratio:  2.20604177715\n"
     ]
    },
    {
     "name": "stderr",
     "output_type": "stream",
     "text": [
      " 43%|████▎     | 544/1261 [01:32<02:00,  5.95it/s]"
     ]
    },
    {
     "name": "stdout",
     "output_type": "stream",
     "text": [
      "1808.65269313 m 827.893420299 m\n",
      "Ratio:  2.18464436216\n",
      "1509.06851112 m 1538.93419658 m\n",
      "Ratio:  0.980593266736\n"
     ]
    },
    {
     "name": "stderr",
     "output_type": "stream",
     "text": [
      " 43%|████▎     | 546/1261 [01:33<01:58,  6.02it/s]"
     ]
    },
    {
     "name": "stdout",
     "output_type": "stream",
     "text": [
      "1483.81746025 m 3837.22305501 m\n",
      "Ratio:  0.386690437062\n",
      "3487.89395048 m 1885.25518547 m\n",
      "Ratio:  1.85009115868\n"
     ]
    },
    {
     "name": "stderr",
     "output_type": "stream",
     "text": [
      " 43%|████▎     | 548/1261 [01:33<01:58,  6.03it/s]"
     ]
    },
    {
     "name": "stdout",
     "output_type": "stream",
     "text": [
      "4818.29194942 m 18064.5620695 m\n",
      "Ratio:  0.266726197452\n",
      "8620.67780651 m 9577.00237961 m\n",
      "Ratio:  0.900143642532\n"
     ]
    },
    {
     "name": "stderr",
     "output_type": "stream",
     "text": [
      " 44%|████▎     | 550/1261 [01:33<01:57,  6.04it/s]"
     ]
    },
    {
     "name": "stdout",
     "output_type": "stream",
     "text": [
      "18659.4513196 m 9061.3558284 m\n",
      "Ratio:  2.05923392404\n",
      "11645.8519849 m 6924.58317747 m\n",
      "Ratio:  1.68181270792\n"
     ]
    },
    {
     "name": "stderr",
     "output_type": "stream",
     "text": [
      " 44%|████▍     | 552/1261 [01:34<02:01,  5.83it/s]"
     ]
    },
    {
     "name": "stdout",
     "output_type": "stream",
     "text": [
      "73327.1375094 m 1435.77414501 m\n",
      "Ratio:  51.07149879\n",
      "2143.3007527 m 1432.75756947 m\n",
      "Ratio:  1.49592701402\n"
     ]
    },
    {
     "name": "stderr",
     "output_type": "stream",
     "text": [
      " 44%|████▍     | 554/1261 [01:34<01:58,  5.94it/s]"
     ]
    },
    {
     "name": "stdout",
     "output_type": "stream",
     "text": [
      "1574.30219528 m 1782.94823839 m\n",
      "Ratio:  0.882976948729\n",
      "3873.21661485 m 2552.09124763 m\n",
      "Ratio:  1.51766384468\n"
     ]
    },
    {
     "name": "stderr",
     "output_type": "stream",
     "text": [
      " 44%|████▍     | 556/1261 [01:34<01:56,  6.07it/s]"
     ]
    },
    {
     "name": "stdout",
     "output_type": "stream",
     "text": [
      "7504.76058162 m 4536.5729089 m\n",
      "Ratio:  1.65427972444\n",
      "2757.92529722 m 2669.67549652 m\n",
      "Ratio:  1.03305637739\n"
     ]
    },
    {
     "name": "stderr",
     "output_type": "stream",
     "text": [
      " 44%|████▍     | 558/1261 [01:35<01:57,  5.96it/s]"
     ]
    },
    {
     "name": "stdout",
     "output_type": "stream",
     "text": [
      "2990.87267662 m 948.425029653 m\n",
      "Ratio:  3.15351512572\n",
      "2266.01423791 m 2225.38435911 m\n",
      "Ratio:  1.01825746579\n"
     ]
    },
    {
     "name": "stderr",
     "output_type": "stream",
     "text": [
      " 44%|████▍     | 560/1261 [01:35<01:59,  5.85it/s]"
     ]
    },
    {
     "name": "stdout",
     "output_type": "stream",
     "text": [
      "1990.7327213 m 1125.63454691 m\n",
      "Ratio:  1.76854266491\n",
      "3862.31505698 m 1084.74975335 m\n",
      "Ratio:  3.56055859434\n"
     ]
    },
    {
     "name": "stderr",
     "output_type": "stream",
     "text": [
      " 45%|████▍     | 562/1261 [01:35<01:56,  6.00it/s]"
     ]
    },
    {
     "name": "stdout",
     "output_type": "stream",
     "text": [
      "5279.37487173 m 1125.63117956 m\n",
      "Ratio:  4.69014626423\n",
      "2724.91672488 m 1759.31296778 m\n",
      "Ratio:  1.54885274808\n"
     ]
    },
    {
     "name": "stderr",
     "output_type": "stream",
     "text": [
      " 45%|████▍     | 564/1261 [01:36<01:54,  6.11it/s]"
     ]
    },
    {
     "name": "stdout",
     "output_type": "stream",
     "text": [
      "4085.42738638 m 1854.46548098 m\n",
      "Ratio:  2.20302153277\n",
      "5284.82144676 m 60707.5221432 m\n",
      "Ratio:  0.0870538157413\n"
     ]
    },
    {
     "name": "stderr",
     "output_type": "stream",
     "text": [
      " 45%|████▍     | 566/1261 [01:36<01:50,  6.27it/s]"
     ]
    },
    {
     "name": "stdout",
     "output_type": "stream",
     "text": [
      "8197.77097755 m 2874.06642414 m\n",
      "Ratio:  2.85232481362\n",
      "9277.97645794 m 1883.80953664 m\n",
      "Ratio:  4.92511385971\n"
     ]
    },
    {
     "name": "stderr",
     "output_type": "stream",
     "text": [
      " 45%|████▌     | 568/1261 [01:36<01:49,  6.31it/s]"
     ]
    },
    {
     "name": "stdout",
     "output_type": "stream",
     "text": [
      "3753.78990566 m 1574.39382225 m\n",
      "Ratio:  2.38427631803\n",
      "1202.39690737 m 2156.82098119 m\n",
      "Ratio:  0.557485724525\n"
     ]
    },
    {
     "name": "stderr",
     "output_type": "stream",
     "text": [
      " 45%|████▌     | 570/1261 [01:37<01:47,  6.43it/s]"
     ]
    },
    {
     "name": "stdout",
     "output_type": "stream",
     "text": [
      "3130.8674879 m 3274.51165325 m\n",
      "Ratio:  0.956132644935\n",
      "52450.5571073 m 2909.89672113 m\n",
      "Ratio:  18.0248861502\n"
     ]
    },
    {
     "name": "stderr",
     "output_type": "stream",
     "text": [
      " 45%|████▌     | 572/1261 [01:37<01:48,  6.34it/s]"
     ]
    },
    {
     "name": "stdout",
     "output_type": "stream",
     "text": [
      "16706.4273211 m 2760.20676454 m\n",
      "Ratio:  6.05259994855\n",
      "26368.5835742 m 3059.70965629 m\n",
      "Ratio:  8.61800188132\n"
     ]
    },
    {
     "name": "stderr",
     "output_type": "stream",
     "text": [
      " 46%|████▌     | 574/1261 [01:37<01:48,  6.35it/s]"
     ]
    },
    {
     "name": "stdout",
     "output_type": "stream",
     "text": [
      "9976.31889145 m 6551.16524435 m\n",
      "Ratio:  1.52283120931\n",
      "3953.51906803 m 1025.51527632 m\n",
      "Ratio:  3.85515375474\n"
     ]
    },
    {
     "name": "stderr",
     "output_type": "stream",
     "text": [
      " 46%|████▌     | 576/1261 [01:38<01:47,  6.38it/s]"
     ]
    },
    {
     "name": "stdout",
     "output_type": "stream",
     "text": [
      "2431.30656983 m 1279.7662745 m\n",
      "Ratio:  1.89980515839\n",
      "410.508821955 m 1620.50496387 m\n",
      "Ratio:  0.253321545511\n"
     ]
    },
    {
     "name": "stderr",
     "output_type": "stream",
     "text": [
      " 46%|████▌     | 578/1261 [01:38<01:48,  6.29it/s]"
     ]
    },
    {
     "name": "stdout",
     "output_type": "stream",
     "text": [
      "1441.4720985 m 4002.37220931 m\n",
      "Ratio:  0.360154434199\n",
      "5819.02791915 m 4833.32373882 m\n",
      "Ratio:  1.20393920077\n"
     ]
    },
    {
     "name": "stderr",
     "output_type": "stream",
     "text": [
      " 46%|████▌     | 580/1261 [01:38<01:47,  6.36it/s]"
     ]
    },
    {
     "name": "stdout",
     "output_type": "stream",
     "text": [
      "3242.27462058 m 8714.36780835 m\n",
      "Ratio:  0.372060795675\n",
      "3325.12229681 m 117239.228656 m\n",
      "Ratio:  0.0283618575021\n"
     ]
    },
    {
     "name": "stderr",
     "output_type": "stream",
     "text": [
      " 46%|████▌     | 582/1261 [01:39<01:45,  6.43it/s]"
     ]
    },
    {
     "name": "stdout",
     "output_type": "stream",
     "text": [
      "4464.33706907 m 1418.93986147 m\n",
      "Ratio:  3.14624825921\n",
      "2852.91664904 m 1591.53937675 m\n",
      "Ratio:  1.79255172113\n"
     ]
    },
    {
     "name": "stderr",
     "output_type": "stream",
     "text": [
      " 46%|████▋     | 584/1261 [01:39<01:45,  6.42it/s]"
     ]
    },
    {
     "name": "stdout",
     "output_type": "stream",
     "text": [
      "29049.5317616 m 184420.215027 m\n",
      "Ratio:  0.157518153622\n",
      "5721.47588953 m 4837.69146441 m\n",
      "Ratio:  1.18268722419\n"
     ]
    },
    {
     "name": "stderr",
     "output_type": "stream",
     "text": [
      " 46%|████▋     | 586/1261 [01:39<01:55,  5.86it/s]"
     ]
    },
    {
     "name": "stdout",
     "output_type": "stream",
     "text": [
      "4322.83057559 m 3151.46877218 m\n",
      "Ratio:  1.37168758064\n",
      "6939.53282337 m 2028.39565048 m\n",
      "Ratio:  3.4211929126\n"
     ]
    },
    {
     "name": "stderr",
     "output_type": "stream",
     "text": [
      " 47%|████▋     | 588/1261 [01:40<01:56,  5.77it/s]"
     ]
    },
    {
     "name": "stdout",
     "output_type": "stream",
     "text": [
      "21960.026845 m 1644.63798571 m\n",
      "Ratio:  13.3524988696\n",
      "2302.78415723 m 1569.61865123 m\n",
      "Ratio:  1.46709785554\n"
     ]
    },
    {
     "name": "stderr",
     "output_type": "stream",
     "text": [
      " 47%|████▋     | 590/1261 [01:40<01:58,  5.67it/s]"
     ]
    },
    {
     "name": "stdout",
     "output_type": "stream",
     "text": [
      "13112.897394 m 680.778731455 m\n",
      "Ratio:  19.2616143661\n",
      "1464.28540646 m 770.27058062 m\n",
      "Ratio:  1.9010013407\n"
     ]
    },
    {
     "name": "stderr",
     "output_type": "stream",
     "text": [
      " 47%|████▋     | 592/1261 [01:40<01:54,  5.84it/s]"
     ]
    },
    {
     "name": "stdout",
     "output_type": "stream",
     "text": [
      "442.184838626 m 846.818539116 m\n",
      "Ratio:  0.522171891852\n",
      "1011.94551556 m 928.339698966 m\n",
      "Ratio:  1.09005950805\n"
     ]
    },
    {
     "name": "stderr",
     "output_type": "stream",
     "text": [
      " 47%|████▋     | 594/1261 [01:41<01:50,  6.04it/s]"
     ]
    },
    {
     "name": "stdout",
     "output_type": "stream",
     "text": [
      "692.331597168 m 1132.83991909 m\n",
      "Ratio:  0.611146893308\n",
      "1449.29102345 m 1145.72053097 m\n",
      "Ratio:  1.26496033219\n"
     ]
    },
    {
     "name": "stderr",
     "output_type": "stream",
     "text": [
      " 47%|████▋     | 596/1261 [01:41<01:52,  5.92it/s]"
     ]
    },
    {
     "name": "stdout",
     "output_type": "stream",
     "text": [
      "1712.92966017 m 839.637898634 m\n",
      "Ratio:  2.04008140052\n",
      "2127.05692378 m 950.04090115 m\n",
      "Ratio:  2.23891089447\n"
     ]
    },
    {
     "name": "stderr",
     "output_type": "stream",
     "text": [
      " 47%|████▋     | 598/1261 [01:41<01:49,  6.06it/s]"
     ]
    },
    {
     "name": "stdout",
     "output_type": "stream",
     "text": [
      "1270.50918093 m 867.581087926 m\n",
      "Ratio:  1.46442701277\n",
      "861.070068159 m 1162.4019447 m\n",
      "Ratio:  0.740767917744\n"
     ]
    },
    {
     "name": "stderr",
     "output_type": "stream",
     "text": [
      " 48%|████▊     | 600/1261 [01:42<01:46,  6.19it/s]"
     ]
    },
    {
     "name": "stdout",
     "output_type": "stream",
     "text": [
      "907.496467906 m 1318.92548542 m\n",
      "Ratio:  0.68805742094\n",
      "1040.1622257 m 1055.86207335 m\n",
      "Ratio:  0.985130777927\n"
     ]
    },
    {
     "name": "stderr",
     "output_type": "stream",
     "text": [
      " 48%|████▊     | 602/1261 [01:42<01:44,  6.29it/s]"
     ]
    },
    {
     "name": "stdout",
     "output_type": "stream",
     "text": [
      "1669.22943893 m 1143.19408197 m\n",
      "Ratio:  1.46014527652\n",
      "2069.92099051 m 1382.37624714 m\n",
      "Ratio:  1.4973644077\n"
     ]
    },
    {
     "name": "stderr",
     "output_type": "stream",
     "text": [
      " 48%|████▊     | 604/1261 [01:42<01:44,  6.30it/s]"
     ]
    },
    {
     "name": "stdout",
     "output_type": "stream",
     "text": [
      "2436.29815904 m 1092.23715218 m\n",
      "Ratio:  2.23055785475\n",
      "16844.0607803 m 21155.4633699 m\n",
      "Ratio:  0.796203821479\n"
     ]
    },
    {
     "name": "stderr",
     "output_type": "stream",
     "text": [
      " 48%|████▊     | 606/1261 [01:42<01:43,  6.35it/s]"
     ]
    },
    {
     "name": "stdout",
     "output_type": "stream",
     "text": [
      "140716.204973 m 437.611815491 m\n",
      "Ratio:  321.554857505\n",
      "4873.67681125 m 393.766133149 m\n",
      "Ratio:  12.3770847743\n"
     ]
    },
    {
     "name": "stderr",
     "output_type": "stream",
     "text": [
      " 48%|████▊     | 608/1261 [01:43<01:45,  6.16it/s]"
     ]
    },
    {
     "name": "stdout",
     "output_type": "stream",
     "text": [
      "7020.58862076 m 320.697128412 m\n",
      "Ratio:  21.8916479094\n",
      "568.824101488 m 350.548042833 m\n",
      "Ratio:  1.62267088098\n"
     ]
    },
    {
     "name": "stderr",
     "output_type": "stream",
     "text": [
      " 48%|████▊     | 610/1261 [01:43<01:44,  6.21it/s]"
     ]
    },
    {
     "name": "stdout",
     "output_type": "stream",
     "text": [
      "1700.31563389 m 375.107142243 m\n",
      "Ratio:  4.53287992259\n",
      "668.557111151 m 345.02675928 m\n",
      "Ratio:  1.93769640519\n"
     ]
    },
    {
     "name": "stderr",
     "output_type": "stream",
     "text": [
      " 49%|████▊     | 612/1261 [01:43<01:43,  6.25it/s]"
     ]
    },
    {
     "name": "stdout",
     "output_type": "stream",
     "text": [
      "734.207608409 m 357.636715847 m\n",
      "Ratio:  2.0529424857\n",
      "644.68499144 m 767.801824374 m\n",
      "Ratio:  0.839650246944\n"
     ]
    },
    {
     "name": "stderr",
     "output_type": "stream",
     "text": [
      " 49%|████▊     | 614/1261 [01:44<01:48,  5.95it/s]"
     ]
    },
    {
     "name": "stdout",
     "output_type": "stream",
     "text": [
      "877.459899959 m 771.749772085 m\n",
      "Ratio:  1.13697461496\n",
      "551.395239431 m 632.842152921 m\n",
      "Ratio:  0.871299797092\n"
     ]
    },
    {
     "name": "stderr",
     "output_type": "stream",
     "text": [
      " 49%|████▉     | 616/1261 [01:44<01:45,  6.14it/s]"
     ]
    },
    {
     "name": "stdout",
     "output_type": "stream",
     "text": [
      "567.653115845 m 608.2638018 m\n",
      "Ratio:  0.933235076894\n",
      "610.346263366 m 442.137039859 m\n",
      "Ratio:  1.38044589877\n"
     ]
    },
    {
     "name": "stderr",
     "output_type": "stream",
     "text": [
      " 49%|████▉     | 618/1261 [01:44<01:45,  6.10it/s]"
     ]
    },
    {
     "name": "stdout",
     "output_type": "stream",
     "text": [
      "580.616530068 m 379.262750394 m\n",
      "Ratio:  1.53090839916\n",
      "754.069039665 m 441.159940325 m\n",
      "Ratio:  1.70928720117\n"
     ]
    },
    {
     "name": "stderr",
     "output_type": "stream",
     "text": [
      " 49%|████▉     | 620/1261 [01:45<01:42,  6.23it/s]"
     ]
    },
    {
     "name": "stdout",
     "output_type": "stream",
     "text": [
      "406.821092733 m 385.727335561 m\n",
      "Ratio:  1.05468566842\n",
      "566.272867223 m 415.473748883 m\n",
      "Ratio:  1.36295703097\n"
     ]
    },
    {
     "name": "stderr",
     "output_type": "stream",
     "text": [
      " 49%|████▉     | 622/1261 [01:45<01:42,  6.21it/s]"
     ]
    },
    {
     "name": "stdout",
     "output_type": "stream",
     "text": [
      "849.552147653 m 1770.84021382 m\n",
      "Ratio:  0.479745231119\n",
      "507.254467742 m 2295.7255647 m\n",
      "Ratio:  0.22095605657\n"
     ]
    },
    {
     "name": "stderr",
     "output_type": "stream",
     "text": [
      " 49%|████▉     | 624/1261 [01:45<01:43,  6.18it/s]"
     ]
    },
    {
     "name": "stdout",
     "output_type": "stream",
     "text": [
      "601.627894631 m 5537.38310257 m\n",
      "Ratio:  0.10864841451\n",
      "606.393583643 m 4046.05466498 m\n",
      "Ratio:  0.149872810393\n"
     ]
    },
    {
     "name": "stderr",
     "output_type": "stream",
     "text": [
      " 50%|████▉     | 626/1261 [01:46<01:44,  6.06it/s]"
     ]
    },
    {
     "name": "stdout",
     "output_type": "stream",
     "text": [
      "511.890431515 m 921.167867464 m\n",
      "Ratio:  0.555697229132\n",
      "356.697590847 m 933.18428811 m\n",
      "Ratio:  0.382237030126\n"
     ]
    },
    {
     "name": "stderr",
     "output_type": "stream",
     "text": [
      " 50%|████▉     | 628/1261 [01:46<01:40,  6.30it/s]"
     ]
    },
    {
     "name": "stdout",
     "output_type": "stream",
     "text": [
      "479.481306043 m 864.443051803 m\n",
      "Ratio:  0.554670784897\n",
      "805.590997161 m 811.732199664 m\n",
      "Ratio:  0.992434447586\n"
     ]
    },
    {
     "name": "stderr",
     "output_type": "stream",
     "text": [
      " 50%|████▉     | 630/1261 [01:46<01:40,  6.29it/s]"
     ]
    },
    {
     "name": "stdout",
     "output_type": "stream",
     "text": [
      "460.974321996 m 469.12672039 m\n",
      "Ratio:  0.982622182792\n",
      "553.863768361 m 447.154370117 m\n",
      "Ratio:  1.23864107202\n"
     ]
    },
    {
     "name": "stderr",
     "output_type": "stream",
     "text": [
      " 50%|█████     | 632/1261 [01:47<01:46,  5.93it/s]"
     ]
    },
    {
     "name": "stdout",
     "output_type": "stream",
     "text": [
      "772.897821607 m 478.871296609 m\n",
      "Ratio:  1.61399905795\n",
      "819.882241155 m 629.712766472 m\n",
      "Ratio:  1.30199399601\n"
     ]
    },
    {
     "name": "stderr",
     "output_type": "stream",
     "text": [
      " 50%|█████     | 634/1261 [01:47<01:41,  6.16it/s]"
     ]
    },
    {
     "name": "stdout",
     "output_type": "stream",
     "text": [
      "874.694688843 m 506.925836543 m\n",
      "Ratio:  1.72548847541\n",
      "910.629334567 m 709.496908451 m\n",
      "Ratio:  1.2834859796\n"
     ]
    },
    {
     "name": "stderr",
     "output_type": "stream",
     "text": [
      " 50%|█████     | 636/1261 [01:47<01:41,  6.14it/s]"
     ]
    },
    {
     "name": "stdout",
     "output_type": "stream",
     "text": [
      "715.767313846 m 1000.09773246 m\n",
      "Ratio:  0.715697366983\n",
      "986.556773041 m 679.021867613 m\n",
      "Ratio:  1.45290869131\n"
     ]
    },
    {
     "name": "stderr",
     "output_type": "stream",
     "text": [
      " 51%|█████     | 638/1261 [01:48<01:41,  6.15it/s]"
     ]
    },
    {
     "name": "stdout",
     "output_type": "stream",
     "text": [
      "711.31644626 m 527.361016055 m\n",
      "Ratio:  1.34882257999\n",
      "800.844362915 m 529.23138775 m\n",
      "Ratio:  1.51322159164\n"
     ]
    },
    {
     "name": "stderr",
     "output_type": "stream",
     "text": [
      " 51%|█████     | 640/1261 [01:48<01:39,  6.25it/s]"
     ]
    },
    {
     "name": "stdout",
     "output_type": "stream",
     "text": [
      "822.015840479 m 608.97688002 m\n",
      "Ratio:  1.34983094999\n",
      "1106.22810227 m 588.359521343 m\n",
      "Ratio:  1.88019070338\n"
     ]
    },
    {
     "name": "stderr",
     "output_type": "stream",
     "text": [
      " 51%|█████     | 642/1261 [01:48<01:40,  6.16it/s]"
     ]
    },
    {
     "name": "stdout",
     "output_type": "stream",
     "text": [
      "1266.12193199 m 695.142843063 m\n",
      "Ratio:  1.82138382725\n",
      "1908.51678597 m 609.709163432 m\n",
      "Ratio:  3.13020846731\n"
     ]
    },
    {
     "name": "stderr",
     "output_type": "stream",
     "text": [
      " 51%|█████     | 644/1261 [01:49<01:42,  6.00it/s]"
     ]
    },
    {
     "name": "stdout",
     "output_type": "stream",
     "text": [
      "1549.74460394 m 477.686145638 m\n",
      "Ratio:  3.24427371003\n",
      "1543.66542161 m 438.937471474 m\n",
      "Ratio:  3.51682306007\n"
     ]
    },
    {
     "name": "stderr",
     "output_type": "stream",
     "text": [
      " 51%|█████     | 646/1261 [01:49<01:41,  6.08it/s]"
     ]
    },
    {
     "name": "stdout",
     "output_type": "stream",
     "text": [
      "1895.13527779 m 525.842318085 m\n",
      "Ratio:  3.60399916973\n",
      "4006.50197213 m 362.375246914 m\n",
      "Ratio:  11.0562241937\n"
     ]
    },
    {
     "name": "stderr",
     "output_type": "stream",
     "text": [
      " 51%|█████▏    | 648/1261 [01:49<01:41,  6.05it/s]"
     ]
    },
    {
     "name": "stdout",
     "output_type": "stream",
     "text": [
      "2901.21737955 m 874.489084541 m\n",
      "Ratio:  3.31761417133\n",
      "3727.7050694 m 999.144800117 m\n",
      "Ratio:  3.730895731\n"
     ]
    },
    {
     "name": "stderr",
     "output_type": "stream",
     "text": [
      " 52%|█████▏    | 650/1261 [01:50<01:46,  5.74it/s]"
     ]
    },
    {
     "name": "stdout",
     "output_type": "stream",
     "text": [
      "1365.52789791 m 944.760385538 m\n",
      "Ratio:  1.44536955487\n",
      "1450.99156536 m 1194.1526244 m\n",
      "Ratio:  1.21508049785\n"
     ]
    },
    {
     "name": "stderr",
     "output_type": "stream",
     "text": [
      " 52%|█████▏    | 652/1261 [01:50<01:44,  5.84it/s]"
     ]
    },
    {
     "name": "stdout",
     "output_type": "stream",
     "text": [
      "1128.99114776 m 764.218099946 m\n",
      "Ratio:  1.4773153735\n",
      "778.977150798 m 707.505867563 m\n",
      "Ratio:  1.10101864382\n"
     ]
    },
    {
     "name": "stderr",
     "output_type": "stream",
     "text": [
      " 52%|█████▏    | 654/1261 [01:50<01:41,  5.96it/s]"
     ]
    },
    {
     "name": "stdout",
     "output_type": "stream",
     "text": [
      "880.137804997 m 616.02997858 m\n",
      "Ratio:  1.42872560687\n",
      "839.533971546 m 497.487082208 m\n",
      "Ratio:  1.68754928836\n"
     ]
    },
    {
     "name": "stderr",
     "output_type": "stream",
     "text": [
      " 52%|█████▏    | 656/1261 [01:51<01:41,  5.95it/s]"
     ]
    },
    {
     "name": "stdout",
     "output_type": "stream",
     "text": [
      "869.223210199 m 463.221508759 m\n",
      "Ratio:  1.87647420027\n",
      "811.409693047 m 456.916490243 m\n",
      "Ratio:  1.77583805876\n"
     ]
    },
    {
     "name": "stderr",
     "output_type": "stream",
     "text": [
      " 52%|█████▏    | 658/1261 [01:51<01:44,  5.76it/s]"
     ]
    },
    {
     "name": "stdout",
     "output_type": "stream",
     "text": [
      "644.395148691 m 497.086242775 m\n",
      "Ratio:  1.29634476523\n",
      "766.971338443 m 543.150815314 m\n",
      "Ratio:  1.4120780395\n"
     ]
    },
    {
     "name": "stderr",
     "output_type": "stream",
     "text": [
      " 52%|█████▏    | 660/1261 [01:51<01:45,  5.69it/s]"
     ]
    },
    {
     "name": "stdout",
     "output_type": "stream",
     "text": [
      "769.968310639 m 1291.72504463 m\n",
      "Ratio:  0.59607755833\n",
      "964.826307314 m 1598.87498163 m\n",
      "Ratio:  0.603440743272\n"
     ]
    },
    {
     "name": "stderr",
     "output_type": "stream",
     "text": [
      " 52%|█████▏    | 662/1261 [01:52<01:47,  5.57it/s]"
     ]
    },
    {
     "name": "stdout",
     "output_type": "stream",
     "text": [
      "703.545079196 m 1738.84992535 m\n",
      "Ratio:  0.404603680249\n",
      "601.151255155 m 1402.16471358 m\n",
      "Ratio:  0.428730839773\n"
     ]
    },
    {
     "name": "stderr",
     "output_type": "stream",
     "text": [
      " 53%|█████▎    | 664/1261 [01:52<01:47,  5.54it/s]"
     ]
    },
    {
     "name": "stdout",
     "output_type": "stream",
     "text": [
      "633.347678279 m 1304.70560107 m\n",
      "Ratio:  0.485433401801\n",
      "683.106595881 m 1125.47002132 m\n",
      "Ratio:  0.606952280326\n"
     ]
    },
    {
     "name": "stderr",
     "output_type": "stream",
     "text": [
      " 53%|█████▎    | 666/1261 [01:52<01:44,  5.70it/s]"
     ]
    },
    {
     "name": "stdout",
     "output_type": "stream",
     "text": [
      "672.10034468 m 841.597925823 m\n",
      "Ratio:  0.7986002865\n",
      "777.088408289 m 557.915358855 m\n",
      "Ratio:  1.39284283172\n"
     ]
    },
    {
     "name": "stderr",
     "output_type": "stream",
     "text": [
      " 53%|█████▎    | 668/1261 [01:53<01:45,  5.62it/s]"
     ]
    },
    {
     "name": "stdout",
     "output_type": "stream",
     "text": [
      "857.341173464 m 463.001162831 m\n",
      "Ratio:  1.8517041474\n",
      "739.107498897 m 538.260945417 m\n",
      "Ratio:  1.37313974791\n"
     ]
    },
    {
     "name": "stderr",
     "output_type": "stream",
     "text": [
      " 53%|█████▎    | 670/1261 [01:53<01:44,  5.64it/s]"
     ]
    },
    {
     "name": "stdout",
     "output_type": "stream",
     "text": [
      "894.501827825 m 565.32069882 m\n",
      "Ratio:  1.58229095395\n",
      "997.135164269 m 612.900436319 m\n",
      "Ratio:  1.62691214622\n"
     ]
    },
    {
     "name": "stderr",
     "output_type": "stream",
     "text": [
      " 53%|█████▎    | 672/1261 [01:54<01:45,  5.58it/s]"
     ]
    },
    {
     "name": "stdout",
     "output_type": "stream",
     "text": [
      "1009.74252707 m 530.264151195 m\n",
      "Ratio:  1.90422551627\n",
      "1308.53724875 m 2781.3324382 m\n",
      "Ratio:  0.470471357819\n"
     ]
    },
    {
     "name": "stderr",
     "output_type": "stream",
     "text": [
      "\r",
      " 53%|█████▎    | 673/1261 [01:54<01:48,  5.43it/s]"
     ]
    },
    {
     "name": "stdout",
     "output_type": "stream",
     "text": [
      "947.257349717 m 1995.18335553 m\n",
      "Ratio:  0.474772079013\n",
      "1148.51578314 m 1764.03616871 m\n",
      "Ratio:  0.651072695393\n"
     ]
    },
    {
     "name": "stderr",
     "output_type": "stream",
     "text": [
      " 54%|█████▎    | 676/1261 [01:54<01:45,  5.53it/s]"
     ]
    },
    {
     "name": "stdout",
     "output_type": "stream",
     "text": [
      "1199.55537642 m 1116.32933184 m\n",
      "Ratio:  1.07455330807\n",
      "1166.01696721 m 811.465198189 m\n",
      "Ratio:  1.43692788035\n"
     ]
    },
    {
     "name": "stderr",
     "output_type": "stream",
     "text": [
      " 54%|█████▍    | 678/1261 [01:55<01:45,  5.53it/s]"
     ]
    },
    {
     "name": "stdout",
     "output_type": "stream",
     "text": [
      "1071.22027737 m 726.036325731 m\n",
      "Ratio:  1.47543619982\n",
      "1214.46764727 m 641.386715235 m\n",
      "Ratio:  1.89350296541\n"
     ]
    },
    {
     "name": "stderr",
     "output_type": "stream",
     "text": [
      " 54%|█████▍    | 680/1261 [01:55<01:41,  5.71it/s]"
     ]
    },
    {
     "name": "stdout",
     "output_type": "stream",
     "text": [
      "1141.61991438 m 413.338928406 m\n",
      "Ratio:  2.76194627682\n",
      "1306.38165264 m 410.814908549 m\n",
      "Ratio:  3.17997625076\n"
     ]
    },
    {
     "name": "stderr",
     "output_type": "stream",
     "text": [
      " 54%|█████▍    | 682/1261 [01:55<01:44,  5.56it/s]"
     ]
    },
    {
     "name": "stdout",
     "output_type": "stream",
     "text": [
      "1288.35548252 m 591.984725459 m\n",
      "Ratio:  2.17633230574\n",
      "1541.66021845 m 766.940527502 m\n",
      "Ratio:  2.01014311171\n"
     ]
    },
    {
     "name": "stderr",
     "output_type": "stream",
     "text": [
      "\r",
      " 54%|█████▍    | 683/1261 [01:56<01:40,  5.76it/s]"
     ]
    },
    {
     "name": "stdout",
     "output_type": "stream",
     "text": [
      "1339.40200391 m 637.982092482 m\n",
      "Ratio:  2.09943510906\n",
      "1541.04208412 m 607.243589336 m\n",
      "Ratio:  2.53776591665\n"
     ]
    },
    {
     "name": "stderr",
     "output_type": "stream",
     "text": [
      " 54%|█████▍    | 686/1261 [01:56<01:44,  5.48it/s]"
     ]
    },
    {
     "name": "stdout",
     "output_type": "stream",
     "text": [
      "1674.70780394 m 1793.01456602 m\n",
      "Ratio:  0.934017958184\n",
      "1565.12031683 m 1672.65417811 m\n",
      "Ratio:  0.935710643188\n"
     ]
    },
    {
     "name": "stderr",
     "output_type": "stream",
     "text": [
      " 55%|█████▍    | 688/1261 [01:56<01:43,  5.52it/s]"
     ]
    },
    {
     "name": "stdout",
     "output_type": "stream",
     "text": [
      "917.270397258 m 1049.66171677 m\n",
      "Ratio:  0.87387239394\n",
      "1065.56342215 m 958.867789949 m\n",
      "Ratio:  1.11127251674\n"
     ]
    },
    {
     "name": "stderr",
     "output_type": "stream",
     "text": [
      " 55%|█████▍    | 690/1261 [01:57<01:48,  5.28it/s]"
     ]
    },
    {
     "name": "stdout",
     "output_type": "stream",
     "text": [
      "1089.88149821 m 935.109192003 m\n",
      "Ratio:  1.16551254927\n",
      "773.366417121 m 779.203743344 m\n",
      "Ratio:  0.992508600899\n"
     ]
    },
    {
     "name": "stderr",
     "output_type": "stream",
     "text": [
      " 55%|█████▍    | 692/1261 [01:57<01:46,  5.35it/s]"
     ]
    },
    {
     "name": "stdout",
     "output_type": "stream",
     "text": [
      "831.769873177 m 519.96916953 m\n",
      "Ratio:  1.59965229079\n",
      "686.487648655 m 432.042124438 m\n",
      "Ratio:  1.58893684163\n"
     ]
    },
    {
     "name": "stderr",
     "output_type": "stream",
     "text": [
      " 55%|█████▌    | 694/1261 [01:58<01:45,  5.38it/s]"
     ]
    },
    {
     "name": "stdout",
     "output_type": "stream",
     "text": [
      "635.28246034 m 395.091537585 m\n",
      "Ratio:  1.6079374016\n",
      "603.40957352 m 500.471055833 m\n",
      "Ratio:  1.20568325878\n"
     ]
    },
    {
     "name": "stderr",
     "output_type": "stream",
     "text": [
      "\r",
      " 55%|█████▌    | 695/1261 [01:58<01:46,  5.32it/s]"
     ]
    },
    {
     "name": "stdout",
     "output_type": "stream",
     "text": [
      "623.553480119 m 570.566967501 m\n",
      "Ratio:  1.09286642171\n"
     ]
    },
    {
     "name": "stderr",
     "output_type": "stream",
     "text": [
      " 55%|█████▌    | 697/1261 [01:58<01:47,  5.24it/s]"
     ]
    },
    {
     "name": "stdout",
     "output_type": "stream",
     "text": [
      "616.248397346 m 1394.08388909 m\n",
      "Ratio:  0.442045419339\n",
      "691.89154854 m 1684.20731652 m\n",
      "Ratio:  0.410811389877\n"
     ]
    },
    {
     "name": "stderr",
     "output_type": "stream",
     "text": [
      " 55%|█████▌    | 699/1261 [01:59<01:46,  5.29it/s]"
     ]
    },
    {
     "name": "stdout",
     "output_type": "stream",
     "text": [
      "630.551484808 m 1160.63588989 m\n",
      "Ratio:  0.543281049896\n",
      "646.743013036 m 923.870976766 m\n",
      "Ratio:  0.700036075708\n"
     ]
    },
    {
     "name": "stderr",
     "output_type": "stream",
     "text": [
      " 56%|█████▌    | 701/1261 [01:59<01:48,  5.15it/s]"
     ]
    },
    {
     "name": "stdout",
     "output_type": "stream",
     "text": [
      "538.123681283 m 760.739522473 m\n",
      "Ratio:  0.707369165642\n",
      "563.185509447 m 686.140179828 m\n",
      "Ratio:  0.820802404529\n"
     ]
    },
    {
     "name": "stderr",
     "output_type": "stream",
     "text": [
      " 56%|█████▌    | 703/1261 [01:59<01:43,  5.37it/s]"
     ]
    },
    {
     "name": "stdout",
     "output_type": "stream",
     "text": [
      "642.249004268 m 643.647055909 m\n",
      "Ratio:  0.997827921952\n",
      "696.768703444 m 486.873103718 m\n",
      "Ratio:  1.43110945773\n"
     ]
    },
    {
     "name": "stderr",
     "output_type": "stream",
     "text": [
      " 56%|█████▌    | 705/1261 [02:00<01:46,  5.23it/s]"
     ]
    },
    {
     "name": "stdout",
     "output_type": "stream",
     "text": [
      "664.533035441 m 342.36018455 m\n",
      "Ratio:  1.94103480904\n",
      "724.543739476 m 458.314901723 m\n",
      "Ratio:  1.58088627874\n"
     ]
    },
    {
     "name": "stderr",
     "output_type": "stream",
     "text": [
      " 56%|█████▌    | 707/1261 [02:00<01:44,  5.30it/s]"
     ]
    },
    {
     "name": "stdout",
     "output_type": "stream",
     "text": [
      "783.922746217 m 383.071385456 m\n",
      "Ratio:  2.0464142611\n",
      "862.128823057 m 476.831579512 m\n",
      "Ratio:  1.8080363384\n"
     ]
    },
    {
     "name": "stderr",
     "output_type": "stream",
     "text": [
      " 56%|█████▌    | 709/1261 [02:00<01:42,  5.39it/s]"
     ]
    },
    {
     "name": "stdout",
     "output_type": "stream",
     "text": [
      "1052.16453434 m 1031.34332724 m\n",
      "Ratio:  1.02018843439\n",
      "891.336142677 m 1043.67802809 m\n",
      "Ratio:  0.854033637469\n"
     ]
    },
    {
     "name": "stderr",
     "output_type": "stream",
     "text": [
      " 56%|█████▋    | 711/1261 [02:01<01:40,  5.46it/s]"
     ]
    },
    {
     "name": "stdout",
     "output_type": "stream",
     "text": [
      "787.95386449 m 929.281863516 m\n",
      "Ratio:  0.847916972692\n",
      "1046.4759814 m 762.387294528 m\n",
      "Ratio:  1.37263040571\n"
     ]
    },
    {
     "name": "stderr",
     "output_type": "stream",
     "text": [
      " 57%|█████▋    | 713/1261 [02:01<01:38,  5.57it/s]"
     ]
    },
    {
     "name": "stdout",
     "output_type": "stream",
     "text": [
      "962.163397485 m 694.505617851 m\n",
      "Ratio:  1.38539325349\n",
      "1053.92257865 m 704.697976944 m\n",
      "Ratio:  1.49556634634\n"
     ]
    },
    {
     "name": "stderr",
     "output_type": "stream",
     "text": [
      " 57%|█████▋    | 715/1261 [02:02<01:41,  5.40it/s]"
     ]
    },
    {
     "name": "stdout",
     "output_type": "stream",
     "text": [
      "871.706967291 m 580.656051469 m\n",
      "Ratio:  1.50124495402\n",
      "879.33188229 m 497.485307809 m\n",
      "Ratio:  1.7675534704\n"
     ]
    },
    {
     "name": "stderr",
     "output_type": "stream",
     "text": [
      " 57%|█████▋    | 717/1261 [02:02<01:45,  5.17it/s]"
     ]
    },
    {
     "name": "stdout",
     "output_type": "stream",
     "text": [
      "935.063704818 m 380.532649988 m\n",
      "Ratio:  2.45724960749\n",
      "1070.10126154 m 489.480808735 m\n",
      "Ratio:  2.18619656266\n"
     ]
    },
    {
     "name": "stderr",
     "output_type": "stream",
     "text": [
      " 57%|█████▋    | 719/1261 [02:02<01:42,  5.27it/s]"
     ]
    },
    {
     "name": "stdout",
     "output_type": "stream",
     "text": [
      "1085.54203208 m 514.247169317 m\n",
      "Ratio:  2.11093438496\n",
      "1170.47486922 m 469.124123241 m\n",
      "Ratio:  2.49502170371\n"
     ]
    },
    {
     "name": "stderr",
     "output_type": "stream",
     "text": [
      " 57%|█████▋    | 721/1261 [02:03<01:42,  5.28it/s]"
     ]
    },
    {
     "name": "stdout",
     "output_type": "stream",
     "text": [
      "1053.70720789 m 401.209723942 m\n",
      "Ratio:  2.62632519853\n",
      "998.330813272 m 342.582858159 m\n",
      "Ratio:  2.91412950034\n"
     ]
    },
    {
     "name": "stderr",
     "output_type": "stream",
     "text": [
      " 57%|█████▋    | 723/1261 [02:03<01:40,  5.33it/s]"
     ]
    },
    {
     "name": "stdout",
     "output_type": "stream",
     "text": [
      "935.199066556 m 1146.40059064 m\n",
      "Ratio:  0.815769875028\n",
      "1003.92720282 m 1292.6184903 m\n",
      "Ratio:  0.776661644832\n"
     ]
    },
    {
     "name": "stderr",
     "output_type": "stream",
     "text": [
      " 57%|█████▋    | 725/1261 [02:03<01:40,  5.33it/s]"
     ]
    },
    {
     "name": "stdout",
     "output_type": "stream",
     "text": [
      "963.842806707 m 1083.07748993 m\n",
      "Ratio:  0.889911216576\n",
      "803.15899941 m 1195.69966824 m\n",
      "Ratio:  0.671706299451\n"
     ]
    },
    {
     "name": "stderr",
     "output_type": "stream",
     "text": [
      " 58%|█████▊    | 727/1261 [02:04<01:37,  5.45it/s]"
     ]
    },
    {
     "name": "stdout",
     "output_type": "stream",
     "text": [
      "775.094817714 m 911.975500849 m\n",
      "Ratio:  0.8499074997\n",
      "1091.31663223 m 739.732812368 m\n",
      "Ratio:  1.47528487851\n"
     ]
    },
    {
     "name": "stderr",
     "output_type": "stream",
     "text": [
      " 58%|█████▊    | 729/1261 [02:04<01:35,  5.54it/s]"
     ]
    },
    {
     "name": "stdout",
     "output_type": "stream",
     "text": [
      "891.23892235 m 523.568959653 m\n",
      "Ratio:  1.70223789229\n",
      "755.670754979 m 435.640973014 m\n",
      "Ratio:  1.73461818743\n"
     ]
    },
    {
     "name": "stderr",
     "output_type": "stream",
     "text": [
      " 58%|█████▊    | 731/1261 [02:05<01:36,  5.52it/s]"
     ]
    },
    {
     "name": "stdout",
     "output_type": "stream",
     "text": [
      "795.567350068 m 559.330464602 m\n",
      "Ratio:  1.42235655023\n",
      "703.98706929 m 608.260751425 m\n",
      "Ratio:  1.15737710783\n"
     ]
    },
    {
     "name": "stderr",
     "output_type": "stream",
     "text": [
      " 58%|█████▊    | 733/1261 [02:05<01:37,  5.41it/s]"
     ]
    },
    {
     "name": "stdout",
     "output_type": "stream",
     "text": [
      "717.900355274 m 584.224035144 m\n",
      "Ratio:  1.22881003192\n",
      "661.198408608 m 455.474335824 m\n",
      "Ratio:  1.45166995504\n"
     ]
    },
    {
     "name": "stderr",
     "output_type": "stream",
     "text": [
      " 58%|█████▊    | 735/1261 [02:05<01:33,  5.61it/s]"
     ]
    },
    {
     "name": "stdout",
     "output_type": "stream",
     "text": [
      "628.611124172 m 914.362223951 m\n",
      "Ratio:  0.687485886562\n",
      "619.247890378 m 1009.26573184 m\n",
      "Ratio:  0.613562782173\n"
     ]
    },
    {
     "name": "stderr",
     "output_type": "stream",
     "text": [
      " 58%|█████▊    | 737/1261 [02:06<01:33,  5.59it/s]"
     ]
    },
    {
     "name": "stdout",
     "output_type": "stream",
     "text": [
      "536.02314283 m 825.678369355 m\n",
      "Ratio:  0.649191213824\n",
      "645.041387567 m 852.865981512 m\n",
      "Ratio:  0.756322096965\n"
     ]
    },
    {
     "name": "stderr",
     "output_type": "stream",
     "text": [
      " 59%|█████▊    | 739/1261 [02:06<01:28,  5.87it/s]"
     ]
    },
    {
     "name": "stdout",
     "output_type": "stream",
     "text": [
      "635.483015237 m 658.883927541 m\n",
      "Ratio:  0.964484014064\n",
      "715.545408839 m 648.010963715 m\n",
      "Ratio:  1.10421805942\n"
     ]
    },
    {
     "name": "stderr",
     "output_type": "stream",
     "text": [
      " 59%|█████▉    | 741/1261 [02:06<01:27,  5.95it/s]"
     ]
    },
    {
     "name": "stdout",
     "output_type": "stream",
     "text": [
      "709.435723936 m 439.444255132 m\n",
      "Ratio:  1.61439298762\n",
      "748.888805404 m 446.227726805 m\n",
      "Ratio:  1.67826596246\n"
     ]
    },
    {
     "name": "stderr",
     "output_type": "stream",
     "text": [
      " 59%|█████▉    | 743/1261 [02:07<01:25,  6.05it/s]"
     ]
    },
    {
     "name": "stdout",
     "output_type": "stream",
     "text": [
      "874.810107209 m 371.49982475 m\n",
      "Ratio:  2.35480624466\n",
      "823.162000959 m 517.958389614 m\n",
      "Ratio:  1.5892434942\n"
     ]
    },
    {
     "name": "stderr",
     "output_type": "stream",
     "text": [
      " 59%|█████▉    | 745/1261 [02:07<01:25,  6.03it/s]"
     ]
    },
    {
     "name": "stdout",
     "output_type": "stream",
     "text": [
      "955.5394616 m 821.380230061 m\n",
      "Ratio:  1.16333389413\n",
      "846.694029444 m 1018.44582754 m\n",
      "Ratio:  0.831358926067\n"
     ]
    },
    {
     "name": "stderr",
     "output_type": "stream",
     "text": [
      " 59%|█████▉    | 747/1261 [02:07<01:24,  6.11it/s]"
     ]
    },
    {
     "name": "stdout",
     "output_type": "stream",
     "text": [
      "808.494204385 m 834.091847883 m\n",
      "Ratio:  0.969310761683\n",
      "842.14453416 m 854.960259999 m\n",
      "Ratio:  0.985010150251\n"
     ]
    },
    {
     "name": "stderr",
     "output_type": "stream",
     "text": [
      " 59%|█████▉    | 749/1261 [02:08<01:22,  6.20it/s]"
     ]
    },
    {
     "name": "stdout",
     "output_type": "stream",
     "text": [
      "961.018688826 m 862.477376773 m\n",
      "Ratio:  1.11425379344\n",
      "917.820141291 m 974.198686905 m\n",
      "Ratio:  0.942128288231\n"
     ]
    },
    {
     "name": "stderr",
     "output_type": "stream",
     "text": [
      " 60%|█████▉    | 751/1261 [02:08<01:26,  5.88it/s]"
     ]
    },
    {
     "name": "stdout",
     "output_type": "stream",
     "text": [
      "809.391032971 m 964.075415495 m\n",
      "Ratio:  0.839551574454\n",
      "1072.43562266 m 857.36804509 m\n",
      "Ratio:  1.25084627168\n"
     ]
    },
    {
     "name": "stderr",
     "output_type": "stream",
     "text": [
      " 60%|█████▉    | 753/1261 [02:08<01:24,  6.00it/s]"
     ]
    },
    {
     "name": "stdout",
     "output_type": "stream",
     "text": [
      "942.65491335 m 1046.33320026 m\n",
      "Ratio:  0.900912742818\n",
      "917.522735396 m 783.33440989 m\n",
      "Ratio:  1.1713040099\n"
     ]
    },
    {
     "name": "stderr",
     "output_type": "stream",
     "text": [
      " 60%|█████▉    | 755/1261 [02:09<01:21,  6.22it/s]"
     ]
    },
    {
     "name": "stdout",
     "output_type": "stream",
     "text": [
      "1153.79076846 m 738.809169407 m\n",
      "Ratio:  1.5616898331\n",
      "885.17917167 m 614.251510772 m\n",
      "Ratio:  1.44106958818\n"
     ]
    },
    {
     "name": "stderr",
     "output_type": "stream",
     "text": [
      " 60%|██████    | 757/1261 [02:09<01:26,  5.84it/s]"
     ]
    },
    {
     "name": "stdout",
     "output_type": "stream",
     "text": [
      "887.479221998 m 1089.34292636 m\n",
      "Ratio:  0.814692233752\n",
      "961.314627584 m 1080.40095561 m\n",
      "Ratio:  0.889775802766\n"
     ]
    },
    {
     "name": "stderr",
     "output_type": "stream",
     "text": [
      " 60%|██████    | 759/1261 [02:09<01:26,  5.78it/s]"
     ]
    },
    {
     "name": "stdout",
     "output_type": "stream",
     "text": [
      "940.685740115 m 978.632275027 m\n",
      "Ratio:  0.961224930058\n",
      "1024.03401731 m 1128.00220375 m\n",
      "Ratio:  0.907829802029\n"
     ]
    },
    {
     "name": "stderr",
     "output_type": "stream",
     "text": [
      "\r",
      " 60%|██████    | 760/1261 [02:09<01:26,  5.80it/s]"
     ]
    },
    {
     "name": "stdout",
     "output_type": "stream",
     "text": [
      "974.390037545 m 4342.31306453 m\n",
      "Ratio:  0.224394239444\n"
     ]
    },
    {
     "name": "stderr",
     "output_type": "stream",
     "text": [
      " 60%|██████    | 762/1261 [02:10<01:28,  5.64it/s]"
     ]
    },
    {
     "name": "stdout",
     "output_type": "stream",
     "text": [
      "843.118922674 m 2267.87646028 m\n",
      "Ratio:  0.371765807106\n",
      "763.427405013 m 3226.7348421 m\n",
      "Ratio:  0.236594403436\n"
     ]
    },
    {
     "name": "stderr",
     "output_type": "stream",
     "text": [
      " 61%|██████    | 764/1261 [02:10<01:26,  5.78it/s]"
     ]
    },
    {
     "name": "stdout",
     "output_type": "stream",
     "text": [
      "746.887107948 m 3297.75423457 m\n",
      "Ratio:  0.226483556633\n",
      "655.836721024 m 6336.14291305 m\n",
      "Ratio:  0.103507248814\n"
     ]
    },
    {
     "name": "stderr",
     "output_type": "stream",
     "text": [
      " 61%|██████    | 766/1261 [02:11<01:21,  6.04it/s]"
     ]
    },
    {
     "name": "stdout",
     "output_type": "stream",
     "text": [
      "707.809721113 m 27201.0346235 m\n",
      "Ratio:  0.026021426424\n",
      "773.585414751 m 1270.15050235 m\n",
      "Ratio:  0.609050197845\n"
     ]
    },
    {
     "name": "stderr",
     "output_type": "stream",
     "text": [
      " 61%|██████    | 768/1261 [02:11<01:23,  5.91it/s]"
     ]
    },
    {
     "name": "stdout",
     "output_type": "stream",
     "text": [
      "658.969428311 m 1126.39602021 m\n",
      "Ratio:  0.585024641855\n",
      "625.409936125 m 828.91259423 m\n",
      "Ratio:  0.754494430991\n"
     ]
    },
    {
     "name": "stderr",
     "output_type": "stream",
     "text": [
      " 61%|██████    | 770/1261 [02:11<01:22,  5.93it/s]"
     ]
    },
    {
     "name": "stdout",
     "output_type": "stream",
     "text": [
      "615.801436539 m 5629.09994226 m\n",
      "Ratio:  0.10939607448\n",
      "581.78194885 m 5369.21301608 m\n",
      "Ratio:  0.108355162499\n"
     ]
    },
    {
     "name": "stderr",
     "output_type": "stream",
     "text": [
      " 61%|██████    | 772/1261 [02:12<01:20,  6.08it/s]"
     ]
    },
    {
     "name": "stdout",
     "output_type": "stream",
     "text": [
      "585.704762611 m 6068.36187984 m\n",
      "Ratio:  0.0965177710573\n",
      "638.642800711 m 5454.4869287 m\n",
      "Ratio:  0.117085769763\n"
     ]
    },
    {
     "name": "stderr",
     "output_type": "stream",
     "text": [
      " 61%|██████▏   | 774/1261 [02:12<01:20,  6.08it/s]"
     ]
    },
    {
     "name": "stdout",
     "output_type": "stream",
     "text": [
      "663.843632062 m 4133.40544518 m\n",
      "Ratio:  0.160604528365\n",
      "646.231349551 m 3365.35530503 m\n",
      "Ratio:  0.192024701994\n"
     ]
    },
    {
     "name": "stderr",
     "output_type": "stream",
     "text": [
      " 62%|██████▏   | 776/1261 [02:12<01:18,  6.17it/s]"
     ]
    },
    {
     "name": "stdout",
     "output_type": "stream",
     "text": [
      "764.231001846 m 2158.01375959 m\n",
      "Ratio:  0.35413629707\n",
      "742.5490284 m 1884.14417961 m\n",
      "Ratio:  0.394104143641\n"
     ]
    },
    {
     "name": "stderr",
     "output_type": "stream",
     "text": [
      " 62%|██████▏   | 778/1261 [02:12<01:16,  6.31it/s]"
     ]
    },
    {
     "name": "stdout",
     "output_type": "stream",
     "text": [
      "687.813813945 m 1055.04410526 m\n",
      "Ratio:  0.651928967252\n",
      "712.063849452 m 819.848379053 m\n",
      "Ratio:  0.868531142642\n"
     ]
    },
    {
     "name": "stderr",
     "output_type": "stream",
     "text": [
      " 62%|██████▏   | 780/1261 [02:13<01:18,  6.15it/s]"
     ]
    },
    {
     "name": "stdout",
     "output_type": "stream",
     "text": [
      "724.192842795 m 487.845500053 m\n",
      "Ratio:  1.48447170819\n",
      "833.897339186 m 375.672083584 m\n",
      "Ratio:  2.21974795473\n"
     ]
    },
    {
     "name": "stderr",
     "output_type": "stream",
     "text": [
      " 62%|██████▏   | 782/1261 [02:13<01:17,  6.16it/s]"
     ]
    },
    {
     "name": "stdout",
     "output_type": "stream",
     "text": [
      "1055.82938386 m 3118.96096478 m\n",
      "Ratio:  0.338519588986\n",
      "1092.87996825 m 5760.59116691 m\n",
      "Ratio:  0.189716634384\n"
     ]
    },
    {
     "name": "stderr",
     "output_type": "stream",
     "text": [
      " 62%|██████▏   | 784/1261 [02:13<01:17,  6.15it/s]"
     ]
    },
    {
     "name": "stdout",
     "output_type": "stream",
     "text": [
      "1019.82460716 m 2001.31459864 m\n",
      "Ratio:  0.50957735873\n",
      "1017.03625561 m 1579.41630994 m\n",
      "Ratio:  0.643931716549\n"
     ]
    },
    {
     "name": "stderr",
     "output_type": "stream",
     "text": [
      " 62%|██████▏   | 786/1261 [02:14<01:21,  5.81it/s]"
     ]
    },
    {
     "name": "stdout",
     "output_type": "stream",
     "text": [
      "1039.77075962 m 1480.13024427 m\n",
      "Ratio:  0.702485989759\n",
      "881.561048611 m 1149.02541452 m\n",
      "Ratio:  0.76722502172\n"
     ]
    },
    {
     "name": "stderr",
     "output_type": "stream",
     "text": [
      " 62%|██████▏   | 788/1261 [02:14<01:17,  6.10it/s]"
     ]
    },
    {
     "name": "stdout",
     "output_type": "stream",
     "text": [
      "846.720320816 m 926.817565867 m\n",
      "Ratio:  0.913578197047\n",
      "875.478783208 m 628.038265424 m\n",
      "Ratio:  1.3939895567\n"
     ]
    },
    {
     "name": "stderr",
     "output_type": "stream",
     "text": [
      " 63%|██████▎   | 790/1261 [02:14<01:16,  6.13it/s]"
     ]
    },
    {
     "name": "stdout",
     "output_type": "stream",
     "text": [
      "866.078303553 m 479.144839222 m\n",
      "Ratio:  1.80755010314\n",
      "1219.51106748 m 452.799271312 m\n",
      "Ratio:  2.69327082605\n"
     ]
    },
    {
     "name": "stderr",
     "output_type": "stream",
     "text": [
      " 63%|██████▎   | 792/1261 [02:15<01:16,  6.15it/s]"
     ]
    },
    {
     "name": "stdout",
     "output_type": "stream",
     "text": [
      "1268.80217504 m 724.801158376 m\n",
      "Ratio:  1.75055207953\n",
      "1069.94220582 m 411.972656056 m\n",
      "Ratio:  2.5971194692\n"
     ]
    },
    {
     "name": "stderr",
     "output_type": "stream",
     "text": [
      " 63%|██████▎   | 794/1261 [02:15<01:14,  6.23it/s]"
     ]
    },
    {
     "name": "stdout",
     "output_type": "stream",
     "text": [
      "1407.90658877 m 2589.1941896 m\n",
      "Ratio:  0.543762454909\n",
      "1479.75020354 m 2811.57928652 m\n",
      "Ratio:  0.526305699661\n"
     ]
    },
    {
     "name": "stderr",
     "output_type": "stream",
     "text": [
      " 63%|██████▎   | 796/1261 [02:15<01:13,  6.34it/s]"
     ]
    },
    {
     "name": "stdout",
     "output_type": "stream",
     "text": [
      "1293.80268214 m 1310.99131719 m\n",
      "Ratio:  0.98688882617\n",
      "1199.31398633 m 971.156006318 m\n",
      "Ratio:  1.23493442714\n"
     ]
    },
    {
     "name": "stderr",
     "output_type": "stream",
     "text": [
      " 63%|██████▎   | 798/1261 [02:16<01:17,  6.00it/s]"
     ]
    },
    {
     "name": "stdout",
     "output_type": "stream",
     "text": [
      "2200.31708443 m 959.007849289 m\n",
      "Ratio:  2.29436817025\n",
      "1330.12194174 m 838.352097242 m\n",
      "Ratio:  1.58659105895\n"
     ]
    },
    {
     "name": "stderr",
     "output_type": "stream",
     "text": [
      " 63%|██████▎   | 800/1261 [02:16<01:13,  6.27it/s]"
     ]
    },
    {
     "name": "stdout",
     "output_type": "stream",
     "text": [
      "1513.01446799 m 707.870901543 m\n",
      "Ratio:  2.13741582638\n",
      "2147.79872204 m 819.04140693 m\n",
      "Ratio:  2.62233228242\n"
     ]
    },
    {
     "name": "stderr",
     "output_type": "stream",
     "text": [
      " 64%|██████▎   | 802/1261 [02:16<01:12,  6.36it/s]"
     ]
    },
    {
     "name": "stdout",
     "output_type": "stream",
     "text": [
      "1810.10704536 m 682.063787765 m\n",
      "Ratio:  2.65386768485\n",
      "1945.23334005 m 716.641204538 m\n",
      "Ratio:  2.71437551698\n"
     ]
    },
    {
     "name": "stderr",
     "output_type": "stream",
     "text": [
      " 64%|██████▍   | 804/1261 [02:17<01:18,  5.81it/s]"
     ]
    },
    {
     "name": "stdout",
     "output_type": "stream",
     "text": [
      "2135.7330198 m 729.929769122 m\n",
      "Ratio:  2.92594316625\n",
      "1779.60781079 m 2351.44915607 m\n",
      "Ratio:  0.756813221413\n"
     ]
    },
    {
     "name": "stderr",
     "output_type": "stream",
     "text": [
      " 64%|██████▍   | 806/1261 [02:17<01:16,  5.98it/s]"
     ]
    },
    {
     "name": "stdout",
     "output_type": "stream",
     "text": [
      "1085.88823394 m 2316.75540991 m\n",
      "Ratio:  0.468710779438\n",
      "1018.6763249 m 15783.5882039 m\n",
      "Ratio:  0.0645402244243\n"
     ]
    },
    {
     "name": "stderr",
     "output_type": "stream",
     "text": [
      " 64%|██████▍   | 808/1261 [02:17<01:14,  6.10it/s]"
     ]
    },
    {
     "name": "stdout",
     "output_type": "stream",
     "text": [
      "1233.32436265 m 3559.060935 m\n",
      "Ratio:  0.346530836413\n",
      "995.092191129 m 1775.07546727 m\n",
      "Ratio:  0.560591484406\n"
     ]
    },
    {
     "name": "stderr",
     "output_type": "stream",
     "text": [
      " 64%|██████▍   | 810/1261 [02:18<01:17,  5.80it/s]"
     ]
    },
    {
     "name": "stdout",
     "output_type": "stream",
     "text": [
      "900.988644484 m 1521.70947997 m\n",
      "Ratio:  0.592089788717\n",
      "776.358205016 m 1315.85949487 m\n",
      "Ratio:  0.590000838266\n"
     ]
    },
    {
     "name": "stderr",
     "output_type": "stream",
     "text": [
      " 64%|██████▍   | 812/1261 [02:18<01:15,  5.95it/s]"
     ]
    },
    {
     "name": "stdout",
     "output_type": "stream",
     "text": [
      "743.38176994 m 725.20346408 m\n",
      "Ratio:  1.02506649066\n",
      "817.335085566 m 525.465474034 m\n",
      "Ratio:  1.55544964599\n"
     ]
    },
    {
     "name": "stderr",
     "output_type": "stream",
     "text": [
      " 65%|██████▍   | 814/1261 [02:18<01:14,  6.03it/s]"
     ]
    },
    {
     "name": "stdout",
     "output_type": "stream",
     "text": [
      "744.271265959 m 512.659517113 m\n",
      "Ratio:  1.45178474429\n",
      "725.856946488 m 622.143248442 m\n",
      "Ratio:  1.16670388742\n"
     ]
    },
    {
     "name": "stderr",
     "output_type": "stream",
     "text": [
      " 65%|██████▍   | 816/1261 [02:19<01:15,  5.92it/s]"
     ]
    },
    {
     "name": "stdout",
     "output_type": "stream",
     "text": [
      "777.123002737 m 882.85589347 m\n",
      "Ratio:  0.880237656546\n",
      "687.063812276 m 516.680115349 m\n",
      "Ratio:  1.32976631356\n"
     ]
    },
    {
     "name": "stderr",
     "output_type": "stream",
     "text": [
      " 65%|██████▍   | 818/1261 [02:19<01:13,  6.03it/s]"
     ]
    },
    {
     "name": "stdout",
     "output_type": "stream",
     "text": [
      "788.028629203 m 687.809239033 m\n",
      "Ratio:  1.14570811859\n",
      "771.322851614 m 709.789812461 m\n",
      "Ratio:  1.0866919165\n"
     ]
    },
    {
     "name": "stderr",
     "output_type": "stream",
     "text": [
      " 65%|██████▌   | 820/1261 [02:19<01:13,  6.03it/s]"
     ]
    },
    {
     "name": "stdout",
     "output_type": "stream",
     "text": [
      "922.690685773 m 782.588670609 m\n",
      "Ratio:  1.17902382238\n",
      "740.55225621 m 715.826690597 m\n",
      "Ratio:  1.03454127366\n"
     ]
    },
    {
     "name": "stderr",
     "output_type": "stream",
     "text": [
      "\r",
      " 65%|██████▌   | 821/1261 [02:20<01:12,  6.10it/s]"
     ]
    },
    {
     "name": "stdout",
     "output_type": "stream",
     "text": [
      "870.277024989 m 693.732353242 m\n",
      "Ratio:  1.2544852794\n"
     ]
    },
    {
     "name": "stderr",
     "output_type": "stream",
     "text": [
      " 65%|██████▌   | 823/1261 [02:20<01:18,  5.61it/s]"
     ]
    },
    {
     "name": "stdout",
     "output_type": "stream",
     "text": [
      "874.524047561 m 662.226642422 m\n",
      "Ratio:  1.32058119009\n",
      "1130.26588775 m 577.366492584 m\n",
      "Ratio:  1.95762293494\n"
     ]
    },
    {
     "name": "stderr",
     "output_type": "stream",
     "text": [
      " 65%|██████▌   | 825/1261 [02:20<01:15,  5.76it/s]"
     ]
    },
    {
     "name": "stdout",
     "output_type": "stream",
     "text": [
      "1133.13239719 m 579.404009392 m\n",
      "Ratio:  1.95568615132\n",
      "1375.33982931 m 545.732705482 m\n",
      "Ratio:  2.52017116711\n"
     ]
    },
    {
     "name": "stderr",
     "output_type": "stream",
     "text": [
      " 66%|██████▌   | 827/1261 [02:21<01:14,  5.82it/s]"
     ]
    },
    {
     "name": "stdout",
     "output_type": "stream",
     "text": [
      "1313.71804049 m 458.258443058 m\n",
      "Ratio:  2.86676232678\n",
      "1209.15856495 m 515.975869956 m\n",
      "Ratio:  2.34344014004\n"
     ]
    },
    {
     "name": "stderr",
     "output_type": "stream",
     "text": [
      " 66%|██████▌   | 829/1261 [02:21<01:13,  5.87it/s]"
     ]
    },
    {
     "name": "stdout",
     "output_type": "stream",
     "text": [
      "1130.52152832 m 468.511993897 m\n",
      "Ratio:  2.41300445463\n",
      "1110.21724765 m 1145.52018372 m\n",
      "Ratio:  0.969181742435\n"
     ]
    },
    {
     "name": "stderr",
     "output_type": "stream",
     "text": [
      " 66%|██████▌   | 831/1261 [02:21<01:14,  5.76it/s]"
     ]
    },
    {
     "name": "stdout",
     "output_type": "stream",
     "text": [
      "1152.46181927 m 954.61499329 m\n",
      "Ratio:  1.20725300501\n",
      "910.565834809 m 820.126468006 m\n",
      "Ratio:  1.11027490312\n"
     ]
    },
    {
     "name": "stderr",
     "output_type": "stream",
     "text": [
      "\r",
      " 66%|██████▌   | 832/1261 [02:22<01:15,  5.71it/s]"
     ]
    },
    {
     "name": "stdout",
     "output_type": "stream",
     "text": [
      "1055.13048077 m 718.713005651 m\n",
      "Ratio:  1.46808318824\n",
      "863.297605661 m 637.887747717 m\n",
      "Ratio:  1.35336916056\n"
     ]
    },
    {
     "name": "stderr",
     "output_type": "stream",
     "text": [
      " 66%|██████▌   | 835/1261 [02:22<01:15,  5.65it/s]"
     ]
    },
    {
     "name": "stdout",
     "output_type": "stream",
     "text": [
      "873.603528467 m 723.603560305 m\n",
      "Ratio:  1.20729578514\n",
      "767.657904875 m 811.81929017 m\n",
      "Ratio:  0.945601951284\n"
     ]
    },
    {
     "name": "stderr",
     "output_type": "stream",
     "text": [
      " 66%|██████▋   | 837/1261 [02:22<01:14,  5.72it/s]"
     ]
    },
    {
     "name": "stdout",
     "output_type": "stream",
     "text": [
      "788.476102561 m 825.066307269 m\n",
      "Ratio:  0.95565180109\n",
      "795.664802176 m 859.444722852 m\n",
      "Ratio:  0.92578938589\n"
     ]
    },
    {
     "name": "stderr",
     "output_type": "stream",
     "text": [
      " 67%|██████▋   | 839/1261 [02:23<01:14,  5.66it/s]"
     ]
    },
    {
     "name": "stdout",
     "output_type": "stream",
     "text": [
      "738.216672039 m 700.48696983 m\n",
      "Ratio:  1.05386210427\n",
      "768.294700582 m 612.614931096 m\n",
      "Ratio:  1.25412336785\n"
     ]
    },
    {
     "name": "stderr",
     "output_type": "stream",
     "text": [
      " 67%|██████▋   | 841/1261 [02:23<01:12,  5.80it/s]"
     ]
    },
    {
     "name": "stdout",
     "output_type": "stream",
     "text": [
      "794.306704616 m 697.991501688 m\n",
      "Ratio:  1.13798907679\n",
      "736.894460109 m 588.665153868 m\n",
      "Ratio:  1.2518058106\n"
     ]
    },
    {
     "name": "stderr",
     "output_type": "stream",
     "text": [
      " 67%|██████▋   | 843/1261 [02:23<01:12,  5.80it/s]"
     ]
    },
    {
     "name": "stdout",
     "output_type": "stream",
     "text": [
      "716.919534616 m 672.389234433 m\n",
      "Ratio:  1.06622696781\n",
      "726.931663303 m 588.086084861 m\n",
      "Ratio:  1.2360973708\n"
     ]
    },
    {
     "name": "stderr",
     "output_type": "stream",
     "text": [
      "\r",
      " 67%|██████▋   | 844/1261 [02:24<01:11,  5.85it/s]"
     ]
    },
    {
     "name": "stdout",
     "output_type": "stream",
     "text": [
      "716.081205194 m 665.595836737 m\n",
      "Ratio:  1.07584988618\n"
     ]
    },
    {
     "name": "stderr",
     "output_type": "stream",
     "text": [
      "\r",
      " 67%|██████▋   | 845/1261 [02:24<01:15,  5.49it/s]"
     ]
    },
    {
     "name": "stdout",
     "output_type": "stream",
     "text": [
      "665.836067446 m 810.422093133 m\n",
      "Ratio:  0.821591702754\n",
      "684.03391285 m 891.359270387 m\n",
      "Ratio:  0.767405394856\n"
     ]
    },
    {
     "name": "stderr",
     "output_type": "stream",
     "text": [
      " 67%|██████▋   | 848/1261 [02:24<01:15,  5.45it/s]"
     ]
    },
    {
     "name": "stdout",
     "output_type": "stream",
     "text": [
      "718.614346825 m 1218.90084376 m\n",
      "Ratio:  0.589559315269\n",
      "710.842504178 m 995.140152299 m\n",
      "Ratio:  0.71431396124\n"
     ]
    },
    {
     "name": "stderr",
     "output_type": "stream",
     "text": [
      "\r",
      " 67%|██████▋   | 849/1261 [02:25<01:16,  5.38it/s]"
     ]
    },
    {
     "name": "stdout",
     "output_type": "stream",
     "text": [
      "796.594417779 m 996.517561844 m\n",
      "Ratio:  0.799378202934\n"
     ]
    },
    {
     "name": "stderr",
     "output_type": "stream",
     "text": [
      " 67%|██████▋   | 851/1261 [02:25<01:18,  5.25it/s]"
     ]
    },
    {
     "name": "stdout",
     "output_type": "stream",
     "text": [
      "737.088502083 m 1086.75098932 m\n",
      "Ratio:  0.67824967203\n",
      "897.815526319 m 718.865305874 m\n",
      "Ratio:  1.24893428433\n"
     ]
    },
    {
     "name": "stderr",
     "output_type": "stream",
     "text": [
      " 68%|██████▊   | 853/1261 [02:25<01:13,  5.52it/s]"
     ]
    },
    {
     "name": "stdout",
     "output_type": "stream",
     "text": [
      "1009.64771787 m 893.806415826 m\n",
      "Ratio:  1.12960446467\n",
      "1053.89654719 m 968.869362388 m\n",
      "Ratio:  1.08775918416\n"
     ]
    },
    {
     "name": "stderr",
     "output_type": "stream",
     "text": [
      "\r",
      " 68%|██████▊   | 854/1261 [02:25<01:14,  5.49it/s]"
     ]
    },
    {
     "name": "stdout",
     "output_type": "stream",
     "text": [
      "1345.42787353 m 1221.8221402 m\n",
      "Ratio:  1.101165079\n"
     ]
    },
    {
     "name": "stderr",
     "output_type": "stream",
     "text": [
      "\r",
      " 68%|██████▊   | 855/1261 [02:26<01:20,  5.06it/s]"
     ]
    },
    {
     "name": "stdout",
     "output_type": "stream",
     "text": [
      "1652.12271549 m 1366.83328469 m\n",
      "Ratio:  1.20872291741\n",
      "1682.86921594 m 1240.37372726 m\n",
      "Ratio:  1.35674368051\n"
     ]
    },
    {
     "name": "stderr",
     "output_type": "stream",
     "text": [
      " 68%|██████▊   | 858/1261 [02:26<01:19,  5.07it/s]"
     ]
    },
    {
     "name": "stdout",
     "output_type": "stream",
     "text": [
      "1703.27290035 m 1240.43818913 m\n",
      "Ratio:  1.37312194616\n",
      "1288.28544101 m 1312.19921038 m\n",
      "Ratio:  0.981775808753\n"
     ]
    },
    {
     "name": "stderr",
     "output_type": "stream",
     "text": [
      " 68%|██████▊   | 860/1261 [02:27<01:17,  5.17it/s]"
     ]
    },
    {
     "name": "stdout",
     "output_type": "stream",
     "text": [
      "1523.38619589 m 961.173819956 m\n",
      "Ratio:  1.58492268959\n",
      "1171.57257411 m 633.092776566 m\n",
      "Ratio:  1.85055432233\n"
     ]
    },
    {
     "name": "stderr",
     "output_type": "stream",
     "text": [
      "\r",
      " 68%|██████▊   | 861/1261 [02:27<01:18,  5.11it/s]"
     ]
    },
    {
     "name": "stdout",
     "output_type": "stream",
     "text": [
      "1328.50018313 m 627.763950717 m\n",
      "Ratio:  2.11624159305\n",
      "1175.43772882 m 613.199896298 m\n",
      "Ratio:  1.91689159754\n"
     ]
    },
    {
     "name": "stderr",
     "output_type": "stream",
     "text": [
      " 69%|██████▊   | 864/1261 [02:28<01:19,  4.98it/s]"
     ]
    },
    {
     "name": "stdout",
     "output_type": "stream",
     "text": [
      "1307.94165771 m 512.270207547 m\n",
      "Ratio:  2.55322608741\n",
      "1255.26538027 m 493.187909072 m\n",
      "Ratio:  2.54520712528\n"
     ]
    },
    {
     "name": "stderr",
     "output_type": "stream",
     "text": [
      " 69%|██████▊   | 866/1261 [02:28<01:18,  5.01it/s]"
     ]
    },
    {
     "name": "stdout",
     "output_type": "stream",
     "text": [
      "1438.54811247 m 515.972614011 m\n",
      "Ratio:  2.78803190985\n",
      "1457.41750635 m 661.379227142 m\n",
      "Ratio:  2.20360338901\n"
     ]
    },
    {
     "name": "stderr",
     "output_type": "stream",
     "text": [
      "\r",
      " 69%|██████▉   | 867/1261 [02:28<01:20,  4.91it/s]"
     ]
    },
    {
     "name": "stdout",
     "output_type": "stream",
     "text": [
      "1512.68618095 m 666.37903639 m\n",
      "Ratio:  2.27000865625\n"
     ]
    },
    {
     "name": "stderr",
     "output_type": "stream",
     "text": [
      "\r",
      " 69%|██████▉   | 868/1261 [02:28<01:20,  4.90it/s]"
     ]
    },
    {
     "name": "stdout",
     "output_type": "stream",
     "text": [
      "1259.41934789 m 626.267747582 m\n",
      "Ratio:  2.01099186849\n"
     ]
    },
    {
     "name": "stderr",
     "output_type": "stream",
     "text": [
      "\r",
      " 69%|██████▉   | 869/1261 [02:29<01:21,  4.84it/s]"
     ]
    },
    {
     "name": "stdout",
     "output_type": "stream",
     "text": [
      "1098.56603611 m 821.035526688 m\n",
      "Ratio:  1.33802497017\n"
     ]
    },
    {
     "name": "stderr",
     "output_type": "stream",
     "text": [
      "\r",
      " 69%|██████▉   | 870/1261 [02:29<01:23,  4.70it/s]"
     ]
    },
    {
     "name": "stdout",
     "output_type": "stream",
     "text": [
      "1781.46311943 m 2489.71787787 m\n",
      "Ratio:  0.715528106726\n"
     ]
    },
    {
     "name": "stderr",
     "output_type": "stream",
     "text": [
      "\r",
      " 69%|██████▉   | 871/1261 [02:29<01:22,  4.74it/s]"
     ]
    },
    {
     "name": "stdout",
     "output_type": "stream",
     "text": [
      "1497.46233241 m 1948.68149308 m\n",
      "Ratio:  0.768448993704\n",
      "1515.18779646 m 1796.94481303 m\n",
      "Ratio:  0.843202187106\n"
     ]
    },
    {
     "name": "stderr",
     "output_type": "stream",
     "text": [
      " 69%|██████▉   | 873/1261 [02:29<01:19,  4.86it/s]"
     ]
    },
    {
     "name": "stdout",
     "output_type": "stream",
     "text": [
      "1266.60470518 m 1411.38506541 m\n",
      "Ratio:  0.897419659755\n"
     ]
    },
    {
     "name": "stderr",
     "output_type": "stream",
     "text": [
      "\r",
      " 69%|██████▉   | 874/1261 [02:30<01:19,  4.88it/s]"
     ]
    },
    {
     "name": "stdout",
     "output_type": "stream",
     "text": [
      "1240.09142216 m 1187.27735035 m\n",
      "Ratio:  1.04448334822\n"
     ]
    },
    {
     "name": "stderr",
     "output_type": "stream",
     "text": [
      "\r",
      " 69%|██████▉   | 875/1261 [02:30<01:21,  4.75it/s]"
     ]
    },
    {
     "name": "stdout",
     "output_type": "stream",
     "text": [
      "1128.03090686 m 832.153161085 m\n",
      "Ratio:  1.3555568369\n"
     ]
    },
    {
     "name": "stderr",
     "output_type": "stream",
     "text": [
      "\r",
      " 69%|██████▉   | 876/1261 [02:30<01:21,  4.73it/s]"
     ]
    },
    {
     "name": "stdout",
     "output_type": "stream",
     "text": [
      "1075.71254096 m 824.583736339 m\n",
      "Ratio:  1.30455221653\n",
      "1010.32748672 m 1514.95521954 m\n",
      "Ratio:  0.666902541861\n"
     ]
    },
    {
     "name": "stderr",
     "output_type": "stream",
     "text": [
      " 70%|██████▉   | 878/1261 [02:30<01:17,  4.93it/s]"
     ]
    },
    {
     "name": "stdout",
     "output_type": "stream",
     "text": [
      "966.557447898 m 955.024356337 m\n",
      "Ratio:  1.01207622767\n",
      "854.421980672 m 798.365786055 m\n",
      "Ratio:  1.07021367348\n"
     ]
    },
    {
     "name": "stderr",
     "output_type": "stream",
     "text": [
      " 70%|██████▉   | 880/1261 [02:31<01:18,  4.87it/s]"
     ]
    },
    {
     "name": "stdout",
     "output_type": "stream",
     "text": [
      "800.279888601 m 623.320603075 m\n",
      "Ratio:  1.28389769992\n",
      "946.071933438 m 1402.87600213 m\n",
      "Ratio:  0.674380295907\n"
     ]
    },
    {
     "name": "stderr",
     "output_type": "stream",
     "text": [
      " 70%|███████   | 883/1261 [02:31<01:15,  5.00it/s]"
     ]
    },
    {
     "name": "stdout",
     "output_type": "stream",
     "text": [
      "1031.45284419 m 3436.12019824 m\n",
      "Ratio:  0.300179500333\n",
      "843.284063911 m 5374.17619744 m\n",
      "Ratio:  0.156914107936\n"
     ]
    },
    {
     "name": "stderr",
     "output_type": "stream",
     "text": [
      "\r",
      " 70%|███████   | 884/1261 [02:32<01:13,  5.12it/s]"
     ]
    },
    {
     "name": "stdout",
     "output_type": "stream",
     "text": [
      "1032.89385492 m 1401.66918834 m\n",
      "Ratio:  0.736902732477\n"
     ]
    },
    {
     "name": "stderr",
     "output_type": "stream",
     "text": [
      " 70%|███████   | 886/1261 [02:32<01:15,  4.95it/s]"
     ]
    },
    {
     "name": "stdout",
     "output_type": "stream",
     "text": [
      "1184.37544896 m 990.544679726 m\n",
      "Ratio:  1.19568099572\n",
      "1261.50672351 m 1743.89890558 m\n",
      "Ratio:  0.723382943515\n"
     ]
    },
    {
     "name": "stderr",
     "output_type": "stream",
     "text": [
      " 70%|███████   | 888/1261 [02:32<01:11,  5.18it/s]"
     ]
    },
    {
     "name": "stdout",
     "output_type": "stream",
     "text": [
      "1361.43826013 m 1659.3813225 m\n",
      "Ratio:  0.820449309436\n",
      "1262.51856713 m 847.122169945 m\n",
      "Ratio:  1.49036185325\n"
     ]
    },
    {
     "name": "stderr",
     "output_type": "stream",
     "text": [
      " 71%|███████   | 890/1261 [02:33<01:12,  5.12it/s]"
     ]
    },
    {
     "name": "stdout",
     "output_type": "stream",
     "text": [
      "1759.25942839 m 698.849938115 m\n",
      "Ratio:  2.51736364625\n",
      "2504.16297915 m 634.703719075 m\n",
      "Ratio:  3.94540460988\n"
     ]
    },
    {
     "name": "stderr",
     "output_type": "stream",
     "text": [
      " 71%|███████   | 892/1261 [02:33<01:07,  5.44it/s]"
     ]
    },
    {
     "name": "stdout",
     "output_type": "stream",
     "text": [
      "4665.06811506 m 719.291124981 m\n",
      "Ratio:  6.48564670555\n",
      "4173.7122804 m 1453.84065054 m\n",
      "Ratio:  2.87081825566\n"
     ]
    },
    {
     "name": "stderr",
     "output_type": "stream",
     "text": [
      " 71%|███████   | 894/1261 [02:34<01:06,  5.53it/s]"
     ]
    },
    {
     "name": "stdout",
     "output_type": "stream",
     "text": [
      "14435.4042169 m 1891.09382416 m\n",
      "Ratio:  7.63336225444\n",
      "3911.84626992 m 1484.30850985 m\n",
      "Ratio:  2.63546711749\n"
     ]
    },
    {
     "name": "stderr",
     "output_type": "stream",
     "text": [
      " 71%|███████   | 896/1261 [02:34<01:06,  5.51it/s]"
     ]
    },
    {
     "name": "stdout",
     "output_type": "stream",
     "text": [
      "4455.70690096 m 1966.28929898 m\n",
      "Ratio:  2.26604849209\n",
      "2560.47332857 m 737.541958294 m\n",
      "Ratio:  3.47163073203\n"
     ]
    },
    {
     "name": "stderr",
     "output_type": "stream",
     "text": [
      " 71%|███████   | 898/1261 [02:34<01:04,  5.63it/s]"
     ]
    },
    {
     "name": "stdout",
     "output_type": "stream",
     "text": [
      "5011.09301323 m 979.846079485 m\n",
      "Ratio:  5.11416345704\n",
      "1862.44370553 m 1245.33848951 m\n",
      "Ratio:  1.49553211534\n"
     ]
    },
    {
     "name": "stderr",
     "output_type": "stream",
     "text": [
      " 71%|███████▏  | 900/1261 [02:35<01:05,  5.55it/s]"
     ]
    },
    {
     "name": "stdout",
     "output_type": "stream",
     "text": [
      "2108.2549823 m 1103.15921202 m\n",
      "Ratio:  1.91110671907\n",
      "1231.90107835 m 884.555613795 m\n",
      "Ratio:  1.39267792678\n"
     ]
    },
    {
     "name": "stderr",
     "output_type": "stream",
     "text": [
      " 72%|███████▏  | 902/1261 [02:35<01:05,  5.52it/s]"
     ]
    },
    {
     "name": "stdout",
     "output_type": "stream",
     "text": [
      "2387.32641129 m 710.167186485 m\n",
      "Ratio:  3.36163998665\n",
      "2035.90990816 m 877.875942887 m\n",
      "Ratio:  2.31913167761\n"
     ]
    },
    {
     "name": "stderr",
     "output_type": "stream",
     "text": [
      " 72%|███████▏  | 904/1261 [02:35<01:01,  5.80it/s]"
     ]
    },
    {
     "name": "stdout",
     "output_type": "stream",
     "text": [
      "2333.12869383 m 1253.84873627 m\n",
      "Ratio:  1.86077365342\n",
      "2153.9504876 m 1022.43999117 m\n",
      "Ratio:  2.10667668147\n"
     ]
    },
    {
     "name": "stderr",
     "output_type": "stream",
     "text": [
      " 72%|███████▏  | 906/1261 [02:36<00:59,  5.92it/s]"
     ]
    },
    {
     "name": "stdout",
     "output_type": "stream",
     "text": [
      "3413.08545694 m 885.81700293 m\n",
      "Ratio:  3.8530367397\n",
      "2790.60876726 m 632.943564198 m\n",
      "Ratio:  4.40893773965\n"
     ]
    },
    {
     "name": "stderr",
     "output_type": "stream",
     "text": [
      " 72%|███████▏  | 908/1261 [02:36<00:59,  5.91it/s]"
     ]
    },
    {
     "name": "stdout",
     "output_type": "stream",
     "text": [
      "1632.80251555 m 574.727471728 m\n",
      "Ratio:  2.8410030769\n",
      "1111.42907948 m 506.495825284 m\n",
      "Ratio:  2.19434993142\n"
     ]
    },
    {
     "name": "stderr",
     "output_type": "stream",
     "text": [
      " 72%|███████▏  | 910/1261 [02:36<00:59,  5.90it/s]"
     ]
    },
    {
     "name": "stdout",
     "output_type": "stream",
     "text": [
      "1042.68961052 m 491.94424941 m\n",
      "Ratio:  2.11952799889\n",
      "1251.11746706 m 542.433242129 m\n",
      "Ratio:  2.30649114009\n"
     ]
    },
    {
     "name": "stderr",
     "output_type": "stream",
     "text": [
      " 72%|███████▏  | 912/1261 [02:37<00:59,  5.89it/s]"
     ]
    },
    {
     "name": "stdout",
     "output_type": "stream",
     "text": [
      "1154.79239402 m 556.963445107 m\n",
      "Ratio:  2.07337196753\n",
      "1031.43025194 m 481.491997662 m\n",
      "Ratio:  2.14215450505\n"
     ]
    },
    {
     "name": "stderr",
     "output_type": "stream",
     "text": [
      " 72%|███████▏  | 914/1261 [02:37<00:58,  5.96it/s]"
     ]
    },
    {
     "name": "stdout",
     "output_type": "stream",
     "text": [
      "1064.97918827 m 580.12377941 m\n",
      "Ratio:  1.83577923552\n",
      "1081.04973404 m 782.464764791 m\n",
      "Ratio:  1.38159541833\n"
     ]
    },
    {
     "name": "stderr",
     "output_type": "stream",
     "text": [
      " 73%|███████▎  | 916/1261 [02:37<00:56,  6.09it/s]"
     ]
    },
    {
     "name": "stdout",
     "output_type": "stream",
     "text": [
      "899.689823803 m 993.245388484 m\n",
      "Ratio:  0.905808206345\n",
      "742.764124968 m 989.263482366 m\n",
      "Ratio:  0.750825374845\n"
     ]
    },
    {
     "name": "stderr",
     "output_type": "stream",
     "text": [
      " 73%|███████▎  | 918/1261 [02:38<00:55,  6.14it/s]"
     ]
    },
    {
     "name": "stdout",
     "output_type": "stream",
     "text": [
      "727.940984968 m 979.078290152 m\n",
      "Ratio:  0.743496196667\n",
      "815.875286567 m 925.762678385 m\n",
      "Ratio:  0.881300689276\n"
     ]
    },
    {
     "name": "stderr",
     "output_type": "stream",
     "text": [
      " 73%|███████▎  | 920/1261 [02:38<00:56,  6.03it/s]"
     ]
    },
    {
     "name": "stdout",
     "output_type": "stream",
     "text": [
      "710.82718045 m 682.944394191 m\n",
      "Ratio:  1.04082731551\n",
      "670.983597462 m 628.121795431 m\n",
      "Ratio:  1.06823804291\n"
     ]
    },
    {
     "name": "stderr",
     "output_type": "stream",
     "text": [
      " 73%|███████▎  | 922/1261 [02:38<00:55,  6.11it/s]"
     ]
    },
    {
     "name": "stdout",
     "output_type": "stream",
     "text": [
      "822.619611812 m 632.897720537 m\n",
      "Ratio:  1.29976706365\n",
      "799.854906192 m 674.362091678 m\n",
      "Ratio:  1.18609114608\n"
     ]
    },
    {
     "name": "stderr",
     "output_type": "stream",
     "text": [
      " 73%|███████▎  | 924/1261 [02:39<00:53,  6.28it/s]"
     ]
    },
    {
     "name": "stdout",
     "output_type": "stream",
     "text": [
      "822.047082849 m 577.806082469 m\n",
      "Ratio:  1.42270410055\n",
      "1061.91083513 m 682.812897994 m\n",
      "Ratio:  1.55520031658\n"
     ]
    },
    {
     "name": "stderr",
     "output_type": "stream",
     "text": [
      " 73%|███████▎  | 926/1261 [02:39<00:55,  6.04it/s]"
     ]
    },
    {
     "name": "stdout",
     "output_type": "stream",
     "text": [
      "897.949873308 m 754.976417093 m\n",
      "Ratio:  1.18937473142\n",
      "884.291010022 m 1656.40406774 m\n",
      "Ratio:  0.533861892303\n"
     ]
    },
    {
     "name": "stderr",
     "output_type": "stream",
     "text": [
      " 74%|███████▎  | 928/1261 [02:39<00:56,  5.94it/s]"
     ]
    },
    {
     "name": "stdout",
     "output_type": "stream",
     "text": [
      "897.746365146 m 1241.40398262 m\n",
      "Ratio:  0.723170198998\n",
      "1011.36206963 m 1073.35057024 m\n",
      "Ratio:  0.942247666016\n"
     ]
    },
    {
     "name": "stderr",
     "output_type": "stream",
     "text": [
      " 74%|███████▍  | 930/1261 [02:40<00:58,  5.65it/s]"
     ]
    },
    {
     "name": "stdout",
     "output_type": "stream",
     "text": [
      "1462.37258104 m 1221.77831946 m\n",
      "Ratio:  1.19692137087\n",
      "1107.61455429 m 817.088064213 m\n",
      "Ratio:  1.35556325297\n"
     ]
    },
    {
     "name": "stderr",
     "output_type": "stream",
     "text": [
      " 74%|███████▍  | 932/1261 [02:40<00:58,  5.63it/s]"
     ]
    },
    {
     "name": "stdout",
     "output_type": "stream",
     "text": [
      "1612.68047993 m 768.461032116 m\n",
      "Ratio:  2.09858458989\n",
      "1808.08184773 m 796.456618284 m\n",
      "Ratio:  2.27015735223\n"
     ]
    },
    {
     "name": "stderr",
     "output_type": "stream",
     "text": [
      " 74%|███████▍  | 934/1261 [02:40<00:56,  5.81it/s]"
     ]
    },
    {
     "name": "stdout",
     "output_type": "stream",
     "text": [
      "1670.65530833 m 838.185502386 m\n",
      "Ratio:  1.99318086936\n",
      "2179.98946387 m 1003.91632906 m\n",
      "Ratio:  2.17148521323\n"
     ]
    },
    {
     "name": "stderr",
     "output_type": "stream",
     "text": [
      " 74%|███████▍  | 936/1261 [02:41<00:55,  5.85it/s]"
     ]
    },
    {
     "name": "stdout",
     "output_type": "stream",
     "text": [
      "1675.37896123 m 799.488447904 m\n",
      "Ratio:  2.09556368904\n",
      "1538.72250542 m 567.422870713 m\n",
      "Ratio:  2.71177385481\n"
     ]
    },
    {
     "name": "stderr",
     "output_type": "stream",
     "text": [
      " 74%|███████▍  | 938/1261 [02:41<00:53,  6.00it/s]"
     ]
    },
    {
     "name": "stdout",
     "output_type": "stream",
     "text": [
      "1235.57065512 m 661.815361126 m\n",
      "Ratio:  1.86694163916\n",
      "937.747247139 m 706.704404469 m\n",
      "Ratio:  1.32692995998\n"
     ]
    },
    {
     "name": "stderr",
     "output_type": "stream",
     "text": [
      " 75%|███████▍  | 940/1261 [02:41<00:51,  6.25it/s]"
     ]
    },
    {
     "name": "stdout",
     "output_type": "stream",
     "text": [
      "879.433754338 m 700.839844081 m\n",
      "Ratio:  1.25482842017\n",
      "666.473442921 m 629.7462462 m\n",
      "Ratio:  1.05832062826\n"
     ]
    },
    {
     "name": "stderr",
     "output_type": "stream",
     "text": [
      " 75%|███████▍  | 942/1261 [02:42<00:51,  6.14it/s]"
     ]
    },
    {
     "name": "stdout",
     "output_type": "stream",
     "text": [
      "699.722029613 m 513.405660681 m\n",
      "Ratio:  1.36290283338\n",
      "691.269147875 m 492.578775005 m\n",
      "Ratio:  1.40336771081\n"
     ]
    },
    {
     "name": "stderr",
     "output_type": "stream",
     "text": [
      " 75%|███████▍  | 944/1261 [02:42<00:50,  6.23it/s]"
     ]
    },
    {
     "name": "stdout",
     "output_type": "stream",
     "text": [
      "742.152970071 m 530.377447975 m\n",
      "Ratio:  1.39929209454\n",
      "781.710963502 m 570.348605054 m\n",
      "Ratio:  1.3705845102\n"
     ]
    },
    {
     "name": "stderr",
     "output_type": "stream",
     "text": [
      " 75%|███████▌  | 946/1261 [02:42<00:51,  6.13it/s]"
     ]
    },
    {
     "name": "stdout",
     "output_type": "stream",
     "text": [
      "700.64035718 m 693.54785825 m\n",
      "Ratio:  1.0102264016\n",
      "749.888503847 m 582.446057914 m\n",
      "Ratio:  1.28748146486\n"
     ]
    },
    {
     "name": "stderr",
     "output_type": "stream",
     "text": [
      "\r",
      " 75%|███████▌  | 947/1261 [02:42<00:51,  6.09it/s]"
     ]
    },
    {
     "name": "stdout",
     "output_type": "stream",
     "text": [
      "798.643230376 m 650.548551526 m\n",
      "Ratio:  1.22764585134\n"
     ]
    },
    {
     "name": "stderr",
     "output_type": "stream",
     "text": [
      " 75%|███████▌  | 949/1261 [02:43<00:55,  5.63it/s]"
     ]
    },
    {
     "name": "stdout",
     "output_type": "stream",
     "text": [
      "813.566367902 m 507.175788091 m\n",
      "Ratio:  1.60411121155\n",
      "828.09078787 m 1477.49989784 m\n",
      "Ratio:  0.560467577075\n"
     ]
    },
    {
     "name": "stderr",
     "output_type": "stream",
     "text": [
      " 75%|███████▌  | 951/1261 [02:43<00:52,  5.89it/s]"
     ]
    },
    {
     "name": "stdout",
     "output_type": "stream",
     "text": [
      "945.957115824 m 1378.2990648 m\n",
      "Ratio:  0.686322105256\n",
      "1145.20002737 m 1563.38327804 m\n",
      "Ratio:  0.732513928899\n"
     ]
    },
    {
     "name": "stderr",
     "output_type": "stream",
     "text": [
      " 76%|███████▌  | 953/1261 [02:44<00:51,  6.02it/s]"
     ]
    },
    {
     "name": "stdout",
     "output_type": "stream",
     "text": [
      "1304.18857792 m 2306.12875618 m\n",
      "Ratio:  0.565531553442\n",
      "1384.01138796 m 8598.18963453 m\n",
      "Ratio:  0.160965441191\n"
     ]
    },
    {
     "name": "stderr",
     "output_type": "stream",
     "text": [
      " 76%|███████▌  | 955/1261 [02:44<00:54,  5.59it/s]"
     ]
    },
    {
     "name": "stdout",
     "output_type": "stream",
     "text": [
      "1041.83018885 m 3300.81994428 m\n",
      "Ratio:  0.315627694464\n",
      "946.82858943 m 3759.36619368 m\n",
      "Ratio:  0.251858568879\n"
     ]
    },
    {
     "name": "stderr",
     "output_type": "stream",
     "text": [
      " 76%|███████▌  | 957/1261 [02:44<00:52,  5.81it/s]"
     ]
    },
    {
     "name": "stdout",
     "output_type": "stream",
     "text": [
      "958.587237322 m 1396.55934796 m\n",
      "Ratio:  0.686392052525\n",
      "1134.55096502 m 1012.26861315 m\n",
      "Ratio:  1.12080029972\n"
     ]
    },
    {
     "name": "stderr",
     "output_type": "stream",
     "text": [
      " 76%|███████▌  | 959/1261 [02:45<00:50,  6.03it/s]"
     ]
    },
    {
     "name": "stdout",
     "output_type": "stream",
     "text": [
      "1057.84557037 m 1310.62269364 m\n",
      "Ratio:  0.80713204151\n",
      "1141.20020045 m 1584.54065392 m\n",
      "Ratio:  0.720208848935\n"
     ]
    },
    {
     "name": "stderr",
     "output_type": "stream",
     "text": [
      " 76%|███████▌  | 961/1261 [02:45<00:48,  6.16it/s]"
     ]
    },
    {
     "name": "stdout",
     "output_type": "stream",
     "text": [
      "1341.64193192 m 972.131754378 m\n",
      "Ratio:  1.38010298077\n",
      "1298.76890347 m 1486.52389237 m\n",
      "Ratio:  0.8736952767\n"
     ]
    },
    {
     "name": "stderr",
     "output_type": "stream",
     "text": [
      " 76%|███████▋  | 963/1261 [02:45<00:47,  6.24it/s]"
     ]
    },
    {
     "name": "stdout",
     "output_type": "stream",
     "text": [
      "1322.17625735 m 1990.13458529 m\n",
      "Ratio:  0.664365248021\n",
      "1048.83864018 m 2217.80243616 m\n",
      "Ratio:  0.472917976405\n"
     ]
    },
    {
     "name": "stderr",
     "output_type": "stream",
     "text": [
      " 77%|███████▋  | 965/1261 [02:45<00:46,  6.32it/s]"
     ]
    },
    {
     "name": "stdout",
     "output_type": "stream",
     "text": [
      "2882.05777188 m 4682.1476202 m\n",
      "Ratio:  0.615541842262\n",
      "3029.7582872 m 3023.32618728 m\n",
      "Ratio:  1.00212749122\n"
     ]
    },
    {
     "name": "stderr",
     "output_type": "stream",
     "text": [
      " 77%|███████▋  | 967/1261 [02:46<00:47,  6.18it/s]"
     ]
    },
    {
     "name": "stdout",
     "output_type": "stream",
     "text": [
      "1341.75036989 m 1126.20427335 m\n",
      "Ratio:  1.19139165216\n",
      "1040.29061798 m 1015.54604461 m\n",
      "Ratio:  1.02436578184\n"
     ]
    },
    {
     "name": "stderr",
     "output_type": "stream",
     "text": [
      " 77%|███████▋  | 969/1261 [02:46<00:46,  6.25it/s]"
     ]
    },
    {
     "name": "stdout",
     "output_type": "stream",
     "text": [
      "1176.89641188 m 708.071280117 m\n",
      "Ratio:  1.66211572892\n",
      "3446.59884595 m 704.598495014 m\n",
      "Ratio:  4.89157849518\n"
     ]
    },
    {
     "name": "stderr",
     "output_type": "stream",
     "text": [
      " 77%|███████▋  | 971/1261 [02:46<00:46,  6.21it/s]"
     ]
    },
    {
     "name": "stdout",
     "output_type": "stream",
     "text": [
      "1442.59426129 m 1150.10306255 m\n",
      "Ratio:  1.254317381\n",
      "2779.90824527 m 952.105825951 m\n",
      "Ratio:  2.91974712211\n"
     ]
    },
    {
     "name": "stderr",
     "output_type": "stream",
     "text": [
      " 77%|███████▋  | 973/1261 [02:47<00:49,  5.87it/s]"
     ]
    },
    {
     "name": "stdout",
     "output_type": "stream",
     "text": [
      "16599.7094687 m 860.579626669 m\n",
      "Ratio:  19.2889872759\n",
      "4581.3564209 m 946.547355093 m\n",
      "Ratio:  4.84007101837\n"
     ]
    },
    {
     "name": "stderr",
     "output_type": "stream",
     "text": [
      " 77%|███████▋  | 975/1261 [02:47<00:47,  5.99it/s]"
     ]
    },
    {
     "name": "stdout",
     "output_type": "stream",
     "text": [
      "41280.5076151 m 1450.8142076 m\n",
      "Ratio:  28.4533384074\n",
      "2982.48479854 m 1705.07361367 m\n",
      "Ratio:  1.74918242511\n"
     ]
    },
    {
     "name": "stderr",
     "output_type": "stream",
     "text": [
      " 77%|███████▋  | 977/1261 [02:47<00:46,  6.06it/s]"
     ]
    },
    {
     "name": "stdout",
     "output_type": "stream",
     "text": [
      "2036.63354616 m 19529.751324 m\n",
      "Ratio:  0.104283639477\n",
      "2111.8083568 m 4710.30503657 m\n",
      "Ratio:  0.448337918756\n"
     ]
    },
    {
     "name": "stderr",
     "output_type": "stream",
     "text": [
      " 78%|███████▊  | 979/1261 [02:48<00:46,  6.09it/s]"
     ]
    },
    {
     "name": "stdout",
     "output_type": "stream",
     "text": [
      "2286.67722481 m 5470.83863327 m\n",
      "Ratio:  0.417975630081\n",
      "2030.95392786 m 4361.62183202 m\n",
      "Ratio:  0.465641911673\n"
     ]
    },
    {
     "name": "stderr",
     "output_type": "stream",
     "text": [
      " 78%|███████▊  | 981/1261 [02:48<00:46,  6.00it/s]"
     ]
    },
    {
     "name": "stdout",
     "output_type": "stream",
     "text": [
      "3093.68578858 m 1134.87228824 m\n",
      "Ratio:  2.72602108682\n",
      "2212.87916116 m 782.554309411 m\n",
      "Ratio:  2.82776432837\n"
     ]
    },
    {
     "name": "stderr",
     "output_type": "stream",
     "text": [
      " 78%|███████▊  | 983/1261 [02:48<00:45,  6.17it/s]"
     ]
    },
    {
     "name": "stdout",
     "output_type": "stream",
     "text": [
      "391671.803569 m 988.807550774 m\n",
      "Ratio:  396.105190806\n",
      "2650.29317671 m 703.275816114 m\n",
      "Ratio:  3.76849753111\n"
     ]
    },
    {
     "name": "stderr",
     "output_type": "stream",
     "text": [
      " 78%|███████▊  | 985/1261 [02:49<00:46,  5.91it/s]"
     ]
    },
    {
     "name": "stdout",
     "output_type": "stream",
     "text": [
      "2294.53405994 m 650.621517839 m\n",
      "Ratio:  3.52668025423\n",
      "2474.91501412 m 557.005873803 m\n",
      "Ratio:  4.44324760388\n"
     ]
    },
    {
     "name": "stderr",
     "output_type": "stream",
     "text": [
      " 78%|███████▊  | 987/1261 [02:49<00:45,  5.99it/s]"
     ]
    },
    {
     "name": "stdout",
     "output_type": "stream",
     "text": [
      "2174.7103625 m 534.101053211 m\n",
      "Ratio:  4.07172079034\n",
      "1350.99005412 m 563.138165991 m\n",
      "Ratio:  2.39903834566\n"
     ]
    },
    {
     "name": "stderr",
     "output_type": "stream",
     "text": [
      " 78%|███████▊  | 989/1261 [02:49<00:44,  6.14it/s]"
     ]
    },
    {
     "name": "stdout",
     "output_type": "stream",
     "text": [
      "1222.26916409 m 705.284973061 m\n",
      "Ratio:  1.73301461222\n",
      "2049.03742318 m 669.772448738 m\n",
      "Ratio:  3.05930383826\n"
     ]
    },
    {
     "name": "stderr",
     "output_type": "stream",
     "text": [
      " 79%|███████▊  | 991/1261 [02:50<00:47,  5.70it/s]"
     ]
    },
    {
     "name": "stdout",
     "output_type": "stream",
     "text": [
      "2687.4720028 m 562.274959503 m\n",
      "Ratio:  4.77964020517\n",
      "1375.19909536 m 470.425302624 m\n",
      "Ratio:  2.92331022095\n"
     ]
    },
    {
     "name": "stderr",
     "output_type": "stream",
     "text": [
      " 79%|███████▊  | 993/1261 [02:50<00:45,  5.87it/s]"
     ]
    },
    {
     "name": "stdout",
     "output_type": "stream",
     "text": [
      "1189.98038357 m 691.363847734 m\n",
      "Ratio:  1.72120712917\n",
      "1477.94390476 m 481.205967691 m\n",
      "Ratio:  3.07133328345\n"
     ]
    },
    {
     "name": "stderr",
     "output_type": "stream",
     "text": [
      " 79%|███████▉  | 995/1261 [02:51<00:44,  5.95it/s]"
     ]
    },
    {
     "name": "stdout",
     "output_type": "stream",
     "text": [
      "1323.90586211 m 492.092435821 m\n",
      "Ratio:  2.69036011476\n",
      "845.10164901 m 420.527531649 m\n",
      "Ratio:  2.00962264158\n"
     ]
    },
    {
     "name": "stderr",
     "output_type": "stream",
     "text": [
      " 79%|███████▉  | 997/1261 [02:51<00:43,  6.08it/s]"
     ]
    },
    {
     "name": "stdout",
     "output_type": "stream",
     "text": [
      "2385.52396141 m 734.52993252 m\n",
      "Ratio:  3.24768788282\n",
      "2004.80763589 m 763.767365239 m\n",
      "Ratio:  2.62489303306\n"
     ]
    },
    {
     "name": "stderr",
     "output_type": "stream",
     "text": [
      " 79%|███████▉  | 999/1261 [02:51<00:43,  6.04it/s]"
     ]
    },
    {
     "name": "stdout",
     "output_type": "stream",
     "text": [
      "3092.3081412 m 4327.74157317 m\n",
      "Ratio:  0.714531607056\n",
      "5094.77735335 m 3966.78655363 m\n",
      "Ratio:  1.28435883415\n"
     ]
    },
    {
     "name": "stderr",
     "output_type": "stream",
     "text": [
      " 79%|███████▉  | 1001/1261 [02:51<00:42,  6.17it/s]"
     ]
    },
    {
     "name": "stdout",
     "output_type": "stream",
     "text": [
      "7074.87580303 m 197414.621136 m\n",
      "Ratio:  0.03583764851\n",
      "873.786553626 m 4374.85922612 m\n",
      "Ratio:  0.199729067489\n"
     ]
    },
    {
     "name": "stderr",
     "output_type": "stream",
     "text": [
      " 80%|███████▉  | 1003/1261 [02:52<00:42,  6.00it/s]"
     ]
    },
    {
     "name": "stdout",
     "output_type": "stream",
     "text": [
      "757.489923475 m 949.816764323 m\n",
      "Ratio:  0.797511637958\n",
      "689.907969155 m 758.42868462 m\n",
      "Ratio:  0.909654372449\n"
     ]
    },
    {
     "name": "stderr",
     "output_type": "stream",
     "text": [
      " 80%|███████▉  | 1005/1261 [02:52<00:41,  6.12it/s]"
     ]
    },
    {
     "name": "stdout",
     "output_type": "stream",
     "text": [
      "1220.09816637 m 1177.67923262 m\n",
      "Ratio:  1.03601908956\n",
      "5991.26485 m 5358.97748652 m\n",
      "Ratio:  1.11798656835\n"
     ]
    },
    {
     "name": "stderr",
     "output_type": "stream",
     "text": [
      " 80%|███████▉  | 1007/1261 [02:53<00:42,  5.93it/s]"
     ]
    },
    {
     "name": "stdout",
     "output_type": "stream",
     "text": [
      "18923.4572032 m 564.320285868 m\n",
      "Ratio:  33.533186166\n",
      "1661.17608851 m 359.711693461 m\n",
      "Ratio:  4.61807641705\n"
     ]
    },
    {
     "name": "stderr",
     "output_type": "stream",
     "text": [
      " 80%|████████  | 1009/1261 [02:53<00:43,  5.82it/s]"
     ]
    },
    {
     "name": "stdout",
     "output_type": "stream",
     "text": [
      "3042.48549962 m 405.092422276 m\n",
      "Ratio:  7.51059593394\n",
      "2570.63631366 m 494.816862594 m\n",
      "Ratio:  5.19512673877\n"
     ]
    },
    {
     "name": "stderr",
     "output_type": "stream",
     "text": [
      " 80%|████████  | 1011/1261 [02:53<00:41,  5.99it/s]"
     ]
    },
    {
     "name": "stdout",
     "output_type": "stream",
     "text": [
      "4737.68896192 m 498.421074881 m\n",
      "Ratio:  9.50539453623\n",
      "1183.2633944 m 473.882472378 m\n",
      "Ratio:  2.49695539162\n"
     ]
    },
    {
     "name": "stderr",
     "output_type": "stream",
     "text": [
      " 80%|████████  | 1013/1261 [02:54<00:41,  6.02it/s]"
     ]
    },
    {
     "name": "stdout",
     "output_type": "stream",
     "text": [
      "1929.89353527 m 589.444237986 m\n",
      "Ratio:  3.27409008502\n",
      "1613.30766796 m 529.932733934 m\n",
      "Ratio:  3.04436311375\n"
     ]
    },
    {
     "name": "stderr",
     "output_type": "stream",
     "text": [
      " 80%|████████  | 1015/1261 [02:54<00:41,  5.88it/s]"
     ]
    },
    {
     "name": "stdout",
     "output_type": "stream",
     "text": [
      "1555.70377543 m 848.50881905 m\n",
      "Ratio:  1.83345622403\n",
      "2222.16781905 m 2407.72562767 m\n",
      "Ratio:  0.922932328132\n"
     ]
    },
    {
     "name": "stderr",
     "output_type": "stream",
     "text": [
      " 81%|████████  | 1017/1261 [02:54<00:41,  5.90it/s]"
     ]
    },
    {
     "name": "stdout",
     "output_type": "stream",
     "text": [
      "1002.46486101 m 1385.83483486 m\n",
      "Ratio:  0.723365321609\n",
      "809.014988342 m 1132.13775936 m\n",
      "Ratio:  0.714590589044\n"
     ]
    },
    {
     "name": "stderr",
     "output_type": "stream",
     "text": [
      " 81%|████████  | 1019/1261 [02:55<00:41,  5.77it/s]"
     ]
    },
    {
     "name": "stdout",
     "output_type": "stream",
     "text": [
      "1239.93499699 m 708.321209705 m\n",
      "Ratio:  1.75052642784\n",
      "1390.9674832 m 682.082295476 m\n",
      "Ratio:  2.03929568679\n"
     ]
    },
    {
     "name": "stderr",
     "output_type": "stream",
     "text": [
      " 81%|████████  | 1021/1261 [02:55<00:40,  5.86it/s]"
     ]
    },
    {
     "name": "stdout",
     "output_type": "stream",
     "text": [
      "2461.67405633 m 808.429850692 m\n",
      "Ratio:  3.04500638395\n",
      "12416.222648 m 804.713915516 m\n",
      "Ratio:  15.4293624214\n"
     ]
    },
    {
     "name": "stderr",
     "output_type": "stream",
     "text": [
      " 81%|████████  | 1023/1261 [02:55<00:39,  6.03it/s]"
     ]
    },
    {
     "name": "stdout",
     "output_type": "stream",
     "text": [
      "2722.63623342 m 716.325463672 m\n",
      "Ratio:  3.80083687024\n",
      "2905.27805928 m 698.46129086 m\n",
      "Ratio:  4.1595405462\n"
     ]
    },
    {
     "name": "stderr",
     "output_type": "stream",
     "text": [
      " 81%|████████▏ | 1025/1261 [02:56<00:37,  6.22it/s]"
     ]
    },
    {
     "name": "stdout",
     "output_type": "stream",
     "text": [
      "3503.05588299 m 696.358042673 m\n",
      "Ratio:  5.03053841317\n",
      "962.194733739 m 1665.28748808 m\n",
      "Ratio:  0.577794969715\n"
     ]
    },
    {
     "name": "stderr",
     "output_type": "stream",
     "text": [
      " 81%|████████▏ | 1027/1261 [02:56<00:38,  6.16it/s]"
     ]
    },
    {
     "name": "stdout",
     "output_type": "stream",
     "text": [
      "800.845688258 m 1087.79043307 m\n",
      "Ratio:  0.736213211582\n",
      "639.925684285 m 554.477804195 m\n",
      "Ratio:  1.15410514081\n"
     ]
    },
    {
     "name": "stderr",
     "output_type": "stream",
     "text": [
      " 82%|████████▏ | 1029/1261 [02:56<00:36,  6.30it/s]"
     ]
    },
    {
     "name": "stdout",
     "output_type": "stream",
     "text": [
      "460.112523951 m 519.578554566 m\n",
      "Ratio:  0.885549489886\n",
      "698.123940072 m 555.719549441 m\n",
      "Ratio:  1.25625226029\n"
     ]
    },
    {
     "name": "stderr",
     "output_type": "stream",
     "text": [
      " 82%|████████▏ | 1031/1261 [02:56<00:36,  6.28it/s]"
     ]
    },
    {
     "name": "stdout",
     "output_type": "stream",
     "text": [
      "711.876660391 m 647.722092212 m\n",
      "Ratio:  1.09904644129\n",
      "584.699189125 m 581.245727938 m\n",
      "Ratio:  1.00594148227\n"
     ]
    },
    {
     "name": "stderr",
     "output_type": "stream",
     "text": [
      " 82%|████████▏ | 1033/1261 [02:57<00:36,  6.27it/s]"
     ]
    },
    {
     "name": "stdout",
     "output_type": "stream",
     "text": [
      "566.03193935 m 671.93918784 m\n",
      "Ratio:  0.842385664646\n",
      "384.226095665 m 839.820994862 m\n",
      "Ratio:  0.457509514546\n"
     ]
    },
    {
     "name": "stderr",
     "output_type": "stream",
     "text": [
      " 82%|████████▏ | 1035/1261 [02:57<00:35,  6.31it/s]"
     ]
    },
    {
     "name": "stdout",
     "output_type": "stream",
     "text": [
      "344.581793947 m 835.877031103 m\n",
      "Ratio:  0.412239816534\n",
      "813.058139423 m 799.282755777 m\n",
      "Ratio:  1.0172346814\n"
     ]
    },
    {
     "name": "stderr",
     "output_type": "stream",
     "text": [
      " 82%|████████▏ | 1037/1261 [02:57<00:35,  6.31it/s]"
     ]
    },
    {
     "name": "stdout",
     "output_type": "stream",
     "text": [
      "878.800063136 m 472.970601185 m\n",
      "Ratio:  1.85804373662\n",
      "1314.44782915 m 410.391914059 m\n",
      "Ratio:  3.20290869319\n"
     ]
    },
    {
     "name": "stderr",
     "output_type": "stream",
     "text": [
      " 82%|████████▏ | 1039/1261 [02:58<00:36,  6.04it/s]"
     ]
    },
    {
     "name": "stdout",
     "output_type": "stream",
     "text": [
      "30225.6832011 m 314.422756874 m\n",
      "Ratio:  96.13071109\n",
      "927.255972613 m 276.740251018 m\n",
      "Ratio:  3.35063645134\n"
     ]
    },
    {
     "name": "stderr",
     "output_type": "stream",
     "text": [
      " 83%|████████▎ | 1041/1261 [02:58<00:35,  6.15it/s]"
     ]
    },
    {
     "name": "stdout",
     "output_type": "stream",
     "text": [
      "3581.15930253 m 285.218344078 m\n",
      "Ratio:  12.555851953\n",
      "8754.43040636 m 271.73509952 m\n",
      "Ratio:  32.2167817917\n"
     ]
    },
    {
     "name": "stderr",
     "output_type": "stream",
     "text": [
      " 83%|████████▎ | 1043/1261 [02:58<00:36,  6.03it/s]"
     ]
    },
    {
     "name": "stdout",
     "output_type": "stream",
     "text": [
      "954.300699636 m 272.173076344 m\n",
      "Ratio:  3.50622740668\n",
      "640.180684135 m 279.53283356 m\n",
      "Ratio:  2.29018064168\n"
     ]
    },
    {
     "name": "stderr",
     "output_type": "stream",
     "text": [
      " 83%|████████▎ | 1045/1261 [02:59<00:37,  5.82it/s]"
     ]
    },
    {
     "name": "stdout",
     "output_type": "stream",
     "text": [
      "541.561526182 m 297.732175258 m\n",
      "Ratio:  1.81895532693\n",
      "530.287356951 m 341.862560123 m\n",
      "Ratio:  1.55117119804\n"
     ]
    },
    {
     "name": "stderr",
     "output_type": "stream",
     "text": [
      " 83%|████████▎ | 1047/1261 [02:59<00:36,  5.92it/s]"
     ]
    },
    {
     "name": "stdout",
     "output_type": "stream",
     "text": [
      "603.826977366 m 1415.3532524 m\n",
      "Ratio:  0.426626339639\n",
      "480.067469671 m 1300.37402445 m\n",
      "Ratio:  0.369176452809\n"
     ]
    },
    {
     "name": "stderr",
     "output_type": "stream",
     "text": [
      " 83%|████████▎ | 1049/1261 [02:59<00:35,  6.02it/s]"
     ]
    },
    {
     "name": "stdout",
     "output_type": "stream",
     "text": [
      "461.743507609 m 4169.38345091 m\n",
      "Ratio:  0.110746232158\n",
      "577.786446153 m 3767.70120914 m\n",
      "Ratio:  0.153352512336\n"
     ]
    },
    {
     "name": "stderr",
     "output_type": "stream",
     "text": [
      " 83%|████████▎ | 1051/1261 [03:00<00:34,  6.04it/s]"
     ]
    },
    {
     "name": "stdout",
     "output_type": "stream",
     "text": [
      "612.531997019 m 21634.0277731 m\n",
      "Ratio:  0.0283133590954\n",
      "731.514080884 m 742.364639393 m\n",
      "Ratio:  0.985383788595\n"
     ]
    },
    {
     "name": "stderr",
     "output_type": "stream",
     "text": [
      " 84%|████████▎ | 1053/1261 [03:00<00:34,  6.02it/s]"
     ]
    },
    {
     "name": "stdout",
     "output_type": "stream",
     "text": [
      "832.532015749 m 613.910195161 m\n",
      "Ratio:  1.35611368293\n",
      "1046.61093413 m 540.912329283 m\n",
      "Ratio:  1.9348993866\n"
     ]
    },
    {
     "name": "stderr",
     "output_type": "stream",
     "text": [
      " 84%|████████▎ | 1055/1261 [03:00<00:34,  5.97it/s]"
     ]
    },
    {
     "name": "stdout",
     "output_type": "stream",
     "text": [
      "1460.91601385 m 539.401469716 m\n",
      "Ratio:  2.70840198974\n",
      "2009.99832394 m 3321.99764467 m\n",
      "Ratio:  0.605057118919\n"
     ]
    },
    {
     "name": "stderr",
     "output_type": "stream",
     "text": [
      " 84%|████████▍ | 1057/1261 [03:01<00:34,  5.89it/s]"
     ]
    },
    {
     "name": "stdout",
     "output_type": "stream",
     "text": [
      "1968.10235161 m 2117.04416842 m\n",
      "Ratio:  0.929646334718\n",
      "1902.06796875 m 1289.6859361 m\n",
      "Ratio:  1.47483035637\n"
     ]
    },
    {
     "name": "stderr",
     "output_type": "stream",
     "text": [
      " 84%|████████▍ | 1059/1261 [03:01<00:33,  5.97it/s]"
     ]
    },
    {
     "name": "stdout",
     "output_type": "stream",
     "text": [
      "1785.63665545 m 921.700072654 m\n",
      "Ratio:  1.93732940729\n",
      "1294.61151468 m 701.900276957 m\n",
      "Ratio:  1.84443795961\n"
     ]
    },
    {
     "name": "stderr",
     "output_type": "stream",
     "text": [
      " 84%|████████▍ | 1061/1261 [03:01<00:33,  6.02it/s]"
     ]
    },
    {
     "name": "stdout",
     "output_type": "stream",
     "text": [
      "1638.8825097 m 438.668743652 m\n",
      "Ratio:  3.73603666415\n",
      "1285.8887977 m 437.27960623 m\n",
      "Ratio:  2.94065577123\n"
     ]
    },
    {
     "name": "stderr",
     "output_type": "stream",
     "text": [
      " 84%|████████▍ | 1063/1261 [03:02<00:34,  5.79it/s]"
     ]
    },
    {
     "name": "stdout",
     "output_type": "stream",
     "text": [
      "1156.87605278 m 624.589885477 m\n",
      "Ratio:  1.85221707824\n",
      "1295.13129165 m 514.340034947 m\n",
      "Ratio:  2.51804488014\n"
     ]
    },
    {
     "name": "stderr",
     "output_type": "stream",
     "text": [
      " 84%|████████▍ | 1065/1261 [03:02<00:32,  6.01it/s]"
     ]
    },
    {
     "name": "stdout",
     "output_type": "stream",
     "text": [
      "1503.30949481 m 627.413225186 m\n",
      "Ratio:  2.39604368295\n",
      "1260.75894364 m 551.100688605 m\n",
      "Ratio:  2.28771070279\n"
     ]
    },
    {
     "name": "stderr",
     "output_type": "stream",
     "text": [
      " 85%|████████▍ | 1067/1261 [03:02<00:31,  6.11it/s]"
     ]
    },
    {
     "name": "stdout",
     "output_type": "stream",
     "text": [
      "1746.91574014 m 482.404139403 m\n",
      "Ratio:  3.62127021194\n",
      "1612.9476915 m 651.560245586 m\n",
      "Ratio:  2.47551581366\n"
     ]
    },
    {
     "name": "stderr",
     "output_type": "stream",
     "text": [
      " 85%|████████▍ | 1069/1261 [03:03<00:31,  6.17it/s]"
     ]
    },
    {
     "name": "stdout",
     "output_type": "stream",
     "text": [
      "2086.56793559 m 589.032618031 m\n",
      "Ratio:  3.54236399092\n",
      "2705.79719999 m 719.629451316 m\n",
      "Ratio:  3.75998674741\n"
     ]
    },
    {
     "name": "stderr",
     "output_type": "stream",
     "text": [
      " 85%|████████▍ | 1071/1261 [03:03<00:30,  6.13it/s]"
     ]
    },
    {
     "name": "stdout",
     "output_type": "stream",
     "text": [
      "2232.10390121 m 1026.65169311 m\n",
      "Ratio:  2.17415888582\n",
      "2671.30244438 m 1271.47333424 m\n",
      "Ratio:  2.10095042691\n"
     ]
    },
    {
     "name": "stderr",
     "output_type": "stream",
     "text": [
      " 85%|████████▌ | 1073/1261 [03:03<00:30,  6.20it/s]"
     ]
    },
    {
     "name": "stdout",
     "output_type": "stream",
     "text": [
      "1405.69270103 m 1706.33218461 m\n",
      "Ratio:  0.823809521795\n",
      "2343.94043753 m 2314.07726748 m\n",
      "Ratio:  1.01290500126\n"
     ]
    },
    {
     "name": "stderr",
     "output_type": "stream",
     "text": [
      " 85%|████████▌ | 1075/1261 [03:04<00:31,  5.99it/s]"
     ]
    },
    {
     "name": "stdout",
     "output_type": "stream",
     "text": [
      "1094.57574376 m 914.076936244 m\n",
      "Ratio:  1.1974656622\n",
      "1781.55159479 m 685.128197449 m\n",
      "Ratio:  2.60031859939\n"
     ]
    },
    {
     "name": "stderr",
     "output_type": "stream",
     "text": [
      " 85%|████████▌ | 1077/1261 [03:04<00:29,  6.14it/s]"
     ]
    },
    {
     "name": "stdout",
     "output_type": "stream",
     "text": [
      "1333.2848905 m 546.334882956 m\n",
      "Ratio:  2.44041691661\n",
      "1199.50699899 m 548.213209515 m\n",
      "Ratio:  2.18803009152\n"
     ]
    },
    {
     "name": "stderr",
     "output_type": "stream",
     "text": [
      " 86%|████████▌ | 1079/1261 [03:04<00:29,  6.15it/s]"
     ]
    },
    {
     "name": "stdout",
     "output_type": "stream",
     "text": [
      "1378.7974867 m 596.333784065 m\n",
      "Ratio:  2.3121237192\n",
      "1326.87515439 m 637.076737888 m\n",
      "Ratio:  2.08275561715\n"
     ]
    },
    {
     "name": "stderr",
     "output_type": "stream",
     "text": [
      "\r",
      " 86%|████████▌ | 1080/1261 [03:05<00:29,  6.10it/s]"
     ]
    },
    {
     "name": "stdout",
     "output_type": "stream",
     "text": [
      "1193.34218906 m 1298.99963535 m\n",
      "Ratio:  0.918662451158\n"
     ]
    },
    {
     "name": "stderr",
     "output_type": "stream",
     "text": [
      " 86%|████████▌ | 1082/1261 [03:05<00:31,  5.75it/s]"
     ]
    },
    {
     "name": "stdout",
     "output_type": "stream",
     "text": [
      "1309.82802947 m 1074.79510479 m\n",
      "Ratio:  1.21867695865\n",
      "1269.83712828 m 2696.38002244 m\n",
      "Ratio:  0.470941453989\n"
     ]
    },
    {
     "name": "stderr",
     "output_type": "stream",
     "text": [
      " 86%|████████▌ | 1084/1261 [03:05<00:30,  5.86it/s]"
     ]
    },
    {
     "name": "stdout",
     "output_type": "stream",
     "text": [
      "1395.99173987 m 2560.90472723 m\n",
      "Ratio:  0.545116624224\n",
      "1390.26846383 m 4234.36282772 m\n",
      "Ratio:  0.328330027537\n"
     ]
    },
    {
     "name": "stderr",
     "output_type": "stream",
     "text": [
      " 86%|████████▌ | 1086/1261 [03:06<00:29,  5.96it/s]"
     ]
    },
    {
     "name": "stdout",
     "output_type": "stream",
     "text": [
      "1261.9336721 m 2425.60701653 m\n",
      "Ratio:  0.520254791274\n",
      "1792.43865504 m 4217.94414836 m\n",
      "Ratio:  0.424955521455\n"
     ]
    },
    {
     "name": "stderr",
     "output_type": "stream",
     "text": [
      " 86%|████████▋ | 1088/1261 [03:06<00:28,  6.03it/s]"
     ]
    },
    {
     "name": "stdout",
     "output_type": "stream",
     "text": [
      "1667.20913418 m 1063.80217743 m\n",
      "Ratio:  1.56721726046\n",
      "1147.18200296 m 583.830019826 m\n",
      "Ratio:  1.96492465958\n"
     ]
    },
    {
     "name": "stderr",
     "output_type": "stream",
     "text": [
      " 86%|████████▋ | 1090/1261 [03:06<00:27,  6.14it/s]"
     ]
    },
    {
     "name": "stdout",
     "output_type": "stream",
     "text": [
      "1251.51637794 m 1088.98515554 m\n",
      "Ratio:  1.14925017258\n",
      "1084.19503921 m 737.988464266 m\n",
      "Ratio:  1.46912193308\n"
     ]
    },
    {
     "name": "stderr",
     "output_type": "stream",
     "text": [
      " 87%|████████▋ | 1092/1261 [03:07<00:27,  6.05it/s]"
     ]
    },
    {
     "name": "stdout",
     "output_type": "stream",
     "text": [
      "1042.37274536 m 749.78136989 m\n",
      "Ratio:  1.39023559029\n",
      "1227.49834902 m 604.779236257 m\n",
      "Ratio:  2.02966351262\n"
     ]
    },
    {
     "name": "stderr",
     "output_type": "stream",
     "text": [
      " 87%|████████▋ | 1094/1261 [03:07<00:27,  5.98it/s]"
     ]
    },
    {
     "name": "stdout",
     "output_type": "stream",
     "text": [
      "1134.57408343 m 871.259101407 m\n",
      "Ratio:  1.30222350802\n",
      "1538.6796489 m 1407.43822016 m\n",
      "Ratio:  1.09324844733\n"
     ]
    },
    {
     "name": "stderr",
     "output_type": "stream",
     "text": [
      " 87%|████████▋ | 1096/1261 [03:07<00:27,  6.10it/s]"
     ]
    },
    {
     "name": "stdout",
     "output_type": "stream",
     "text": [
      "1850.82780764 m 1750.41689213 m\n",
      "Ratio:  1.05736400052\n",
      "1856.42529756 m 826.416596479 m\n",
      "Ratio:  2.24635529523\n"
     ]
    },
    {
     "name": "stderr",
     "output_type": "stream",
     "text": [
      " 87%|████████▋ | 1098/1261 [03:08<00:26,  6.20it/s]"
     ]
    },
    {
     "name": "stdout",
     "output_type": "stream",
     "text": [
      "2586.31170992 m 709.036129536 m\n",
      "Ratio:  3.6476444601\n",
      "3556.48023875 m 683.329921625 m\n",
      "Ratio:  5.20463121283\n"
     ]
    },
    {
     "name": "stderr",
     "output_type": "stream",
     "text": [
      " 87%|████████▋ | 1100/1261 [03:08<00:26,  6.13it/s]"
     ]
    },
    {
     "name": "stdout",
     "output_type": "stream",
     "text": [
      "2937.64690872 m 543.880406705 m\n",
      "Ratio:  5.40127364859\n",
      "3362.01853285 m 640.878643723 m\n",
      "Ratio:  5.24595189086\n"
     ]
    },
    {
     "name": "stderr",
     "output_type": "stream",
     "text": [
      " 87%|████████▋ | 1102/1261 [03:08<00:25,  6.24it/s]"
     ]
    },
    {
     "name": "stdout",
     "output_type": "stream",
     "text": [
      "3999.19837646 m 1095.05659908 m\n",
      "Ratio:  3.65204719083\n",
      "4447.89933368 m 1880.75784873 m\n",
      "Ratio:  2.36495056324\n"
     ]
    },
    {
     "name": "stderr",
     "output_type": "stream",
     "text": [
      " 88%|████████▊ | 1104/1261 [03:09<00:25,  6.24it/s]"
     ]
    },
    {
     "name": "stdout",
     "output_type": "stream",
     "text": [
      "4237.14543394 m 1385.32024208 m\n",
      "Ratio:  3.05860356706\n",
      "2784.14713858 m 1365.15589548 m\n",
      "Ratio:  2.03943531123\n"
     ]
    },
    {
     "name": "stderr",
     "output_type": "stream",
     "text": [
      " 88%|████████▊ | 1106/1261 [03:09<00:25,  6.15it/s]"
     ]
    },
    {
     "name": "stdout",
     "output_type": "stream",
     "text": [
      "1736.38406997 m 4947.03953038 m\n",
      "Ratio:  0.350994581569\n",
      "1251.01044598 m 1172.90462284 m\n",
      "Ratio:  1.0665917941\n"
     ]
    },
    {
     "name": "stderr",
     "output_type": "stream",
     "text": [
      " 88%|████████▊ | 1108/1261 [03:09<00:25,  6.05it/s]"
     ]
    },
    {
     "name": "stdout",
     "output_type": "stream",
     "text": [
      "1446.54282553 m 2240.26479583 m\n",
      "Ratio:  0.645701717148\n",
      "1030.19455943 m 919.521999687 m\n",
      "Ratio:  1.12035879487\n"
     ]
    },
    {
     "name": "stderr",
     "output_type": "stream",
     "text": [
      " 88%|████████▊ | 1110/1261 [03:10<00:25,  5.98it/s]"
     ]
    },
    {
     "name": "stdout",
     "output_type": "stream",
     "text": [
      "890.586183008 m 1168.62921625 m\n",
      "Ratio:  0.762077629607\n",
      "1021.28937725 m 608.960016204 m\n",
      "Ratio:  1.67710416132\n"
     ]
    },
    {
     "name": "stderr",
     "output_type": "stream",
     "text": [
      " 88%|████████▊ | 1112/1261 [03:10<00:25,  5.81it/s]"
     ]
    },
    {
     "name": "stdout",
     "output_type": "stream",
     "text": [
      "1108.99601082 m 450.504224663 m\n",
      "Ratio:  2.46167727205\n",
      "1062.54783151 m 561.336389172 m\n",
      "Ratio:  1.89288963267\n"
     ]
    },
    {
     "name": "stderr",
     "output_type": "stream",
     "text": [
      " 88%|████████▊ | 1114/1261 [03:10<00:24,  5.95it/s]"
     ]
    },
    {
     "name": "stdout",
     "output_type": "stream",
     "text": [
      "1166.37468034 m 516.1345706 m\n",
      "Ratio:  2.25982669401\n",
      "1120.71886735 m 477.937917575 m\n",
      "Ratio:  2.34490469607\n"
     ]
    },
    {
     "name": "stderr",
     "output_type": "stream",
     "text": [
      " 89%|████████▊ | 1116/1261 [03:11<00:23,  6.22it/s]"
     ]
    },
    {
     "name": "stdout",
     "output_type": "stream",
     "text": [
      "1353.64987218 m 659.021239477 m\n",
      "Ratio:  2.05403072177\n",
      "1610.08007521 m 680.432346346 m\n",
      "Ratio:  2.36626034\n"
     ]
    },
    {
     "name": "stderr",
     "output_type": "stream",
     "text": [
      " 89%|████████▊ | 1118/1261 [03:11<00:23,  6.07it/s]"
     ]
    },
    {
     "name": "stdout",
     "output_type": "stream",
     "text": [
      "1647.39155936 m 575.00531368 m\n",
      "Ratio:  2.86500232288\n",
      "2308.89209227 m 412.458766626 m\n",
      "Ratio:  5.59787372483\n"
     ]
    },
    {
     "name": "stderr",
     "output_type": "stream",
     "text": [
      " 89%|████████▉ | 1120/1261 [03:11<00:22,  6.27it/s]"
     ]
    },
    {
     "name": "stdout",
     "output_type": "stream",
     "text": [
      "2909.27218457 m 468.669544504 m\n",
      "Ratio:  6.20751277459\n",
      "3187.79724043 m 481.695246405 m\n",
      "Ratio:  6.61787149493\n"
     ]
    },
    {
     "name": "stderr",
     "output_type": "stream",
     "text": [
      " 89%|████████▉ | 1122/1261 [03:12<00:21,  6.33it/s]"
     ]
    },
    {
     "name": "stdout",
     "output_type": "stream",
     "text": [
      "12354.0028427 m 735.077168259 m\n",
      "Ratio:  16.8064026149\n",
      "2824.81763582 m 626.883092599 m\n",
      "Ratio:  4.50613147678\n"
     ]
    },
    {
     "name": "stderr",
     "output_type": "stream",
     "text": [
      " 89%|████████▉ | 1124/1261 [03:12<00:21,  6.28it/s]"
     ]
    },
    {
     "name": "stdout",
     "output_type": "stream",
     "text": [
      "2464.22618891 m 643.63960373 m\n",
      "Ratio:  3.82858073778\n",
      "2568.00933432 m 644.169071796 m\n",
      "Ratio:  3.98654553092\n"
     ]
    },
    {
     "name": "stderr",
     "output_type": "stream",
     "text": [
      " 89%|████████▉ | 1126/1261 [03:12<00:21,  6.23it/s]"
     ]
    },
    {
     "name": "stdout",
     "output_type": "stream",
     "text": [
      "2203.91533594 m 1587.43083725 m\n",
      "Ratio:  1.38835361152\n",
      "1549.7947906 m 1130.75542127 m\n",
      "Ratio:  1.37058355985\n"
     ]
    },
    {
     "name": "stderr",
     "output_type": "stream",
     "text": [
      " 89%|████████▉ | 1128/1261 [03:12<00:21,  6.27it/s]"
     ]
    },
    {
     "name": "stdout",
     "output_type": "stream",
     "text": [
      "1349.66066119 m 922.962481467 m\n",
      "Ratio:  1.46231367828\n",
      "1373.75978268 m 1480.92144932 m\n",
      "Ratio:  0.927638520811\n"
     ]
    },
    {
     "name": "stderr",
     "output_type": "stream",
     "text": [
      " 90%|████████▉ | 1130/1261 [03:13<00:21,  6.06it/s]"
     ]
    },
    {
     "name": "stdout",
     "output_type": "stream",
     "text": [
      "914.134679762 m 3489.52447862 m\n",
      "Ratio:  0.26196540112\n",
      "752.648260324 m 2791.74520915 m\n",
      "Ratio:  0.269597761951\n"
     ]
    },
    {
     "name": "stderr",
     "output_type": "stream",
     "text": [
      " 90%|████████▉ | 1132/1261 [03:13<00:20,  6.24it/s]"
     ]
    },
    {
     "name": "stdout",
     "output_type": "stream",
     "text": [
      "873.022330696 m 917.711949642 m\n",
      "Ratio:  0.951303217787\n",
      "778.139186276 m 530.001056285 m\n",
      "Ratio:  1.46818421784\n"
     ]
    },
    {
     "name": "stderr",
     "output_type": "stream",
     "text": [
      " 90%|████████▉ | 1134/1261 [03:13<00:20,  6.19it/s]"
     ]
    },
    {
     "name": "stdout",
     "output_type": "stream",
     "text": [
      "820.341700812 m 782.603054875 m\n",
      "Ratio:  1.04822195071\n",
      "957.874374711 m 729.953839579 m\n",
      "Ratio:  1.31223965513\n"
     ]
    },
    {
     "name": "stderr",
     "output_type": "stream",
     "text": [
      " 90%|█████████ | 1136/1261 [03:14<00:21,  5.93it/s]"
     ]
    },
    {
     "name": "stdout",
     "output_type": "stream",
     "text": [
      "851.731275554 m 654.045888497 m\n",
      "Ratio:  1.30225002639\n",
      "1078.28671588 m 1078.47716432 m\n",
      "Ratio:  0.999823409862\n"
     ]
    },
    {
     "name": "stderr",
     "output_type": "stream",
     "text": [
      " 90%|█████████ | 1138/1261 [03:14<00:19,  6.21it/s]"
     ]
    },
    {
     "name": "stdout",
     "output_type": "stream",
     "text": [
      "1287.68511759 m 1271.9447638 m\n",
      "Ratio:  1.01237502936\n",
      "1394.36991375 m 1309.48388587 m\n",
      "Ratio:  1.06482403395\n"
     ]
    },
    {
     "name": "stderr",
     "output_type": "stream",
     "text": [
      " 90%|█████████ | 1140/1261 [03:14<00:19,  6.29it/s]"
     ]
    },
    {
     "name": "stdout",
     "output_type": "stream",
     "text": [
      "1362.82181937 m 1188.54647807 m\n",
      "Ratio:  1.14662896615\n",
      "1600.90552992 m 720.381954468 m\n",
      "Ratio:  2.22230098907\n"
     ]
    },
    {
     "name": "stderr",
     "output_type": "stream",
     "text": [
      " 91%|█████████ | 1142/1261 [03:15<00:18,  6.28it/s]"
     ]
    },
    {
     "name": "stdout",
     "output_type": "stream",
     "text": [
      "4650.99565859 m 1027.47600075 m\n",
      "Ratio:  4.52662218408\n",
      "5048.56473733 m 765.670702374 m\n",
      "Ratio:  6.59365014448\n"
     ]
    },
    {
     "name": "stderr",
     "output_type": "stream",
     "text": [
      " 91%|█████████ | 1144/1261 [03:15<00:18,  6.20it/s]"
     ]
    },
    {
     "name": "stdout",
     "output_type": "stream",
     "text": [
      "3597.41707819 m 908.681161514 m\n",
      "Ratio:  3.95894317012\n",
      "2625.64131438 m 762.790397891 m\n",
      "Ratio:  3.44215307591\n"
     ]
    },
    {
     "name": "stderr",
     "output_type": "stream",
     "text": [
      " 91%|█████████ | 1146/1261 [03:15<00:18,  6.23it/s]"
     ]
    },
    {
     "name": "stdout",
     "output_type": "stream",
     "text": [
      "1752.70487566 m 774.26036328 m\n",
      "Ratio:  2.26371509996\n",
      "1872.48931272 m 838.674936868 m\n",
      "Ratio:  2.23267589193\n"
     ]
    },
    {
     "name": "stderr",
     "output_type": "stream",
     "text": [
      " 91%|█████████ | 1148/1261 [03:16<00:18,  6.11it/s]"
     ]
    },
    {
     "name": "stdout",
     "output_type": "stream",
     "text": [
      "1631.5351101 m 715.205970793 m\n",
      "Ratio:  2.28121013628\n",
      "1297.99594731 m 809.053172115 m\n",
      "Ratio:  1.6043394823\n"
     ]
    },
    {
     "name": "stderr",
     "output_type": "stream",
     "text": [
      " 91%|█████████ | 1150/1261 [03:16<00:17,  6.18it/s]"
     ]
    },
    {
     "name": "stdout",
     "output_type": "stream",
     "text": [
      "1287.43288665 m 976.825299373 m\n",
      "Ratio:  1.31797659978\n",
      "1552.05281963 m 1135.40543428 m\n",
      "Ratio:  1.36695912558\n"
     ]
    },
    {
     "name": "stderr",
     "output_type": "stream",
     "text": [
      " 91%|█████████▏| 1152/1261 [03:16<00:17,  6.26it/s]"
     ]
    },
    {
     "name": "stdout",
     "output_type": "stream",
     "text": [
      "1610.02598694 m 930.401399816 m\n",
      "Ratio:  1.73046384846\n",
      "1534.98454168 m 653.009120281 m\n",
      "Ratio:  2.35063262366\n"
     ]
    },
    {
     "name": "stderr",
     "output_type": "stream",
     "text": [
      "\r",
      " 91%|█████████▏| 1153/1261 [03:17<00:17,  6.20it/s]"
     ]
    },
    {
     "name": "stdout",
     "output_type": "stream",
     "text": [
      "1627.74643556 m 538.998486946 m\n",
      "Ratio:  3.01994620576\n",
      "1619.55128399 m 819.967391548 m\n",
      "Ratio:  1.97514108571\n"
     ]
    },
    {
     "name": "stderr",
     "output_type": "stream",
     "text": [
      " 92%|█████████▏| 1156/1261 [03:17<00:17,  6.05it/s]"
     ]
    },
    {
     "name": "stdout",
     "output_type": "stream",
     "text": [
      "1676.08681617 m 627.763477217 m\n",
      "Ratio:  2.66993362468\n",
      "1570.10204312 m 707.096346002 m\n",
      "Ratio:  2.22049237279\n"
     ]
    },
    {
     "name": "stderr",
     "output_type": "stream",
     "text": [
      " 92%|█████████▏| 1158/1261 [03:17<00:16,  6.08it/s]"
     ]
    },
    {
     "name": "stdout",
     "output_type": "stream",
     "text": [
      "1398.70776251 m 879.911961199 m\n",
      "Ratio:  1.58959966927\n",
      "1204.48012035 m 1080.89409593 m\n",
      "Ratio:  1.11433684844\n"
     ]
    },
    {
     "name": "stderr",
     "output_type": "stream",
     "text": [
      " 92%|█████████▏| 1160/1261 [03:18<00:16,  6.13it/s]"
     ]
    },
    {
     "name": "stdout",
     "output_type": "stream",
     "text": [
      "1233.99424806 m 795.536661137 m\n",
      "Ratio:  1.55114692803\n",
      "1187.52319141 m 788.085087672 m\n",
      "Ratio:  1.50684641796\n"
     ]
    },
    {
     "name": "stderr",
     "output_type": "stream",
     "text": [
      " 92%|█████████▏| 1162/1261 [03:18<00:16,  6.13it/s]"
     ]
    },
    {
     "name": "stdout",
     "output_type": "stream",
     "text": [
      "971.7625698 m 961.340966313 m\n",
      "Ratio:  1.01084069425\n",
      "894.935430486 m 992.731711703 m\n",
      "Ratio:  0.901487703007\n"
     ]
    },
    {
     "name": "stderr",
     "output_type": "stream",
     "text": [
      " 92%|█████████▏| 1164/1261 [03:18<00:15,  6.16it/s]"
     ]
    },
    {
     "name": "stdout",
     "output_type": "stream",
     "text": [
      "821.928318217 m 658.813622501 m\n",
      "Ratio:  1.24758852905\n",
      "848.073429192 m 630.885662211 m\n",
      "Ratio:  1.34425852415\n"
     ]
    },
    {
     "name": "stderr",
     "output_type": "stream",
     "text": [
      " 92%|█████████▏| 1166/1261 [03:19<00:15,  6.13it/s]"
     ]
    },
    {
     "name": "stdout",
     "output_type": "stream",
     "text": [
      "878.229772375 m 735.919228067 m\n",
      "Ratio:  1.19337793997\n",
      "881.251251992 m 605.064809689 m\n",
      "Ratio:  1.45645761889\n"
     ]
    },
    {
     "name": "stderr",
     "output_type": "stream",
     "text": [
      " 93%|█████████▎| 1168/1261 [03:19<00:15,  6.11it/s]"
     ]
    },
    {
     "name": "stdout",
     "output_type": "stream",
     "text": [
      "981.0318382 m 526.770505194 m\n",
      "Ratio:  1.86235149563\n",
      "978.290553042 m 615.838040539 m\n",
      "Ratio:  1.5885516786\n"
     ]
    },
    {
     "name": "stderr",
     "output_type": "stream",
     "text": [
      " 93%|█████████▎| 1170/1261 [03:19<00:14,  6.36it/s]"
     ]
    },
    {
     "name": "stdout",
     "output_type": "stream",
     "text": [
      "1177.00221481 m 663.42613814 m\n",
      "Ratio:  1.77412698588\n",
      "1217.52945068 m 610.806098537 m\n",
      "Ratio:  1.9933158061\n"
     ]
    },
    {
     "name": "stderr",
     "output_type": "stream",
     "text": [
      " 93%|█████████▎| 1172/1261 [03:20<00:14,  6.11it/s]"
     ]
    },
    {
     "name": "stdout",
     "output_type": "stream",
     "text": [
      "1534.87376851 m 490.591268342 m\n",
      "Ratio:  3.12862023349\n",
      "1449.91434851 m 783.714081864 m\n",
      "Ratio:  1.85005524599\n"
     ]
    },
    {
     "name": "stderr",
     "output_type": "stream",
     "text": [
      " 93%|█████████▎| 1174/1261 [03:20<00:14,  6.05it/s]"
     ]
    },
    {
     "name": "stdout",
     "output_type": "stream",
     "text": [
      "1768.74034587 m 847.980875209 m\n",
      "Ratio:  2.08582575101\n",
      "2426.90805024 m 1624.97112181 m\n",
      "Ratio:  1.4935084185\n"
     ]
    },
    {
     "name": "stderr",
     "output_type": "stream",
     "text": [
      " 93%|█████████▎| 1176/1261 [03:20<00:13,  6.16it/s]"
     ]
    },
    {
     "name": "stdout",
     "output_type": "stream",
     "text": [
      "1921.78859052 m 1266.64260389 m\n",
      "Ratio:  1.51723034154\n",
      "2707.71066324 m 1241.91645274 m\n",
      "Ratio:  2.18026796993\n"
     ]
    },
    {
     "name": "stderr",
     "output_type": "stream",
     "text": [
      " 93%|█████████▎| 1178/1261 [03:21<00:14,  5.92it/s]"
     ]
    },
    {
     "name": "stdout",
     "output_type": "stream",
     "text": [
      "2269.60115499 m 1163.47953209 m\n",
      "Ratio:  1.95070140246\n",
      "1862.76412173 m 1071.11612859 m\n",
      "Ratio:  1.73908698788\n"
     ]
    },
    {
     "name": "stderr",
     "output_type": "stream",
     "text": [
      " 94%|█████████▎| 1180/1261 [03:21<00:13,  5.89it/s]"
     ]
    },
    {
     "name": "stdout",
     "output_type": "stream",
     "text": [
      "2822.67376086 m 3483.13011227 m\n",
      "Ratio:  0.810384243446\n",
      "3612.95148466 m 1399.17677306 m\n",
      "Ratio:  2.58219801403\n"
     ]
    },
    {
     "name": "stderr",
     "output_type": "stream",
     "text": [
      " 94%|█████████▎| 1182/1261 [03:21<00:13,  5.89it/s]"
     ]
    },
    {
     "name": "stdout",
     "output_type": "stream",
     "text": [
      "2730.88954817 m 1950.60663068 m\n",
      "Ratio:  1.4000206424\n",
      "2916.81069257 m 1350.6469 m\n",
      "Ratio:  2.15956568113\n"
     ]
    },
    {
     "name": "stderr",
     "output_type": "stream",
     "text": [
      " 94%|█████████▍| 1184/1261 [03:22<00:12,  5.96it/s]"
     ]
    },
    {
     "name": "stdout",
     "output_type": "stream",
     "text": [
      "2872.9089724 m 1919.49309811 m\n",
      "Ratio:  1.49670190282\n",
      "2609.10785042 m 2289.53322586 m\n",
      "Ratio:  1.13958068874\n"
     ]
    },
    {
     "name": "stderr",
     "output_type": "stream",
     "text": [
      " 94%|█████████▍| 1186/1261 [03:22<00:12,  6.02it/s]"
     ]
    },
    {
     "name": "stdout",
     "output_type": "stream",
     "text": [
      "1492.55103378 m 1521.84583511 m\n",
      "Ratio:  0.980750480338\n",
      "1646.14710213 m 1871.0642625 m\n",
      "Ratio:  0.879791857029\n"
     ]
    },
    {
     "name": "stderr",
     "output_type": "stream",
     "text": [
      " 94%|█████████▍| 1188/1261 [03:22<00:12,  5.99it/s]"
     ]
    },
    {
     "name": "stdout",
     "output_type": "stream",
     "text": [
      "1262.76611588 m 1546.41177852 m\n",
      "Ratio:  0.81657818016\n",
      "1411.6881368 m 1039.20698179 m\n",
      "Ratio:  1.35842826457\n"
     ]
    },
    {
     "name": "stderr",
     "output_type": "stream",
     "text": [
      " 94%|█████████▍| 1190/1261 [03:23<00:12,  5.82it/s]"
     ]
    },
    {
     "name": "stdout",
     "output_type": "stream",
     "text": [
      "1125.56628369 m 954.925245092 m\n",
      "Ratio:  1.17869570364\n",
      "1162.07619608 m 1527.96976276 m\n",
      "Ratio:  0.760536120808\n"
     ]
    },
    {
     "name": "stderr",
     "output_type": "stream",
     "text": [
      " 95%|█████████▍| 1192/1261 [03:23<00:11,  5.84it/s]"
     ]
    },
    {
     "name": "stdout",
     "output_type": "stream",
     "text": [
      "1060.30652252 m 1283.96145568 m\n",
      "Ratio:  0.825808685945\n",
      "856.051061241 m 804.391042379 m\n",
      "Ratio:  1.06422251883\n"
     ]
    },
    {
     "name": "stderr",
     "output_type": "stream",
     "text": [
      " 95%|█████████▍| 1194/1261 [03:23<00:11,  6.00it/s]"
     ]
    },
    {
     "name": "stdout",
     "output_type": "stream",
     "text": [
      "889.295757562 m 814.341704582 m\n",
      "Ratio:  1.09204250815\n",
      "791.01842665 m 1248.11690194 m\n",
      "Ratio:  0.633769501417\n"
     ]
    },
    {
     "name": "stderr",
     "output_type": "stream",
     "text": [
      " 95%|█████████▍| 1196/1261 [03:24<00:10,  6.05it/s]"
     ]
    },
    {
     "name": "stdout",
     "output_type": "stream",
     "text": [
      "686.056745579 m 1104.16375418 m\n",
      "Ratio:  0.621336050003\n",
      "808.849907473 m 970.409735575 m\n",
      "Ratio:  0.833513801254\n"
     ]
    },
    {
     "name": "stderr",
     "output_type": "stream",
     "text": [
      " 95%|█████████▌| 1198/1261 [03:24<00:10,  6.08it/s]"
     ]
    },
    {
     "name": "stdout",
     "output_type": "stream",
     "text": [
      "964.191529584 m 1056.0640189 m\n",
      "Ratio:  0.913004810627\n",
      "934.960325408 m 1362.36462878 m\n",
      "Ratio:  0.686277598269\n"
     ]
    },
    {
     "name": "stderr",
     "output_type": "stream",
     "text": [
      " 95%|█████████▌| 1200/1261 [03:24<00:09,  6.11it/s]"
     ]
    },
    {
     "name": "stdout",
     "output_type": "stream",
     "text": [
      "1020.30165129 m 15921.3289518 m\n",
      "Ratio:  0.0640839501768\n",
      "1278.1704351 m 4774.8504038 m\n",
      "Ratio:  0.267688058684\n"
     ]
    },
    {
     "name": "stderr",
     "output_type": "stream",
     "text": [
      " 95%|█████████▌| 1202/1261 [03:25<00:09,  6.10it/s]"
     ]
    },
    {
     "name": "stdout",
     "output_type": "stream",
     "text": [
      "1942.96527702 m 1033.81706648 m\n",
      "Ratio:  1.8794091721\n",
      "1744.73470215 m 984.322146827 m\n",
      "Ratio:  1.77252407433\n"
     ]
    },
    {
     "name": "stderr",
     "output_type": "stream",
     "text": [
      " 95%|█████████▌| 1204/1261 [03:25<00:09,  6.04it/s]"
     ]
    },
    {
     "name": "stdout",
     "output_type": "stream",
     "text": [
      "2196.03161015 m 656.008814225 m\n",
      "Ratio:  3.34756418288\n",
      "1451.90394528 m 772.320695622 m\n",
      "Ratio:  1.87992365543\n"
     ]
    },
    {
     "name": "stderr",
     "output_type": "stream",
     "text": [
      " 96%|█████████▌| 1206/1261 [03:25<00:08,  6.18it/s]"
     ]
    },
    {
     "name": "stdout",
     "output_type": "stream",
     "text": [
      "1064.75505296 m 778.708170906 m\n",
      "Ratio:  1.36733514909\n",
      "1005.28990895 m 882.939971119 m\n",
      "Ratio:  1.13857107146\n"
     ]
    },
    {
     "name": "stderr",
     "output_type": "stream",
     "text": [
      " 96%|█████████▌| 1208/1261 [03:26<00:08,  6.06it/s]"
     ]
    },
    {
     "name": "stdout",
     "output_type": "stream",
     "text": [
      "851.363208143 m 773.108911449 m\n",
      "Ratio:  1.10122027509\n",
      "1072.64975523 m 1193.76209749 m\n",
      "Ratio:  0.898545662897\n"
     ]
    },
    {
     "name": "stderr",
     "output_type": "stream",
     "text": [
      " 96%|█████████▌| 1210/1261 [03:26<00:08,  5.94it/s]"
     ]
    },
    {
     "name": "stdout",
     "output_type": "stream",
     "text": [
      "813.08223392 m 747.944319234 m\n",
      "Ratio:  1.08708925653\n",
      "924.360503275 m 1036.7704277 m\n",
      "Ratio:  0.891576841485\n"
     ]
    },
    {
     "name": "stderr",
     "output_type": "stream",
     "text": [
      " 96%|█████████▌| 1212/1261 [03:26<00:08,  6.10it/s]"
     ]
    },
    {
     "name": "stdout",
     "output_type": "stream",
     "text": [
      "820.53246236 m 894.810262517 m\n",
      "Ratio:  0.916990446725\n",
      "754.257073304 m 841.72442143 m\n",
      "Ratio:  0.896085528827\n"
     ]
    },
    {
     "name": "stderr",
     "output_type": "stream",
     "text": [
      " 96%|█████████▋| 1214/1261 [03:27<00:07,  6.09it/s]"
     ]
    },
    {
     "name": "stdout",
     "output_type": "stream",
     "text": [
      "1139.28614972 m 927.044757083 m\n",
      "Ratio:  1.22894406232\n",
      "959.211824352 m 650.675604286 m\n",
      "Ratio:  1.47417825109\n"
     ]
    },
    {
     "name": "stderr",
     "output_type": "stream",
     "text": [
      " 96%|█████████▋| 1216/1261 [03:27<00:07,  6.09it/s]"
     ]
    },
    {
     "name": "stdout",
     "output_type": "stream",
     "text": [
      "952.657512198 m 602.464079305 m\n",
      "Ratio:  1.58126856841\n",
      "1173.59731328 m 745.783444148 m\n",
      "Ratio:  1.57364355898\n"
     ]
    },
    {
     "name": "stderr",
     "output_type": "stream",
     "text": [
      " 97%|█████████▋| 1218/1261 [03:27<00:06,  6.16it/s]"
     ]
    },
    {
     "name": "stdout",
     "output_type": "stream",
     "text": [
      "1141.3763654 m 874.611998474 m\n",
      "Ratio:  1.30500881236\n",
      "1715.73509432 m 814.387550428 m\n",
      "Ratio:  2.10677962036\n"
     ]
    },
    {
     "name": "stderr",
     "output_type": "stream",
     "text": [
      " 97%|█████████▋| 1220/1261 [03:28<00:06,  6.19it/s]"
     ]
    },
    {
     "name": "stdout",
     "output_type": "stream",
     "text": [
      "1182.84103574 m 674.590574369 m\n",
      "Ratio:  1.75342063865\n",
      "1810.29958552 m 5662.00989443 m\n",
      "Ratio:  0.319727379372\n"
     ]
    },
    {
     "name": "stderr",
     "output_type": "stream",
     "text": [
      " 97%|█████████▋| 1222/1261 [03:28<00:06,  6.03it/s]"
     ]
    },
    {
     "name": "stdout",
     "output_type": "stream",
     "text": [
      "1497.99717338 m 2905.33351096 m\n",
      "Ratio:  0.51560248341\n",
      "1780.69266822 m 11087.9495392 m\n",
      "Ratio:  0.160597111479\n"
     ]
    },
    {
     "name": "stderr",
     "output_type": "stream",
     "text": [
      " 97%|█████████▋| 1224/1261 [03:28<00:06,  6.04it/s]"
     ]
    },
    {
     "name": "stdout",
     "output_type": "stream",
     "text": [
      "1630.38275163 m 2180.33014047 m\n",
      "Ratio:  0.747768753622\n",
      "1502.83357013 m 1424.69023853 m\n",
      "Ratio:  1.05484934864\n"
     ]
    },
    {
     "name": "stderr",
     "output_type": "stream",
     "text": [
      " 97%|█████████▋| 1226/1261 [03:29<00:05,  6.09it/s]"
     ]
    },
    {
     "name": "stdout",
     "output_type": "stream",
     "text": [
      "1630.84676145 m 763.680317945 m\n",
      "Ratio:  2.13550974555\n",
      "1329.55029513 m 1110.4572533 m\n",
      "Ratio:  1.19729984308\n"
     ]
    },
    {
     "name": "stderr",
     "output_type": "stream",
     "text": [
      " 97%|█████████▋| 1228/1261 [03:29<00:05,  5.73it/s]"
     ]
    },
    {
     "name": "stdout",
     "output_type": "stream",
     "text": [
      "1528.49635568 m 663.87392444 m\n",
      "Ratio:  2.3023895041\n",
      "1686.51858249 m 991.276927832 m\n",
      "Ratio:  1.70135966564\n"
     ]
    },
    {
     "name": "stderr",
     "output_type": "stream",
     "text": [
      " 98%|█████████▊| 1230/1261 [03:29<00:05,  5.93it/s]"
     ]
    },
    {
     "name": "stdout",
     "output_type": "stream",
     "text": [
      "1492.79221767 m 1118.79528217 m\n",
      "Ratio:  1.33428540632\n",
      "1824.8901514 m 744.696999017 m\n",
      "Ratio:  2.45051363683\n"
     ]
    },
    {
     "name": "stderr",
     "output_type": "stream",
     "text": [
      " 98%|█████████▊| 1232/1261 [03:30<00:04,  5.91it/s]"
     ]
    },
    {
     "name": "stdout",
     "output_type": "stream",
     "text": [
      "1014.19074816 m 438.102698581 m\n",
      "Ratio:  2.31496119847\n",
      "1145.93260182 m 2426.72222485 m\n",
      "Ratio:  0.472214162003\n"
     ]
    },
    {
     "name": "stderr",
     "output_type": "stream",
     "text": [
      " 98%|█████████▊| 1234/1261 [03:30<00:04,  5.98it/s]"
     ]
    },
    {
     "name": "stdout",
     "output_type": "stream",
     "text": [
      "2228.19813777 m 4784.69825739 m\n",
      "Ratio:  0.465692509308\n",
      "2410.93025754 m 61081.7312442 m\n",
      "Ratio:  0.0394705619574\n"
     ]
    },
    {
     "name": "stderr",
     "output_type": "stream",
     "text": [
      " 98%|█████████▊| 1236/1261 [03:30<00:04,  6.03it/s]"
     ]
    },
    {
     "name": "stdout",
     "output_type": "stream",
     "text": [
      "4032.47342184 m 4546.81421836 m\n",
      "Ratio:  0.88687886247\n",
      "10462.284483 m 10298.6935783 m\n",
      "Ratio:  1.01588462686\n"
     ]
    },
    {
     "name": "stderr",
     "output_type": "stream",
     "text": [
      " 98%|█████████▊| 1238/1261 [03:31<00:03,  5.83it/s]"
     ]
    },
    {
     "name": "stdout",
     "output_type": "stream",
     "text": [
      "7327.07589404 m 27396.1266378 m\n",
      "Ratio:  0.267449336576\n",
      "10053.900995 m 21198.1123612 m\n",
      "Ratio:  0.47428284291\n"
     ]
    },
    {
     "name": "stderr",
     "output_type": "stream",
     "text": [
      " 98%|█████████▊| 1240/1261 [03:31<00:03,  6.01it/s]"
     ]
    },
    {
     "name": "stdout",
     "output_type": "stream",
     "text": [
      "7372.83942991 m 8448.0360329 m\n",
      "Ratio:  0.872728217683\n",
      "5197.29433887 m 5894.24174149 m\n",
      "Ratio:  0.881757920156\n"
     ]
    },
    {
     "name": "stderr",
     "output_type": "stream",
     "text": [
      " 98%|█████████▊| 1242/1261 [03:31<00:03,  6.15it/s]"
     ]
    },
    {
     "name": "stdout",
     "output_type": "stream",
     "text": [
      "10358.7684011 m 12202.8325073 m\n",
      "Ratio:  0.848882289824\n",
      "5112.74692054 m 3330.47081997 m\n",
      "Ratio:  1.53514238584\n"
     ]
    },
    {
     "name": "stderr",
     "output_type": "stream",
     "text": [
      " 99%|█████████▊| 1244/1261 [03:32<00:02,  6.06it/s]"
     ]
    },
    {
     "name": "stdout",
     "output_type": "stream",
     "text": [
      "5670.48821737 m 2528.11928558 m\n",
      "Ratio:  2.24296703471\n",
      "5274.38927093 m 1377.35397363 m\n",
      "Ratio:  3.8293636726\n"
     ]
    },
    {
     "name": "stderr",
     "output_type": "stream",
     "text": [
      " 99%|█████████▉| 1246/1261 [03:32<00:02,  6.10it/s]"
     ]
    },
    {
     "name": "stdout",
     "output_type": "stream",
     "text": [
      "6023.1099932 m 1210.39900025 m\n",
      "Ratio:  4.97613596174\n",
      "2923.27466811 m 720.74677966 m\n",
      "Ratio:  4.05589695384\n"
     ]
    },
    {
     "name": "stderr",
     "output_type": "stream",
     "text": [
      " 99%|█████████▉| 1248/1261 [03:32<00:02,  6.05it/s]"
     ]
    },
    {
     "name": "stdout",
     "output_type": "stream",
     "text": [
      "4723.51861022 m 1704.02590283 m\n",
      "Ratio:  2.77197582641\n",
      "3522.97441883 m 1458.95233887 m\n",
      "Ratio:  2.4147289291\n"
     ]
    },
    {
     "name": "stderr",
     "output_type": "stream",
     "text": [
      " 99%|█████████▉| 1250/1261 [03:33<00:01,  6.07it/s]"
     ]
    },
    {
     "name": "stdout",
     "output_type": "stream",
     "text": [
      "3423.11806433 m 1515.111424 m\n",
      "Ratio:  2.25931770437\n",
      "4369.27392964 m 10118.3446492 m\n",
      "Ratio:  0.431817069007\n"
     ]
    },
    {
     "name": "stderr",
     "output_type": "stream",
     "text": [
      " 99%|█████████▉| 1252/1261 [03:33<00:01,  6.11it/s]"
     ]
    },
    {
     "name": "stdout",
     "output_type": "stream",
     "text": [
      "5722.53551923 m 13880.2055959 m\n",
      "Ratio:  0.41228031384\n",
      "3868.16823411 m 17589.2919612 m\n",
      "Ratio:  0.21991608546\n"
     ]
    },
    {
     "name": "stderr",
     "output_type": "stream",
     "text": [
      " 99%|█████████▉| 1254/1261 [03:33<00:01,  6.10it/s]"
     ]
    },
    {
     "name": "stdout",
     "output_type": "stream",
     "text": [
      "2649.08962953 m 3723.20256897 m\n",
      "Ratio:  0.711508326626\n",
      "4944.91167783 m 32462.0779568 m\n",
      "Ratio:  0.152328870765\n"
     ]
    },
    {
     "name": "stderr",
     "output_type": "stream",
     "text": [
      "100%|█████████▉| 1256/1261 [03:34<00:00,  6.19it/s]"
     ]
    },
    {
     "name": "stdout",
     "output_type": "stream",
     "text": [
      "4772.94528945 m 1347.65426495 m\n",
      "Ratio:  3.54166896778\n",
      "3467.06915314 m 1558.84641463 m\n",
      "Ratio:  2.22412491737\n"
     ]
    },
    {
     "name": "stderr",
     "output_type": "stream",
     "text": [
      "100%|█████████▉| 1258/1261 [03:34<00:00,  6.09it/s]"
     ]
    },
    {
     "name": "stdout",
     "output_type": "stream",
     "text": [
      "10393.8199665 m 2776.96765873 m\n",
      "Ratio:  3.74286676829\n",
      "29717.6091706 m 1636.69577425 m\n",
      "Ratio:  18.1570757609\n"
     ]
    },
    {
     "name": "stderr",
     "output_type": "stream",
     "text": [
      "100%|█████████▉| 1260/1261 [03:34<00:00,  6.18it/s]"
     ]
    },
    {
     "name": "stdout",
     "output_type": "stream",
     "text": [
      "137942.282224 m 1583.9119315 m\n",
      "Ratio:  87.0896162098\n",
      "22896.3210293 m 3379.68126081 m\n",
      "Ratio:  6.77469834058\n"
     ]
    },
    {
     "name": "stderr",
     "output_type": "stream",
     "text": [
      "\n"
     ]
    },
    {
     "name": "stdout",
     "output_type": "stream",
     "text": [
      "[MoviePy] Done.\n",
      "[MoviePy] >>>> Video ready: project_video_done_2.mp4 \n",
      "\n"
     ]
    }
   ],
   "source": [
    "white_output = 'project_video_done_2.mp4'\n",
    "clip1 = VideoFileClip('project_video.mp4')\n",
    "white_clip = clip1.fl_image(process_image)  # NOTE: this function expects color images!!\n",
    "white_clip.write_videofile(white_output, audio=False)"
   ]
  },
  {
   "cell_type": "code",
   "execution_count": 11,
   "metadata": {
    "collapsed": false
   },
   "outputs": [
    {
     "data": {
      "text/html": [
       "\n",
       "<video width=\"960\" height=\"540\" controls>\n",
       "  <source src=\"project_video_done_2.mp4\">\n",
       "</video>\n"
      ],
      "text/plain": [
       "<IPython.core.display.HTML object>"
      ]
     },
     "execution_count": 11,
     "metadata": {},
     "output_type": "execute_result"
    }
   ],
   "source": [
    "HTML(\"\"\"\n",
    "<video width=\"960\" height=\"540\" controls>\n",
    "  <source src=\"{0}\">\n",
    "</video>\n",
    "\"\"\".format(white_output))"
   ]
  },
  {
   "cell_type": "code",
   "execution_count": 12,
   "metadata": {
    "collapsed": false,
    "scrolled": false
   },
   "outputs": [
    {
     "name": "stdout",
     "output_type": "stream",
     "text": [
      "3524.68990026 m 103.71219403 m\n",
      "Ratio:  33.9852987706\n",
      "[MoviePy] >>>> Building video challenge_video_done_2.mp4\n",
      "[MoviePy] Writing video challenge_video_done_2.mp4\n"
     ]
    },
    {
     "name": "stderr",
     "output_type": "stream",
     "text": [
      "  0%|          | 1/485 [00:00<01:11,  6.73it/s]"
     ]
    },
    {
     "name": "stdout",
     "output_type": "stream",
     "text": [
      "3524.68990026 m 103.71219403 m\n",
      "Ratio:  33.9852987706\n"
     ]
    },
    {
     "name": "stderr",
     "output_type": "stream",
     "text": [
      "\r",
      "  0%|          | 2/485 [00:00<01:11,  6.72it/s]"
     ]
    },
    {
     "name": "stdout",
     "output_type": "stream",
     "text": [
      "27764.3319675 m 464.385484346 m\n",
      "Ratio:  59.7872519779\n"
     ]
    },
    {
     "name": "stderr",
     "output_type": "stream",
     "text": [
      "\r",
      "  1%|          | 3/485 [00:00<01:11,  6.75it/s]"
     ]
    },
    {
     "name": "stdout",
     "output_type": "stream",
     "text": [
      "814.601334553 m 507.897064668 m\n",
      "Ratio:  1.60387092429\n"
     ]
    },
    {
     "name": "stderr",
     "output_type": "stream",
     "text": [
      "\r",
      "  1%|          | 4/485 [00:00<01:11,  6.77it/s]"
     ]
    },
    {
     "name": "stdout",
     "output_type": "stream",
     "text": [
      "511.785197451 m 479.890644539 m\n",
      "Ratio:  1.06646212689\n"
     ]
    },
    {
     "name": "stderr",
     "output_type": "stream",
     "text": [
      "\r",
      "  1%|          | 5/485 [00:00<01:10,  6.82it/s]"
     ]
    },
    {
     "name": "stdout",
     "output_type": "stream",
     "text": [
      "725.457177848 m 553.449087919 m\n",
      "Ratio:  1.3107929775\n"
     ]
    },
    {
     "name": "stderr",
     "output_type": "stream",
     "text": [
      "\r",
      "  1%|          | 6/485 [00:00<01:12,  6.59it/s]"
     ]
    },
    {
     "name": "stdout",
     "output_type": "stream",
     "text": [
      "515.435753847 m 576.832943979 m\n",
      "Ratio:  0.893561574849\n"
     ]
    },
    {
     "name": "stderr",
     "output_type": "stream",
     "text": [
      "\r",
      "  1%|▏         | 7/485 [00:01<01:12,  6.62it/s]"
     ]
    },
    {
     "name": "stdout",
     "output_type": "stream",
     "text": [
      "1523.50521968 m 367.552216051 m\n",
      "Ratio:  4.14500349378\n"
     ]
    },
    {
     "name": "stderr",
     "output_type": "stream",
     "text": [
      "\r",
      "  2%|▏         | 8/485 [00:01<01:11,  6.66it/s]"
     ]
    },
    {
     "name": "stdout",
     "output_type": "stream",
     "text": [
      "1410.80379197 m 929.154726631 m\n",
      "Ratio:  1.51837336832\n"
     ]
    },
    {
     "name": "stderr",
     "output_type": "stream",
     "text": [
      "\r",
      "  2%|▏         | 9/485 [00:01<01:12,  6.55it/s]"
     ]
    },
    {
     "name": "stdout",
     "output_type": "stream",
     "text": [
      "2052.12590268 m 372.528995739 m\n",
      "Ratio:  5.50863402891\n"
     ]
    },
    {
     "name": "stderr",
     "output_type": "stream",
     "text": [
      "\r",
      "  2%|▏         | 10/485 [00:01<01:13,  6.44it/s]"
     ]
    },
    {
     "name": "stdout",
     "output_type": "stream",
     "text": [
      "4317.82870668 m 522.94713177 m\n",
      "Ratio:  8.25672127135\n"
     ]
    },
    {
     "name": "stderr",
     "output_type": "stream",
     "text": [
      "\r",
      "  2%|▏         | 11/485 [00:01<01:16,  6.20it/s]"
     ]
    },
    {
     "name": "stdout",
     "output_type": "stream",
     "text": [
      "2762.48041787 m 351.84704911 m\n",
      "Ratio:  7.85136730536\n"
     ]
    },
    {
     "name": "stderr",
     "output_type": "stream",
     "text": [
      "\r",
      "  2%|▏         | 12/485 [00:01<01:14,  6.37it/s]"
     ]
    },
    {
     "name": "stdout",
     "output_type": "stream",
     "text": [
      "1199.65373672 m 340.54217418 m\n",
      "Ratio:  3.5227758195\n"
     ]
    },
    {
     "name": "stderr",
     "output_type": "stream",
     "text": [
      "\r",
      "  3%|▎         | 13/485 [00:02<01:16,  6.16it/s]"
     ]
    },
    {
     "name": "stdout",
     "output_type": "stream",
     "text": [
      "2242.14786935 m 384.393618559 m\n",
      "Ratio:  5.83294768982\n"
     ]
    },
    {
     "name": "stderr",
     "output_type": "stream",
     "text": [
      "\r",
      "  3%|▎         | 14/485 [00:02<01:14,  6.35it/s]"
     ]
    },
    {
     "name": "stdout",
     "output_type": "stream",
     "text": [
      "2687.12061862 m 420.863451254 m\n",
      "Ratio:  6.38478017185\n"
     ]
    },
    {
     "name": "stderr",
     "output_type": "stream",
     "text": [
      "\r",
      "  3%|▎         | 15/485 [00:02<01:12,  6.49it/s]"
     ]
    },
    {
     "name": "stdout",
     "output_type": "stream",
     "text": [
      "3565.55289591 m 430.608948949 m\n",
      "Ratio:  8.28025730681\n"
     ]
    },
    {
     "name": "stderr",
     "output_type": "stream",
     "text": [
      "\r",
      "  3%|▎         | 16/485 [00:02<01:11,  6.59it/s]"
     ]
    },
    {
     "name": "stdout",
     "output_type": "stream",
     "text": [
      "11062.5810678 m 500.302164785 m\n",
      "Ratio:  22.1117993213\n"
     ]
    },
    {
     "name": "stderr",
     "output_type": "stream",
     "text": [
      "\r",
      "  4%|▎         | 17/485 [00:02<01:10,  6.66it/s]"
     ]
    },
    {
     "name": "stdout",
     "output_type": "stream",
     "text": [
      "13582.078897 m 527.537960999 m\n",
      "Ratio:  25.7461640699\n"
     ]
    },
    {
     "name": "stderr",
     "output_type": "stream",
     "text": [
      "\r",
      "  4%|▎         | 18/485 [00:02<01:10,  6.67it/s]"
     ]
    },
    {
     "name": "stdout",
     "output_type": "stream",
     "text": [
      "2377.90609352 m 503.375070188 m\n",
      "Ratio:  4.72392502996\n"
     ]
    },
    {
     "name": "stderr",
     "output_type": "stream",
     "text": [
      "\r",
      "  4%|▍         | 19/485 [00:02<01:09,  6.68it/s]"
     ]
    },
    {
     "name": "stdout",
     "output_type": "stream",
     "text": [
      "13722.3686198 m 452.565997929 m\n",
      "Ratio:  30.321254099\n"
     ]
    },
    {
     "name": "stderr",
     "output_type": "stream",
     "text": [
      "\r",
      "  4%|▍         | 20/485 [00:03<01:09,  6.67it/s]"
     ]
    },
    {
     "name": "stdout",
     "output_type": "stream",
     "text": [
      "2595.86206184 m 588.692579928 m\n",
      "Ratio:  4.40953759287\n"
     ]
    },
    {
     "name": "stderr",
     "output_type": "stream",
     "text": [
      "\r",
      "  4%|▍         | 21/485 [00:03<01:09,  6.72it/s]"
     ]
    },
    {
     "name": "stdout",
     "output_type": "stream",
     "text": [
      "1152.62505709 m 440.052525304 m\n",
      "Ratio:  2.61928972296\n"
     ]
    },
    {
     "name": "stderr",
     "output_type": "stream",
     "text": [
      "\r",
      "  5%|▍         | 22/485 [00:03<01:08,  6.75it/s]"
     ]
    },
    {
     "name": "stdout",
     "output_type": "stream",
     "text": [
      "492.242906147 m 524.846369448 m\n",
      "Ratio:  0.937879986985\n"
     ]
    },
    {
     "name": "stderr",
     "output_type": "stream",
     "text": [
      "\r",
      "  5%|▍         | 23/485 [00:03<01:08,  6.72it/s]"
     ]
    },
    {
     "name": "stdout",
     "output_type": "stream",
     "text": [
      "1543.62850612 m 1122.95743113 m\n",
      "Ratio:  1.37460999262\n"
     ]
    },
    {
     "name": "stderr",
     "output_type": "stream",
     "text": [
      "\r",
      "  5%|▍         | 24/485 [00:03<01:09,  6.66it/s]"
     ]
    },
    {
     "name": "stdout",
     "output_type": "stream",
     "text": [
      "1406.87506926 m 1590.38813554 m\n",
      "Ratio:  0.884611144804\n"
     ]
    },
    {
     "name": "stderr",
     "output_type": "stream",
     "text": [
      "\r",
      "  5%|▌         | 25/485 [00:03<01:14,  6.17it/s]"
     ]
    },
    {
     "name": "stdout",
     "output_type": "stream",
     "text": [
      "1263.66196404 m 691.308499036 m\n",
      "Ratio:  1.8279277136\n"
     ]
    },
    {
     "name": "stderr",
     "output_type": "stream",
     "text": [
      "\r",
      "  5%|▌         | 26/485 [00:04<01:15,  6.11it/s]"
     ]
    },
    {
     "name": "stdout",
     "output_type": "stream",
     "text": [
      "2530.31838947 m 460.397664057 m\n",
      "Ratio:  5.49594098106\n"
     ]
    },
    {
     "name": "stderr",
     "output_type": "stream",
     "text": [
      "\r",
      "  6%|▌         | 27/485 [00:04<01:12,  6.34it/s]"
     ]
    },
    {
     "name": "stdout",
     "output_type": "stream",
     "text": [
      "1125.09734681 m 458.830834755 m\n",
      "Ratio:  2.45209620101\n"
     ]
    },
    {
     "name": "stderr",
     "output_type": "stream",
     "text": [
      "\r",
      "  6%|▌         | 28/485 [00:04<01:10,  6.44it/s]"
     ]
    },
    {
     "name": "stdout",
     "output_type": "stream",
     "text": [
      "1799.92717877 m 515.841955907 m\n",
      "Ratio:  3.48929969374\n"
     ]
    },
    {
     "name": "stderr",
     "output_type": "stream",
     "text": [
      "\r",
      "  6%|▌         | 29/485 [00:04<01:09,  6.53it/s]"
     ]
    },
    {
     "name": "stdout",
     "output_type": "stream",
     "text": [
      "3314.86707334 m 537.505220586 m\n",
      "Ratio:  6.16713465541\n"
     ]
    },
    {
     "name": "stderr",
     "output_type": "stream",
     "text": [
      "\r",
      "  6%|▌         | 30/485 [00:04<01:09,  6.55it/s]"
     ]
    },
    {
     "name": "stdout",
     "output_type": "stream",
     "text": [
      "1472.51739484 m 733.490809497 m\n",
      "Ratio:  2.00754716457\n"
     ]
    },
    {
     "name": "stderr",
     "output_type": "stream",
     "text": [
      "\r",
      "  6%|▋         | 31/485 [00:04<01:09,  6.57it/s]"
     ]
    },
    {
     "name": "stdout",
     "output_type": "stream",
     "text": [
      "31328.6556662 m 462.844449737 m\n",
      "Ratio:  67.6872233943\n"
     ]
    },
    {
     "name": "stderr",
     "output_type": "stream",
     "text": [
      "\r",
      "  7%|▋         | 32/485 [00:04<01:09,  6.49it/s]"
     ]
    },
    {
     "name": "stdout",
     "output_type": "stream",
     "text": [
      "1298.58260395 m 564.215302903 m\n",
      "Ratio:  2.30157281675\n"
     ]
    },
    {
     "name": "stderr",
     "output_type": "stream",
     "text": [
      "\r",
      "  7%|▋         | 33/485 [00:05<01:11,  6.35it/s]"
     ]
    },
    {
     "name": "stdout",
     "output_type": "stream",
     "text": [
      "941.274333888 m 554.514577084 m\n",
      "Ratio:  1.69747446287\n"
     ]
    },
    {
     "name": "stderr",
     "output_type": "stream",
     "text": [
      "\r",
      "  7%|▋         | 34/485 [00:05<01:10,  6.38it/s]"
     ]
    },
    {
     "name": "stdout",
     "output_type": "stream",
     "text": [
      "905.225001091 m 673.155095116 m\n",
      "Ratio:  1.34474953493\n"
     ]
    },
    {
     "name": "stderr",
     "output_type": "stream",
     "text": [
      "\r",
      "  7%|▋         | 35/485 [00:05<01:09,  6.48it/s]"
     ]
    },
    {
     "name": "stdout",
     "output_type": "stream",
     "text": [
      "5878.5046826 m 6434.72524812 m\n",
      "Ratio:  0.913559546978\n"
     ]
    },
    {
     "name": "stderr",
     "output_type": "stream",
     "text": [
      "\r",
      "  7%|▋         | 36/485 [00:05<01:07,  6.61it/s]"
     ]
    },
    {
     "name": "stdout",
     "output_type": "stream",
     "text": [
      "800.374309007 m 2974.53952485 m\n",
      "Ratio:  0.269075029033\n"
     ]
    },
    {
     "name": "stderr",
     "output_type": "stream",
     "text": [
      "\r",
      "  8%|▊         | 37/485 [00:05<01:08,  6.52it/s]"
     ]
    },
    {
     "name": "stdout",
     "output_type": "stream",
     "text": [
      "907.726528737 m 778.066525615 m\n",
      "Ratio:  1.16664385223\n"
     ]
    },
    {
     "name": "stderr",
     "output_type": "stream",
     "text": [
      "\r",
      "  8%|▊         | 38/485 [00:05<01:06,  6.70it/s]"
     ]
    },
    {
     "name": "stdout",
     "output_type": "stream",
     "text": [
      "3008.79090208 m 2282.95824121 m\n",
      "Ratio:  1.31793514562\n"
     ]
    },
    {
     "name": "stderr",
     "output_type": "stream",
     "text": [
      "\r",
      "  8%|▊         | 39/485 [00:05<01:06,  6.66it/s]"
     ]
    },
    {
     "name": "stdout",
     "output_type": "stream",
     "text": [
      "25198.626911 m 719.392162458 m\n",
      "Ratio:  35.0276639447\n"
     ]
    },
    {
     "name": "stderr",
     "output_type": "stream",
     "text": [
      "\r",
      "  8%|▊         | 40/485 [00:06<01:06,  6.68it/s]"
     ]
    },
    {
     "name": "stdout",
     "output_type": "stream",
     "text": [
      "976.442156697 m 433.571499328 m\n",
      "Ratio:  2.25209027394\n"
     ]
    },
    {
     "name": "stderr",
     "output_type": "stream",
     "text": [
      "\r",
      "  8%|▊         | 41/485 [00:06<01:05,  6.75it/s]"
     ]
    },
    {
     "name": "stdout",
     "output_type": "stream",
     "text": [
      "630.558687622 m 216.554109517 m\n",
      "Ratio:  2.91178352158\n"
     ]
    },
    {
     "name": "stderr",
     "output_type": "stream",
     "text": [
      "\r",
      "  9%|▊         | 42/485 [00:06<01:05,  6.79it/s]"
     ]
    },
    {
     "name": "stdout",
     "output_type": "stream",
     "text": [
      "627.048505484 m 210.999279987 m\n",
      "Ratio:  2.97180400578\n"
     ]
    },
    {
     "name": "stderr",
     "output_type": "stream",
     "text": [
      "\r",
      "  9%|▉         | 43/485 [00:06<01:07,  6.58it/s]"
     ]
    },
    {
     "name": "stdout",
     "output_type": "stream",
     "text": [
      "716.468086642 m 213.920312185 m\n",
      "Ratio:  3.34922887557\n"
     ]
    },
    {
     "name": "stderr",
     "output_type": "stream",
     "text": [
      "\r",
      "  9%|▉         | 44/485 [00:06<01:05,  6.71it/s]"
     ]
    },
    {
     "name": "stdout",
     "output_type": "stream",
     "text": [
      "1442.48847895 m 220.90283842 m\n",
      "Ratio:  6.52996805864\n"
     ]
    },
    {
     "name": "stderr",
     "output_type": "stream",
     "text": [
      "\r",
      "  9%|▉         | 45/485 [00:06<01:03,  6.91it/s]"
     ]
    },
    {
     "name": "stdout",
     "output_type": "stream",
     "text": [
      "570.564653127 m 219.412637369 m\n",
      "Ratio:  2.60041837138\n"
     ]
    },
    {
     "name": "stderr",
     "output_type": "stream",
     "text": [
      "\r",
      "  9%|▉         | 46/485 [00:07<01:05,  6.69it/s]"
     ]
    },
    {
     "name": "stdout",
     "output_type": "stream",
     "text": [
      "614.610456891 m 234.39897628 m\n",
      "Ratio:  2.62206971483\n"
     ]
    },
    {
     "name": "stderr",
     "output_type": "stream",
     "text": [
      "\r",
      " 10%|▉         | 47/485 [00:07<01:06,  6.56it/s]"
     ]
    },
    {
     "name": "stdout",
     "output_type": "stream",
     "text": [
      "600.563772829 m 250.177604574 m\n",
      "Ratio:  2.40054969689\n"
     ]
    },
    {
     "name": "stderr",
     "output_type": "stream",
     "text": [
      "\r",
      " 10%|▉         | 48/485 [00:07<01:07,  6.51it/s]"
     ]
    },
    {
     "name": "stdout",
     "output_type": "stream",
     "text": [
      "376.270664888 m 241.705462612 m\n",
      "Ratio:  1.5567321517\n"
     ]
    },
    {
     "name": "stderr",
     "output_type": "stream",
     "text": [
      "\r",
      " 10%|█         | 49/485 [00:07<01:07,  6.50it/s]"
     ]
    },
    {
     "name": "stdout",
     "output_type": "stream",
     "text": [
      "246.007025761 m 225.714815912 m\n",
      "Ratio:  1.08990198436\n"
     ]
    },
    {
     "name": "stderr",
     "output_type": "stream",
     "text": [
      "\r",
      " 10%|█         | 50/485 [00:07<01:06,  6.56it/s]"
     ]
    },
    {
     "name": "stdout",
     "output_type": "stream",
     "text": [
      "370.906281085 m 223.819775486 m\n",
      "Ratio:  1.65716492334\n"
     ]
    },
    {
     "name": "stderr",
     "output_type": "stream",
     "text": [
      "\r",
      " 11%|█         | 51/485 [00:07<01:06,  6.57it/s]"
     ]
    },
    {
     "name": "stdout",
     "output_type": "stream",
     "text": [
      "586.723984957 m 236.688049259 m\n",
      "Ratio:  2.47889146408\n"
     ]
    },
    {
     "name": "stderr",
     "output_type": "stream",
     "text": [
      "\r",
      " 11%|█         | 52/485 [00:07<01:09,  6.23it/s]"
     ]
    },
    {
     "name": "stdout",
     "output_type": "stream",
     "text": [
      "782.736665122 m 249.572882554 m\n",
      "Ratio:  3.13630494272\n"
     ]
    },
    {
     "name": "stderr",
     "output_type": "stream",
     "text": [
      "\r",
      " 11%|█         | 53/485 [00:08<01:07,  6.41it/s]"
     ]
    },
    {
     "name": "stdout",
     "output_type": "stream",
     "text": [
      "398.766758758 m 248.367007714 m\n",
      "Ratio:  1.60555446727\n"
     ]
    },
    {
     "name": "stderr",
     "output_type": "stream",
     "text": [
      "\r",
      " 11%|█         | 54/485 [00:08<01:06,  6.53it/s]"
     ]
    },
    {
     "name": "stdout",
     "output_type": "stream",
     "text": [
      "235.285463455 m 253.155514829 m\n",
      "Ratio:  0.929410775876\n"
     ]
    },
    {
     "name": "stderr",
     "output_type": "stream",
     "text": [
      "\r",
      " 11%|█▏        | 55/485 [00:08<01:04,  6.63it/s]"
     ]
    },
    {
     "name": "stdout",
     "output_type": "stream",
     "text": [
      "277.732011833 m 219.512852827 m\n",
      "Ratio:  1.26521981859\n"
     ]
    },
    {
     "name": "stderr",
     "output_type": "stream",
     "text": [
      "\r",
      " 12%|█▏        | 56/485 [00:08<01:03,  6.74it/s]"
     ]
    },
    {
     "name": "stdout",
     "output_type": "stream",
     "text": [
      "457.063510295 m 221.652853279 m\n",
      "Ratio:  2.06206914792\n"
     ]
    },
    {
     "name": "stderr",
     "output_type": "stream",
     "text": [
      "\r",
      " 12%|█▏        | 57/485 [00:08<01:02,  6.84it/s]"
     ]
    },
    {
     "name": "stdout",
     "output_type": "stream",
     "text": [
      "1219.40811538 m 214.538554644 m\n",
      "Ratio:  5.68386468996\n"
     ]
    },
    {
     "name": "stderr",
     "output_type": "stream",
     "text": [
      "\r",
      " 12%|█▏        | 58/485 [00:08<01:01,  6.94it/s]"
     ]
    },
    {
     "name": "stdout",
     "output_type": "stream",
     "text": [
      "790.642099443 m 219.49252106 m\n",
      "Ratio:  3.60213685471\n"
     ]
    },
    {
     "name": "stderr",
     "output_type": "stream",
     "text": [
      "\r",
      " 12%|█▏        | 59/485 [00:08<01:02,  6.84it/s]"
     ]
    },
    {
     "name": "stdout",
     "output_type": "stream",
     "text": [
      "376.831500968 m 230.903820627 m\n",
      "Ratio:  1.63198469365\n"
     ]
    },
    {
     "name": "stderr",
     "output_type": "stream",
     "text": [
      "\r",
      " 12%|█▏        | 60/485 [00:09<01:03,  6.73it/s]"
     ]
    },
    {
     "name": "stdout",
     "output_type": "stream",
     "text": [
      "536.685726778 m 228.059911125 m\n",
      "Ratio:  2.35326640325\n"
     ]
    },
    {
     "name": "stderr",
     "output_type": "stream",
     "text": [
      "\r",
      " 13%|█▎        | 61/485 [00:09<01:02,  6.81it/s]"
     ]
    },
    {
     "name": "stdout",
     "output_type": "stream",
     "text": [
      "286.811174709 m 248.115853099 m\n",
      "Ratio:  1.15595666753\n"
     ]
    },
    {
     "name": "stderr",
     "output_type": "stream",
     "text": [
      "\r",
      " 13%|█▎        | 62/485 [00:09<01:02,  6.76it/s]"
     ]
    },
    {
     "name": "stdout",
     "output_type": "stream",
     "text": [
      "220.467566067 m 270.709410522 m\n",
      "Ratio:  0.814406730973\n"
     ]
    },
    {
     "name": "stderr",
     "output_type": "stream",
     "text": [
      "\r",
      " 13%|█▎        | 63/485 [00:09<01:02,  6.71it/s]"
     ]
    },
    {
     "name": "stdout",
     "output_type": "stream",
     "text": [
      "160.066481393 m 265.215412185 m\n",
      "Ratio:  0.603533859793\n"
     ]
    },
    {
     "name": "stderr",
     "output_type": "stream",
     "text": [
      "\r",
      " 13%|█▎        | 64/485 [00:09<01:02,  6.72it/s]"
     ]
    },
    {
     "name": "stdout",
     "output_type": "stream",
     "text": [
      "344.158726226 m 304.461553392 m\n",
      "Ratio:  1.13038484627\n"
     ]
    },
    {
     "name": "stderr",
     "output_type": "stream",
     "text": [
      "\r",
      " 13%|█▎        | 65/485 [00:09<01:03,  6.66it/s]"
     ]
    },
    {
     "name": "stdout",
     "output_type": "stream",
     "text": [
      "313.62365699 m 382.365853803 m\n",
      "Ratio:  0.820218787505\n"
     ]
    },
    {
     "name": "stderr",
     "output_type": "stream",
     "text": [
      "\r",
      " 14%|█▎        | 66/485 [00:10<01:03,  6.64it/s]"
     ]
    },
    {
     "name": "stdout",
     "output_type": "stream",
     "text": [
      "237.66123692 m 365.949381204 m\n",
      "Ratio:  0.649437460827\n"
     ]
    },
    {
     "name": "stderr",
     "output_type": "stream",
     "text": [
      "\r",
      " 14%|█▍        | 67/485 [00:10<01:02,  6.69it/s]"
     ]
    },
    {
     "name": "stdout",
     "output_type": "stream",
     "text": [
      "226.263333421 m 250.755800949 m\n",
      "Ratio:  0.902325420051\n"
     ]
    },
    {
     "name": "stderr",
     "output_type": "stream",
     "text": [
      "\r",
      " 14%|█▍        | 68/485 [00:10<01:01,  6.74it/s]"
     ]
    },
    {
     "name": "stdout",
     "output_type": "stream",
     "text": [
      "301.110805767 m 335.149131782 m\n",
      "Ratio:  0.898438268855\n"
     ]
    },
    {
     "name": "stderr",
     "output_type": "stream",
     "text": [
      "\r",
      " 14%|█▍        | 69/485 [00:10<01:01,  6.77it/s]"
     ]
    },
    {
     "name": "stdout",
     "output_type": "stream",
     "text": [
      "381.790431959 m 170.683290363 m\n",
      "Ratio:  2.23683543448\n"
     ]
    },
    {
     "name": "stderr",
     "output_type": "stream",
     "text": [
      "\r",
      " 14%|█▍        | 70/485 [00:10<01:01,  6.78it/s]"
     ]
    },
    {
     "name": "stdout",
     "output_type": "stream",
     "text": [
      "438.13904413 m 179.108207673 m\n",
      "Ratio:  2.44622538422\n"
     ]
    },
    {
     "name": "stderr",
     "output_type": "stream",
     "text": [
      "\r",
      " 15%|█▍        | 71/485 [00:10<01:01,  6.77it/s]"
     ]
    },
    {
     "name": "stdout",
     "output_type": "stream",
     "text": [
      "13464.5599965 m 188.749238383 m\n",
      "Ratio:  71.335705044\n"
     ]
    },
    {
     "name": "stderr",
     "output_type": "stream",
     "text": [
      "\r",
      " 15%|█▍        | 72/485 [00:10<01:06,  6.25it/s]"
     ]
    },
    {
     "name": "stdout",
     "output_type": "stream",
     "text": [
      "2391.11605669 m 195.162970608 m\n",
      "Ratio:  12.2518941439\n"
     ]
    },
    {
     "name": "stderr",
     "output_type": "stream",
     "text": [
      "\r",
      " 15%|█▌        | 73/485 [00:11<01:06,  6.18it/s]"
     ]
    },
    {
     "name": "stdout",
     "output_type": "stream",
     "text": [
      "940.27778642 m 204.443949908 m\n",
      "Ratio:  4.59919595\n"
     ]
    },
    {
     "name": "stderr",
     "output_type": "stream",
     "text": [
      "\r",
      " 15%|█▌        | 74/485 [00:11<01:06,  6.20it/s]"
     ]
    },
    {
     "name": "stdout",
     "output_type": "stream",
     "text": [
      "402.221486667 m 224.440876285 m\n",
      "Ratio:  1.7921044211\n"
     ]
    },
    {
     "name": "stderr",
     "output_type": "stream",
     "text": [
      "\r",
      " 15%|█▌        | 75/485 [00:11<01:06,  6.19it/s]"
     ]
    },
    {
     "name": "stdout",
     "output_type": "stream",
     "text": [
      "2281.24932266 m 231.806634604 m\n",
      "Ratio:  9.84117355638\n"
     ]
    },
    {
     "name": "stderr",
     "output_type": "stream",
     "text": [
      "\r",
      " 16%|█▌        | 76/485 [00:11<01:04,  6.36it/s]"
     ]
    },
    {
     "name": "stdout",
     "output_type": "stream",
     "text": [
      "1361.32644431 m 218.627386062 m\n",
      "Ratio:  6.226696796\n"
     ]
    },
    {
     "name": "stderr",
     "output_type": "stream",
     "text": [
      "\r",
      " 16%|█▌        | 77/485 [00:11<01:03,  6.38it/s]"
     ]
    },
    {
     "name": "stdout",
     "output_type": "stream",
     "text": [
      "212.294302907 m 239.734263743 m\n",
      "Ratio:  0.885540095904\n"
     ]
    },
    {
     "name": "stderr",
     "output_type": "stream",
     "text": [
      "\r",
      " 16%|█▌        | 78/485 [00:11<01:03,  6.43it/s]"
     ]
    },
    {
     "name": "stdout",
     "output_type": "stream",
     "text": [
      "618.198815503 m 276.861548836 m\n",
      "Ratio:  2.2328807236\n"
     ]
    },
    {
     "name": "stderr",
     "output_type": "stream",
     "text": [
      "\r",
      " 16%|█▋        | 79/485 [00:12<01:03,  6.41it/s]"
     ]
    },
    {
     "name": "stdout",
     "output_type": "stream",
     "text": [
      "469.203619788 m 292.348765862 m\n",
      "Ratio:  1.60494475975\n"
     ]
    },
    {
     "name": "stderr",
     "output_type": "stream",
     "text": [
      "\r",
      " 16%|█▋        | 80/485 [00:12<01:05,  6.17it/s]"
     ]
    },
    {
     "name": "stdout",
     "output_type": "stream",
     "text": [
      "1735.58486594 m 299.213012846 m\n",
      "Ratio:  5.8004992812\n",
      "1012.85567669 m 313.627369388 m\n",
      "Ratio:  3.22948752421\n"
     ]
    },
    {
     "name": "stderr",
     "output_type": "stream",
     "text": [
      " 17%|█▋        | 82/485 [00:12<01:09,  5.78it/s]"
     ]
    },
    {
     "name": "stdout",
     "output_type": "stream",
     "text": [
      "406.432801821 m 371.623254453 m\n",
      "Ratio:  1.0936689159\n"
     ]
    },
    {
     "name": "stderr",
     "output_type": "stream",
     "text": [
      "\r",
      " 17%|█▋        | 83/485 [00:12<01:07,  5.96it/s]"
     ]
    },
    {
     "name": "stdout",
     "output_type": "stream",
     "text": [
      "361.710051959 m 356.475250922 m\n",
      "Ratio:  1.01468489333\n"
     ]
    },
    {
     "name": "stderr",
     "output_type": "stream",
     "text": [
      "\r",
      " 17%|█▋        | 84/485 [00:12<01:09,  5.73it/s]"
     ]
    },
    {
     "name": "stdout",
     "output_type": "stream",
     "text": [
      "356.041347204 m 410.556239532 m\n",
      "Ratio:  0.86721699227\n"
     ]
    },
    {
     "name": "stderr",
     "output_type": "stream",
     "text": [
      "\r",
      " 18%|█▊        | 85/485 [00:13<01:07,  5.91it/s]"
     ]
    },
    {
     "name": "stdout",
     "output_type": "stream",
     "text": [
      "386.29495481 m 354.8276406 m\n",
      "Ratio:  1.08868337922\n"
     ]
    },
    {
     "name": "stderr",
     "output_type": "stream",
     "text": [
      "\r",
      " 18%|█▊        | 86/485 [00:13<01:08,  5.86it/s]"
     ]
    },
    {
     "name": "stdout",
     "output_type": "stream",
     "text": [
      "663.688812723 m 377.473002564 m\n",
      "Ratio:  1.75824180329\n"
     ]
    },
    {
     "name": "stderr",
     "output_type": "stream",
     "text": [
      "\r",
      " 18%|█▊        | 87/485 [00:13<01:06,  6.02it/s]"
     ]
    },
    {
     "name": "stdout",
     "output_type": "stream",
     "text": [
      "1163.24333432 m 306.307368973 m\n",
      "Ratio:  3.79763418107\n"
     ]
    },
    {
     "name": "stderr",
     "output_type": "stream",
     "text": [
      "\r",
      " 18%|█▊        | 88/485 [00:13<01:05,  6.10it/s]"
     ]
    },
    {
     "name": "stdout",
     "output_type": "stream",
     "text": [
      "1046.79536048 m 318.253032122 m\n",
      "Ratio:  3.28919210446\n"
     ]
    },
    {
     "name": "stderr",
     "output_type": "stream",
     "text": [
      "\r",
      " 18%|█▊        | 89/485 [00:13<01:03,  6.22it/s]"
     ]
    },
    {
     "name": "stdout",
     "output_type": "stream",
     "text": [
      "253.457960603 m 320.667025783 m\n",
      "Ratio:  0.790408555366\n"
     ]
    },
    {
     "name": "stderr",
     "output_type": "stream",
     "text": [
      "\r",
      " 19%|█▊        | 90/485 [00:13<01:04,  6.10it/s]"
     ]
    },
    {
     "name": "stdout",
     "output_type": "stream",
     "text": [
      "262.135492927 m 332.599501721 m\n",
      "Ratio:  0.788141568376\n"
     ]
    },
    {
     "name": "stderr",
     "output_type": "stream",
     "text": [
      "\r",
      " 19%|█▉        | 91/485 [00:14<01:03,  6.18it/s]"
     ]
    },
    {
     "name": "stdout",
     "output_type": "stream",
     "text": [
      "215.957418036 m 534.841810112 m\n",
      "Ratio:  0.403778115235\n"
     ]
    },
    {
     "name": "stderr",
     "output_type": "stream",
     "text": [
      "\r",
      " 19%|█▉        | 92/485 [00:14<01:01,  6.40it/s]"
     ]
    },
    {
     "name": "stdout",
     "output_type": "stream",
     "text": [
      "259.90605834 m 414.507972396 m\n",
      "Ratio:  0.627023062637\n"
     ]
    },
    {
     "name": "stderr",
     "output_type": "stream",
     "text": [
      "\r",
      " 19%|█▉        | 93/485 [00:14<00:59,  6.61it/s]"
     ]
    },
    {
     "name": "stdout",
     "output_type": "stream",
     "text": [
      "291.820665777 m 470.399457922 m\n",
      "Ratio:  0.620367776498\n"
     ]
    },
    {
     "name": "stderr",
     "output_type": "stream",
     "text": [
      "\r",
      " 19%|█▉        | 94/485 [00:14<00:58,  6.70it/s]"
     ]
    },
    {
     "name": "stdout",
     "output_type": "stream",
     "text": [
      "324.613990806 m 465.289427568 m\n",
      "Ratio:  0.697660362718\n"
     ]
    },
    {
     "name": "stderr",
     "output_type": "stream",
     "text": [
      "\r",
      " 20%|█▉        | 95/485 [00:14<00:57,  6.78it/s]"
     ]
    },
    {
     "name": "stdout",
     "output_type": "stream",
     "text": [
      "502.8054457 m 326.974805276 m\n",
      "Ratio:  1.5377498131\n"
     ]
    },
    {
     "name": "stderr",
     "output_type": "stream",
     "text": [
      "\r",
      " 20%|█▉        | 96/485 [00:14<00:57,  6.82it/s]"
     ]
    },
    {
     "name": "stdout",
     "output_type": "stream",
     "text": [
      "637.278072585 m 364.374216524 m\n",
      "Ratio:  1.74896588091\n"
     ]
    },
    {
     "name": "stderr",
     "output_type": "stream",
     "text": [
      "\r",
      " 20%|██        | 97/485 [00:14<00:58,  6.69it/s]"
     ]
    },
    {
     "name": "stdout",
     "output_type": "stream",
     "text": [
      "8917.40835508 m 331.729146848 m\n",
      "Ratio:  26.8815943363\n"
     ]
    },
    {
     "name": "stderr",
     "output_type": "stream",
     "text": [
      "\r",
      " 20%|██        | 98/485 [00:15<00:58,  6.56it/s]"
     ]
    },
    {
     "name": "stdout",
     "output_type": "stream",
     "text": [
      "5897.42333603 m 269.564841109 m\n",
      "Ratio:  21.8775687207\n"
     ]
    },
    {
     "name": "stderr",
     "output_type": "stream",
     "text": [
      "\r",
      " 20%|██        | 99/485 [00:15<00:59,  6.50it/s]"
     ]
    },
    {
     "name": "stdout",
     "output_type": "stream",
     "text": [
      "1786.59284736 m 272.363800599 m\n",
      "Ratio:  6.55958260031\n"
     ]
    },
    {
     "name": "stderr",
     "output_type": "stream",
     "text": [
      "\r",
      " 21%|██        | 100/485 [00:15<00:58,  6.60it/s]"
     ]
    },
    {
     "name": "stdout",
     "output_type": "stream",
     "text": [
      "12703.4266124 m 290.635629851 m\n",
      "Ratio:  43.709116528\n"
     ]
    },
    {
     "name": "stderr",
     "output_type": "stream",
     "text": [
      "\r",
      " 21%|██        | 101/485 [00:15<00:57,  6.64it/s]"
     ]
    },
    {
     "name": "stdout",
     "output_type": "stream",
     "text": [
      "16172.7628273 m 290.738539611 m\n",
      "Ratio:  55.6264843626\n"
     ]
    },
    {
     "name": "stderr",
     "output_type": "stream",
     "text": [
      "\r",
      " 21%|██        | 102/485 [00:15<00:57,  6.65it/s]"
     ]
    },
    {
     "name": "stdout",
     "output_type": "stream",
     "text": [
      "1548.13148392 m 308.783421384 m\n",
      "Ratio:  5.01364832664\n"
     ]
    },
    {
     "name": "stderr",
     "output_type": "stream",
     "text": [
      "\r",
      " 21%|██        | 103/485 [00:15<01:00,  6.30it/s]"
     ]
    },
    {
     "name": "stdout",
     "output_type": "stream",
     "text": [
      "380.608964972 m 320.76627895 m\n",
      "Ratio:  1.18656164924\n"
     ]
    },
    {
     "name": "stderr",
     "output_type": "stream",
     "text": [
      "\r",
      " 21%|██▏       | 104/485 [00:16<01:01,  6.21it/s]"
     ]
    },
    {
     "name": "stdout",
     "output_type": "stream",
     "text": [
      "474.779263193 m 341.182490235 m\n",
      "Ratio:  1.39156983955\n"
     ]
    },
    {
     "name": "stderr",
     "output_type": "stream",
     "text": [
      "\r",
      " 22%|██▏       | 105/485 [00:16<01:01,  6.21it/s]"
     ]
    },
    {
     "name": "stdout",
     "output_type": "stream",
     "text": [
      "911.093922143 m 348.019116642 m\n",
      "Ratio:  2.61794217207\n"
     ]
    },
    {
     "name": "stderr",
     "output_type": "stream",
     "text": [
      "\r",
      " 22%|██▏       | 106/485 [00:16<01:00,  6.26it/s]"
     ]
    },
    {
     "name": "stdout",
     "output_type": "stream",
     "text": [
      "1195.28735589 m 360.998590285 m\n",
      "Ratio:  3.31105823694\n"
     ]
    },
    {
     "name": "stderr",
     "output_type": "stream",
     "text": [
      "\r",
      " 22%|██▏       | 107/485 [00:16<01:00,  6.26it/s]"
     ]
    },
    {
     "name": "stdout",
     "output_type": "stream",
     "text": [
      "652.524985051 m 453.913152044 m\n",
      "Ratio:  1.43755469986\n"
     ]
    },
    {
     "name": "stderr",
     "output_type": "stream",
     "text": [
      "\r",
      " 22%|██▏       | 108/485 [00:16<00:59,  6.30it/s]"
     ]
    },
    {
     "name": "stdout",
     "output_type": "stream",
     "text": [
      "465.081267251 m 450.116017775 m\n",
      "Ratio:  1.03324753816\n"
     ]
    },
    {
     "name": "stderr",
     "output_type": "stream",
     "text": [
      "\r",
      " 22%|██▏       | 109/485 [00:16<00:59,  6.30it/s]"
     ]
    },
    {
     "name": "stdout",
     "output_type": "stream",
     "text": [
      "1019.93146185 m 285.910262042 m\n",
      "Ratio:  3.56731323516\n"
     ]
    },
    {
     "name": "stderr",
     "output_type": "stream",
     "text": [
      "\r",
      " 23%|██▎       | 110/485 [00:17<01:01,  6.07it/s]"
     ]
    },
    {
     "name": "stdout",
     "output_type": "stream",
     "text": [
      "882.351746734 m 312.407686754 m\n",
      "Ratio:  2.82435991221\n"
     ]
    },
    {
     "name": "stderr",
     "output_type": "stream",
     "text": [
      "\r",
      " 23%|██▎       | 111/485 [00:17<00:59,  6.23it/s]"
     ]
    },
    {
     "name": "stdout",
     "output_type": "stream",
     "text": [
      "589.496870577 m 256.118396123 m\n",
      "Ratio:  2.30165766888\n"
     ]
    },
    {
     "name": "stderr",
     "output_type": "stream",
     "text": [
      "\r",
      " 23%|██▎       | 112/485 [00:17<01:00,  6.20it/s]"
     ]
    },
    {
     "name": "stdout",
     "output_type": "stream",
     "text": [
      "1253.67166069 m 317.646196326 m\n",
      "Ratio:  3.94675483349\n"
     ]
    },
    {
     "name": "stderr",
     "output_type": "stream",
     "text": [
      "\r",
      " 23%|██▎       | 113/485 [00:17<00:59,  6.30it/s]"
     ]
    },
    {
     "name": "stdout",
     "output_type": "stream",
     "text": [
      "1948.27118386 m 359.591255521 m\n",
      "Ratio:  5.41801602221\n"
     ]
    },
    {
     "name": "stderr",
     "output_type": "stream",
     "text": [
      "\r",
      " 24%|██▎       | 114/485 [00:17<00:58,  6.35it/s]"
     ]
    },
    {
     "name": "stdout",
     "output_type": "stream",
     "text": [
      "1592.3088444 m 342.198368941 m\n",
      "Ratio:  4.65317485096\n"
     ]
    },
    {
     "name": "stderr",
     "output_type": "stream",
     "text": [
      "\r",
      " 24%|██▎       | 115/485 [00:17<00:57,  6.45it/s]"
     ]
    },
    {
     "name": "stdout",
     "output_type": "stream",
     "text": [
      "1788.18727261 m 531.807404891 m\n",
      "Ratio:  3.36247155673\n"
     ]
    },
    {
     "name": "stderr",
     "output_type": "stream",
     "text": [
      "\r",
      " 24%|██▍       | 116/485 [00:17<00:58,  6.31it/s]"
     ]
    },
    {
     "name": "stdout",
     "output_type": "stream",
     "text": [
      "1319.583549 m 317.549038539 m\n",
      "Ratio:  4.15552682846\n"
     ]
    },
    {
     "name": "stderr",
     "output_type": "stream",
     "text": [
      "\r",
      " 24%|██▍       | 117/485 [00:18<00:57,  6.41it/s]"
     ]
    },
    {
     "name": "stdout",
     "output_type": "stream",
     "text": [
      "8793.39991354 m 349.454903896 m\n",
      "Ratio:  25.1631893429\n"
     ]
    },
    {
     "name": "stderr",
     "output_type": "stream",
     "text": [
      "\r",
      " 24%|██▍       | 118/485 [00:18<00:56,  6.49it/s]"
     ]
    },
    {
     "name": "stdout",
     "output_type": "stream",
     "text": [
      "775.5520359 m 238.290979269 m\n",
      "Ratio:  3.2546428668\n"
     ]
    },
    {
     "name": "stderr",
     "output_type": "stream",
     "text": [
      "\r",
      " 25%|██▍       | 119/485 [00:18<00:56,  6.47it/s]"
     ]
    },
    {
     "name": "stdout",
     "output_type": "stream",
     "text": [
      "1732.00095613 m 247.180978623 m\n",
      "Ratio:  7.00701553081\n"
     ]
    },
    {
     "name": "stderr",
     "output_type": "stream",
     "text": [
      "\r",
      " 25%|██▍       | 120/485 [00:18<00:56,  6.51it/s]"
     ]
    },
    {
     "name": "stdout",
     "output_type": "stream",
     "text": [
      "26297.698688 m 204.511804534 m\n",
      "Ratio:  128.587681029\n"
     ]
    },
    {
     "name": "stderr",
     "output_type": "stream",
     "text": [
      "\r",
      " 25%|██▍       | 121/485 [00:18<00:55,  6.52it/s]"
     ]
    },
    {
     "name": "stdout",
     "output_type": "stream",
     "text": [
      "734.502806959 m 284.023313239 m\n",
      "Ratio:  2.58606520212\n"
     ]
    },
    {
     "name": "stderr",
     "output_type": "stream",
     "text": [
      "\r",
      " 25%|██▌       | 122/485 [00:18<00:56,  6.44it/s]"
     ]
    },
    {
     "name": "stdout",
     "output_type": "stream",
     "text": [
      "1310.47602226 m 166.468439155 m\n",
      "Ratio:  7.87221907595\n"
     ]
    },
    {
     "name": "stderr",
     "output_type": "stream",
     "text": [
      "\r",
      " 25%|██▌       | 123/485 [00:19<00:56,  6.39it/s]"
     ]
    },
    {
     "name": "stdout",
     "output_type": "stream",
     "text": [
      "1057.66170641 m 309.328883604 m\n",
      "Ratio:  3.41921418422\n"
     ]
    },
    {
     "name": "stderr",
     "output_type": "stream",
     "text": [
      "\r",
      " 26%|██▌       | 124/485 [00:19<00:55,  6.48it/s]"
     ]
    },
    {
     "name": "stdout",
     "output_type": "stream",
     "text": [
      "1269.66043756 m 330.865128547 m\n",
      "Ratio:  3.83739574836\n"
     ]
    },
    {
     "name": "stderr",
     "output_type": "stream",
     "text": [
      "\r",
      " 26%|██▌       | 125/485 [00:19<00:56,  6.42it/s]"
     ]
    },
    {
     "name": "stdout",
     "output_type": "stream",
     "text": [
      "4898.94038792 m 230.060682621 m\n",
      "Ratio:  21.2941226293\n"
     ]
    },
    {
     "name": "stderr",
     "output_type": "stream",
     "text": [
      " 26%|██▌       | 127/485 [00:19<00:59,  5.99it/s]"
     ]
    },
    {
     "name": "stdout",
     "output_type": "stream",
     "text": [
      "181.978546517 m 366.051796646 m\n",
      "Ratio:  0.497138787964\n",
      "225.232509036 m 448.731722784 m\n",
      "Ratio:  0.501931326892\n"
     ]
    },
    {
     "name": "stderr",
     "output_type": "stream",
     "text": [
      " 27%|██▋       | 129/485 [00:20<00:58,  6.10it/s]"
     ]
    },
    {
     "name": "stdout",
     "output_type": "stream",
     "text": [
      "1068.32185181 m 295.937902566 m\n",
      "Ratio:  3.60995277234\n",
      "335.000485426 m 347.719164291 m\n",
      "Ratio:  0.96342255426\n"
     ]
    },
    {
     "name": "stderr",
     "output_type": "stream",
     "text": [
      " 27%|██▋       | 131/485 [00:20<00:55,  6.38it/s]"
     ]
    },
    {
     "name": "stdout",
     "output_type": "stream",
     "text": [
      "69.957932643 m 358.162454282 m\n",
      "Ratio:  0.195324584715\n",
      "4105.66241908 m 352.960966742 m\n",
      "Ratio:  11.6320579496\n"
     ]
    },
    {
     "name": "stderr",
     "output_type": "stream",
     "text": [
      " 27%|██▋       | 133/485 [00:20<00:53,  6.56it/s]"
     ]
    },
    {
     "name": "stdout",
     "output_type": "stream",
     "text": [
      "684.607133918 m 335.906883671 m\n",
      "Ratio:  2.03808605062\n",
      "8330.01654159 m 335.906883671 m\n",
      "Ratio:  24.7985883783\n"
     ]
    },
    {
     "name": "stderr",
     "output_type": "stream",
     "text": [
      " 28%|██▊       | 135/485 [00:20<00:52,  6.72it/s]"
     ]
    },
    {
     "name": "stdout",
     "output_type": "stream",
     "text": [
      "8330.01654159 m 335.906883671 m\n",
      "Ratio:  24.7985883783\n",
      "8330.01654159 m 335.906883671 m\n",
      "Ratio:  24.7985883783\n"
     ]
    },
    {
     "name": "stderr",
     "output_type": "stream",
     "text": [
      " 28%|██▊       | 137/485 [00:21<00:52,  6.65it/s]"
     ]
    },
    {
     "name": "stdout",
     "output_type": "stream",
     "text": [
      "8330.01654159 m 6521.24171122 m\n",
      "Ratio:  1.27736662901\n",
      "8330.01654159 m 88.740696947 m\n",
      "Ratio:  93.8691809753\n"
     ]
    },
    {
     "name": "stderr",
     "output_type": "stream",
     "text": [
      " 29%|██▊       | 139/485 [00:21<00:52,  6.59it/s]"
     ]
    },
    {
     "name": "stdout",
     "output_type": "stream",
     "text": [
      "8330.01654159 m 175.673153327 m\n",
      "Ratio:  47.4176980594\n",
      "8330.01654159 m 118.42817563 m\n",
      "Ratio:  70.3381310848\n"
     ]
    },
    {
     "name": "stderr",
     "output_type": "stream",
     "text": [
      " 29%|██▉       | 141/485 [00:21<00:52,  6.51it/s]"
     ]
    },
    {
     "name": "stdout",
     "output_type": "stream",
     "text": [
      "645.108583175 m 421.901418186 m\n",
      "Ratio:  1.52905052073\n",
      "159.561143658 m 2555.51364513 m\n",
      "Ratio:  0.0624379932238\n"
     ]
    },
    {
     "name": "stderr",
     "output_type": "stream",
     "text": [
      " 29%|██▉       | 143/485 [00:22<00:55,  6.16it/s]"
     ]
    },
    {
     "name": "stdout",
     "output_type": "stream",
     "text": [
      "1376.55401032 m 217.878060981 m\n",
      "Ratio:  6.31800193248\n",
      "302.433825301 m 241.817991583 m\n",
      "Ratio:  1.25066717874\n"
     ]
    },
    {
     "name": "stderr",
     "output_type": "stream",
     "text": [
      " 30%|██▉       | 145/485 [00:22<00:55,  6.17it/s]"
     ]
    },
    {
     "name": "stdout",
     "output_type": "stream",
     "text": [
      "162.464201984 m 278.169824263 m\n",
      "Ratio:  0.584046822528\n",
      "189.826861194 m 431.370039372 m\n",
      "Ratio:  0.440055738387\n"
     ]
    },
    {
     "name": "stderr",
     "output_type": "stream",
     "text": [
      " 30%|███       | 147/485 [00:22<00:53,  6.29it/s]"
     ]
    },
    {
     "name": "stdout",
     "output_type": "stream",
     "text": [
      "221.748025007 m 1135.33717478 m\n",
      "Ratio:  0.195314687067\n",
      "230.261954667 m 4210.61660107 m\n",
      "Ratio:  0.054686041614\n"
     ]
    },
    {
     "name": "stderr",
     "output_type": "stream",
     "text": [
      " 31%|███       | 149/485 [00:23<00:55,  6.02it/s]"
     ]
    },
    {
     "name": "stdout",
     "output_type": "stream",
     "text": [
      "296.182560214 m 879.970076159 m\n",
      "Ratio:  0.336582536428\n",
      "234.982597866 m 539.336610071 m\n",
      "Ratio:  0.435688201909\n"
     ]
    },
    {
     "name": "stderr",
     "output_type": "stream",
     "text": [
      " 31%|███       | 151/485 [00:23<00:55,  6.06it/s]"
     ]
    },
    {
     "name": "stdout",
     "output_type": "stream",
     "text": [
      "410.100132287 m 536.069141992 m\n",
      "Ratio:  0.765013503227\n",
      "258.579324257 m 404.045418584 m\n",
      "Ratio:  0.639975884798\n"
     ]
    },
    {
     "name": "stderr",
     "output_type": "stream",
     "text": [
      " 32%|███▏      | 153/485 [00:23<00:54,  6.08it/s]"
     ]
    },
    {
     "name": "stdout",
     "output_type": "stream",
     "text": [
      "232.140375145 m 426.989103658 m\n",
      "Ratio:  0.543668147868\n",
      "244.301049295 m 617.576820519 m\n",
      "Ratio:  0.395580017218\n"
     ]
    },
    {
     "name": "stderr",
     "output_type": "stream",
     "text": [
      " 32%|███▏      | 155/485 [00:24<00:54,  6.00it/s]"
     ]
    },
    {
     "name": "stdout",
     "output_type": "stream",
     "text": [
      "337.814560298 m 545.676107859 m\n",
      "Ratio:  0.61907522692\n",
      "315.325145288 m 473.248634855 m\n",
      "Ratio:  0.666299112272\n"
     ]
    },
    {
     "name": "stderr",
     "output_type": "stream",
     "text": [
      " 32%|███▏      | 157/485 [00:24<00:55,  5.94it/s]"
     ]
    },
    {
     "name": "stdout",
     "output_type": "stream",
     "text": [
      "513.795761171 m 736.794654967 m\n",
      "Ratio:  0.697339153735\n",
      "464.924085918 m 504.370430552 m\n",
      "Ratio:  0.92179092539\n"
     ]
    },
    {
     "name": "stderr",
     "output_type": "stream",
     "text": [
      " 33%|███▎      | 159/485 [00:24<00:54,  6.00it/s]"
     ]
    },
    {
     "name": "stdout",
     "output_type": "stream",
     "text": [
      "409.855862558 m 687.130681152 m\n",
      "Ratio:  0.596474402614\n",
      "350.36267597 m 484.310893998 m\n",
      "Ratio:  0.72342513933\n"
     ]
    },
    {
     "name": "stderr",
     "output_type": "stream",
     "text": [
      " 33%|███▎      | 161/485 [00:25<00:54,  5.99it/s]"
     ]
    },
    {
     "name": "stdout",
     "output_type": "stream",
     "text": [
      "476.152645456 m 395.859999578 m\n",
      "Ratio:  1.20283091488\n",
      "350.921247757 m 344.969059893 m\n",
      "Ratio:  1.01725426583\n"
     ]
    },
    {
     "name": "stderr",
     "output_type": "stream",
     "text": [
      " 34%|███▎      | 163/485 [00:25<00:52,  6.14it/s]"
     ]
    },
    {
     "name": "stdout",
     "output_type": "stream",
     "text": [
      "998.009138186 m 260.60317282 m\n",
      "Ratio:  3.82961238494\n",
      "306.444703359 m 520.415101129 m\n",
      "Ratio:  0.588846677767\n"
     ]
    },
    {
     "name": "stderr",
     "output_type": "stream",
     "text": [
      " 34%|███▍      | 165/485 [00:25<00:50,  6.37it/s]"
     ]
    },
    {
     "name": "stdout",
     "output_type": "stream",
     "text": [
      "368.200474655 m 667.099556723 m\n",
      "Ratio:  0.551942316472\n",
      "471.835528172 m 862.990223863 m\n",
      "Ratio:  0.546744928419\n"
     ]
    },
    {
     "name": "stderr",
     "output_type": "stream",
     "text": [
      " 34%|███▍      | 167/485 [00:26<00:51,  6.14it/s]"
     ]
    },
    {
     "name": "stdout",
     "output_type": "stream",
     "text": [
      "321.815490948 m 465.532703274 m\n",
      "Ratio:  0.6912843903\n",
      "296.877277861 m 1324.39773914 m\n",
      "Ratio:  0.224160211911\n"
     ]
    },
    {
     "name": "stderr",
     "output_type": "stream",
     "text": [
      " 35%|███▍      | 169/485 [00:26<00:49,  6.38it/s]"
     ]
    },
    {
     "name": "stdout",
     "output_type": "stream",
     "text": [
      "256.676965169 m 475.991451318 m\n",
      "Ratio:  0.539247006345\n",
      "274.962955902 m 391.007674767 m\n",
      "Ratio:  0.703216263121\n"
     ]
    },
    {
     "name": "stderr",
     "output_type": "stream",
     "text": [
      " 35%|███▌      | 171/485 [00:26<00:48,  6.44it/s]"
     ]
    },
    {
     "name": "stdout",
     "output_type": "stream",
     "text": [
      "264.338264828 m 1018.67543154 m\n",
      "Ratio:  0.259492137183\n",
      "312.72471366 m 775.209688612 m\n",
      "Ratio:  0.403406611468\n"
     ]
    },
    {
     "name": "stderr",
     "output_type": "stream",
     "text": [
      " 36%|███▌      | 173/485 [00:27<00:48,  6.39it/s]"
     ]
    },
    {
     "name": "stdout",
     "output_type": "stream",
     "text": [
      "349.834571296 m 1595.17299541 m\n",
      "Ratio:  0.219308233215\n",
      "156.808513812 m 346.92104858 m\n",
      "Ratio:  0.452000576078\n"
     ]
    },
    {
     "name": "stderr",
     "output_type": "stream",
     "text": [
      " 36%|███▌      | 175/485 [00:27<00:48,  6.34it/s]"
     ]
    },
    {
     "name": "stdout",
     "output_type": "stream",
     "text": [
      "395.201242926 m 471.75138782 m\n",
      "Ratio:  0.837732019724\n",
      "524.180599589 m 285.447260333 m\n",
      "Ratio:  1.83634832921\n"
     ]
    },
    {
     "name": "stderr",
     "output_type": "stream",
     "text": [
      " 36%|███▋      | 177/485 [00:27<00:49,  6.25it/s]"
     ]
    },
    {
     "name": "stdout",
     "output_type": "stream",
     "text": [
      "639.829279629 m 253.210899099 m\n",
      "Ratio:  2.5268631086\n",
      "5092.81335481 m 235.150454661 m\n",
      "Ratio:  21.6576802377\n"
     ]
    },
    {
     "name": "stderr",
     "output_type": "stream",
     "text": [
      " 37%|███▋      | 179/485 [00:28<00:49,  6.13it/s]"
     ]
    },
    {
     "name": "stdout",
     "output_type": "stream",
     "text": [
      "4926.18191141 m 397.952658244 m\n",
      "Ratio:  12.3788139352\n",
      "1426.53636661 m 428.668882417 m\n",
      "Ratio:  3.32782813291\n"
     ]
    },
    {
     "name": "stderr",
     "output_type": "stream",
     "text": [
      " 37%|███▋      | 181/485 [00:28<00:48,  6.31it/s]"
     ]
    },
    {
     "name": "stdout",
     "output_type": "stream",
     "text": [
      "3993.29909578 m 529.390945016 m\n",
      "Ratio:  7.54319493632\n",
      "6072.88180799 m 461.496517766 m\n",
      "Ratio:  13.1591064596\n"
     ]
    },
    {
     "name": "stderr",
     "output_type": "stream",
     "text": [
      " 38%|███▊      | 183/485 [00:28<00:47,  6.42it/s]"
     ]
    },
    {
     "name": "stdout",
     "output_type": "stream",
     "text": [
      "1257.99181697 m 361.055653939 m\n",
      "Ratio:  3.48420472923\n",
      "2566.86011861 m 370.947625512 m\n",
      "Ratio:  6.91973729462\n"
     ]
    },
    {
     "name": "stderr",
     "output_type": "stream",
     "text": [
      " 38%|███▊      | 185/485 [00:28<00:48,  6.21it/s]"
     ]
    },
    {
     "name": "stdout",
     "output_type": "stream",
     "text": [
      "1533.23362012 m 362.946800797 m\n",
      "Ratio:  4.22440318183\n",
      "4632.8826166 m 345.890914436 m\n",
      "Ratio:  13.3940569793\n"
     ]
    },
    {
     "name": "stderr",
     "output_type": "stream",
     "text": [
      " 39%|███▊      | 187/485 [00:29<00:48,  6.08it/s]"
     ]
    },
    {
     "name": "stdout",
     "output_type": "stream",
     "text": [
      "2902.38012416 m 330.821755967 m\n",
      "Ratio:  8.77324441881\n",
      "798.188482254 m 353.684211855 m\n",
      "Ratio:  2.25678290265\n"
     ]
    },
    {
     "name": "stderr",
     "output_type": "stream",
     "text": [
      " 39%|███▉      | 189/485 [00:29<00:49,  5.95it/s]"
     ]
    },
    {
     "name": "stdout",
     "output_type": "stream",
     "text": [
      "38049.6657852 m 287.040114852 m\n",
      "Ratio:  132.558704573\n",
      "5645.27486607 m 285.094077958 m\n",
      "Ratio:  19.8014455667\n"
     ]
    },
    {
     "name": "stderr",
     "output_type": "stream",
     "text": [
      " 39%|███▉      | 191/485 [00:29<00:48,  6.09it/s]"
     ]
    },
    {
     "name": "stdout",
     "output_type": "stream",
     "text": [
      "2407.43716172 m 251.435749185 m\n",
      "Ratio:  9.57476082667\n",
      "849.899121354 m 271.373126067 m\n",
      "Ratio:  3.13184703906\n"
     ]
    },
    {
     "name": "stderr",
     "output_type": "stream",
     "text": [
      " 40%|███▉      | 193/485 [00:30<00:48,  6.00it/s]"
     ]
    },
    {
     "name": "stdout",
     "output_type": "stream",
     "text": [
      "914.722689887 m 311.195078343 m\n",
      "Ratio:  2.9393867498\n",
      "1338.98526353 m 282.870777041 m\n",
      "Ratio:  4.73355811985\n"
     ]
    },
    {
     "name": "stderr",
     "output_type": "stream",
     "text": [
      " 40%|████      | 195/485 [00:30<00:46,  6.22it/s]"
     ]
    },
    {
     "name": "stdout",
     "output_type": "stream",
     "text": [
      "649.284925775 m 274.409814987 m\n",
      "Ratio:  2.36611407579\n",
      "1128.96916533 m 267.943823397 m\n",
      "Ratio:  4.21345471234\n"
     ]
    },
    {
     "name": "stderr",
     "output_type": "stream",
     "text": [
      "\r",
      " 40%|████      | 196/485 [00:30<00:46,  6.17it/s]"
     ]
    },
    {
     "name": "stdout",
     "output_type": "stream",
     "text": [
      "1602.67113134 m 253.825926515 m\n",
      "Ratio:  6.31405606726\n"
     ]
    },
    {
     "name": "stderr",
     "output_type": "stream",
     "text": [
      " 41%|████      | 198/485 [00:31<00:48,  5.87it/s]"
     ]
    },
    {
     "name": "stdout",
     "output_type": "stream",
     "text": [
      "1476.15796367 m 263.489736524 m\n",
      "Ratio:  5.60233572336\n",
      "4132.34142817 m 292.117246692 m\n",
      "Ratio:  14.1461740961\n"
     ]
    },
    {
     "name": "stderr",
     "output_type": "stream",
     "text": [
      " 41%|████      | 200/485 [00:31<00:47,  6.03it/s]"
     ]
    },
    {
     "name": "stdout",
     "output_type": "stream",
     "text": [
      "6852.27373525 m 282.243150061 m\n",
      "Ratio:  24.2779097873\n",
      "900.421347036 m 290.833034959 m\n",
      "Ratio:  3.09600780793\n"
     ]
    },
    {
     "name": "stderr",
     "output_type": "stream",
     "text": [
      " 42%|████▏     | 202/485 [00:31<00:46,  6.07it/s]"
     ]
    },
    {
     "name": "stdout",
     "output_type": "stream",
     "text": [
      "3299.92395176 m 252.410064193 m\n",
      "Ratio:  13.0736623451\n",
      "1625.37097887 m 253.317911653 m\n",
      "Ratio:  6.41632866885\n"
     ]
    },
    {
     "name": "stderr",
     "output_type": "stream",
     "text": [
      " 42%|████▏     | 204/485 [00:32<00:46,  6.05it/s]"
     ]
    },
    {
     "name": "stdout",
     "output_type": "stream",
     "text": [
      "1557.17138687 m 250.715939093 m\n",
      "Ratio:  6.21089904576\n",
      "2790.20584829 m 262.88150773 m\n",
      "Ratio:  10.6139297221\n"
     ]
    },
    {
     "name": "stderr",
     "output_type": "stream",
     "text": [
      " 42%|████▏     | 206/485 [00:32<00:44,  6.27it/s]"
     ]
    },
    {
     "name": "stdout",
     "output_type": "stream",
     "text": [
      "2576.07316814 m 277.333075303 m\n",
      "Ratio:  9.28873400811\n",
      "926.882963057 m 266.181926533 m\n",
      "Ratio:  3.48214086181\n"
     ]
    },
    {
     "name": "stderr",
     "output_type": "stream",
     "text": [
      " 43%|████▎     | 208/485 [00:32<00:42,  6.54it/s]"
     ]
    },
    {
     "name": "stdout",
     "output_type": "stream",
     "text": [
      "1401.00857054 m 278.799214082 m\n",
      "Ratio:  5.02515251038\n",
      "2113.47755616 m 283.587199217 m\n",
      "Ratio:  7.45265499286\n"
     ]
    },
    {
     "name": "stderr",
     "output_type": "stream",
     "text": [
      " 43%|████▎     | 210/485 [00:33<00:42,  6.42it/s]"
     ]
    },
    {
     "name": "stdout",
     "output_type": "stream",
     "text": [
      "1189.8205859 m 309.078046894 m\n",
      "Ratio:  3.84957973512\n",
      "2617.03305205 m 310.965334923 m\n",
      "Ratio:  8.41583532999\n"
     ]
    },
    {
     "name": "stderr",
     "output_type": "stream",
     "text": [
      " 44%|████▎     | 212/485 [00:33<00:41,  6.58it/s]"
     ]
    },
    {
     "name": "stdout",
     "output_type": "stream",
     "text": [
      "1790.76368663 m 320.136359682 m\n",
      "Ratio:  5.59375288832\n",
      "1506.48058641 m 296.328782192 m\n",
      "Ratio:  5.08381459023\n"
     ]
    },
    {
     "name": "stderr",
     "output_type": "stream",
     "text": [
      " 44%|████▍     | 214/485 [00:33<00:41,  6.50it/s]"
     ]
    },
    {
     "name": "stdout",
     "output_type": "stream",
     "text": [
      "770.968027734 m 321.01837474 m\n",
      "Ratio:  2.40163208215\n",
      "333.719620111 m 313.50989017 m\n",
      "Ratio:  1.06446281465\n"
     ]
    },
    {
     "name": "stderr",
     "output_type": "stream",
     "text": [
      " 45%|████▍     | 216/485 [00:33<00:41,  6.51it/s]"
     ]
    },
    {
     "name": "stdout",
     "output_type": "stream",
     "text": [
      "729.635872329 m 373.697842903 m\n",
      "Ratio:  1.95247547233\n",
      "803.330217051 m 338.207844666 m\n",
      "Ratio:  2.37525601408\n"
     ]
    },
    {
     "name": "stderr",
     "output_type": "stream",
     "text": [
      " 45%|████▍     | 218/485 [00:34<00:39,  6.69it/s]"
     ]
    },
    {
     "name": "stdout",
     "output_type": "stream",
     "text": [
      "519.482664827 m 287.144264021 m\n",
      "Ratio:  1.80913474486\n",
      "552.981389082 m 285.465027106 m\n",
      "Ratio:  1.93712481942\n"
     ]
    },
    {
     "name": "stderr",
     "output_type": "stream",
     "text": [
      " 45%|████▌     | 220/485 [00:34<00:39,  6.71it/s]"
     ]
    },
    {
     "name": "stdout",
     "output_type": "stream",
     "text": [
      "550.940172955 m 273.11870712 m\n",
      "Ratio:  2.01721873527\n",
      "491.12067331 m 295.081266972 m\n",
      "Ratio:  1.66435734247\n"
     ]
    },
    {
     "name": "stderr",
     "output_type": "stream",
     "text": [
      " 46%|████▌     | 222/485 [00:34<00:40,  6.52it/s]"
     ]
    },
    {
     "name": "stdout",
     "output_type": "stream",
     "text": [
      "762.111978746 m 275.155741797 m\n",
      "Ratio:  2.76974768459\n",
      "2018.41390165 m 289.28298077 m\n",
      "Ratio:  6.97729917009\n"
     ]
    },
    {
     "name": "stderr",
     "output_type": "stream",
     "text": [
      " 46%|████▌     | 224/485 [00:35<00:41,  6.32it/s]"
     ]
    },
    {
     "name": "stdout",
     "output_type": "stream",
     "text": [
      "1006.1176793 m 304.47058744 m\n",
      "Ratio:  3.30448234018\n",
      "1753.16777607 m 293.311103259 m\n",
      "Ratio:  5.97716130274\n"
     ]
    },
    {
     "name": "stderr",
     "output_type": "stream",
     "text": [
      " 47%|████▋     | 226/485 [00:35<00:40,  6.42it/s]"
     ]
    },
    {
     "name": "stdout",
     "output_type": "stream",
     "text": [
      "1085.7092843 m 305.586168118 m\n",
      "Ratio:  3.5528744347\n",
      "902.39013172 m 299.109488335 m\n",
      "Ratio:  3.01692245453\n"
     ]
    },
    {
     "name": "stderr",
     "output_type": "stream",
     "text": [
      " 47%|████▋     | 228/485 [00:35<00:38,  6.59it/s]"
     ]
    },
    {
     "name": "stdout",
     "output_type": "stream",
     "text": [
      "690.392715201 m 305.140163054 m\n",
      "Ratio:  2.26254291894\n",
      "552.001724606 m 306.4370381 m\n",
      "Ratio:  1.80135445776\n"
     ]
    },
    {
     "name": "stderr",
     "output_type": "stream",
     "text": [
      " 47%|████▋     | 230/485 [00:36<00:38,  6.67it/s]"
     ]
    },
    {
     "name": "stdout",
     "output_type": "stream",
     "text": [
      "582.086646792 m 282.673532073 m\n",
      "Ratio:  2.05921878332\n",
      "610.926880497 m 291.460771885 m\n",
      "Ratio:  2.09608612694\n"
     ]
    },
    {
     "name": "stderr",
     "output_type": "stream",
     "text": [
      " 48%|████▊     | 232/485 [00:36<00:37,  6.78it/s]"
     ]
    },
    {
     "name": "stdout",
     "output_type": "stream",
     "text": [
      "366.730769597 m 289.127163382 m\n",
      "Ratio:  1.26840648698\n",
      "357.169790377 m 281.413446111 m\n",
      "Ratio:  1.26919944769\n"
     ]
    },
    {
     "name": "stderr",
     "output_type": "stream",
     "text": [
      " 48%|████▊     | 234/485 [00:36<00:37,  6.73it/s]"
     ]
    },
    {
     "name": "stdout",
     "output_type": "stream",
     "text": [
      "492.631970901 m 302.726570315 m\n",
      "Ratio:  1.62731659262\n",
      "391.804106816 m 293.665442259 m\n",
      "Ratio:  1.33418526811\n"
     ]
    },
    {
     "name": "stderr",
     "output_type": "stream",
     "text": [
      " 49%|████▊     | 236/485 [00:36<00:37,  6.59it/s]"
     ]
    },
    {
     "name": "stdout",
     "output_type": "stream",
     "text": [
      "579.856099537 m 287.809309444 m\n",
      "Ratio:  2.01472322301\n",
      "34522.278251 m 337.020741961 m\n",
      "Ratio:  102.433690135\n"
     ]
    },
    {
     "name": "stderr",
     "output_type": "stream",
     "text": [
      " 49%|████▉     | 238/485 [00:37<00:37,  6.65it/s]"
     ]
    },
    {
     "name": "stdout",
     "output_type": "stream",
     "text": [
      "995.636723881 m 298.327906011 m\n",
      "Ratio:  3.337390515\n",
      "680.327795033 m 286.67401296 m\n",
      "Ratio:  2.37317567786\n"
     ]
    },
    {
     "name": "stderr",
     "output_type": "stream",
     "text": [
      " 49%|████▉     | 240/485 [00:37<00:36,  6.72it/s]"
     ]
    },
    {
     "name": "stdout",
     "output_type": "stream",
     "text": [
      "2627.30462506 m 300.947983501 m\n",
      "Ratio:  8.73009546201\n",
      "441.167366969 m 310.152509171 m\n",
      "Ratio:  1.42242075728\n"
     ]
    },
    {
     "name": "stderr",
     "output_type": "stream",
     "text": [
      " 50%|████▉     | 242/485 [00:37<00:37,  6.48it/s]"
     ]
    },
    {
     "name": "stdout",
     "output_type": "stream",
     "text": [
      "248.881174891 m 314.978764886 m\n",
      "Ratio:  0.790152234487\n",
      "287.890977692 m 261.857953506 m\n",
      "Ratio:  1.09941658765\n"
     ]
    },
    {
     "name": "stderr",
     "output_type": "stream",
     "text": [
      " 50%|█████     | 244/485 [00:38<00:37,  6.50it/s]"
     ]
    },
    {
     "name": "stdout",
     "output_type": "stream",
     "text": [
      "394.690581923 m 267.169297012 m\n",
      "Ratio:  1.4773051632\n",
      "482.161160436 m 249.040355159 m\n",
      "Ratio:  1.93607642476\n"
     ]
    },
    {
     "name": "stderr",
     "output_type": "stream",
     "text": [
      " 51%|█████     | 246/485 [00:38<00:35,  6.67it/s]"
     ]
    },
    {
     "name": "stdout",
     "output_type": "stream",
     "text": [
      "593.597993076 m 258.456255995 m\n",
      "Ratio:  2.29670584212\n",
      "1232.75462781 m 282.886699637 m\n",
      "Ratio:  4.35776807249\n"
     ]
    },
    {
     "name": "stderr",
     "output_type": "stream",
     "text": [
      " 51%|█████     | 248/485 [00:38<00:35,  6.77it/s]"
     ]
    },
    {
     "name": "stdout",
     "output_type": "stream",
     "text": [
      "4816.60373432 m 285.930863124 m\n",
      "Ratio:  16.8453439468\n",
      "1781.2919813 m 332.619751978 m\n",
      "Ratio:  5.35534035699\n"
     ]
    },
    {
     "name": "stderr",
     "output_type": "stream",
     "text": [
      " 52%|█████▏    | 250/485 [00:39<00:35,  6.70it/s]"
     ]
    },
    {
     "name": "stdout",
     "output_type": "stream",
     "text": [
      "558.38330696 m 271.502834947 m\n",
      "Ratio:  2.05663895579\n",
      "505.203677358 m 292.813579082 m\n",
      "Ratio:  1.72534237975\n"
     ]
    },
    {
     "name": "stderr",
     "output_type": "stream",
     "text": [
      " 52%|█████▏    | 252/485 [00:39<00:35,  6.61it/s]"
     ]
    },
    {
     "name": "stdout",
     "output_type": "stream",
     "text": [
      "734.500038378 m 283.74461198 m\n",
      "Ratio:  2.58859554461\n",
      "1461.21716888 m 294.060243522 m\n",
      "Ratio:  4.96910820512\n"
     ]
    },
    {
     "name": "stderr",
     "output_type": "stream",
     "text": [
      " 52%|█████▏    | 254/485 [00:39<00:35,  6.50it/s]"
     ]
    },
    {
     "name": "stdout",
     "output_type": "stream",
     "text": [
      "931.093544963 m 303.633933782 m\n",
      "Ratio:  3.0665002866\n",
      "515.870788678 m 305.038162239 m\n",
      "Ratio:  1.69116803252\n"
     ]
    },
    {
     "name": "stderr",
     "output_type": "stream",
     "text": [
      " 53%|█████▎    | 256/485 [00:40<00:35,  6.41it/s]"
     ]
    },
    {
     "name": "stdout",
     "output_type": "stream",
     "text": [
      "295.441508744 m 296.850726776 m\n",
      "Ratio:  0.995252772165\n",
      "771.844581833 m 282.108607441 m\n",
      "Ratio:  2.73598380721\n"
     ]
    },
    {
     "name": "stderr",
     "output_type": "stream",
     "text": [
      " 53%|█████▎    | 258/485 [00:40<00:34,  6.61it/s]"
     ]
    },
    {
     "name": "stdout",
     "output_type": "stream",
     "text": [
      "610.016235884 m 244.501674444 m\n",
      "Ratio:  2.49493684356\n",
      "1058.27522053 m 256.338976573 m\n",
      "Ratio:  4.12842102549\n"
     ]
    },
    {
     "name": "stderr",
     "output_type": "stream",
     "text": [
      " 54%|█████▎    | 260/485 [00:40<00:33,  6.77it/s]"
     ]
    },
    {
     "name": "stdout",
     "output_type": "stream",
     "text": [
      "2769.29397502 m 271.966191836 m\n",
      "Ratio:  10.1824934795\n",
      "1209.3449297 m 288.642809841 m\n",
      "Ratio:  4.18976287811\n"
     ]
    },
    {
     "name": "stderr",
     "output_type": "stream",
     "text": [
      " 54%|█████▍    | 262/485 [00:40<00:35,  6.35it/s]"
     ]
    },
    {
     "name": "stdout",
     "output_type": "stream",
     "text": [
      "5097.38926863 m 270.59757014 m\n",
      "Ratio:  18.8375278684\n",
      "1889.74811482 m 262.418961633 m\n",
      "Ratio:  7.20126359413\n"
     ]
    },
    {
     "name": "stderr",
     "output_type": "stream",
     "text": [
      " 54%|█████▍    | 264/485 [00:41<00:33,  6.54it/s]"
     ]
    },
    {
     "name": "stdout",
     "output_type": "stream",
     "text": [
      "1485.62576842 m 247.391415281 m\n",
      "Ratio:  6.0051629792\n",
      "105.593232175 m 242.519180579 m\n",
      "Ratio:  0.435401570808\n"
     ]
    },
    {
     "name": "stderr",
     "output_type": "stream",
     "text": [
      " 55%|█████▍    | 266/485 [00:41<00:33,  6.62it/s]"
     ]
    },
    {
     "name": "stdout",
     "output_type": "stream",
     "text": [
      "136.728764177 m 249.745819343 m\n",
      "Ratio:  0.547471683558\n",
      "121.278552245 m 273.968841299 m\n",
      "Ratio:  0.442672793263\n"
     ]
    },
    {
     "name": "stderr",
     "output_type": "stream",
     "text": [
      " 55%|█████▌    | 268/485 [00:41<00:32,  6.61it/s]"
     ]
    },
    {
     "name": "stdout",
     "output_type": "stream",
     "text": [
      "140.891778962 m 286.300133416 m\n",
      "Ratio:  0.492112166629\n",
      "776.3064352 m 298.843884557 m\n",
      "Ratio:  2.59769891678\n"
     ]
    },
    {
     "name": "stderr",
     "output_type": "stream",
     "text": [
      " 56%|█████▌    | 270/485 [00:42<00:33,  6.50it/s]"
     ]
    },
    {
     "name": "stdout",
     "output_type": "stream",
     "text": [
      "284.388453862 m 321.263460906 m\n",
      "Ratio:  0.885218795378\n",
      "411.42615715 m 313.714484369 m\n",
      "Ratio:  1.31146688358\n"
     ]
    },
    {
     "name": "stderr",
     "output_type": "stream",
     "text": [
      " 56%|█████▌    | 272/485 [00:42<00:32,  6.52it/s]"
     ]
    },
    {
     "name": "stdout",
     "output_type": "stream",
     "text": [
      "195.695281662 m 342.251488808 m\n",
      "Ratio:  0.571787963124\n",
      "350.598090148 m 339.036157446 m\n",
      "Ratio:  1.03410235884\n"
     ]
    },
    {
     "name": "stderr",
     "output_type": "stream",
     "text": [
      " 56%|█████▋    | 274/485 [00:42<00:32,  6.52it/s]"
     ]
    },
    {
     "name": "stdout",
     "output_type": "stream",
     "text": [
      "218.138117923 m 347.04841686 m\n",
      "Ratio:  0.62855240746\n",
      "229.798625997 m 340.457499416 m\n",
      "Ratio:  0.674970081115\n"
     ]
    },
    {
     "name": "stderr",
     "output_type": "stream",
     "text": [
      " 57%|█████▋    | 276/485 [00:43<00:31,  6.56it/s]"
     ]
    },
    {
     "name": "stdout",
     "output_type": "stream",
     "text": [
      "548.071175809 m 267.309570269 m\n",
      "Ratio:  2.05032380718\n",
      "1183.254795 m 255.819822385 m\n",
      "Ratio:  4.6253444474\n"
     ]
    },
    {
     "name": "stderr",
     "output_type": "stream",
     "text": [
      " 57%|█████▋    | 278/485 [00:43<00:31,  6.64it/s]"
     ]
    },
    {
     "name": "stdout",
     "output_type": "stream",
     "text": [
      "870.35885323 m 275.716956941 m\n",
      "Ratio:  3.15671137128\n",
      "893.775335087 m 273.591091353 m\n",
      "Ratio:  3.26682908667\n"
     ]
    },
    {
     "name": "stderr",
     "output_type": "stream",
     "text": [
      " 58%|█████▊    | 280/485 [00:43<00:30,  6.69it/s]"
     ]
    },
    {
     "name": "stdout",
     "output_type": "stream",
     "text": [
      "932.264935925 m 272.979788067 m\n",
      "Ratio:  3.41514272\n",
      "637.714055513 m 275.060244869 m\n",
      "Ratio:  2.3184522933\n"
     ]
    },
    {
     "name": "stderr",
     "output_type": "stream",
     "text": [
      " 58%|█████▊    | 282/485 [00:44<00:32,  6.26it/s]"
     ]
    },
    {
     "name": "stdout",
     "output_type": "stream",
     "text": [
      "414.101859147 m 294.048434013 m\n",
      "Ratio:  1.40827772315\n",
      "266.373987853 m 271.37572942 m\n",
      "Ratio:  0.981568942891\n"
     ]
    },
    {
     "name": "stderr",
     "output_type": "stream",
     "text": [
      " 59%|█████▊    | 284/485 [00:44<00:30,  6.59it/s]"
     ]
    },
    {
     "name": "stdout",
     "output_type": "stream",
     "text": [
      "184.275454334 m 269.660047048 m\n",
      "Ratio:  0.683362093685\n",
      "505.443081132 m 233.837858754 m\n",
      "Ratio:  2.16151090258\n"
     ]
    },
    {
     "name": "stderr",
     "output_type": "stream",
     "text": [
      " 59%|█████▉    | 286/485 [00:44<00:29,  6.69it/s]"
     ]
    },
    {
     "name": "stdout",
     "output_type": "stream",
     "text": [
      "592.384173164 m 278.418372648 m\n",
      "Ratio:  2.12767630071\n",
      "471.448046908 m 325.698088471 m\n",
      "Ratio:  1.44750019603\n"
     ]
    },
    {
     "name": "stderr",
     "output_type": "stream",
     "text": [
      " 59%|█████▉    | 288/485 [00:44<00:29,  6.67it/s]"
     ]
    },
    {
     "name": "stdout",
     "output_type": "stream",
     "text": [
      "561.930741114 m 325.330204946 m\n",
      "Ratio:  1.72726273974\n",
      "656.753854165 m 302.568568723 m\n",
      "Ratio:  2.1705951049\n"
     ]
    },
    {
     "name": "stderr",
     "output_type": "stream",
     "text": [
      " 60%|█████▉    | 290/485 [00:45<00:29,  6.59it/s]"
     ]
    },
    {
     "name": "stdout",
     "output_type": "stream",
     "text": [
      "864.430128908 m 310.975890487 m\n",
      "Ratio:  2.77973359142\n",
      "2867.33867509 m 336.717289161 m\n",
      "Ratio:  8.51556711635\n"
     ]
    },
    {
     "name": "stderr",
     "output_type": "stream",
     "text": [
      " 60%|██████    | 292/485 [00:45<00:29,  6.60it/s]"
     ]
    },
    {
     "name": "stdout",
     "output_type": "stream",
     "text": [
      "1061.31700691 m 371.126575776 m\n",
      "Ratio:  2.85971707816\n",
      "549.467713679 m 358.272259357 m\n",
      "Ratio:  1.53365966616\n"
     ]
    },
    {
     "name": "stderr",
     "output_type": "stream",
     "text": [
      " 61%|██████    | 294/485 [00:45<00:28,  6.60it/s]"
     ]
    },
    {
     "name": "stdout",
     "output_type": "stream",
     "text": [
      "549.504922038 m 371.197098526 m\n",
      "Ratio:  1.48035888271\n",
      "1690.07509729 m 359.021955952 m\n",
      "Ratio:  4.70744217524\n"
     ]
    },
    {
     "name": "stderr",
     "output_type": "stream",
     "text": [
      " 61%|██████    | 296/485 [00:46<00:29,  6.37it/s]"
     ]
    },
    {
     "name": "stdout",
     "output_type": "stream",
     "text": [
      "1611.54508625 m 385.08230549 m\n",
      "Ratio:  4.18493673502\n",
      "467.215372405 m 381.433024168 m\n",
      "Ratio:  1.2248949168\n"
     ]
    },
    {
     "name": "stderr",
     "output_type": "stream",
     "text": [
      " 61%|██████▏   | 298/485 [00:46<00:29,  6.44it/s]"
     ]
    },
    {
     "name": "stdout",
     "output_type": "stream",
     "text": [
      "504.010319385 m 365.43979987 m\n",
      "Ratio:  1.37918836308\n",
      "490.386995534 m 478.537334347 m\n",
      "Ratio:  1.02476225017\n"
     ]
    },
    {
     "name": "stderr",
     "output_type": "stream",
     "text": [
      " 62%|██████▏   | 300/485 [00:46<00:28,  6.39it/s]"
     ]
    },
    {
     "name": "stdout",
     "output_type": "stream",
     "text": [
      "658.67807507 m 449.325663508 m\n",
      "Ratio:  1.46592578293\n",
      "952.206212274 m 531.405597205 m\n",
      "Ratio:  1.79186334747\n"
     ]
    },
    {
     "name": "stderr",
     "output_type": "stream",
     "text": [
      " 62%|██████▏   | 302/485 [00:47<00:30,  6.07it/s]"
     ]
    },
    {
     "name": "stdout",
     "output_type": "stream",
     "text": [
      "715.815310564 m 519.724508868 m\n",
      "Ratio:  1.3772975843\n",
      "947.365214496 m 451.591725596 m\n",
      "Ratio:  2.09783563516\n"
     ]
    },
    {
     "name": "stderr",
     "output_type": "stream",
     "text": [
      " 63%|██████▎   | 304/485 [00:47<00:28,  6.30it/s]"
     ]
    },
    {
     "name": "stdout",
     "output_type": "stream",
     "text": [
      "1286.67584949 m 442.601987673 m\n",
      "Ratio:  2.90707200901\n",
      "3232.79943787 m 421.136949689 m\n",
      "Ratio:  7.67636143126\n"
     ]
    },
    {
     "name": "stderr",
     "output_type": "stream",
     "text": [
      " 63%|██████▎   | 306/485 [00:47<00:27,  6.53it/s]"
     ]
    },
    {
     "name": "stdout",
     "output_type": "stream",
     "text": [
      "2071.55642684 m 492.300696853 m\n",
      "Ratio:  4.20790878437\n",
      "12682.4695649 m 458.675536695 m\n",
      "Ratio:  27.6501983434\n"
     ]
    },
    {
     "name": "stderr",
     "output_type": "stream",
     "text": [
      " 64%|██████▎   | 308/485 [00:48<00:27,  6.43it/s]"
     ]
    },
    {
     "name": "stdout",
     "output_type": "stream",
     "text": [
      "133586.949301 m 533.107420706 m\n",
      "Ratio:  250.581672871\n",
      "5025.01941202 m 582.780172344 m\n",
      "Ratio:  8.62249549741\n"
     ]
    },
    {
     "name": "stderr",
     "output_type": "stream",
     "text": [
      " 64%|██████▍   | 310/485 [00:48<00:26,  6.49it/s]"
     ]
    },
    {
     "name": "stdout",
     "output_type": "stream",
     "text": [
      "847.757209786 m 558.274660517 m\n",
      "Ratio:  1.51853069778\n",
      "534.011823705 m 609.149686303 m\n",
      "Ratio:  0.876651233207\n"
     ]
    },
    {
     "name": "stderr",
     "output_type": "stream",
     "text": [
      " 64%|██████▍   | 312/485 [00:48<00:26,  6.58it/s]"
     ]
    },
    {
     "name": "stdout",
     "output_type": "stream",
     "text": [
      "764.962786709 m 645.830371325 m\n",
      "Ratio:  1.1844639408\n",
      "758.658018306 m 798.459198652 m\n",
      "Ratio:  0.950152518233\n"
     ]
    },
    {
     "name": "stderr",
     "output_type": "stream",
     "text": [
      " 65%|██████▍   | 314/485 [00:48<00:26,  6.47it/s]"
     ]
    },
    {
     "name": "stdout",
     "output_type": "stream",
     "text": [
      "1354.13206702 m 924.313368971 m\n",
      "Ratio:  1.46501404446\n",
      "1215.45673348 m 1085.54925846 m\n",
      "Ratio:  1.11966981139\n"
     ]
    },
    {
     "name": "stderr",
     "output_type": "stream",
     "text": [
      " 65%|██████▌   | 316/485 [00:49<00:25,  6.57it/s]"
     ]
    },
    {
     "name": "stdout",
     "output_type": "stream",
     "text": [
      "564.557616842 m 1153.85587439 m\n",
      "Ratio:  0.48927914601\n",
      "1595.8561673 m 716.055634193 m\n",
      "Ratio:  2.22867622444\n"
     ]
    },
    {
     "name": "stderr",
     "output_type": "stream",
     "text": [
      " 66%|██████▌   | 318/485 [00:49<00:25,  6.61it/s]"
     ]
    },
    {
     "name": "stdout",
     "output_type": "stream",
     "text": [
      "1555.86536103 m 837.542298721 m\n",
      "Ratio:  1.85765586216\n",
      "6224.18488199 m 816.338657616 m\n",
      "Ratio:  7.62451321387\n"
     ]
    },
    {
     "name": "stderr",
     "output_type": "stream",
     "text": [
      " 66%|██████▌   | 320/485 [00:49<00:25,  6.48it/s]"
     ]
    },
    {
     "name": "stdout",
     "output_type": "stream",
     "text": [
      "17103.1933716 m 796.93295877 m\n",
      "Ratio:  21.4612699642\n",
      "2000.40033109 m 754.437703342 m\n",
      "Ratio:  2.6515116122\n"
     ]
    },
    {
     "name": "stderr",
     "output_type": "stream",
     "text": [
      " 66%|██████▋   | 322/485 [00:50<00:25,  6.41it/s]"
     ]
    },
    {
     "name": "stdout",
     "output_type": "stream",
     "text": [
      "2625.23347962 m 751.548682408 m\n",
      "Ratio:  3.49309837283\n",
      "938.564451775 m 729.330995982 m\n",
      "Ratio:  1.28688408548\n"
     ]
    },
    {
     "name": "stderr",
     "output_type": "stream",
     "text": [
      " 67%|██████▋   | 324/485 [00:50<00:24,  6.67it/s]"
     ]
    },
    {
     "name": "stdout",
     "output_type": "stream",
     "text": [
      "487.638433375 m 779.900504671 m\n",
      "Ratio:  0.625257235319\n",
      "449.186672594 m 845.069728419 m\n",
      "Ratio:  0.531537999159\n"
     ]
    },
    {
     "name": "stderr",
     "output_type": "stream",
     "text": [
      " 67%|██████▋   | 326/485 [00:50<00:23,  6.67it/s]"
     ]
    },
    {
     "name": "stdout",
     "output_type": "stream",
     "text": [
      "2546.88582758 m 793.960403525 m\n",
      "Ratio:  3.20782474324\n",
      "5561.69139931 m 696.548300677 m\n",
      "Ratio:  7.98464570786\n"
     ]
    },
    {
     "name": "stderr",
     "output_type": "stream",
     "text": [
      " 68%|██████▊   | 328/485 [00:51<00:23,  6.78it/s]"
     ]
    },
    {
     "name": "stdout",
     "output_type": "stream",
     "text": [
      "2833.39991829 m 855.165706196 m\n",
      "Ratio:  3.31327589233\n",
      "3661.85825782 m 1211.93259605 m\n",
      "Ratio:  3.02150323355\n"
     ]
    },
    {
     "name": "stderr",
     "output_type": "stream",
     "text": [
      " 68%|██████▊   | 330/485 [00:51<00:22,  6.75it/s]"
     ]
    },
    {
     "name": "stdout",
     "output_type": "stream",
     "text": [
      "2919.61298427 m 1478.45584769 m\n",
      "Ratio:  1.97477184646\n",
      "2893.08488135 m 292.370201292 m\n",
      "Ratio:  9.89527957557\n"
     ]
    },
    {
     "name": "stderr",
     "output_type": "stream",
     "text": [
      " 68%|██████▊   | 332/485 [00:51<00:22,  6.73it/s]"
     ]
    },
    {
     "name": "stdout",
     "output_type": "stream",
     "text": [
      "2687.55739324 m 2288.18817504 m\n",
      "Ratio:  1.17453512895\n",
      "2776.56576582 m 3054.16046713 m\n",
      "Ratio:  0.90910932667\n"
     ]
    },
    {
     "name": "stderr",
     "output_type": "stream",
     "text": [
      " 69%|██████▉   | 334/485 [00:51<00:23,  6.39it/s]"
     ]
    },
    {
     "name": "stdout",
     "output_type": "stream",
     "text": [
      "1291.17399305 m 1279.88828102 m\n",
      "Ratio:  1.00881773214\n",
      "1354.03972311 m 1420.58588651 m\n",
      "Ratio:  0.953155832366\n"
     ]
    },
    {
     "name": "stderr",
     "output_type": "stream",
     "text": [
      " 69%|██████▉   | 336/485 [00:52<00:22,  6.67it/s]"
     ]
    },
    {
     "name": "stdout",
     "output_type": "stream",
     "text": [
      "4181.4497243 m 1001.44665385 m\n",
      "Ratio:  4.17540935228\n",
      "1221.68528293 m 925.470311975 m\n",
      "Ratio:  1.32006966309\n"
     ]
    },
    {
     "name": "stderr",
     "output_type": "stream",
     "text": [
      " 70%|██████▉   | 338/485 [00:52<00:21,  6.69it/s]"
     ]
    },
    {
     "name": "stdout",
     "output_type": "stream",
     "text": [
      "2861.28071819 m 954.963219154 m\n",
      "Ratio:  2.99622086045\n",
      "1120.97199774 m 1138.33262736 m\n",
      "Ratio:  0.984749071402\n"
     ]
    },
    {
     "name": "stderr",
     "output_type": "stream",
     "text": [
      " 70%|███████   | 340/485 [00:52<00:22,  6.42it/s]"
     ]
    },
    {
     "name": "stdout",
     "output_type": "stream",
     "text": [
      "8166.13221602 m 1211.21997254 m\n",
      "Ratio:  6.74207196147\n",
      "1935.14773766 m 4256.73237654 m\n",
      "Ratio:  0.454608738928\n"
     ]
    },
    {
     "name": "stderr",
     "output_type": "stream",
     "text": [
      " 71%|███████   | 342/485 [00:53<00:22,  6.26it/s]"
     ]
    },
    {
     "name": "stdout",
     "output_type": "stream",
     "text": [
      "3137.97603309 m 1120.82379861 m\n",
      "Ratio:  2.79970503569\n",
      "5779.27799053 m 5066.28743696 m\n",
      "Ratio:  1.14073235331\n"
     ]
    },
    {
     "name": "stderr",
     "output_type": "stream",
     "text": [
      " 71%|███████   | 344/485 [00:53<00:21,  6.43it/s]"
     ]
    },
    {
     "name": "stdout",
     "output_type": "stream",
     "text": [
      "3237.12871261 m 3093.53270863 m\n",
      "Ratio:  1.04641813018\n",
      "5019.66774199 m 5633.62133748 m\n",
      "Ratio:  0.891019726264\n"
     ]
    },
    {
     "name": "stderr",
     "output_type": "stream",
     "text": [
      " 71%|███████▏  | 346/485 [00:53<00:21,  6.49it/s]"
     ]
    },
    {
     "name": "stdout",
     "output_type": "stream",
     "text": [
      "1209.26241943 m 2586.65879859 m\n",
      "Ratio:  0.467499780061\n",
      "876.063641746 m 8621.59281953 m\n",
      "Ratio:  0.101612736774\n"
     ]
    },
    {
     "name": "stderr",
     "output_type": "stream",
     "text": [
      " 72%|███████▏  | 348/485 [00:54<00:21,  6.48it/s]"
     ]
    },
    {
     "name": "stdout",
     "output_type": "stream",
     "text": [
      "907.933473595 m 2926.61170161 m\n",
      "Ratio:  0.310233664786\n",
      "581.107451913 m 1728.32379146 m\n",
      "Ratio:  0.336226032867\n"
     ]
    },
    {
     "name": "stderr",
     "output_type": "stream",
     "text": [
      " 72%|███████▏  | 350/485 [00:54<00:20,  6.54it/s]"
     ]
    },
    {
     "name": "stdout",
     "output_type": "stream",
     "text": [
      "738.778053019 m 2227.67870622 m\n",
      "Ratio:  0.331635819365\n",
      "923.514094849 m 2146.03809767 m\n",
      "Ratio:  0.430334436211\n"
     ]
    },
    {
     "name": "stderr",
     "output_type": "stream",
     "text": [
      " 73%|███████▎  | 352/485 [00:54<00:19,  6.72it/s]"
     ]
    },
    {
     "name": "stdout",
     "output_type": "stream",
     "text": [
      "6999.57277458 m 2812.05722977 m\n",
      "Ratio:  2.48912884862\n",
      "872.33982887 m 2092.54636017 m\n",
      "Ratio:  0.416879570973\n"
     ]
    },
    {
     "name": "stderr",
     "output_type": "stream",
     "text": [
      " 73%|███████▎  | 354/485 [00:55<00:19,  6.56it/s]"
     ]
    },
    {
     "name": "stdout",
     "output_type": "stream",
     "text": [
      "2966.29043411 m 2432.15783478 m\n",
      "Ratio:  1.2196126385\n",
      "1051.60495628 m 868.04620313 m\n",
      "Ratio:  1.21146196192\n"
     ]
    },
    {
     "name": "stderr",
     "output_type": "stream",
     "text": [
      " 73%|███████▎  | 356/485 [00:55<00:19,  6.71it/s]"
     ]
    },
    {
     "name": "stdout",
     "output_type": "stream",
     "text": [
      "757.302887722 m 489.140435787 m\n",
      "Ratio:  1.54823202564\n",
      "712.564033467 m 2287.39257422 m\n",
      "Ratio:  0.311518032147\n"
     ]
    },
    {
     "name": "stderr",
     "output_type": "stream",
     "text": [
      " 74%|███████▍  | 358/485 [00:55<00:18,  6.72it/s]"
     ]
    },
    {
     "name": "stdout",
     "output_type": "stream",
     "text": [
      "666.806728767 m 2999.74644289 m\n",
      "Ratio:  0.222287697131\n",
      "712.901699165 m 1648.91071923 m\n",
      "Ratio:  0.432347058487\n"
     ]
    },
    {
     "name": "stderr",
     "output_type": "stream",
     "text": [
      " 74%|███████▍  | 360/485 [00:55<00:19,  6.27it/s]"
     ]
    },
    {
     "name": "stdout",
     "output_type": "stream",
     "text": [
      "1041.21041259 m 1890.91873162 m\n",
      "Ratio:  0.550637314643\n",
      "3048.49836358 m 9874.34143506 m\n",
      "Ratio:  0.308729284239\n"
     ]
    },
    {
     "name": "stderr",
     "output_type": "stream",
     "text": [
      " 75%|███████▍  | 362/485 [00:56<00:18,  6.48it/s]"
     ]
    },
    {
     "name": "stdout",
     "output_type": "stream",
     "text": [
      "10203.2761409 m 979.781479702 m\n",
      "Ratio:  10.4138283406\n",
      "2867.25400529 m 1545.76604833 m\n",
      "Ratio:  1.85490812687\n"
     ]
    },
    {
     "name": "stderr",
     "output_type": "stream",
     "text": [
      " 75%|███████▌  | 364/485 [00:56<00:18,  6.68it/s]"
     ]
    },
    {
     "name": "stdout",
     "output_type": "stream",
     "text": [
      "2127.98895989 m 1257.15267695 m\n",
      "Ratio:  1.69270526874\n",
      "2329.25828922 m 1656.41600318 m\n",
      "Ratio:  1.406203686\n"
     ]
    },
    {
     "name": "stderr",
     "output_type": "stream",
     "text": [
      " 75%|███████▌  | 366/485 [00:56<00:17,  6.66it/s]"
     ]
    },
    {
     "name": "stdout",
     "output_type": "stream",
     "text": [
      "3141.26527549 m 2060.45559279 m\n",
      "Ratio:  1.52454888447\n",
      "731.569031721 m 2045.03307227 m\n",
      "Ratio:  0.357729682537\n"
     ]
    },
    {
     "name": "stderr",
     "output_type": "stream",
     "text": [
      " 76%|███████▌  | 368/485 [00:57<00:17,  6.82it/s]"
     ]
    },
    {
     "name": "stdout",
     "output_type": "stream",
     "text": [
      "1757.6453543 m 507.235833687 m\n",
      "Ratio:  3.465144293\n",
      "2530.80004685 m 380.163944637 m\n",
      "Ratio:  6.65712801687\n"
     ]
    },
    {
     "name": "stderr",
     "output_type": "stream",
     "text": [
      " 76%|███████▋  | 370/485 [00:57<00:16,  6.79it/s]"
     ]
    },
    {
     "name": "stdout",
     "output_type": "stream",
     "text": [
      "2789.58889216 m 637.41134761 m\n",
      "Ratio:  4.37643431141\n",
      "3106.6214876 m 975.35444267 m\n",
      "Ratio:  3.18512055893\n"
     ]
    },
    {
     "name": "stderr",
     "output_type": "stream",
     "text": [
      " 77%|███████▋  | 372/485 [00:57<00:16,  6.76it/s]"
     ]
    },
    {
     "name": "stdout",
     "output_type": "stream",
     "text": [
      "1642.71673804 m 910.606682501 m\n",
      "Ratio:  1.80398054353\n",
      "1157.08687261 m 1147.50169789 m\n",
      "Ratio:  1.00835308108\n"
     ]
    },
    {
     "name": "stderr",
     "output_type": "stream",
     "text": [
      " 77%|███████▋  | 374/485 [00:58<00:17,  6.45it/s]"
     ]
    },
    {
     "name": "stdout",
     "output_type": "stream",
     "text": [
      "1124.75290976 m 972.078740011 m\n",
      "Ratio:  1.15705946799\n",
      "1658.82672283 m 897.595769313 m\n",
      "Ratio:  1.84807769771\n"
     ]
    },
    {
     "name": "stderr",
     "output_type": "stream",
     "text": [
      " 78%|███████▊  | 376/485 [00:58<00:17,  6.17it/s]"
     ]
    },
    {
     "name": "stdout",
     "output_type": "stream",
     "text": [
      "607.697801516 m 938.487228051 m\n",
      "Ratio:  0.64752911212\n",
      "757.499533449 m 1028.16303882 m\n",
      "Ratio:  0.736750403245\n"
     ]
    },
    {
     "name": "stderr",
     "output_type": "stream",
     "text": [
      " 78%|███████▊  | 378/485 [00:58<00:17,  6.23it/s]"
     ]
    },
    {
     "name": "stdout",
     "output_type": "stream",
     "text": [
      "1490.63382879 m 1137.21787035 m\n",
      "Ratio:  1.31077242774\n",
      "11921.0734904 m 956.0294963 m\n",
      "Ratio:  12.4693574168\n"
     ]
    },
    {
     "name": "stderr",
     "output_type": "stream",
     "text": [
      " 78%|███████▊  | 380/485 [00:59<00:16,  6.24it/s]"
     ]
    },
    {
     "name": "stdout",
     "output_type": "stream",
     "text": [
      "518.805209098 m 994.021938332 m\n",
      "Ratio:  0.521925310792\n",
      "866.362843276 m 1200.47163121 m\n",
      "Ratio:  0.721685394932\n"
     ]
    },
    {
     "name": "stderr",
     "output_type": "stream",
     "text": [
      " 79%|███████▉  | 382/485 [00:59<00:16,  6.39it/s]"
     ]
    },
    {
     "name": "stdout",
     "output_type": "stream",
     "text": [
      "8392.64561804 m 728.178708846 m\n",
      "Ratio:  11.5255300877\n",
      "11813.2292681 m 926.924500178 m\n",
      "Ratio:  12.7445431271\n"
     ]
    },
    {
     "name": "stderr",
     "output_type": "stream",
     "text": [
      " 79%|███████▉  | 384/485 [00:59<00:15,  6.57it/s]"
     ]
    },
    {
     "name": "stdout",
     "output_type": "stream",
     "text": [
      "3099.6784359 m 957.998709926 m\n",
      "Ratio:  3.2355768372\n",
      "1658.27022079 m 903.204471236 m\n",
      "Ratio:  1.83598539821\n"
     ]
    },
    {
     "name": "stderr",
     "output_type": "stream",
     "text": [
      " 80%|███████▉  | 386/485 [00:59<00:15,  6.33it/s]"
     ]
    },
    {
     "name": "stdout",
     "output_type": "stream",
     "text": [
      "1735.1402051 m 647.779554371 m\n",
      "Ratio:  2.67859674389\n",
      "1237.57172432 m 615.824931687 m\n",
      "Ratio:  2.00961614356\n"
     ]
    },
    {
     "name": "stderr",
     "output_type": "stream",
     "text": [
      " 80%|████████  | 388/485 [01:00<00:15,  6.41it/s]"
     ]
    },
    {
     "name": "stdout",
     "output_type": "stream",
     "text": [
      "3954.3609401 m 538.840554534 m\n",
      "Ratio:  7.3386475959\n",
      "808.812314888 m 536.911777481 m\n",
      "Ratio:  1.50641566978\n"
     ]
    },
    {
     "name": "stderr",
     "output_type": "stream",
     "text": [
      " 80%|████████  | 390/485 [01:00<00:14,  6.44it/s]"
     ]
    },
    {
     "name": "stdout",
     "output_type": "stream",
     "text": [
      "4114.66771807 m 543.818169147 m\n",
      "Ratio:  7.56625642818\n",
      "2797.46691724 m 660.881775887 m\n",
      "Ratio:  4.23293094062\n"
     ]
    },
    {
     "name": "stderr",
     "output_type": "stream",
     "text": [
      " 81%|████████  | 392/485 [01:00<00:14,  6.33it/s]"
     ]
    },
    {
     "name": "stdout",
     "output_type": "stream",
     "text": [
      "1553.82350936 m 676.812632616 m\n",
      "Ratio:  2.29579566704\n",
      "1035.46332426 m 670.576414742 m\n",
      "Ratio:  1.54413919353\n"
     ]
    },
    {
     "name": "stderr",
     "output_type": "stream",
     "text": [
      " 81%|████████  | 394/485 [01:01<00:14,  6.26it/s]"
     ]
    },
    {
     "name": "stdout",
     "output_type": "stream",
     "text": [
      "892.499477875 m 751.28976376 m\n",
      "Ratio:  1.18795639303\n",
      "803.89648762 m 745.262120696 m\n",
      "Ratio:  1.07867616681\n"
     ]
    },
    {
     "name": "stderr",
     "output_type": "stream",
     "text": [
      " 82%|████████▏ | 396/485 [01:01<00:14,  6.24it/s]"
     ]
    },
    {
     "name": "stdout",
     "output_type": "stream",
     "text": [
      "1183.0112606 m 1827.6460065 m\n",
      "Ratio:  0.647286868679\n",
      "1673.67889072 m 2253.67440674 m\n",
      "Ratio:  0.742644494573\n"
     ]
    },
    {
     "name": "stderr",
     "output_type": "stream",
     "text": [
      "\r",
      " 82%|████████▏ | 397/485 [01:01<00:14,  6.10it/s]"
     ]
    },
    {
     "name": "stdout",
     "output_type": "stream",
     "text": [
      "2545.29618768 m 2003.84894215 m\n",
      "Ratio:  1.27020362371\n"
     ]
    },
    {
     "name": "stderr",
     "output_type": "stream",
     "text": [
      " 82%|████████▏ | 399/485 [01:02<00:15,  5.63it/s]"
     ]
    },
    {
     "name": "stdout",
     "output_type": "stream",
     "text": [
      "1734.81764472 m 1039.3601374 m\n",
      "Ratio:  1.66912081992\n",
      "8346.77212363 m 1025.61893449 m\n",
      "Ratio:  8.1382781099\n"
     ]
    },
    {
     "name": "stderr",
     "output_type": "stream",
     "text": [
      " 83%|████████▎ | 401/485 [01:02<00:14,  5.92it/s]"
     ]
    },
    {
     "name": "stdout",
     "output_type": "stream",
     "text": [
      "2793.25952122 m 3448.15025331 m\n",
      "Ratio:  0.810074769376\n",
      "784.306656046 m 1940.36531493 m\n",
      "Ratio:  0.404205666846\n"
     ]
    },
    {
     "name": "stderr",
     "output_type": "stream",
     "text": [
      " 83%|████████▎ | 403/485 [01:02<00:13,  6.12it/s]"
     ]
    },
    {
     "name": "stdout",
     "output_type": "stream",
     "text": [
      "1262.45788903 m 2049.56147435 m\n",
      "Ratio:  0.615964880697\n",
      "783.418464494 m 1700.858108 m\n",
      "Ratio:  0.460601893132\n"
     ]
    },
    {
     "name": "stderr",
     "output_type": "stream",
     "text": [
      " 84%|████████▎ | 405/485 [01:03<00:13,  6.01it/s]"
     ]
    },
    {
     "name": "stdout",
     "output_type": "stream",
     "text": [
      "2275.88715188 m 1912.72078843 m\n",
      "Ratio:  1.18986898958\n",
      "20703.2998559 m 3211.11676031 m\n",
      "Ratio:  6.44738307613\n"
     ]
    },
    {
     "name": "stderr",
     "output_type": "stream",
     "text": [
      " 84%|████████▍ | 407/485 [01:03<00:13,  5.88it/s]"
     ]
    },
    {
     "name": "stdout",
     "output_type": "stream",
     "text": [
      "6583.86777583 m 2098.08318128 m\n",
      "Ratio:  3.13803944218\n",
      "1009.03867709 m 2019.99471771 m\n",
      "Ratio:  0.499525403826\n"
     ]
    },
    {
     "name": "stderr",
     "output_type": "stream",
     "text": [
      " 84%|████████▍ | 409/485 [01:03<00:13,  5.83it/s]"
     ]
    },
    {
     "name": "stdout",
     "output_type": "stream",
     "text": [
      "1473.24417149 m 1856.32102943 m\n",
      "Ratio:  0.793636525222\n",
      "831.668565392 m 2992.60676132 m\n",
      "Ratio:  0.277907734535\n"
     ]
    },
    {
     "name": "stderr",
     "output_type": "stream",
     "text": [
      " 85%|████████▍ | 411/485 [01:04<00:13,  5.62it/s]"
     ]
    },
    {
     "name": "stdout",
     "output_type": "stream",
     "text": [
      "1151.90752539 m 2034.38069147 m\n",
      "Ratio:  0.566220240988\n",
      "6197.01835983 m 4470.14533549 m\n",
      "Ratio:  1.38631250099\n"
     ]
    },
    {
     "name": "stderr",
     "output_type": "stream",
     "text": [
      " 85%|████████▌ | 413/485 [01:04<00:12,  5.66it/s]"
     ]
    },
    {
     "name": "stdout",
     "output_type": "stream",
     "text": [
      "955.774628432 m 4446.27504909 m\n",
      "Ratio:  0.214960752063\n",
      "3764.1081324 m 2014.57454342 m\n",
      "Ratio:  1.868438249\n"
     ]
    },
    {
     "name": "stderr",
     "output_type": "stream",
     "text": [
      " 86%|████████▌ | 415/485 [01:04<00:12,  5.56it/s]"
     ]
    },
    {
     "name": "stdout",
     "output_type": "stream",
     "text": [
      "3716.19672107 m 1251.63776483 m\n",
      "Ratio:  2.96906726969\n",
      "1497.98048381 m 1304.11923793 m\n",
      "Ratio:  1.14865300674\n"
     ]
    },
    {
     "name": "stderr",
     "output_type": "stream",
     "text": [
      " 86%|████████▌ | 417/485 [01:05<00:12,  5.48it/s]"
     ]
    },
    {
     "name": "stdout",
     "output_type": "stream",
     "text": [
      "5370.8478825 m 1529.49053481 m\n",
      "Ratio:  3.51152737482\n",
      "912.821801795 m 3470.09721993 m\n",
      "Ratio:  0.263053667935\n"
     ]
    },
    {
     "name": "stderr",
     "output_type": "stream",
     "text": [
      " 86%|████████▋ | 419/485 [01:05<00:11,  5.56it/s]"
     ]
    },
    {
     "name": "stdout",
     "output_type": "stream",
     "text": [
      "1344.95895593 m 3333.01565277 m\n",
      "Ratio:  0.403526144502\n",
      "1943.77990873 m 4381.96965515 m\n",
      "Ratio:  0.443585889838\n"
     ]
    },
    {
     "name": "stderr",
     "output_type": "stream",
     "text": [
      " 87%|████████▋ | 421/485 [01:05<00:11,  5.55it/s]"
     ]
    },
    {
     "name": "stdout",
     "output_type": "stream",
     "text": [
      "6327.24398796 m 4810.77291079 m\n",
      "Ratio:  1.31522399941\n",
      "1617.69100392 m 6330.9951932 m\n",
      "Ratio:  0.25551922795\n"
     ]
    },
    {
     "name": "stderr",
     "output_type": "stream",
     "text": [
      " 87%|████████▋ | 423/485 [01:06<00:10,  5.65it/s]"
     ]
    },
    {
     "name": "stdout",
     "output_type": "stream",
     "text": [
      "1359.96874535 m 30944.893421 m\n",
      "Ratio:  0.0439480830277\n",
      "896.342656411 m 2397.58587889 m\n",
      "Ratio:  0.373852158667\n"
     ]
    },
    {
     "name": "stderr",
     "output_type": "stream",
     "text": [
      " 88%|████████▊ | 425/485 [01:06<00:10,  5.64it/s]"
     ]
    },
    {
     "name": "stdout",
     "output_type": "stream",
     "text": [
      "824.811439894 m 3113.23271877 m\n",
      "Ratio:  0.264937290078\n",
      "614.746811411 m 2553.57429315 m\n",
      "Ratio:  0.240739740003\n"
     ]
    },
    {
     "name": "stderr",
     "output_type": "stream",
     "text": [
      " 88%|████████▊ | 427/485 [01:07<00:10,  5.60it/s]"
     ]
    },
    {
     "name": "stdout",
     "output_type": "stream",
     "text": [
      "1386.08140756 m 2996.86551418 m\n",
      "Ratio:  0.462510379929\n",
      "1265.51717643 m 1614.09111382 m\n",
      "Ratio:  0.784043208959\n"
     ]
    },
    {
     "name": "stderr",
     "output_type": "stream",
     "text": [
      " 88%|████████▊ | 429/485 [01:07<00:09,  5.81it/s]"
     ]
    },
    {
     "name": "stdout",
     "output_type": "stream",
     "text": [
      "4570.11953168 m 1232.01364805 m\n",
      "Ratio:  3.7094715135\n",
      "1258.02995272 m 1489.5761967 m\n",
      "Ratio:  0.844555622939\n"
     ]
    },
    {
     "name": "stderr",
     "output_type": "stream",
     "text": [
      " 89%|████████▉ | 431/485 [01:07<00:09,  5.95it/s]"
     ]
    },
    {
     "name": "stdout",
     "output_type": "stream",
     "text": [
      "891.583789438 m 4098.25205023 m\n",
      "Ratio:  0.217552209701\n",
      "1090.34666716 m 8392.76386251 m\n",
      "Ratio:  0.129915089358\n"
     ]
    },
    {
     "name": "stderr",
     "output_type": "stream",
     "text": [
      " 89%|████████▉ | 433/485 [01:08<00:09,  5.52it/s]"
     ]
    },
    {
     "name": "stdout",
     "output_type": "stream",
     "text": [
      "11633.210151 m 1904.60409404 m\n",
      "Ratio:  6.10794137604\n",
      "23922.9191104 m 983.905432358 m\n",
      "Ratio:  24.3142463936\n"
     ]
    },
    {
     "name": "stderr",
     "output_type": "stream",
     "text": [
      " 90%|████████▉ | 435/485 [01:08<00:08,  5.79it/s]"
     ]
    },
    {
     "name": "stdout",
     "output_type": "stream",
     "text": [
      "4509.86809187 m 9330.91218476 m\n",
      "Ratio:  0.483325531585\n",
      "2249.71365682 m 29973.9206645 m\n",
      "Ratio:  0.0750557019885\n"
     ]
    },
    {
     "name": "stderr",
     "output_type": "stream",
     "text": [
      " 90%|█████████ | 437/485 [01:08<00:07,  6.02it/s]"
     ]
    },
    {
     "name": "stdout",
     "output_type": "stream",
     "text": [
      "1298.74222679 m 6566.039781 m\n",
      "Ratio:  0.197796886724\n",
      "732.261299671 m 1171.81715601 m\n",
      "Ratio:  0.624893820605\n"
     ]
    },
    {
     "name": "stderr",
     "output_type": "stream",
     "text": [
      " 91%|█████████ | 439/485 [01:09<00:07,  6.16it/s]"
     ]
    },
    {
     "name": "stdout",
     "output_type": "stream",
     "text": [
      "706.978358864 m 1222.93836478 m\n",
      "Ratio:  0.578098111256\n",
      "891.85773195 m 2474.59043561 m\n",
      "Ratio:  0.360406198584\n"
     ]
    },
    {
     "name": "stderr",
     "output_type": "stream",
     "text": [
      " 91%|█████████ | 441/485 [01:09<00:07,  6.20it/s]"
     ]
    },
    {
     "name": "stdout",
     "output_type": "stream",
     "text": [
      "653.324241976 m 1726.3160126 m\n",
      "Ratio:  0.378449969304\n",
      "868.02442402 m 1922.11272003 m\n",
      "Ratio:  0.451599125782\n"
     ]
    },
    {
     "name": "stderr",
     "output_type": "stream",
     "text": [
      " 91%|█████████▏| 443/485 [01:09<00:06,  6.35it/s]"
     ]
    },
    {
     "name": "stdout",
     "output_type": "stream",
     "text": [
      "3436.67270246 m 5222.87142474 m\n",
      "Ratio:  0.658004462102\n",
      "2943.06017342 m 5573.35432037 m\n",
      "Ratio:  0.528059047433\n"
     ]
    },
    {
     "name": "stderr",
     "output_type": "stream",
     "text": [
      " 92%|█████████▏| 445/485 [01:10<00:06,  6.15it/s]"
     ]
    },
    {
     "name": "stdout",
     "output_type": "stream",
     "text": [
      "2440.01353282 m 7357.17611401 m\n",
      "Ratio:  0.331650825671\n",
      "1366.51496886 m 1089.21317165 m\n",
      "Ratio:  1.25458909644\n"
     ]
    },
    {
     "name": "stderr",
     "output_type": "stream",
     "text": [
      " 92%|█████████▏| 447/485 [01:10<00:06,  6.03it/s]"
     ]
    },
    {
     "name": "stdout",
     "output_type": "stream",
     "text": [
      "837.579849687 m 2414.0309835 m\n",
      "Ratio:  0.346963172972\n",
      "1844.6611502 m 917.582894696 m\n",
      "Ratio:  2.01034823214\n"
     ]
    },
    {
     "name": "stderr",
     "output_type": "stream",
     "text": [
      " 93%|█████████▎| 449/485 [01:10<00:05,  6.20it/s]"
     ]
    },
    {
     "name": "stdout",
     "output_type": "stream",
     "text": [
      "5702.88231832 m 970.337296633 m\n",
      "Ratio:  5.87721644639\n",
      "2923.14989612 m 847.232723863 m\n",
      "Ratio:  3.45023252028\n"
     ]
    },
    {
     "name": "stderr",
     "output_type": "stream",
     "text": [
      " 93%|█████████▎| 451/485 [01:11<00:05,  5.97it/s]"
     ]
    },
    {
     "name": "stdout",
     "output_type": "stream",
     "text": [
      "998.066263113 m 1489.67940915 m\n",
      "Ratio:  0.66998728517\n",
      "950.586690473 m 1497.97487135 m\n",
      "Ratio:  0.63458119936\n"
     ]
    },
    {
     "name": "stderr",
     "output_type": "stream",
     "text": [
      " 93%|█████████▎| 453/485 [01:11<00:05,  6.16it/s]"
     ]
    },
    {
     "name": "stdout",
     "output_type": "stream",
     "text": [
      "945.324723299 m 2282.24846355 m\n",
      "Ratio:  0.414207628309\n",
      "900.074313615 m 2616.19165474 m\n",
      "Ratio:  0.344039899365\n"
     ]
    },
    {
     "name": "stderr",
     "output_type": "stream",
     "text": [
      " 94%|█████████▍| 455/485 [01:11<00:04,  6.19it/s]"
     ]
    },
    {
     "name": "stdout",
     "output_type": "stream",
     "text": [
      "1137.87856145 m 1788.83689622 m\n",
      "Ratio:  0.636099671163\n",
      "1508.73884607 m 3223.77651664 m\n",
      "Ratio:  0.468003547479\n"
     ]
    },
    {
     "name": "stderr",
     "output_type": "stream",
     "text": [
      " 94%|█████████▍| 457/485 [01:12<00:04,  5.93it/s]"
     ]
    },
    {
     "name": "stdout",
     "output_type": "stream",
     "text": [
      "1056.36155733 m 1684.30690393 m\n",
      "Ratio:  0.627178784853\n",
      "879.536224764 m 5845.89777823 m\n",
      "Ratio:  0.150453575846\n"
     ]
    },
    {
     "name": "stderr",
     "output_type": "stream",
     "text": [
      " 95%|█████████▍| 459/485 [01:12<00:04,  5.72it/s]"
     ]
    },
    {
     "name": "stdout",
     "output_type": "stream",
     "text": [
      "997.881304298 m 4411.28404682 m\n",
      "Ratio:  0.226211074532\n",
      "893.205849677 m 3647.35440351 m\n",
      "Ratio:  0.244891433862\n"
     ]
    },
    {
     "name": "stderr",
     "output_type": "stream",
     "text": [
      " 95%|█████████▌| 461/485 [01:12<00:04,  5.78it/s]"
     ]
    },
    {
     "name": "stdout",
     "output_type": "stream",
     "text": [
      "1128.75969803 m 4665.87476225 m\n",
      "Ratio:  0.241918130157\n",
      "920.048827991 m 4755.80950483 m\n",
      "Ratio:  0.193457880737\n"
     ]
    },
    {
     "name": "stderr",
     "output_type": "stream",
     "text": [
      " 95%|█████████▌| 463/485 [01:13<00:03,  5.79it/s]"
     ]
    },
    {
     "name": "stdout",
     "output_type": "stream",
     "text": [
      "1131.45090822 m 6045.57404876 m\n",
      "Ratio:  0.187153593536\n",
      "948.892400004 m 1934.26407119 m\n",
      "Ratio:  0.490570245366\n"
     ]
    },
    {
     "name": "stderr",
     "output_type": "stream",
     "text": [
      " 96%|█████████▌| 465/485 [01:13<00:03,  5.81it/s]"
     ]
    },
    {
     "name": "stdout",
     "output_type": "stream",
     "text": [
      "683.276724588 m 3829.78452193 m\n",
      "Ratio:  0.178411271098\n",
      "684.916476741 m 9726.47172915 m\n",
      "Ratio:  0.0704177728382\n"
     ]
    },
    {
     "name": "stderr",
     "output_type": "stream",
     "text": [
      " 96%|█████████▋| 467/485 [01:13<00:03,  5.96it/s]"
     ]
    },
    {
     "name": "stdout",
     "output_type": "stream",
     "text": [
      "701.723217494 m 3587.3566078 m\n",
      "Ratio:  0.195610109117\n",
      "849.375714371 m 739.716815114 m\n",
      "Ratio:  1.14824443222\n"
     ]
    },
    {
     "name": "stderr",
     "output_type": "stream",
     "text": [
      " 97%|█████████▋| 469/485 [01:14<00:02,  5.88it/s]"
     ]
    },
    {
     "name": "stdout",
     "output_type": "stream",
     "text": [
      "652.258486046 m 4450.94125835 m\n",
      "Ratio:  0.146543943896\n",
      "680.817520006 m 2134.03187321 m\n",
      "Ratio:  0.319028749548\n"
     ]
    },
    {
     "name": "stderr",
     "output_type": "stream",
     "text": [
      " 97%|█████████▋| 471/485 [01:14<00:02,  6.17it/s]"
     ]
    },
    {
     "name": "stdout",
     "output_type": "stream",
     "text": [
      "864.816587021 m 69.124556379 m\n",
      "Ratio:  12.510989326\n",
      "821.568394514 m 2319.48528344 m\n",
      "Ratio:  0.354202891642\n"
     ]
    },
    {
     "name": "stderr",
     "output_type": "stream",
     "text": [
      " 98%|█████████▊| 473/485 [01:14<00:01,  6.34it/s]"
     ]
    },
    {
     "name": "stdout",
     "output_type": "stream",
     "text": [
      "800.063330093 m 4742.48503018 m\n",
      "Ratio:  0.168701287406\n",
      "830.218271569 m 1731.62147944 m\n",
      "Ratio:  0.479445584054\n"
     ]
    },
    {
     "name": "stderr",
     "output_type": "stream",
     "text": [
      " 98%|█████████▊| 475/485 [01:14<00:01,  6.42it/s]"
     ]
    },
    {
     "name": "stdout",
     "output_type": "stream",
     "text": [
      "836.230649093 m 1461.67244432 m\n",
      "Ratio:  0.57210536625\n",
      "996.951269455 m 1378.15199487 m\n",
      "Ratio:  0.723397181997\n"
     ]
    },
    {
     "name": "stderr",
     "output_type": "stream",
     "text": [
      " 98%|█████████▊| 477/485 [01:15<00:01,  6.43it/s]"
     ]
    },
    {
     "name": "stdout",
     "output_type": "stream",
     "text": [
      "2183.05521816 m 1155.20935112 m\n",
      "Ratio:  1.88974856899\n",
      "4561.68691455 m 1482.36984785 m\n",
      "Ratio:  3.07729337667\n"
     ]
    },
    {
     "name": "stderr",
     "output_type": "stream",
     "text": [
      " 99%|█████████▉| 479/485 [01:15<00:00,  6.54it/s]"
     ]
    },
    {
     "name": "stdout",
     "output_type": "stream",
     "text": [
      "2109.80580536 m 1224.89222152 m\n",
      "Ratio:  1.72244199799\n",
      "3503.4280419 m 505.754869344 m\n",
      "Ratio:  6.92712666601\n"
     ]
    },
    {
     "name": "stderr",
     "output_type": "stream",
     "text": [
      " 99%|█████████▉| 481/485 [01:15<00:00,  6.31it/s]"
     ]
    },
    {
     "name": "stdout",
     "output_type": "stream",
     "text": [
      "2150.42337458 m 813.552218737 m\n",
      "Ratio:  2.64325180984\n",
      "1158.76890847 m 201.032867925 m\n",
      "Ratio:  5.76407689167\n"
     ]
    },
    {
     "name": "stderr",
     "output_type": "stream",
     "text": [
      "100%|█████████▉| 483/485 [01:16<00:00,  6.34it/s]"
     ]
    },
    {
     "name": "stdout",
     "output_type": "stream",
     "text": [
      "911.255065699 m 615.722460486 m\n",
      "Ratio:  1.47997697693\n",
      "906.259973256 m 1140.76798325 m\n",
      "Ratio:  0.794429705747\n"
     ]
    },
    {
     "name": "stderr",
     "output_type": "stream",
     "text": [
      "\r",
      "100%|█████████▉| 484/485 [01:16<00:00,  6.32it/s]"
     ]
    },
    {
     "name": "stdout",
     "output_type": "stream",
     "text": [
      "964.866092062 m 441.629236836 m\n",
      "Ratio:  2.18478762633\n"
     ]
    },
    {
     "name": "stderr",
     "output_type": "stream",
     "text": [
      "\r",
      "100%|██████████| 485/485 [01:16<00:00,  3.93it/s]"
     ]
    },
    {
     "name": "stdout",
     "output_type": "stream",
     "text": [
      "964.866092062 m 441.629236836 m\n",
      "Ratio:  2.18478762633\n"
     ]
    },
    {
     "name": "stderr",
     "output_type": "stream",
     "text": [
      "\n"
     ]
    },
    {
     "name": "stdout",
     "output_type": "stream",
     "text": [
      "[MoviePy] Done.\n",
      "[MoviePy] >>>> Video ready: challenge_video_done_2.mp4 \n",
      "\n"
     ]
    }
   ],
   "source": [
    "challenge = 'challenge_video_done_2.mp4'\n",
    "clip1 = VideoFileClip('challenge_video.mp4')\n",
    "white_clip = clip1.fl_image(process_image)  # NOTE: this function expects color images!!\n",
    "white_clip.write_videofile(challenge, audio=False)"
   ]
  },
  {
   "cell_type": "code",
   "execution_count": 13,
   "metadata": {
    "collapsed": false
   },
   "outputs": [
    {
     "data": {
      "text/html": [
       "\n",
       "<video width=\"960\" height=\"540\" controls>\n",
       "  <source src=\"challenge_video_done_2.mp4\">\n",
       "</video>\n"
      ],
      "text/plain": [
       "<IPython.core.display.HTML object>"
      ]
     },
     "execution_count": 13,
     "metadata": {},
     "output_type": "execute_result"
    }
   ],
   "source": [
    "HTML(\"\"\"\n",
    "<video width=\"960\" height=\"540\" controls>\n",
    "  <source src=\"{0}\">\n",
    "</video>\n",
    "\"\"\".format(challenge))"
   ]
  },
  {
   "cell_type": "code",
   "execution_count": 14,
   "metadata": {
    "collapsed": false
   },
   "outputs": [
    {
     "name": "stdout",
     "output_type": "stream",
     "text": [
      "272.161068866 m 459.121900866 m\n",
      "Ratio:  0.592786073488\n",
      "[MoviePy] >>>> Building video harder_challenge_video_done_2.mp4\n",
      "[MoviePy] Writing video harder_challenge_video_done_2.mp4\n"
     ]
    },
    {
     "name": "stderr",
     "output_type": "stream",
     "text": [
      "\r",
      "  0%|          | 0/1200 [00:00<?, ?it/s]"
     ]
    },
    {
     "name": "stdout",
     "output_type": "stream",
     "text": [
      "272.161068866 m 459.121900866 m\n",
      "Ratio:  0.592786073488\n"
     ]
    },
    {
     "name": "stderr",
     "output_type": "stream",
     "text": [
      "  0%|          | 2/1200 [00:00<03:37,  5.50it/s]"
     ]
    },
    {
     "name": "stdout",
     "output_type": "stream",
     "text": [
      "320.18453044 m 279.826996567 m\n",
      "Ratio:  1.14422316062\n"
     ]
    },
    {
     "name": "stderr",
     "output_type": "stream",
     "text": [
      "\r",
      "  0%|          | 3/1200 [00:00<03:35,  5.56it/s]"
     ]
    },
    {
     "name": "stdout",
     "output_type": "stream",
     "text": [
      "347.432233778 m 227.106133054 m\n",
      "Ratio:  1.52982321132\n"
     ]
    },
    {
     "name": "stderr",
     "output_type": "stream",
     "text": [
      "\r",
      "  0%|          | 4/1200 [00:00<03:34,  5.57it/s]"
     ]
    },
    {
     "name": "stdout",
     "output_type": "stream",
     "text": [
      "379.682211199 m 232.977466629 m\n",
      "Ratio:  1.62969499451\n"
     ]
    },
    {
     "name": "stderr",
     "output_type": "stream",
     "text": [
      "\r",
      "  0%|          | 5/1200 [00:00<03:28,  5.72it/s]"
     ]
    },
    {
     "name": "stdout",
     "output_type": "stream",
     "text": [
      "378.540596774 m 247.687305297 m\n",
      "Ratio:  1.52830035565\n"
     ]
    },
    {
     "name": "stderr",
     "output_type": "stream",
     "text": [
      "\r",
      "  0%|          | 6/1200 [00:01<03:26,  5.79it/s]"
     ]
    },
    {
     "name": "stdout",
     "output_type": "stream",
     "text": [
      "375.674905893 m 225.366587062 m\n",
      "Ratio:  1.66695032653\n"
     ]
    },
    {
     "name": "stderr",
     "output_type": "stream",
     "text": [
      "  1%|          | 8/1200 [00:01<03:39,  5.43it/s]"
     ]
    },
    {
     "name": "stdout",
     "output_type": "stream",
     "text": [
      "352.632443985 m 286.103373141 m\n",
      "Ratio:  1.23253508029\n",
      "302.895971972 m 366.336418108 m\n",
      "Ratio:  0.826824626216\n"
     ]
    },
    {
     "name": "stderr",
     "output_type": "stream",
     "text": [
      "  1%|          | 10/1200 [00:01<03:30,  5.64it/s]"
     ]
    },
    {
     "name": "stdout",
     "output_type": "stream",
     "text": [
      "245.916770623 m 816.673376028 m\n",
      "Ratio:  0.301120102407\n",
      "239.358472786 m 9289.82249374 m\n",
      "Ratio:  0.0257656669918\n"
     ]
    },
    {
     "name": "stderr",
     "output_type": "stream",
     "text": [
      "  1%|          | 12/1200 [00:02<03:33,  5.56it/s]"
     ]
    },
    {
     "name": "stdout",
     "output_type": "stream",
     "text": [
      "248.548098532 m 1125.66491586 m\n",
      "Ratio:  0.220801141644\n",
      "251.801297001 m 5378.29617165 m\n",
      "Ratio:  0.0468180421762\n"
     ]
    },
    {
     "name": "stderr",
     "output_type": "stream",
     "text": [
      "  1%|          | 14/1200 [00:02<03:33,  5.56it/s]"
     ]
    },
    {
     "name": "stdout",
     "output_type": "stream",
     "text": [
      "266.754852423 m 5389.70138058 m\n",
      "Ratio:  0.049493438242\n",
      "255.437469676 m 1795.99872627 m\n",
      "Ratio:  0.142225863493\n"
     ]
    },
    {
     "name": "stderr",
     "output_type": "stream",
     "text": [
      "  1%|▏         | 16/1200 [00:02<03:32,  5.58it/s]"
     ]
    },
    {
     "name": "stdout",
     "output_type": "stream",
     "text": [
      "244.32040069 m 765.831363593 m\n",
      "Ratio:  0.319026370954\n",
      "230.440903725 m 351.216554688 m\n",
      "Ratio:  0.656121986988\n"
     ]
    },
    {
     "name": "stderr",
     "output_type": "stream",
     "text": [
      "  2%|▏         | 18/1200 [00:03<03:35,  5.48it/s]"
     ]
    },
    {
     "name": "stdout",
     "output_type": "stream",
     "text": [
      "206.251016224 m 220.362270855 m\n",
      "Ratio:  0.935963381678\n",
      "198.748166892 m 296.005891445 m\n",
      "Ratio:  0.671433145879\n"
     ]
    },
    {
     "name": "stderr",
     "output_type": "stream",
     "text": [
      "  2%|▏         | 20/1200 [00:03<03:34,  5.51it/s]"
     ]
    },
    {
     "name": "stdout",
     "output_type": "stream",
     "text": [
      "179.366670775 m 243.135849205 m\n",
      "Ratio:  0.737722023969\n",
      "159.428622425 m 800.299295577 m\n",
      "Ratio:  0.199211249224\n"
     ]
    },
    {
     "name": "stderr",
     "output_type": "stream",
     "text": [
      "  2%|▏         | 22/1200 [00:03<03:35,  5.47it/s]"
     ]
    },
    {
     "name": "stdout",
     "output_type": "stream",
     "text": [
      "153.367038902 m 806.597904018 m\n",
      "Ratio:  0.19014063654\n",
      "155.366321219 m 738.307083638 m\n",
      "Ratio:  0.210435907582\n"
     ]
    },
    {
     "name": "stderr",
     "output_type": "stream",
     "text": [
      "  2%|▏         | 24/1200 [00:04<03:37,  5.40it/s]"
     ]
    },
    {
     "name": "stdout",
     "output_type": "stream",
     "text": [
      "168.357495632 m 755.64532654 m\n",
      "Ratio:  0.222799625326\n",
      "177.042322219 m 1130.94373276 m\n",
      "Ratio:  0.156543881973\n"
     ]
    },
    {
     "name": "stderr",
     "output_type": "stream",
     "text": [
      "  2%|▏         | 26/1200 [00:04<03:28,  5.63it/s]"
     ]
    },
    {
     "name": "stdout",
     "output_type": "stream",
     "text": [
      "341.215968314 m 1299.77764105 m\n",
      "Ratio:  0.262518724386\n",
      "315.055635922 m 480.428281326 m\n",
      "Ratio:  0.655780785954\n"
     ]
    },
    {
     "name": "stderr",
     "output_type": "stream",
     "text": [
      "  2%|▏         | 28/1200 [00:05<03:24,  5.73it/s]"
     ]
    },
    {
     "name": "stdout",
     "output_type": "stream",
     "text": [
      "196.12394597 m 451.26302836 m\n",
      "Ratio:  0.434611155014\n",
      "193.364696406 m 1096.58950134 m\n",
      "Ratio:  0.176332799256\n"
     ]
    },
    {
     "name": "stderr",
     "output_type": "stream",
     "text": [
      "  2%|▎         | 30/1200 [00:05<03:28,  5.62it/s]"
     ]
    },
    {
     "name": "stdout",
     "output_type": "stream",
     "text": [
      "191.649410359 m 526.641564269 m\n",
      "Ratio:  0.363908630388\n",
      "199.82435318 m 2814.10166351 m\n",
      "Ratio:  0.0710082211211\n"
     ]
    },
    {
     "name": "stderr",
     "output_type": "stream",
     "text": [
      "  3%|▎         | 32/1200 [00:05<03:28,  5.59it/s]"
     ]
    },
    {
     "name": "stdout",
     "output_type": "stream",
     "text": [
      "182.81398936 m 9264.18799901 m\n",
      "Ratio:  0.0197334066817\n",
      "183.491314036 m 5490.74700023 m\n",
      "Ratio:  0.0334182787931\n"
     ]
    },
    {
     "name": "stderr",
     "output_type": "stream",
     "text": [
      "  3%|▎         | 34/1200 [00:06<03:28,  5.59it/s]"
     ]
    },
    {
     "name": "stdout",
     "output_type": "stream",
     "text": [
      "181.275302883 m 3611.89946964 m\n",
      "Ratio:  0.0501883577897\n",
      "168.481256118 m 4730.17626575 m\n",
      "Ratio:  0.0356183885447\n"
     ]
    },
    {
     "name": "stderr",
     "output_type": "stream",
     "text": [
      "  3%|▎         | 36/1200 [00:06<03:39,  5.30it/s]"
     ]
    },
    {
     "name": "stdout",
     "output_type": "stream",
     "text": [
      "149.132816267 m 2974.51056041 m\n",
      "Ratio:  0.0501369261391\n",
      "127.779496326 m 1293.11067568 m\n",
      "Ratio:  0.0988155915264\n"
     ]
    },
    {
     "name": "stderr",
     "output_type": "stream",
     "text": [
      "  3%|▎         | 38/1200 [00:06<03:29,  5.56it/s]"
     ]
    },
    {
     "name": "stdout",
     "output_type": "stream",
     "text": [
      "113.878699411 m 1846.21861057 m\n",
      "Ratio:  0.0616821316601\n",
      "102.389144471 m 2053.78840112 m\n",
      "Ratio:  0.0498537942932\n"
     ]
    },
    {
     "name": "stderr",
     "output_type": "stream",
     "text": [
      "\r",
      "  3%|▎         | 39/1200 [00:07<03:28,  5.58it/s]"
     ]
    },
    {
     "name": "stdout",
     "output_type": "stream",
     "text": [
      "95.5236167211 m 1848.27385908 m\n",
      "Ratio:  0.0516826098318\n"
     ]
    },
    {
     "name": "stderr",
     "output_type": "stream",
     "text": [
      "  3%|▎         | 41/1200 [00:07<03:34,  5.39it/s]"
     ]
    },
    {
     "name": "stdout",
     "output_type": "stream",
     "text": [
      "91.2679222424 m 903.2495691 m\n",
      "Ratio:  0.101043969867\n",
      "1130.80675603 m 789.313328337 m\n",
      "Ratio:  1.43264621974\n"
     ]
    },
    {
     "name": "stderr",
     "output_type": "stream",
     "text": [
      "  4%|▎         | 43/1200 [00:07<03:33,  5.42it/s]"
     ]
    },
    {
     "name": "stdout",
     "output_type": "stream",
     "text": [
      "1657.46638502 m 1172.92098294 m\n",
      "Ratio:  1.41311001263\n",
      "1276.49950427 m 1513.95636677 m\n",
      "Ratio:  0.843154751548\n"
     ]
    },
    {
     "name": "stderr",
     "output_type": "stream",
     "text": [
      "  4%|▍         | 45/1200 [00:08<03:25,  5.62it/s]"
     ]
    },
    {
     "name": "stdout",
     "output_type": "stream",
     "text": [
      "554.330018792 m 16620.6652077 m\n",
      "Ratio:  0.0333518551673\n",
      "515.032155788 m 4268.12280639 m\n",
      "Ratio:  0.120669479101\n"
     ]
    },
    {
     "name": "stderr",
     "output_type": "stream",
     "text": [
      "  4%|▍         | 47/1200 [00:08<03:19,  5.79it/s]"
     ]
    },
    {
     "name": "stdout",
     "output_type": "stream",
     "text": [
      "771.279145212 m 2077.06400668 m\n",
      "Ratio:  0.371331428754\n",
      "480.236155603 m 808.837377319 m\n",
      "Ratio:  0.593736354265\n"
     ]
    },
    {
     "name": "stderr",
     "output_type": "stream",
     "text": [
      "  4%|▍         | 49/1200 [00:08<03:19,  5.77it/s]"
     ]
    },
    {
     "name": "stdout",
     "output_type": "stream",
     "text": [
      "417.990498631 m 426.785648567 m\n",
      "Ratio:  0.979392114131\n",
      "411.866201869 m 463.681983921 m\n",
      "Ratio:  0.888251465772\n"
     ]
    },
    {
     "name": "stderr",
     "output_type": "stream",
     "text": [
      "  4%|▍         | 51/1200 [00:09<03:21,  5.69it/s]"
     ]
    },
    {
     "name": "stdout",
     "output_type": "stream",
     "text": [
      "359.818184693 m 433.407240677 m\n",
      "Ratio:  0.830208060508\n",
      "293.458048184 m 938.956531692 m\n",
      "Ratio:  0.312536351023\n"
     ]
    },
    {
     "name": "stderr",
     "output_type": "stream",
     "text": [
      "  4%|▍         | 53/1200 [00:09<03:24,  5.61it/s]"
     ]
    },
    {
     "name": "stdout",
     "output_type": "stream",
     "text": [
      "271.214210855 m 1157.67033984 m\n",
      "Ratio:  0.234275856884\n",
      "292.334611935 m 18562.829377 m\n",
      "Ratio:  0.01574838652\n"
     ]
    },
    {
     "name": "stderr",
     "output_type": "stream",
     "text": [
      "  5%|▍         | 55/1200 [00:09<03:21,  5.67it/s]"
     ]
    },
    {
     "name": "stdout",
     "output_type": "stream",
     "text": [
      "286.448696252 m 731.450913937 m\n",
      "Ratio:  0.391617114415\n",
      "278.524313552 m 404.305362184 m\n",
      "Ratio:  0.688895917797\n"
     ]
    },
    {
     "name": "stderr",
     "output_type": "stream",
     "text": [
      "\r",
      "  5%|▍         | 56/1200 [00:10<03:27,  5.52it/s]"
     ]
    },
    {
     "name": "stdout",
     "output_type": "stream",
     "text": [
      "478.878515435 m 568.45031894 m\n",
      "Ratio:  0.842428088224\n"
     ]
    },
    {
     "name": "stderr",
     "output_type": "stream",
     "text": [
      "  5%|▍         | 58/1200 [00:10<03:38,  5.23it/s]"
     ]
    },
    {
     "name": "stdout",
     "output_type": "stream",
     "text": [
      "405.095051317 m 442.782552229 m\n",
      "Ratio:  0.914884855506\n",
      "512.304971428 m 699.812905368 m\n",
      "Ratio:  0.73205990844\n"
     ]
    },
    {
     "name": "stderr",
     "output_type": "stream",
     "text": [
      "  5%|▌         | 60/1200 [00:10<03:31,  5.38it/s]"
     ]
    },
    {
     "name": "stdout",
     "output_type": "stream",
     "text": [
      "444.128222842 m 456.986427321 m\n",
      "Ratio:  0.971863049514\n",
      "391.226458936 m 439.320246055 m\n",
      "Ratio:  0.890526813753\n"
     ]
    },
    {
     "name": "stderr",
     "output_type": "stream",
     "text": [
      "  5%|▌         | 62/1200 [00:11<03:29,  5.43it/s]"
     ]
    },
    {
     "name": "stdout",
     "output_type": "stream",
     "text": [
      "359.59150107 m 613.383822352 m\n",
      "Ratio:  0.58624223197\n",
      "379.648962105 m 572.290746622 m\n",
      "Ratio:  0.66338476438\n"
     ]
    },
    {
     "name": "stderr",
     "output_type": "stream",
     "text": [
      "  5%|▌         | 64/1200 [00:11<03:23,  5.59it/s]"
     ]
    },
    {
     "name": "stdout",
     "output_type": "stream",
     "text": [
      "1708.90119209 m 356.097096775 m\n",
      "Ratio:  4.7989753569\n",
      "410.182895789 m 327.963676987 m\n",
      "Ratio:  1.25069611232\n"
     ]
    },
    {
     "name": "stderr",
     "output_type": "stream",
     "text": [
      "  6%|▌         | 66/1200 [00:11<03:17,  5.73it/s]"
     ]
    },
    {
     "name": "stdout",
     "output_type": "stream",
     "text": [
      "503.078612263 m 523.568592237 m\n",
      "Ratio:  0.960864764851\n",
      "288.464015568 m 6405.20977775 m\n",
      "Ratio:  0.0450358420063\n"
     ]
    },
    {
     "name": "stderr",
     "output_type": "stream",
     "text": [
      "  6%|▌         | 68/1200 [00:12<03:23,  5.56it/s]"
     ]
    },
    {
     "name": "stdout",
     "output_type": "stream",
     "text": [
      "232.786579412 m 1271.20281437 m\n",
      "Ratio:  0.183123083729\n",
      "221.012180481 m 4185.26113239 m\n",
      "Ratio:  0.0528072618386\n"
     ]
    },
    {
     "name": "stderr",
     "output_type": "stream",
     "text": [
      "  6%|▌         | 70/1200 [00:12<03:20,  5.64it/s]"
     ]
    },
    {
     "name": "stdout",
     "output_type": "stream",
     "text": [
      "202.582831372 m 1226.96468749 m\n",
      "Ratio:  0.165108933808\n",
      "232.958563361 m 664.661922441 m\n",
      "Ratio:  0.350491814704\n"
     ]
    },
    {
     "name": "stderr",
     "output_type": "stream",
     "text": [
      "  6%|▌         | 72/1200 [00:12<03:20,  5.61it/s]"
     ]
    },
    {
     "name": "stdout",
     "output_type": "stream",
     "text": [
      "266.161396876 m 598.025092368 m\n",
      "Ratio:  0.445067272716\n",
      "278.516254697 m 456.677309422 m\n",
      "Ratio:  0.609875395494\n"
     ]
    },
    {
     "name": "stderr",
     "output_type": "stream",
     "text": [
      "  6%|▌         | 74/1200 [00:13<03:26,  5.46it/s]"
     ]
    },
    {
     "name": "stdout",
     "output_type": "stream",
     "text": [
      "357.247761726 m 397.593675451 m\n",
      "Ratio:  0.898524759782\n",
      "430.774395315 m 205.504238719 m\n",
      "Ratio:  2.09618253132\n"
     ]
    },
    {
     "name": "stderr",
     "output_type": "stream",
     "text": [
      "  6%|▋         | 76/1200 [00:13<03:19,  5.63it/s]"
     ]
    },
    {
     "name": "stdout",
     "output_type": "stream",
     "text": [
      "573.94047997 m 75.5913357615 m\n",
      "Ratio:  7.59267545927\n",
      "667.482573571 m 72.1278713622 m\n",
      "Ratio:  9.25415600052\n"
     ]
    },
    {
     "name": "stderr",
     "output_type": "stream",
     "text": [
      "  6%|▋         | 78/1200 [00:14<03:16,  5.70it/s]"
     ]
    },
    {
     "name": "stdout",
     "output_type": "stream",
     "text": [
      "975.596289827 m 765.038078356 m\n",
      "Ratio:  1.27522579258\n",
      "800.184488548 m 1027.34797199 m\n",
      "Ratio:  0.778883601631\n"
     ]
    },
    {
     "name": "stderr",
     "output_type": "stream",
     "text": [
      "\r",
      "  7%|▋         | 79/1200 [00:14<03:19,  5.61it/s]"
     ]
    },
    {
     "name": "stdout",
     "output_type": "stream",
     "text": [
      "464.812290048 m 1436.12594317 m\n",
      "Ratio:  0.323657052683\n",
      "323.969717412 m 879.87144985 m\n",
      "Ratio:  0.368201192876\n"
     ]
    },
    {
     "name": "stderr",
     "output_type": "stream",
     "text": [
      "  7%|▋         | 82/1200 [00:14<03:25,  5.43it/s]"
     ]
    },
    {
     "name": "stdout",
     "output_type": "stream",
     "text": [
      "285.3789498 m 2217.40412889 m\n",
      "Ratio:  0.128699566345\n",
      "395.897157552 m 425.351573215 m\n",
      "Ratio:  0.930752776016\n"
     ]
    },
    {
     "name": "stderr",
     "output_type": "stream",
     "text": [
      "  7%|▋         | 84/1200 [00:15<03:25,  5.42it/s]"
     ]
    },
    {
     "name": "stdout",
     "output_type": "stream",
     "text": [
      "854.762001822 m 232.138436678 m\n",
      "Ratio:  3.68212181513\n",
      "3775.59321532 m 165.324914509 m\n",
      "Ratio:  22.8374121743\n"
     ]
    },
    {
     "name": "stderr",
     "output_type": "stream",
     "text": [
      "  7%|▋         | 86/1200 [00:15<03:16,  5.66it/s]"
     ]
    },
    {
     "name": "stdout",
     "output_type": "stream",
     "text": [
      "1450.68686334 m 124.419707835 m\n",
      "Ratio:  11.6596228089\n",
      "631.603099217 m 129.015058462 m\n",
      "Ratio:  4.89557658421\n"
     ]
    },
    {
     "name": "stderr",
     "output_type": "stream",
     "text": [
      "  7%|▋         | 88/1200 [00:15<03:09,  5.86it/s]"
     ]
    },
    {
     "name": "stdout",
     "output_type": "stream",
     "text": [
      "31763.7582534 m 140.375284684 m\n",
      "Ratio:  226.277427148\n",
      "264.212076059 m 153.174900978 m\n",
      "Ratio:  1.72490450049\n"
     ]
    },
    {
     "name": "stderr",
     "output_type": "stream",
     "text": [
      "  8%|▊         | 90/1200 [00:16<03:18,  5.59it/s]"
     ]
    },
    {
     "name": "stdout",
     "output_type": "stream",
     "text": [
      "308.490332332 m 148.679265126 m\n",
      "Ratio:  2.07487124766\n",
      "233.700598033 m 123.765657564 m\n",
      "Ratio:  1.88825076869\n"
     ]
    },
    {
     "name": "stderr",
     "output_type": "stream",
     "text": [
      "  8%|▊         | 92/1200 [00:16<03:13,  5.71it/s]"
     ]
    },
    {
     "name": "stdout",
     "output_type": "stream",
     "text": [
      "303.816722472 m 99.0783360819 m\n",
      "Ratio:  3.06642939806\n",
      "402.625587063 m 85.3890917602 m\n",
      "Ratio:  4.71518760492\n"
     ]
    },
    {
     "name": "stderr",
     "output_type": "stream",
     "text": [
      "  8%|▊         | 94/1200 [00:16<03:11,  5.76it/s]"
     ]
    },
    {
     "name": "stdout",
     "output_type": "stream",
     "text": [
      "233.547502886 m 96.1449249783 m\n",
      "Ratio:  2.42911940427\n",
      "202.226438569 m 92.9061304515 m\n",
      "Ratio:  2.17667486081\n"
     ]
    },
    {
     "name": "stderr",
     "output_type": "stream",
     "text": [
      "  8%|▊         | 96/1200 [00:17<03:09,  5.82it/s]"
     ]
    },
    {
     "name": "stdout",
     "output_type": "stream",
     "text": [
      "170.860565327 m 80.8081697574 m\n",
      "Ratio:  2.11439716851\n",
      "407.976822014 m 75.6196556636 m\n",
      "Ratio:  5.39511610353\n"
     ]
    },
    {
     "name": "stderr",
     "output_type": "stream",
     "text": [
      "  8%|▊         | 98/1200 [00:17<03:08,  5.85it/s]"
     ]
    },
    {
     "name": "stdout",
     "output_type": "stream",
     "text": [
      "244.218012454 m 77.5976304838 m\n",
      "Ratio:  3.14723543659\n",
      "65.2865457405 m 95.3848654699 m\n",
      "Ratio:  0.684453926929\n"
     ]
    },
    {
     "name": "stderr",
     "output_type": "stream",
     "text": [
      "  8%|▊         | 100/1200 [00:17<03:03,  6.01it/s]"
     ]
    },
    {
     "name": "stdout",
     "output_type": "stream",
     "text": [
      "88.8816442578 m 99.6422164004 m\n",
      "Ratio:  0.892007900553\n",
      "66.6414736417 m 109.729798412 m\n",
      "Ratio:  0.607323394428\n"
     ]
    },
    {
     "name": "stderr",
     "output_type": "stream",
     "text": [
      "  8%|▊         | 102/1200 [00:18<03:09,  5.78it/s]"
     ]
    },
    {
     "name": "stdout",
     "output_type": "stream",
     "text": [
      "72.641575014 m 923.09909681 m\n",
      "Ratio:  0.0786931492676\n",
      "68.2250411794 m 447.299465717 m\n",
      "Ratio:  0.152526542973\n"
     ]
    },
    {
     "name": "stderr",
     "output_type": "stream",
     "text": [
      "  9%|▊         | 104/1200 [00:18<03:02,  5.99it/s]"
     ]
    },
    {
     "name": "stdout",
     "output_type": "stream",
     "text": [
      "98.9794885913 m 176.372754878 m\n",
      "Ratio:  0.561194888971\n",
      "66.3828506024 m 131.210601347 m\n",
      "Ratio:  0.505925968793\n"
     ]
    },
    {
     "name": "stderr",
     "output_type": "stream",
     "text": [
      "  9%|▉         | 106/1200 [00:18<03:04,  5.94it/s]"
     ]
    },
    {
     "name": "stdout",
     "output_type": "stream",
     "text": [
      "70.0117928969 m 167.520018392 m\n",
      "Ratio:  0.417930905028\n",
      "67.1142059148 m 273.573935723 m\n",
      "Ratio:  0.245323830787\n"
     ]
    },
    {
     "name": "stderr",
     "output_type": "stream",
     "text": [
      "\r",
      "  9%|▉         | 107/1200 [00:19<03:01,  6.03it/s]"
     ]
    },
    {
     "name": "stdout",
     "output_type": "stream",
     "text": [
      "66.2820435687 m 309.45569332 m\n",
      "Ratio:  0.21418912303\n"
     ]
    },
    {
     "name": "stderr",
     "output_type": "stream",
     "text": [
      "  9%|▉         | 109/1200 [00:19<03:10,  5.74it/s]"
     ]
    },
    {
     "name": "stdout",
     "output_type": "stream",
     "text": [
      "76.3243579647 m 1897.95850315 m\n",
      "Ratio:  0.0402139234541\n",
      "421.860515713 m 1498.17390825 m\n",
      "Ratio:  0.281583141577\n"
     ]
    },
    {
     "name": "stderr",
     "output_type": "stream",
     "text": [
      "  9%|▉         | 111/1200 [00:19<03:02,  5.98it/s]"
     ]
    },
    {
     "name": "stdout",
     "output_type": "stream",
     "text": [
      "2489.21058187 m 1057.52728919 m\n",
      "Ratio:  2.35380269362\n",
      "9858.78255794 m 718.055565555 m\n",
      "Ratio:  13.7298323847\n"
     ]
    },
    {
     "name": "stderr",
     "output_type": "stream",
     "text": [
      "  9%|▉         | 113/1200 [00:20<02:59,  6.04it/s]"
     ]
    },
    {
     "name": "stdout",
     "output_type": "stream",
     "text": [
      "1588.04039154 m 359.066910868 m\n",
      "Ratio:  4.42268653413\n",
      "1295.95268779 m 349.676573335 m\n",
      "Ratio:  3.70614672704\n"
     ]
    },
    {
     "name": "stderr",
     "output_type": "stream",
     "text": [
      " 10%|▉         | 115/1200 [00:20<03:02,  5.95it/s]"
     ]
    },
    {
     "name": "stdout",
     "output_type": "stream",
     "text": [
      "568.080373553 m 437.166741368 m\n",
      "Ratio:  1.29945926759\n",
      "323.830114955 m 439.846937715 m\n",
      "Ratio:  0.736233646727\n"
     ]
    },
    {
     "name": "stderr",
     "output_type": "stream",
     "text": [
      " 10%|▉         | 117/1200 [00:20<03:09,  5.72it/s]"
     ]
    },
    {
     "name": "stdout",
     "output_type": "stream",
     "text": [
      "253.976094598 m 586.720270983 m\n",
      "Ratio:  0.43287424546\n",
      "239.49082331 m 483.15998787 m\n",
      "Ratio:  0.495676027243\n"
     ]
    },
    {
     "name": "stderr",
     "output_type": "stream",
     "text": [
      " 10%|▉         | 119/1200 [00:21<03:14,  5.57it/s]"
     ]
    },
    {
     "name": "stdout",
     "output_type": "stream",
     "text": [
      "204.208789672 m 1186.19909481 m\n",
      "Ratio:  0.172153891001\n",
      "187.783685255 m 185.583473977 m\n",
      "Ratio:  1.01185564227\n"
     ]
    },
    {
     "name": "stderr",
     "output_type": "stream",
     "text": [
      " 10%|█         | 121/1200 [00:21<03:11,  5.63it/s]"
     ]
    },
    {
     "name": "stdout",
     "output_type": "stream",
     "text": [
      "305.152637327 m 178.694581785 m\n",
      "Ratio:  1.70767705589\n",
      "154.747439244 m 177.588972408 m\n",
      "Ratio:  0.871379777396\n"
     ]
    },
    {
     "name": "stderr",
     "output_type": "stream",
     "text": [
      " 10%|█         | 123/1200 [00:21<03:08,  5.71it/s]"
     ]
    },
    {
     "name": "stdout",
     "output_type": "stream",
     "text": [
      "126.205897129 m 178.914171574 m\n",
      "Ratio:  0.705399108512\n",
      "139.058455723 m 175.763957845 m\n",
      "Ratio:  0.791165933156\n"
     ]
    },
    {
     "name": "stderr",
     "output_type": "stream",
     "text": [
      " 10%|█         | 125/1200 [00:22<03:14,  5.53it/s]"
     ]
    },
    {
     "name": "stdout",
     "output_type": "stream",
     "text": [
      "106.929661769 m 157.95544403 m\n",
      "Ratio:  0.676960914045\n",
      "126.381248511 m 228.215357899 m\n",
      "Ratio:  0.553780646816\n"
     ]
    },
    {
     "name": "stderr",
     "output_type": "stream",
     "text": [
      " 11%|█         | 127/1200 [00:22<03:11,  5.61it/s]"
     ]
    },
    {
     "name": "stdout",
     "output_type": "stream",
     "text": [
      "426.550923401 m 536.238151479 m\n",
      "Ratio:  0.795450532985\n",
      "128.225221826 m 4074.80573883 m\n",
      "Ratio:  0.0314678122208\n"
     ]
    },
    {
     "name": "stderr",
     "output_type": "stream",
     "text": [
      " 11%|█         | 129/1200 [00:22<03:07,  5.71it/s]"
     ]
    },
    {
     "name": "stdout",
     "output_type": "stream",
     "text": [
      "131.707712331 m 467.551361085 m\n",
      "Ratio:  0.281696778778\n",
      "783.696842199 m 3049.67269538 m\n",
      "Ratio:  0.256977361337\n"
     ]
    },
    {
     "name": "stderr",
     "output_type": "stream",
     "text": [
      " 11%|█         | 131/1200 [00:23<03:04,  5.80it/s]"
     ]
    },
    {
     "name": "stdout",
     "output_type": "stream",
     "text": [
      "452.005181313 m 3072.67007491 m\n",
      "Ratio:  0.147105016254\n",
      "3742.1584015 m 1230.74363706 m\n",
      "Ratio:  3.04056692947\n"
     ]
    },
    {
     "name": "stderr",
     "output_type": "stream",
     "text": [
      " 11%|█         | 133/1200 [00:23<03:09,  5.63it/s]"
     ]
    },
    {
     "name": "stdout",
     "output_type": "stream",
     "text": [
      "1304.02556604 m 619.030880158 m\n",
      "Ratio:  2.10655979829\n",
      "952.469074877 m 1146.40007536 m\n",
      "Ratio:  0.830834797857\n"
     ]
    },
    {
     "name": "stderr",
     "output_type": "stream",
     "text": [
      " 11%|█▏        | 135/1200 [00:23<03:06,  5.72it/s]"
     ]
    },
    {
     "name": "stdout",
     "output_type": "stream",
     "text": [
      "2149.01673976 m 228.725530888 m\n",
      "Ratio:  9.39561373592\n",
      "936.419186028 m 1520.97113228 m\n",
      "Ratio:  0.615671899455\n"
     ]
    },
    {
     "name": "stderr",
     "output_type": "stream",
     "text": [
      " 11%|█▏        | 137/1200 [00:24<03:11,  5.56it/s]"
     ]
    },
    {
     "name": "stdout",
     "output_type": "stream",
     "text": [
      "495.695772399 m 3669.17634218 m\n",
      "Ratio:  0.13509728783\n",
      "532.213143971 m 7228.8989284 m\n",
      "Ratio:  0.0736229886795\n"
     ]
    },
    {
     "name": "stderr",
     "output_type": "stream",
     "text": [
      " 12%|█▏        | 139/1200 [00:24<03:09,  5.59it/s]"
     ]
    },
    {
     "name": "stdout",
     "output_type": "stream",
     "text": [
      "283.155326964 m 1903.29337026 m\n",
      "Ratio:  0.148771246403\n",
      "300.24221756 m 678.770523833 m\n",
      "Ratio:  0.442332433448\n"
     ]
    },
    {
     "name": "stderr",
     "output_type": "stream",
     "text": [
      " 12%|█▏        | 141/1200 [00:25<03:04,  5.73it/s]"
     ]
    },
    {
     "name": "stdout",
     "output_type": "stream",
     "text": [
      "267.257005527 m 222.241684841 m\n",
      "Ratio:  1.20255120329\n",
      "312.065794947 m 196.355800434 m\n",
      "Ratio:  1.58928737657\n"
     ]
    },
    {
     "name": "stderr",
     "output_type": "stream",
     "text": [
      " 12%|█▏        | 143/1200 [00:25<03:06,  5.68it/s]"
     ]
    },
    {
     "name": "stdout",
     "output_type": "stream",
     "text": [
      "276.204648413 m 211.682496428 m\n",
      "Ratio:  1.30480626917\n",
      "278.871983107 m 219.314253937 m\n",
      "Ratio:  1.27156342144\n"
     ]
    },
    {
     "name": "stderr",
     "output_type": "stream",
     "text": [
      " 12%|█▏        | 145/1200 [00:25<03:00,  5.86it/s]"
     ]
    },
    {
     "name": "stdout",
     "output_type": "stream",
     "text": [
      "230.320978124 m 58.3732113872 m\n",
      "Ratio:  3.94566227641\n",
      "261.418529358 m 1354.24535316 m\n",
      "Ratio:  0.19303631262\n"
     ]
    },
    {
     "name": "stderr",
     "output_type": "stream",
     "text": [
      " 12%|█▏        | 147/1200 [00:26<02:56,  5.95it/s]"
     ]
    },
    {
     "name": "stdout",
     "output_type": "stream",
     "text": [
      "213.673206571 m 445.159045754 m\n",
      "Ratio:  0.479992956695\n",
      "213.014482563 m 346.421148079 m\n",
      "Ratio:  0.614900342386\n"
     ]
    },
    {
     "name": "stderr",
     "output_type": "stream",
     "text": [
      " 12%|█▏        | 149/1200 [00:26<02:56,  5.96it/s]"
     ]
    },
    {
     "name": "stdout",
     "output_type": "stream",
     "text": [
      "160.819302979 m 36065.0631174 m\n",
      "Ratio:  0.00445914381061\n",
      "201.211393456 m 56.2384823162 m\n",
      "Ratio:  3.57782403026\n"
     ]
    },
    {
     "name": "stderr",
     "output_type": "stream",
     "text": [
      " 13%|█▎        | 151/1200 [00:26<02:53,  6.05it/s]"
     ]
    },
    {
     "name": "stdout",
     "output_type": "stream",
     "text": [
      "188.420534956 m 55.7241883891 m\n",
      "Ratio:  3.38130604325\n",
      "166.776079194 m 54.9473225949 m\n",
      "Ratio:  3.03519937493\n"
     ]
    },
    {
     "name": "stderr",
     "output_type": "stream",
     "text": [
      " 13%|█▎        | 153/1200 [00:27<02:58,  5.86it/s]"
     ]
    },
    {
     "name": "stdout",
     "output_type": "stream",
     "text": [
      "192.027645207 m 55.7218835132 m\n",
      "Ratio:  3.44618008402\n",
      "199.605019366 m 56.6961075805 m\n",
      "Ratio:  3.52061239976\n"
     ]
    },
    {
     "name": "stderr",
     "output_type": "stream",
     "text": [
      " 13%|█▎        | 155/1200 [00:27<02:55,  5.95it/s]"
     ]
    },
    {
     "name": "stdout",
     "output_type": "stream",
     "text": [
      "171.592711507 m 57.5902776392 m\n",
      "Ratio:  2.97954305034\n",
      "152.08322288 m 58.1785384432 m\n",
      "Ratio:  2.61407775014\n"
     ]
    },
    {
     "name": "stderr",
     "output_type": "stream",
     "text": [
      " 13%|█▎        | 157/1200 [00:27<02:50,  6.13it/s]"
     ]
    },
    {
     "name": "stdout",
     "output_type": "stream",
     "text": [
      "179.237943249 m 57.9961816638 m\n",
      "Ratio:  3.09051282528\n",
      "130.126425774 m 58.3362373291 m\n",
      "Ratio:  2.23062768069\n"
     ]
    },
    {
     "name": "stderr",
     "output_type": "stream",
     "text": [
      " 13%|█▎        | 159/1200 [00:28<02:52,  6.03it/s]"
     ]
    },
    {
     "name": "stdout",
     "output_type": "stream",
     "text": [
      "72.3567537419 m 60.5765420398 m\n",
      "Ratio:  1.19446821006\n",
      "100.314391671 m 68.254121617 m\n",
      "Ratio:  1.46971918024\n"
     ]
    },
    {
     "name": "stderr",
     "output_type": "stream",
     "text": [
      " 13%|█▎        | 161/1200 [00:28<03:02,  5.71it/s]"
     ]
    },
    {
     "name": "stdout",
     "output_type": "stream",
     "text": [
      "108.244019777 m 61.4423692481 m\n",
      "Ratio:  1.76171624078\n",
      "115.847581621 m 61.6080563424 m\n",
      "Ratio:  1.88039663152\n"
     ]
    },
    {
     "name": "stderr",
     "output_type": "stream",
     "text": [
      " 14%|█▎        | 163/1200 [00:28<02:56,  5.87it/s]"
     ]
    },
    {
     "name": "stdout",
     "output_type": "stream",
     "text": [
      "130.998287941 m 66.8448721425 m\n",
      "Ratio:  1.95973578439\n",
      "122.462206169 m 77.8303047174 m\n",
      "Ratio:  1.5734514546\n"
     ]
    },
    {
     "name": "stderr",
     "output_type": "stream",
     "text": [
      " 14%|█▍        | 165/1200 [00:29<02:55,  5.90it/s]"
     ]
    },
    {
     "name": "stdout",
     "output_type": "stream",
     "text": [
      "129.805169606 m 74.2840138184 m\n",
      "Ratio:  1.74741728312\n",
      "118.835240135 m 71.6854569635 m\n",
      "Ratio:  1.65773150049\n"
     ]
    },
    {
     "name": "stderr",
     "output_type": "stream",
     "text": [
      " 14%|█▍        | 167/1200 [00:29<02:52,  5.99it/s]"
     ]
    },
    {
     "name": "stdout",
     "output_type": "stream",
     "text": [
      "117.74217786 m 73.7723901917 m\n",
      "Ratio:  1.59601956171\n",
      "107.349840633 m 76.3699259544 m\n",
      "Ratio:  1.40565594757\n"
     ]
    },
    {
     "name": "stderr",
     "output_type": "stream",
     "text": [
      " 14%|█▍        | 169/1200 [00:29<02:49,  6.09it/s]"
     ]
    },
    {
     "name": "stdout",
     "output_type": "stream",
     "text": [
      "108.101975515 m 76.4844702164 m\n",
      "Ratio:  1.41338464148\n",
      "110.803306147 m 71.9764456213 m\n",
      "Ratio:  1.53943842586\n"
     ]
    },
    {
     "name": "stderr",
     "output_type": "stream",
     "text": [
      " 14%|█▍        | 171/1200 [00:30<02:54,  5.91it/s]"
     ]
    },
    {
     "name": "stdout",
     "output_type": "stream",
     "text": [
      "117.883421242 m 73.8431809994 m\n",
      "Ratio:  1.59640226284\n",
      "122.058874511 m 70.7608934584 m\n",
      "Ratio:  1.72494818176\n"
     ]
    },
    {
     "name": "stderr",
     "output_type": "stream",
     "text": [
      " 14%|█▍        | 173/1200 [00:30<02:54,  5.89it/s]"
     ]
    },
    {
     "name": "stdout",
     "output_type": "stream",
     "text": [
      "118.486438253 m 1079.6123673 m\n",
      "Ratio:  0.109749056089\n",
      "141.759994866 m 1221.77121365 m\n",
      "Ratio:  0.116028265588\n"
     ]
    },
    {
     "name": "stderr",
     "output_type": "stream",
     "text": [
      " 15%|█▍        | 175/1200 [00:30<02:49,  6.05it/s]"
     ]
    },
    {
     "name": "stdout",
     "output_type": "stream",
     "text": [
      "130.289937249 m 1218.80388216 m\n",
      "Ratio:  0.106899837748\n",
      "160.208226277 m 1054.07720848 m\n",
      "Ratio:  0.151989081054\n"
     ]
    },
    {
     "name": "stderr",
     "output_type": "stream",
     "text": [
      " 15%|█▍        | 177/1200 [00:31<02:56,  5.80it/s]"
     ]
    },
    {
     "name": "stdout",
     "output_type": "stream",
     "text": [
      "164.659152379 m 1161.0672764 m\n",
      "Ratio:  0.141817064114\n",
      "89.117143311 m 265.036882519 m\n",
      "Ratio:  0.33624430858\n"
     ]
    },
    {
     "name": "stderr",
     "output_type": "stream",
     "text": [
      " 15%|█▍        | 179/1200 [00:31<02:53,  5.90it/s]"
     ]
    },
    {
     "name": "stdout",
     "output_type": "stream",
     "text": [
      "80.0920995078 m 305.501049101 m\n",
      "Ratio:  0.262166364874\n",
      "97.6413047426 m 117.591485485 m\n",
      "Ratio:  0.830343322389\n"
     ]
    },
    {
     "name": "stderr",
     "output_type": "stream",
     "text": [
      " 15%|█▌        | 181/1200 [00:31<02:43,  6.25it/s]"
     ]
    },
    {
     "name": "stdout",
     "output_type": "stream",
     "text": [
      "92.2590227432 m 133.719249641 m\n",
      "Ratio:  0.689945710815\n",
      "90.8950686241 m 202.564873839 m\n",
      "Ratio:  0.448720782145\n"
     ]
    },
    {
     "name": "stderr",
     "output_type": "stream",
     "text": [
      " 15%|█▌        | 183/1200 [00:32<02:36,  6.50it/s]"
     ]
    },
    {
     "name": "stdout",
     "output_type": "stream",
     "text": [
      "95.4293374452 m 58.0564480309 m\n",
      "Ratio:  1.64373365374\n",
      "169.242949757 m 3904.5986116 m\n",
      "Ratio:  0.0433445192687\n"
     ]
    },
    {
     "name": "stderr",
     "output_type": "stream",
     "text": [
      " 15%|█▌        | 185/1200 [00:32<02:41,  6.28it/s]"
     ]
    },
    {
     "name": "stdout",
     "output_type": "stream",
     "text": [
      "1554.70992452 m 129.164185179 m\n",
      "Ratio:  12.036695175\n",
      "1350.96989915 m 85.9277104166 m\n",
      "Ratio:  15.7221680015\n"
     ]
    },
    {
     "name": "stderr",
     "output_type": "stream",
     "text": [
      " 16%|█▌        | 187/1200 [00:32<02:39,  6.36it/s]"
     ]
    },
    {
     "name": "stdout",
     "output_type": "stream",
     "text": [
      "4996.98111995 m 92.1866777646 m\n",
      "Ratio:  54.2050244257\n",
      "14039.0591691 m 112.608838019 m\n",
      "Ratio:  124.671024193\n"
     ]
    },
    {
     "name": "stderr",
     "output_type": "stream",
     "text": [
      " 16%|█▌        | 189/1200 [00:33<02:41,  6.24it/s]"
     ]
    },
    {
     "name": "stdout",
     "output_type": "stream",
     "text": [
      "21314.5837544 m 95.5810822654 m\n",
      "Ratio:  223.000025206\n",
      "17552.0249791 m 86.0786406218 m\n",
      "Ratio:  203.906856013\n"
     ]
    },
    {
     "name": "stderr",
     "output_type": "stream",
     "text": [
      " 16%|█▌        | 191/1200 [00:33<02:43,  6.16it/s]"
     ]
    },
    {
     "name": "stdout",
     "output_type": "stream",
     "text": [
      "222179.899262 m 503.363957298 m\n",
      "Ratio:  441.390163202\n",
      "5495302.38638 m 73.024138853 m\n",
      "Ratio:  75253.2309548\n"
     ]
    },
    {
     "name": "stderr",
     "output_type": "stream",
     "text": [
      " 16%|█▌        | 193/1200 [00:33<02:36,  6.44it/s]"
     ]
    },
    {
     "name": "stdout",
     "output_type": "stream",
     "text": [
      "731.440001324 m 387.306248288 m\n",
      "Ratio:  1.88853137422\n",
      "1474.18207795 m 308.274507177 m\n",
      "Ratio:  4.7820434179\n"
     ]
    },
    {
     "name": "stderr",
     "output_type": "stream",
     "text": [
      " 16%|█▋        | 195/1200 [00:34<02:45,  6.06it/s]"
     ]
    },
    {
     "name": "stdout",
     "output_type": "stream",
     "text": [
      "1138.17224617 m 471.909888238 m\n",
      "Ratio:  2.41184233376\n",
      "691.213646984 m 556.182086365 m\n",
      "Ratio:  1.24278300925\n"
     ]
    },
    {
     "name": "stderr",
     "output_type": "stream",
     "text": [
      " 16%|█▋        | 197/1200 [00:34<02:52,  5.81it/s]"
     ]
    },
    {
     "name": "stdout",
     "output_type": "stream",
     "text": [
      "590.35885516 m 604.327107643 m\n",
      "Ratio:  0.976886271844\n",
      "213.483006623 m 167.965067327 m\n",
      "Ratio:  1.27099646385\n"
     ]
    },
    {
     "name": "stderr",
     "output_type": "stream",
     "text": [
      " 17%|█▋        | 199/1200 [00:34<02:46,  6.01it/s]"
     ]
    },
    {
     "name": "stdout",
     "output_type": "stream",
     "text": [
      "288.970543479 m 177.850280983 m\n",
      "Ratio:  1.62479666538\n",
      "290.687227896 m 115.817532713 m\n",
      "Ratio:  2.50987239227\n"
     ]
    },
    {
     "name": "stderr",
     "output_type": "stream",
     "text": [
      " 17%|█▋        | 201/1200 [00:35<02:44,  6.08it/s]"
     ]
    },
    {
     "name": "stdout",
     "output_type": "stream",
     "text": [
      "181.828348572 m 112.08206524 m\n",
      "Ratio:  1.62227871322\n",
      "65.7561628987 m 103.88042086 m\n",
      "Ratio:  0.632998618552\n"
     ]
    },
    {
     "name": "stderr",
     "output_type": "stream",
     "text": [
      " 17%|█▋        | 203/1200 [00:35<02:50,  5.83it/s]"
     ]
    },
    {
     "name": "stdout",
     "output_type": "stream",
     "text": [
      "119.867777151 m 311.96388913 m\n",
      "Ratio:  0.384236064901\n",
      "52.3560734364 m 492.460952045 m\n",
      "Ratio:  0.106315177313\n"
     ]
    },
    {
     "name": "stderr",
     "output_type": "stream",
     "text": [
      " 17%|█▋        | 205/1200 [00:35<02:53,  5.73it/s]"
     ]
    },
    {
     "name": "stdout",
     "output_type": "stream",
     "text": [
      "177.252475472 m 659.106373277 m\n",
      "Ratio:  0.268928480528\n",
      "142.241817148 m 256.941245805 m\n",
      "Ratio:  0.553596666438\n"
     ]
    },
    {
     "name": "stderr",
     "output_type": "stream",
     "text": [
      " 17%|█▋        | 207/1200 [00:36<03:09,  5.23it/s]"
     ]
    },
    {
     "name": "stdout",
     "output_type": "stream",
     "text": [
      "145.101516039 m 154.642056083 m\n",
      "Ratio:  0.938305657037\n",
      "127.012076488 m 815.538992305 m\n",
      "Ratio:  0.155740041478\n"
     ]
    },
    {
     "name": "stderr",
     "output_type": "stream",
     "text": [
      " 17%|█▋        | 209/1200 [00:36<03:01,  5.45it/s]"
     ]
    },
    {
     "name": "stdout",
     "output_type": "stream",
     "text": [
      "121.987002685 m 349.047167363 m\n",
      "Ratio:  0.349485725974\n",
      "101.174761262 m 320.046592964 m\n",
      "Ratio:  0.316125100177\n"
     ]
    },
    {
     "name": "stderr",
     "output_type": "stream",
     "text": [
      " 18%|█▊        | 211/1200 [00:36<02:58,  5.53it/s]"
     ]
    },
    {
     "name": "stdout",
     "output_type": "stream",
     "text": [
      "289.757965487 m 942.584651234 m\n",
      "Ratio:  0.307407897113\n",
      "214.680984469 m 214.624857856 m\n",
      "Ratio:  1.00026151031\n"
     ]
    },
    {
     "name": "stderr",
     "output_type": "stream",
     "text": [
      "\r",
      " 18%|█▊        | 212/1200 [00:37<03:02,  5.41it/s]"
     ]
    },
    {
     "name": "stdout",
     "output_type": "stream",
     "text": [
      "621.615768814 m 210.855724694 m\n",
      "Ratio:  2.94806209183\n",
      "888.136297288 m 229.413148507 m\n",
      "Ratio:  3.8713399954\n"
     ]
    },
    {
     "name": "stderr",
     "output_type": "stream",
     "text": [
      " 18%|█▊        | 215/1200 [00:37<03:03,  5.36it/s]"
     ]
    },
    {
     "name": "stdout",
     "output_type": "stream",
     "text": [
      "430.191336137 m 236.961545846 m\n",
      "Ratio:  1.81544788037\n",
      "331.600567391 m 243.555867642 m\n",
      "Ratio:  1.36149693539\n"
     ]
    },
    {
     "name": "stderr",
     "output_type": "stream",
     "text": [
      " 18%|█▊        | 217/1200 [00:38<03:01,  5.43it/s]"
     ]
    },
    {
     "name": "stdout",
     "output_type": "stream",
     "text": [
      "148.450825029 m 230.095702888 m\n",
      "Ratio:  0.645169914803\n",
      "158.514003798 m 253.718040875 m\n",
      "Ratio:  0.624764416638\n"
     ]
    },
    {
     "name": "stderr",
     "output_type": "stream",
     "text": [
      " 18%|█▊        | 219/1200 [00:38<02:59,  5.45it/s]"
     ]
    },
    {
     "name": "stdout",
     "output_type": "stream",
     "text": [
      "145.627642683 m 282.118619442 m\n",
      "Ratio:  0.516192950933\n",
      "130.870767965 m 316.100973859 m\n",
      "Ratio:  0.414015706332\n"
     ]
    },
    {
     "name": "stderr",
     "output_type": "stream",
     "text": [
      "\r",
      " 18%|█▊        | 220/1200 [00:38<03:02,  5.38it/s]"
     ]
    },
    {
     "name": "stdout",
     "output_type": "stream",
     "text": [
      "130.530079285 m 298.273135501 m\n",
      "Ratio:  0.437619295033\n"
     ]
    },
    {
     "name": "stderr",
     "output_type": "stream",
     "text": [
      "\r",
      " 18%|█▊        | 221/1200 [00:38<03:15,  5.00it/s]"
     ]
    },
    {
     "name": "stdout",
     "output_type": "stream",
     "text": [
      "140.683008341 m 141.698208294 m\n",
      "Ratio:  0.992835477841\n"
     ]
    },
    {
     "name": "stderr",
     "output_type": "stream",
     "text": [
      "\r",
      " 18%|█▊        | 222/1200 [00:39<03:36,  4.51it/s]"
     ]
    },
    {
     "name": "stdout",
     "output_type": "stream",
     "text": [
      "166.162716982 m 137.460538045 m\n",
      "Ratio:  1.20880304519\n"
     ]
    },
    {
     "name": "stderr",
     "output_type": "stream",
     "text": [
      " 19%|█▊        | 224/1200 [00:39<03:26,  4.72it/s]"
     ]
    },
    {
     "name": "stdout",
     "output_type": "stream",
     "text": [
      "163.045240608 m 129.890141818 m\n",
      "Ratio:  1.25525492794\n",
      "156.693998929 m 120.518161666 m\n",
      "Ratio:  1.30016917586\n"
     ]
    },
    {
     "name": "stderr",
     "output_type": "stream",
     "text": [
      " 19%|█▉        | 226/1200 [00:39<03:14,  5.00it/s]"
     ]
    },
    {
     "name": "stdout",
     "output_type": "stream",
     "text": [
      "275.372644964 m 149.579469496 m\n",
      "Ratio:  1.84097888495\n",
      "166.801705866 m 135.435264328 m\n",
      "Ratio:  1.23159729996\n"
     ]
    },
    {
     "name": "stderr",
     "output_type": "stream",
     "text": [
      "\r",
      " 19%|█▉        | 227/1200 [00:40<03:12,  5.05it/s]"
     ]
    },
    {
     "name": "stdout",
     "output_type": "stream",
     "text": [
      "239.795016117 m 131.527830385 m\n",
      "Ratio:  1.82315039649\n"
     ]
    },
    {
     "name": "stderr",
     "output_type": "stream",
     "text": [
      " 19%|█▉        | 229/1200 [00:40<03:19,  4.88it/s]"
     ]
    },
    {
     "name": "stdout",
     "output_type": "stream",
     "text": [
      "220.327871396 m 218.276787345 m\n",
      "Ratio:  1.00939671174\n",
      "447.492100588 m 311.994261688 m\n",
      "Ratio:  1.43429593277\n"
     ]
    },
    {
     "name": "stderr",
     "output_type": "stream",
     "text": [
      " 19%|█▉        | 231/1200 [00:40<03:09,  5.11it/s]"
     ]
    },
    {
     "name": "stdout",
     "output_type": "stream",
     "text": [
      "1187.6624281 m 224.349582399 m\n",
      "Ratio:  5.29380271361\n",
      "340.584194317 m 186.495651551 m\n",
      "Ratio:  1.82623129003\n"
     ]
    },
    {
     "name": "stderr",
     "output_type": "stream",
     "text": [
      " 19%|█▉        | 233/1200 [00:41<03:01,  5.34it/s]"
     ]
    },
    {
     "name": "stdout",
     "output_type": "stream",
     "text": [
      "177.316518906 m 266.635863331 m\n",
      "Ratio:  0.665013763305\n",
      "89.0458709489 m 653.36900427 m\n",
      "Ratio:  0.136287259369\n"
     ]
    },
    {
     "name": "stderr",
     "output_type": "stream",
     "text": [
      " 20%|█▉        | 235/1200 [00:41<03:01,  5.33it/s]"
     ]
    },
    {
     "name": "stdout",
     "output_type": "stream",
     "text": [
      "85.1129896373 m 3639.72701618 m\n",
      "Ratio:  0.0233844431901\n",
      "87.6731218841 m 1270.60039563 m\n",
      "Ratio:  0.069001333689\n"
     ]
    },
    {
     "name": "stderr",
     "output_type": "stream",
     "text": [
      " 20%|█▉        | 237/1200 [00:41<02:54,  5.51it/s]"
     ]
    },
    {
     "name": "stdout",
     "output_type": "stream",
     "text": [
      "115.847541734 m 7882.35273311 m\n",
      "Ratio:  0.0146970765781\n",
      "2218.8613405 m 927.146535938 m\n",
      "Ratio:  2.39321537048\n"
     ]
    },
    {
     "name": "stderr",
     "output_type": "stream",
     "text": [
      " 20%|█▉        | 239/1200 [00:42<02:57,  5.41it/s]"
     ]
    },
    {
     "name": "stdout",
     "output_type": "stream",
     "text": [
      "76.0676024075 m 504.209127106 m\n",
      "Ratio:  0.15086518335\n",
      "94.5400729622 m 372.984259401 m\n",
      "Ratio:  0.253469337055\n"
     ]
    },
    {
     "name": "stderr",
     "output_type": "stream",
     "text": [
      " 20%|██        | 241/1200 [00:42<02:54,  5.50it/s]"
     ]
    },
    {
     "name": "stdout",
     "output_type": "stream",
     "text": [
      "100.096566322 m 545.577004142 m\n",
      "Ratio:  0.183469181367\n",
      "136.284054084 m 1259.38299574 m\n",
      "Ratio:  0.108214939018\n"
     ]
    },
    {
     "name": "stderr",
     "output_type": "stream",
     "text": [
      " 20%|██        | 243/1200 [00:43<02:51,  5.57it/s]"
     ]
    },
    {
     "name": "stdout",
     "output_type": "stream",
     "text": [
      "120.777576946 m 1574.26712711 m\n",
      "Ratio:  0.076719874833\n",
      "114.74841329 m 375.876917651 m\n",
      "Ratio:  0.305281883249\n"
     ]
    },
    {
     "name": "stderr",
     "output_type": "stream",
     "text": [
      " 20%|██        | 245/1200 [00:43<03:07,  5.11it/s]"
     ]
    },
    {
     "name": "stdout",
     "output_type": "stream",
     "text": [
      "591.070693375 m 293.999498578 m\n",
      "Ratio:  2.01044796414\n",
      "214.628206069 m 314.009509059 m\n",
      "Ratio:  0.68350861957\n"
     ]
    },
    {
     "name": "stderr",
     "output_type": "stream",
     "text": [
      " 21%|██        | 247/1200 [00:43<03:01,  5.25it/s]"
     ]
    },
    {
     "name": "stdout",
     "output_type": "stream",
     "text": [
      "98.7081512908 m 378.875146817 m\n",
      "Ratio:  0.260529496643\n",
      "133.955853716 m 683.035356709 m\n",
      "Ratio:  0.196118476738\n"
     ]
    },
    {
     "name": "stderr",
     "output_type": "stream",
     "text": [
      " 21%|██        | 249/1200 [00:44<02:59,  5.31it/s]"
     ]
    },
    {
     "name": "stdout",
     "output_type": "stream",
     "text": [
      "193.652203834 m 1013.78446211 m\n",
      "Ratio:  0.191019108176\n",
      "310.287806846 m 2492.15964898 m\n",
      "Ratio:  0.124505589749\n"
     ]
    },
    {
     "name": "stderr",
     "output_type": "stream",
     "text": [
      " 21%|██        | 251/1200 [00:44<02:55,  5.41it/s]"
     ]
    },
    {
     "name": "stdout",
     "output_type": "stream",
     "text": [
      "461.93974959 m 1379.41423354 m\n",
      "Ratio:  0.334881095439\n",
      "413.16190082 m 598.887548831 m\n",
      "Ratio:  0.689882268593\n"
     ]
    },
    {
     "name": "stderr",
     "output_type": "stream",
     "text": [
      " 21%|██        | 253/1200 [00:44<02:52,  5.48it/s]"
     ]
    },
    {
     "name": "stdout",
     "output_type": "stream",
     "text": [
      "426.129084152 m 341.169728293 m\n",
      "Ratio:  1.24902372284\n",
      "394.303769517 m 264.426461871 m\n",
      "Ratio:  1.49116607592\n"
     ]
    },
    {
     "name": "stderr",
     "output_type": "stream",
     "text": [
      " 21%|██▏       | 255/1200 [00:45<02:53,  5.45it/s]"
     ]
    },
    {
     "name": "stdout",
     "output_type": "stream",
     "text": [
      "317.836413859 m 250.654474382 m\n",
      "Ratio:  1.26802609306\n",
      "346.983199355 m 330.224023209 m\n",
      "Ratio:  1.05075092958\n"
     ]
    },
    {
     "name": "stderr",
     "output_type": "stream",
     "text": [
      " 21%|██▏       | 257/1200 [00:45<02:53,  5.44it/s]"
     ]
    },
    {
     "name": "stdout",
     "output_type": "stream",
     "text": [
      "253.951859777 m 318.503330564 m\n",
      "Ratio:  0.797328741671\n",
      "160.253269456 m 420.445593579 m\n",
      "Ratio:  0.381151026204\n"
     ]
    },
    {
     "name": "stderr",
     "output_type": "stream",
     "text": [
      " 22%|██▏       | 259/1200 [00:46<02:47,  5.63it/s]"
     ]
    },
    {
     "name": "stdout",
     "output_type": "stream",
     "text": [
      "152.334934887 m 428.572107405 m\n",
      "Ratio:  0.355447618393\n",
      "144.882839417 m 485.520804012 m\n",
      "Ratio:  0.298407067668\n"
     ]
    },
    {
     "name": "stderr",
     "output_type": "stream",
     "text": [
      " 22%|██▏       | 261/1200 [00:46<02:49,  5.53it/s]"
     ]
    },
    {
     "name": "stdout",
     "output_type": "stream",
     "text": [
      "129.280734353 m 488.864010217 m\n",
      "Ratio:  0.264451323171\n",
      "127.357583678 m 368.606015094 m\n",
      "Ratio:  0.3455114091\n"
     ]
    },
    {
     "name": "stderr",
     "output_type": "stream",
     "text": [
      " 22%|██▏       | 263/1200 [00:46<02:53,  5.41it/s]"
     ]
    },
    {
     "name": "stdout",
     "output_type": "stream",
     "text": [
      "128.372112662 m 279.301485318 m\n",
      "Ratio:  0.459618438893\n",
      "746.685580095 m 302.785701753 m\n",
      "Ratio:  2.46605297335\n"
     ]
    },
    {
     "name": "stderr",
     "output_type": "stream",
     "text": [
      " 22%|██▏       | 265/1200 [00:47<02:53,  5.37it/s]"
     ]
    },
    {
     "name": "stdout",
     "output_type": "stream",
     "text": [
      "314.457557949 m 169.884314656 m\n",
      "Ratio:  1.8510099569\n",
      "5214.33381755 m 482.288971703 m\n",
      "Ratio:  10.8116380914\n"
     ]
    },
    {
     "name": "stderr",
     "output_type": "stream",
     "text": [
      " 22%|██▏       | 267/1200 [00:47<02:52,  5.39it/s]"
     ]
    },
    {
     "name": "stdout",
     "output_type": "stream",
     "text": [
      "322.632140151 m 750.623294249 m\n",
      "Ratio:  0.429818981936\n",
      "794.155436371 m 976.24403043 m\n",
      "Ratio:  0.813480453265\n"
     ]
    },
    {
     "name": "stderr",
     "output_type": "stream",
     "text": [
      " 22%|██▏       | 269/1200 [00:47<02:46,  5.58it/s]"
     ]
    },
    {
     "name": "stdout",
     "output_type": "stream",
     "text": [
      "297.494910389 m 3454.54236361 m\n",
      "Ratio:  0.0861170247969\n",
      "348.477985259 m 1951.85462536 m\n",
      "Ratio:  0.178536854504\n"
     ]
    },
    {
     "name": "stderr",
     "output_type": "stream",
     "text": [
      "\r",
      " 22%|██▎       | 270/1200 [00:48<02:44,  5.64it/s]"
     ]
    },
    {
     "name": "stdout",
     "output_type": "stream",
     "text": [
      "268.950660953 m 310.225056803 m\n",
      "Ratio:  0.866953378055\n",
      "399.937832559 m 367.944484361 m\n",
      "Ratio:  1.0869515635\n"
     ]
    },
    {
     "name": "stderr",
     "output_type": "stream",
     "text": [
      " 23%|██▎       | 273/1200 [00:48<02:41,  5.74it/s]"
     ]
    },
    {
     "name": "stdout",
     "output_type": "stream",
     "text": [
      "87.9287089292 m 969.304571754 m\n",
      "Ratio:  0.0907131891168\n",
      "76.715278425 m 1002.79685256 m\n",
      "Ratio:  0.0765013155246\n"
     ]
    },
    {
     "name": "stderr",
     "output_type": "stream",
     "text": [
      " 23%|██▎       | 275/1200 [00:48<02:37,  5.87it/s]"
     ]
    },
    {
     "name": "stdout",
     "output_type": "stream",
     "text": [
      "175.505074077 m 713.969996632 m\n",
      "Ratio:  0.245815755431\n",
      "80.4198878765 m 3552.73600243 m\n",
      "Ratio:  0.0226360438326\n"
     ]
    },
    {
     "name": "stderr",
     "output_type": "stream",
     "text": [
      "\r",
      " 23%|██▎       | 276/1200 [00:49<02:34,  5.96it/s]"
     ]
    },
    {
     "name": "stdout",
     "output_type": "stream",
     "text": [
      "140.370507139 m 1697.30638197 m\n",
      "Ratio:  0.082701926199\n"
     ]
    },
    {
     "name": "stderr",
     "output_type": "stream",
     "text": [
      " 23%|██▎       | 278/1200 [00:49<02:46,  5.54it/s]"
     ]
    },
    {
     "name": "stdout",
     "output_type": "stream",
     "text": [
      "255.328598606 m 285.947366734 m\n",
      "Ratio:  0.892921664298\n",
      "171.000297926 m 256.548877565 m\n",
      "Ratio:  0.666540814946\n"
     ]
    },
    {
     "name": "stderr",
     "output_type": "stream",
     "text": [
      " 23%|██▎       | 280/1200 [00:49<02:34,  5.96it/s]"
     ]
    },
    {
     "name": "stdout",
     "output_type": "stream",
     "text": [
      "282.711929855 m 112.020646499 m\n",
      "Ratio:  2.5237484222\n",
      "717.698613375 m 97.7895711911 m\n",
      "Ratio:  7.33921423965\n"
     ]
    },
    {
     "name": "stderr",
     "output_type": "stream",
     "text": [
      " 24%|██▎       | 282/1200 [00:50<02:35,  5.90it/s]"
     ]
    },
    {
     "name": "stdout",
     "output_type": "stream",
     "text": [
      "709.091282086 m 72.4581433349 m\n",
      "Ratio:  9.78621931849\n",
      "318.265874051 m 118.32880702 m\n",
      "Ratio:  2.68967364809\n"
     ]
    },
    {
     "name": "stderr",
     "output_type": "stream",
     "text": [
      " 24%|██▎       | 284/1200 [00:50<02:33,  5.97it/s]"
     ]
    },
    {
     "name": "stdout",
     "output_type": "stream",
     "text": [
      "363.8093591 m 71.1980520427 m\n",
      "Ratio:  5.1098218092\n",
      "7210.76448066 m 64.0796861987 m\n",
      "Ratio:  112.528086644\n"
     ]
    },
    {
     "name": "stderr",
     "output_type": "stream",
     "text": [
      " 24%|██▍       | 286/1200 [00:50<02:29,  6.10it/s]"
     ]
    },
    {
     "name": "stdout",
     "output_type": "stream",
     "text": [
      "482.97534467 m 114.745657267 m\n",
      "Ratio:  4.20909475944\n",
      "174.842713781 m 100.659903904 m\n",
      "Ratio:  1.73696483903\n"
     ]
    },
    {
     "name": "stderr",
     "output_type": "stream",
     "text": [
      " 24%|██▍       | 288/1200 [00:51<02:25,  6.28it/s]"
     ]
    },
    {
     "name": "stdout",
     "output_type": "stream",
     "text": [
      "161.05932435 m 100.424260484 m\n",
      "Ratio:  1.60378900053\n",
      "136.88536479 m 105.548035394 m\n",
      "Ratio:  1.29690111501\n"
     ]
    },
    {
     "name": "stderr",
     "output_type": "stream",
     "text": [
      " 24%|██▍       | 290/1200 [00:51<02:32,  5.97it/s]"
     ]
    },
    {
     "name": "stdout",
     "output_type": "stream",
     "text": [
      "195.803120539 m 111.714370064 m\n",
      "Ratio:  1.75271203183\n",
      "171.277007806 m 239.114516531 m\n",
      "Ratio:  0.716296987282\n"
     ]
    },
    {
     "name": "stderr",
     "output_type": "stream",
     "text": [
      " 24%|██▍       | 292/1200 [00:51<02:36,  5.79it/s]"
     ]
    },
    {
     "name": "stdout",
     "output_type": "stream",
     "text": [
      "372.762374811 m 116.399529957 m\n",
      "Ratio:  3.20243883244\n",
      "494.112267804 m 81.4021503296 m\n",
      "Ratio:  6.07001492962\n"
     ]
    },
    {
     "name": "stderr",
     "output_type": "stream",
     "text": [
      " 24%|██▍       | 294/1200 [00:52<02:40,  5.64it/s]"
     ]
    },
    {
     "name": "stdout",
     "output_type": "stream",
     "text": [
      "759.315033387 m 72.2402619745 m\n",
      "Ratio:  10.5109673281\n",
      "2895.19108421 m 3624.32615678 m\n",
      "Ratio:  0.798821893773\n"
     ]
    },
    {
     "name": "stderr",
     "output_type": "stream",
     "text": [
      " 25%|██▍       | 296/1200 [00:52<02:38,  5.71it/s]"
     ]
    },
    {
     "name": "stdout",
     "output_type": "stream",
     "text": [
      "15749.0173038 m 1516.44415033 m\n",
      "Ratio:  10.3854911507\n",
      "854.711620047 m 2685.10796965 m\n",
      "Ratio:  0.318315549955\n"
     ]
    },
    {
     "name": "stderr",
     "output_type": "stream",
     "text": [
      " 25%|██▍       | 298/1200 [00:52<02:30,  6.00it/s]"
     ]
    },
    {
     "name": "stdout",
     "output_type": "stream",
     "text": [
      "1821.9470572 m 785.837613772 m\n",
      "Ratio:  2.31847779398\n",
      "9707.14900784 m 616.310203061 m\n",
      "Ratio:  15.7504272356\n"
     ]
    },
    {
     "name": "stderr",
     "output_type": "stream",
     "text": [
      " 25%|██▌       | 300/1200 [00:53<02:27,  6.11it/s]"
     ]
    },
    {
     "name": "stdout",
     "output_type": "stream",
     "text": [
      "6368.62721323 m 560.204366832 m\n",
      "Ratio:  11.3683998025\n",
      "16636.3924777 m 804.414974822 m\n",
      "Ratio:  20.6813560145\n"
     ]
    },
    {
     "name": "stderr",
     "output_type": "stream",
     "text": [
      " 25%|██▌       | 302/1200 [00:53<02:33,  5.85it/s]"
     ]
    },
    {
     "name": "stdout",
     "output_type": "stream",
     "text": [
      "642.82269535 m 404.356786909 m\n",
      "Ratio:  1.58974132786\n",
      "401.578766065 m 172.719589656 m\n",
      "Ratio:  2.32503311793\n"
     ]
    },
    {
     "name": "stderr",
     "output_type": "stream",
     "text": [
      " 25%|██▌       | 304/1200 [00:53<02:33,  5.84it/s]"
     ]
    },
    {
     "name": "stdout",
     "output_type": "stream",
     "text": [
      "394.997032305 m 165.679162131 m\n",
      "Ratio:  2.38410809919\n",
      "690.802500328 m 110.990100268 m\n",
      "Ratio:  6.22400104747\n"
     ]
    },
    {
     "name": "stderr",
     "output_type": "stream",
     "text": [
      " 26%|██▌       | 306/1200 [00:54<02:37,  5.67it/s]"
     ]
    },
    {
     "name": "stdout",
     "output_type": "stream",
     "text": [
      "999.141583484 m 122.480629644 m\n",
      "Ratio:  8.15754773951\n",
      "543.600587773 m 129.594889314 m\n",
      "Ratio:  4.19461439144\n"
     ]
    },
    {
     "name": "stderr",
     "output_type": "stream",
     "text": [
      " 26%|██▌       | 308/1200 [00:54<02:31,  5.88it/s]"
     ]
    },
    {
     "name": "stdout",
     "output_type": "stream",
     "text": [
      "421.833078877 m 105.742023853 m\n",
      "Ratio:  3.98926617353\n",
      "395.023632744 m 465.650440496 m\n",
      "Ratio:  0.848326552258\n"
     ]
    },
    {
     "name": "stderr",
     "output_type": "stream",
     "text": [
      " 26%|██▌       | 310/1200 [00:54<02:23,  6.18it/s]"
     ]
    },
    {
     "name": "stdout",
     "output_type": "stream",
     "text": [
      "420.655494899 m 1343.84422683 m\n",
      "Ratio:  0.313023999732\n",
      "913.309330214 m 1105.74856534 m\n",
      "Ratio:  0.825964743558\n"
     ]
    },
    {
     "name": "stderr",
     "output_type": "stream",
     "text": [
      " 26%|██▌       | 312/1200 [00:55<02:29,  5.92it/s]"
     ]
    },
    {
     "name": "stdout",
     "output_type": "stream",
     "text": [
      "345.366219555 m 740.178299673 m\n",
      "Ratio:  0.466598682652\n",
      "217.315091343 m 458.380960473 m\n",
      "Ratio:  0.474092752715\n"
     ]
    },
    {
     "name": "stderr",
     "output_type": "stream",
     "text": [
      " 26%|██▌       | 314/1200 [00:55<02:25,  6.08it/s]"
     ]
    },
    {
     "name": "stdout",
     "output_type": "stream",
     "text": [
      "195.975345319 m 399.006925229 m\n",
      "Ratio:  0.491157754234\n",
      "182.11581339 m 486.05325304 m\n",
      "Ratio:  0.374682840309\n"
     ]
    },
    {
     "name": "stderr",
     "output_type": "stream",
     "text": [
      " 26%|██▋       | 316/1200 [00:55<02:18,  6.37it/s]"
     ]
    },
    {
     "name": "stdout",
     "output_type": "stream",
     "text": [
      "310.905146114 m 213.147508899 m\n",
      "Ratio:  1.45863842238\n",
      "96.7110078202 m 248.274746308 m\n",
      "Ratio:  0.389532198737\n"
     ]
    },
    {
     "name": "stderr",
     "output_type": "stream",
     "text": [
      " 26%|██▋       | 318/1200 [00:56<02:20,  6.28it/s]"
     ]
    },
    {
     "name": "stdout",
     "output_type": "stream",
     "text": [
      "110.897181128 m 226.009571374 m\n",
      "Ratio:  0.490674711046\n",
      "107.692235875 m 366.216619697 m\n",
      "Ratio:  0.294067035962\n"
     ]
    },
    {
     "name": "stderr",
     "output_type": "stream",
     "text": [
      " 27%|██▋       | 320/1200 [00:56<02:21,  6.23it/s]"
     ]
    },
    {
     "name": "stdout",
     "output_type": "stream",
     "text": [
      "109.749731423 m 142.494896399 m\n",
      "Ratio:  0.770201138407\n",
      "127.861797092 m 211.419261884 m\n",
      "Ratio:  0.604778372379\n"
     ]
    },
    {
     "name": "stderr",
     "output_type": "stream",
     "text": [
      " 27%|██▋       | 322/1200 [00:56<02:22,  6.16it/s]"
     ]
    },
    {
     "name": "stdout",
     "output_type": "stream",
     "text": [
      "136.497984316 m 989.620545993 m\n",
      "Ratio:  0.137929618446\n",
      "147.332035297 m 774.191640446 m\n",
      "Ratio:  0.190304347915\n"
     ]
    },
    {
     "name": "stderr",
     "output_type": "stream",
     "text": [
      " 27%|██▋       | 324/1200 [00:57<02:20,  6.22it/s]"
     ]
    },
    {
     "name": "stdout",
     "output_type": "stream",
     "text": [
      "132.913864837 m 2183.85178548 m\n",
      "Ratio:  0.0608621270548\n",
      "226.702282334 m 1384.61749459 m\n",
      "Ratio:  0.163729176628\n"
     ]
    },
    {
     "name": "stderr",
     "output_type": "stream",
     "text": [
      " 27%|██▋       | 326/1200 [00:57<02:28,  5.89it/s]"
     ]
    },
    {
     "name": "stdout",
     "output_type": "stream",
     "text": [
      "156.044950534 m 20924.6499199 m\n",
      "Ratio:  0.00745747007148\n",
      "178.463081178 m 1581.06318773 m\n",
      "Ratio:  0.11287536296\n"
     ]
    },
    {
     "name": "stderr",
     "output_type": "stream",
     "text": [
      " 27%|██▋       | 328/1200 [00:57<02:25,  5.99it/s]"
     ]
    },
    {
     "name": "stdout",
     "output_type": "stream",
     "text": [
      "188.088665159 m 11042.749127 m\n",
      "Ratio:  0.0170327753529\n",
      "160.278795008 m 54060.7993489 m\n",
      "Ratio:  0.00296478773784\n"
     ]
    },
    {
     "name": "stderr",
     "output_type": "stream",
     "text": [
      " 28%|██▊       | 330/1200 [00:58<02:28,  5.87it/s]"
     ]
    },
    {
     "name": "stdout",
     "output_type": "stream",
     "text": [
      "213.840557506 m 424.404963013 m\n",
      "Ratio:  0.503859700385\n",
      "164.179503363 m 2169.34727799 m\n",
      "Ratio:  0.0756815218237\n"
     ]
    },
    {
     "name": "stderr",
     "output_type": "stream",
     "text": [
      " 28%|██▊       | 332/1200 [00:58<02:26,  5.91it/s]"
     ]
    },
    {
     "name": "stdout",
     "output_type": "stream",
     "text": [
      "764.532558819 m 8482.04544174 m\n",
      "Ratio:  0.090135400013\n",
      "290.263087518 m 448.088037609 m\n",
      "Ratio:  0.647781380343\n"
     ]
    },
    {
     "name": "stderr",
     "output_type": "stream",
     "text": [
      " 28%|██▊       | 334/1200 [00:58<02:30,  5.76it/s]"
     ]
    },
    {
     "name": "stdout",
     "output_type": "stream",
     "text": [
      "263.204100391 m 256.423884247 m\n",
      "Ratio:  1.02644143764\n",
      "229.501977088 m 213.510046657 m\n",
      "Ratio:  1.07490013084\n"
     ]
    },
    {
     "name": "stderr",
     "output_type": "stream",
     "text": [
      " 28%|██▊       | 336/1200 [00:59<02:33,  5.64it/s]"
     ]
    },
    {
     "name": "stdout",
     "output_type": "stream",
     "text": [
      "240.159665418 m 295.256492262 m\n",
      "Ratio:  0.813393343456\n",
      "232.334653123 m 268.920159729 m\n",
      "Ratio:  0.863954020243\n"
     ]
    },
    {
     "name": "stderr",
     "output_type": "stream",
     "text": [
      " 28%|██▊       | 338/1200 [00:59<02:28,  5.81it/s]"
     ]
    },
    {
     "name": "stdout",
     "output_type": "stream",
     "text": [
      "194.999535004 m 372.234166823 m\n",
      "Ratio:  0.523862537037\n",
      "39.4893369432 m 809.922232924 m\n",
      "Ratio:  0.0487569489242\n"
     ]
    },
    {
     "name": "stderr",
     "output_type": "stream",
     "text": [
      " 28%|██▊       | 340/1200 [00:59<02:26,  5.89it/s]"
     ]
    },
    {
     "name": "stdout",
     "output_type": "stream",
     "text": [
      "41.8451195331 m 1456.37662702 m\n",
      "Ratio:  0.0287323476336\n",
      "44.3271822271 m 681.354680718 m\n",
      "Ratio:  0.0650574267435\n"
     ]
    },
    {
     "name": "stderr",
     "output_type": "stream",
     "text": [
      " 28%|██▊       | 342/1200 [01:00<02:28,  5.79it/s]"
     ]
    },
    {
     "name": "stdout",
     "output_type": "stream",
     "text": [
      "47.2209093308 m 800.511229146 m\n",
      "Ratio:  0.0589884409006\n",
      "629.67417079 m 443.424075042 m\n",
      "Ratio:  1.42002702656\n"
     ]
    },
    {
     "name": "stderr",
     "output_type": "stream",
     "text": [
      " 29%|██▊       | 344/1200 [01:00<02:23,  5.98it/s]"
     ]
    },
    {
     "name": "stdout",
     "output_type": "stream",
     "text": [
      "56.9406749517 m 285.550060231 m\n",
      "Ratio:  0.199406979307\n",
      "84.8666027035 m 304.64725473 m\n",
      "Ratio:  0.278573338134\n"
     ]
    },
    {
     "name": "stderr",
     "output_type": "stream",
     "text": [
      " 29%|██▉       | 346/1200 [01:00<02:21,  6.03it/s]"
     ]
    },
    {
     "name": "stdout",
     "output_type": "stream",
     "text": [
      "241.63475403 m 197.586698476 m\n",
      "Ratio:  1.22293026754\n",
      "347.309011471 m 145.777238629 m\n",
      "Ratio:  2.38246392054\n"
     ]
    },
    {
     "name": "stderr",
     "output_type": "stream",
     "text": [
      "\r",
      " 29%|██▉       | 347/1200 [01:01<02:20,  6.07it/s]"
     ]
    },
    {
     "name": "stdout",
     "output_type": "stream",
     "text": [
      "155.900347759 m 203.221238961 m\n",
      "Ratio:  0.767145936893\n",
      "133.336644548 m 107.074577175 m\n",
      "Ratio:  1.24526893373\n"
     ]
    },
    {
     "name": "stderr",
     "output_type": "stream",
     "text": [
      " 29%|██▉       | 350/1200 [01:01<02:30,  5.65it/s]"
     ]
    },
    {
     "name": "stdout",
     "output_type": "stream",
     "text": [
      "442.355718813 m 93.1282907616 m\n",
      "Ratio:  4.74996067463\n",
      "153.855284393 m 195.269813422 m\n",
      "Ratio:  0.787911258257\n"
     ]
    },
    {
     "name": "stderr",
     "output_type": "stream",
     "text": [
      " 29%|██▉       | 352/1200 [01:01<02:24,  5.85it/s]"
     ]
    },
    {
     "name": "stdout",
     "output_type": "stream",
     "text": [
      "90.78595534 m 704.286619185 m\n",
      "Ratio:  0.128904841959\n",
      "94.8982357126 m 9842.02517263 m\n",
      "Ratio:  0.00964214519349\n"
     ]
    },
    {
     "name": "stderr",
     "output_type": "stream",
     "text": [
      " 30%|██▉       | 354/1200 [01:02<02:23,  5.90it/s]"
     ]
    },
    {
     "name": "stdout",
     "output_type": "stream",
     "text": [
      "310.286057715 m 296.799330728 m\n",
      "Ratio:  1.04544055727\n",
      "228823.483444 m 950.30119711 m\n",
      "Ratio:  240.790482154\n"
     ]
    },
    {
     "name": "stderr",
     "output_type": "stream",
     "text": [
      " 30%|██▉       | 356/1200 [01:02<02:23,  5.89it/s]"
     ]
    },
    {
     "name": "stdout",
     "output_type": "stream",
     "text": [
      "2450.32035999 m 1944.70904454 m\n",
      "Ratio:  1.25999329662\n",
      "500.983935825 m 249.629840662 m\n",
      "Ratio:  2.00690724513\n"
     ]
    },
    {
     "name": "stderr",
     "output_type": "stream",
     "text": [
      " 30%|██▉       | 358/1200 [01:02<02:29,  5.63it/s]"
     ]
    },
    {
     "name": "stdout",
     "output_type": "stream",
     "text": [
      "367.404036006 m 3658.56183694 m\n",
      "Ratio:  0.100423076712\n",
      "287.079282905 m 1890.51496405 m\n",
      "Ratio:  0.15185242559\n"
     ]
    },
    {
     "name": "stderr",
     "output_type": "stream",
     "text": [
      " 30%|███       | 360/1200 [01:03<02:33,  5.46it/s]"
     ]
    },
    {
     "name": "stdout",
     "output_type": "stream",
     "text": [
      "211.236689138 m 7460.96635329 m\n",
      "Ratio:  0.0283122425615\n",
      "199.50236303 m 964.041305628 m\n",
      "Ratio:  0.206943791583\n"
     ]
    },
    {
     "name": "stderr",
     "output_type": "stream",
     "text": [
      " 30%|███       | 362/1200 [01:03<02:33,  5.45it/s]"
     ]
    },
    {
     "name": "stdout",
     "output_type": "stream",
     "text": [
      "180.484602459 m 1750.92095762 m\n",
      "Ratio:  0.103079811612\n",
      "1515.38702147 m 1144.84099379 m\n",
      "Ratio:  1.32366593237\n"
     ]
    },
    {
     "name": "stderr",
     "output_type": "stream",
     "text": [
      " 30%|███       | 364/1200 [01:04<02:41,  5.18it/s]"
     ]
    },
    {
     "name": "stdout",
     "output_type": "stream",
     "text": [
      "3563.14555088 m 1032.21563995 m\n",
      "Ratio:  3.45193912298\n",
      "944.512134084 m 116541.980085 m\n",
      "Ratio:  0.00810447989126\n"
     ]
    },
    {
     "name": "stderr",
     "output_type": "stream",
     "text": [
      "\r",
      " 30%|███       | 365/1200 [01:04<02:53,  4.80it/s]"
     ]
    },
    {
     "name": "stdout",
     "output_type": "stream",
     "text": [
      "358.163310475 m 3380.85704858 m\n",
      "Ratio:  0.105938614182\n"
     ]
    },
    {
     "name": "stderr",
     "output_type": "stream",
     "text": [
      "\r",
      " 30%|███       | 366/1200 [01:04<02:57,  4.71it/s]"
     ]
    },
    {
     "name": "stdout",
     "output_type": "stream",
     "text": [
      "2890.92952802 m 1162.38177484 m\n",
      "Ratio:  2.48707403247\n"
     ]
    },
    {
     "name": "stderr",
     "output_type": "stream",
     "text": [
      "\r",
      " 31%|███       | 367/1200 [01:04<03:03,  4.53it/s]"
     ]
    },
    {
     "name": "stdout",
     "output_type": "stream",
     "text": [
      "411.154278727 m 1269.04579735 m\n",
      "Ratio:  0.323986951129\n"
     ]
    },
    {
     "name": "stderr",
     "output_type": "stream",
     "text": [
      "\r",
      " 31%|███       | 368/1200 [01:05<03:07,  4.44it/s]"
     ]
    },
    {
     "name": "stdout",
     "output_type": "stream",
     "text": [
      "567.145289661 m 979.049729194 m\n",
      "Ratio:  0.579281391689\n"
     ]
    },
    {
     "name": "stderr",
     "output_type": "stream",
     "text": [
      "\r",
      " 31%|███       | 369/1200 [01:05<03:08,  4.40it/s]"
     ]
    },
    {
     "name": "stdout",
     "output_type": "stream",
     "text": [
      "1253.52349996 m 2495.14028368 m\n",
      "Ratio:  0.502385981325\n"
     ]
    },
    {
     "name": "stderr",
     "output_type": "stream",
     "text": [
      "\r",
      " 31%|███       | 370/1200 [01:05<03:12,  4.32it/s]"
     ]
    },
    {
     "name": "stdout",
     "output_type": "stream",
     "text": [
      "7669.45481364 m 1731.87321864 m\n",
      "Ratio:  4.42841585116\n"
     ]
    },
    {
     "name": "stderr",
     "output_type": "stream",
     "text": [
      "\r",
      " 31%|███       | 371/1200 [01:05<03:10,  4.35it/s]"
     ]
    },
    {
     "name": "stdout",
     "output_type": "stream",
     "text": [
      "833.704905782 m 4142.91965796 m\n",
      "Ratio:  0.201236078566\n"
     ]
    },
    {
     "name": "stderr",
     "output_type": "stream",
     "text": [
      "\r",
      " 31%|███       | 372/1200 [01:05<03:13,  4.29it/s]"
     ]
    },
    {
     "name": "stdout",
     "output_type": "stream",
     "text": [
      "1166.14171096 m 8835.06241559 m\n",
      "Ratio:  0.131990206306\n"
     ]
    },
    {
     "name": "stderr",
     "output_type": "stream",
     "text": [
      "\r",
      " 31%|███       | 373/1200 [01:06<03:15,  4.23it/s]"
     ]
    },
    {
     "name": "stdout",
     "output_type": "stream",
     "text": [
      "1111.93234884 m 2831.85607193 m\n",
      "Ratio:  0.392651434463\n"
     ]
    },
    {
     "name": "stderr",
     "output_type": "stream",
     "text": [
      "\r",
      " 31%|███       | 374/1200 [01:06<03:14,  4.24it/s]"
     ]
    },
    {
     "name": "stdout",
     "output_type": "stream",
     "text": [
      "1167.38321072 m 65073.6273534 m\n",
      "Ratio:  0.0179394212095\n"
     ]
    },
    {
     "name": "stderr",
     "output_type": "stream",
     "text": [
      "\r",
      " 31%|███▏      | 375/1200 [01:06<03:15,  4.22it/s]"
     ]
    },
    {
     "name": "stdout",
     "output_type": "stream",
     "text": [
      "1654.89898908 m 21716.1962767 m\n",
      "Ratio:  0.0762057483727\n"
     ]
    },
    {
     "name": "stderr",
     "output_type": "stream",
     "text": [
      "\r",
      " 31%|███▏      | 376/1200 [01:06<03:16,  4.19it/s]"
     ]
    },
    {
     "name": "stdout",
     "output_type": "stream",
     "text": [
      "3773.4457942 m 2040.5452796 m\n",
      "Ratio:  1.84923404147\n"
     ]
    },
    {
     "name": "stderr",
     "output_type": "stream",
     "text": [
      "\r",
      " 31%|███▏      | 377/1200 [01:07<03:25,  4.00it/s]"
     ]
    },
    {
     "name": "stdout",
     "output_type": "stream",
     "text": [
      "9393.50275646 m 17435.9596012 m\n",
      "Ratio:  0.538743090219\n"
     ]
    },
    {
     "name": "stderr",
     "output_type": "stream",
     "text": [
      "\r",
      " 32%|███▏      | 378/1200 [01:07<03:23,  4.04it/s]"
     ]
    },
    {
     "name": "stdout",
     "output_type": "stream",
     "text": [
      "10340.4046699 m 50819.1570385 m\n",
      "Ratio:  0.203474541345\n"
     ]
    },
    {
     "name": "stderr",
     "output_type": "stream",
     "text": [
      "\r",
      " 32%|███▏      | 379/1200 [01:07<03:24,  4.02it/s]"
     ]
    },
    {
     "name": "stdout",
     "output_type": "stream",
     "text": [
      "1737908.72554 m 4788.52440381 m\n",
      "Ratio:  362.931997206\n"
     ]
    },
    {
     "name": "stderr",
     "output_type": "stream",
     "text": [
      "\r",
      " 32%|███▏      | 380/1200 [01:07<03:23,  4.02it/s]"
     ]
    },
    {
     "name": "stdout",
     "output_type": "stream",
     "text": [
      "6040.94287345 m 1831.41155531 m\n",
      "Ratio:  3.29851739546\n"
     ]
    },
    {
     "name": "stderr",
     "output_type": "stream",
     "text": [
      "\r",
      " 32%|███▏      | 381/1200 [01:08<03:21,  4.06it/s]"
     ]
    },
    {
     "name": "stdout",
     "output_type": "stream",
     "text": [
      "14608.8382418 m 1801.43092218 m\n",
      "Ratio:  8.10957448431\n"
     ]
    },
    {
     "name": "stderr",
     "output_type": "stream",
     "text": [
      "\r",
      " 32%|███▏      | 382/1200 [01:08<03:21,  4.07it/s]"
     ]
    },
    {
     "name": "stdout",
     "output_type": "stream",
     "text": [
      "11419.7218094 m 2366.45382036 m\n",
      "Ratio:  4.82566856413\n"
     ]
    },
    {
     "name": "stderr",
     "output_type": "stream",
     "text": [
      "\r",
      " 32%|███▏      | 383/1200 [01:08<03:22,  4.03it/s]"
     ]
    },
    {
     "name": "stdout",
     "output_type": "stream",
     "text": [
      "8262.71420684 m 3176.97695692 m\n",
      "Ratio:  2.60081024159\n"
     ]
    },
    {
     "name": "stderr",
     "output_type": "stream",
     "text": [
      "\r",
      " 32%|███▏      | 384/1200 [01:08<03:19,  4.10it/s]"
     ]
    },
    {
     "name": "stdout",
     "output_type": "stream",
     "text": [
      "24594.5691698 m 2386.70027042 m\n",
      "Ratio:  10.3048419924\n"
     ]
    },
    {
     "name": "stderr",
     "output_type": "stream",
     "text": [
      "\r",
      " 32%|███▏      | 385/1200 [01:09<03:23,  4.00it/s]"
     ]
    },
    {
     "name": "stdout",
     "output_type": "stream",
     "text": [
      "6719.88699515 m 21651.626704 m\n",
      "Ratio:  0.310364070423\n"
     ]
    },
    {
     "name": "stderr",
     "output_type": "stream",
     "text": [
      "\r",
      " 32%|███▏      | 386/1200 [01:09<03:22,  4.02it/s]"
     ]
    },
    {
     "name": "stdout",
     "output_type": "stream",
     "text": [
      "5202.51914716 m 6389.56741989 m\n",
      "Ratio:  0.814220870566\n"
     ]
    },
    {
     "name": "stderr",
     "output_type": "stream",
     "text": [
      "\r",
      " 32%|███▏      | 387/1200 [01:09<03:22,  4.01it/s]"
     ]
    },
    {
     "name": "stdout",
     "output_type": "stream",
     "text": [
      "4711.09636877 m 14529.0303008 m\n",
      "Ratio:  0.324254012225\n"
     ]
    },
    {
     "name": "stderr",
     "output_type": "stream",
     "text": [
      "\r",
      " 32%|███▏      | 388/1200 [01:09<03:22,  4.01it/s]"
     ]
    },
    {
     "name": "stdout",
     "output_type": "stream",
     "text": [
      "2695.71951004 m 24817.5118672 m\n",
      "Ratio:  0.108621667009\n"
     ]
    },
    {
     "name": "stderr",
     "output_type": "stream",
     "text": [
      "\r",
      " 32%|███▏      | 389/1200 [01:10<03:33,  3.81it/s]"
     ]
    },
    {
     "name": "stdout",
     "output_type": "stream",
     "text": [
      "3119.93529499 m 32633.1293897 m\n",
      "Ratio:  0.0956063777313\n"
     ]
    },
    {
     "name": "stderr",
     "output_type": "stream",
     "text": [
      "\r",
      " 32%|███▎      | 390/1200 [01:10<03:31,  3.83it/s]"
     ]
    },
    {
     "name": "stdout",
     "output_type": "stream",
     "text": [
      "3010.86283581 m 96911.8424269 m\n",
      "Ratio:  0.0310680589741\n"
     ]
    },
    {
     "name": "stderr",
     "output_type": "stream",
     "text": [
      "\r",
      " 33%|███▎      | 391/1200 [01:10<03:30,  3.85it/s]"
     ]
    },
    {
     "name": "stdout",
     "output_type": "stream",
     "text": [
      "2546.07927118 m 71725.9441792 m\n",
      "Ratio:  0.0354973266692\n"
     ]
    },
    {
     "name": "stderr",
     "output_type": "stream",
     "text": [
      "\r",
      " 33%|███▎      | 392/1200 [01:11<03:32,  3.81it/s]"
     ]
    },
    {
     "name": "stdout",
     "output_type": "stream",
     "text": [
      "2613.95300177 m 6158.48330444 m\n",
      "Ratio:  0.424447525884\n"
     ]
    },
    {
     "name": "stderr",
     "output_type": "stream",
     "text": [
      "\r",
      " 33%|███▎      | 393/1200 [01:11<03:34,  3.77it/s]"
     ]
    },
    {
     "name": "stdout",
     "output_type": "stream",
     "text": [
      "1204.92662165 m 1895.04725153 m\n",
      "Ratio:  0.635829328622\n"
     ]
    },
    {
     "name": "stderr",
     "output_type": "stream",
     "text": [
      "\r",
      " 33%|███▎      | 394/1200 [01:11<03:30,  3.84it/s]"
     ]
    },
    {
     "name": "stdout",
     "output_type": "stream",
     "text": [
      "1985.70476679 m 1046.95780504 m\n",
      "Ratio:  1.89664259364\n"
     ]
    },
    {
     "name": "stderr",
     "output_type": "stream",
     "text": [
      "\r",
      " 33%|███▎      | 395/1200 [01:11<03:28,  3.86it/s]"
     ]
    },
    {
     "name": "stdout",
     "output_type": "stream",
     "text": [
      "970.852795799 m 674.967365613 m\n",
      "Ratio:  1.43836997944\n"
     ]
    },
    {
     "name": "stderr",
     "output_type": "stream",
     "text": [
      "\r",
      " 33%|███▎      | 396/1200 [01:12<03:24,  3.93it/s]"
     ]
    },
    {
     "name": "stdout",
     "output_type": "stream",
     "text": [
      "1115.36601349 m 742.096328363 m\n",
      "Ratio:  1.5029935749\n"
     ]
    },
    {
     "name": "stderr",
     "output_type": "stream",
     "text": [
      "\r",
      " 33%|███▎      | 397/1200 [01:12<03:25,  3.90it/s]"
     ]
    },
    {
     "name": "stdout",
     "output_type": "stream",
     "text": [
      "973.67494898 m 625.357430405 m\n",
      "Ratio:  1.55698949375\n"
     ]
    },
    {
     "name": "stderr",
     "output_type": "stream",
     "text": [
      "\r",
      " 33%|███▎      | 398/1200 [01:12<03:23,  3.93it/s]"
     ]
    },
    {
     "name": "stdout",
     "output_type": "stream",
     "text": [
      "1507.3155354 m 984.23126576 m\n",
      "Ratio:  1.53146479678\n"
     ]
    },
    {
     "name": "stderr",
     "output_type": "stream",
     "text": [
      "\r",
      " 33%|███▎      | 399/1200 [01:12<03:21,  3.97it/s]"
     ]
    },
    {
     "name": "stdout",
     "output_type": "stream",
     "text": [
      "1737.79525191 m 2977.60490939 m\n",
      "Ratio:  0.583621838624\n"
     ]
    },
    {
     "name": "stderr",
     "output_type": "stream",
     "text": [
      "\r",
      " 33%|███▎      | 400/1200 [01:13<03:21,  3.97it/s]"
     ]
    },
    {
     "name": "stdout",
     "output_type": "stream",
     "text": [
      "1737.79866095 m 26238.9986279 m\n",
      "Ratio:  0.0662296105731\n"
     ]
    },
    {
     "name": "stderr",
     "output_type": "stream",
     "text": [
      "\r",
      " 33%|███▎      | 401/1200 [01:13<03:25,  3.89it/s]"
     ]
    },
    {
     "name": "stdout",
     "output_type": "stream",
     "text": [
      "1697.19415417 m 11913.8760469 m\n",
      "Ratio:  0.142455246931\n"
     ]
    },
    {
     "name": "stderr",
     "output_type": "stream",
     "text": [
      "\r",
      " 34%|███▎      | 402/1200 [01:13<03:20,  3.97it/s]"
     ]
    },
    {
     "name": "stdout",
     "output_type": "stream",
     "text": [
      "1587.22021757 m 21361.9988784 m\n",
      "Ratio:  0.0743011094891\n"
     ]
    },
    {
     "name": "stderr",
     "output_type": "stream",
     "text": [
      "\r",
      " 34%|███▎      | 403/1200 [01:13<03:14,  4.09it/s]"
     ]
    },
    {
     "name": "stdout",
     "output_type": "stream",
     "text": [
      "719.513684519 m 6643.10010324 m\n",
      "Ratio:  0.108309926591\n"
     ]
    },
    {
     "name": "stderr",
     "output_type": "stream",
     "text": [
      "\r",
      " 34%|███▎      | 404/1200 [01:14<03:08,  4.23it/s]"
     ]
    },
    {
     "name": "stdout",
     "output_type": "stream",
     "text": [
      "1851.7793219 m 44256.1096019 m\n",
      "Ratio:  0.0418423430925\n"
     ]
    },
    {
     "name": "stderr",
     "output_type": "stream",
     "text": [
      "\r",
      " 34%|███▍      | 405/1200 [01:14<03:07,  4.24it/s]"
     ]
    },
    {
     "name": "stdout",
     "output_type": "stream",
     "text": [
      "1123.00712425 m 28754.7444633 m\n",
      "Ratio:  0.0390546723753\n"
     ]
    },
    {
     "name": "stderr",
     "output_type": "stream",
     "text": [
      "\r",
      " 34%|███▍      | 406/1200 [01:14<03:01,  4.36it/s]"
     ]
    },
    {
     "name": "stdout",
     "output_type": "stream",
     "text": [
      "923.853012037 m 85288.1818167 m\n",
      "Ratio:  0.0108321339763\n"
     ]
    },
    {
     "name": "stderr",
     "output_type": "stream",
     "text": [
      "\r",
      " 34%|███▍      | 407/1200 [01:14<03:01,  4.36it/s]"
     ]
    },
    {
     "name": "stdout",
     "output_type": "stream",
     "text": [
      "936.773528331 m 6858.66124819 m\n",
      "Ratio:  0.136582562461\n"
     ]
    },
    {
     "name": "stderr",
     "output_type": "stream",
     "text": [
      "\r",
      " 34%|███▍      | 408/1200 [01:14<03:02,  4.33it/s]"
     ]
    },
    {
     "name": "stdout",
     "output_type": "stream",
     "text": [
      "1107.42314595 m 21739.116184 m\n",
      "Ratio:  0.0509414981078\n"
     ]
    },
    {
     "name": "stderr",
     "output_type": "stream",
     "text": [
      "\r",
      " 34%|███▍      | 409/1200 [01:15<03:03,  4.32it/s]"
     ]
    },
    {
     "name": "stdout",
     "output_type": "stream",
     "text": [
      "1815.73735919 m 14462.6419877 m\n",
      "Ratio:  0.125546726575\n"
     ]
    },
    {
     "name": "stderr",
     "output_type": "stream",
     "text": [
      "\r",
      " 34%|███▍      | 410/1200 [01:15<02:59,  4.40it/s]"
     ]
    },
    {
     "name": "stdout",
     "output_type": "stream",
     "text": [
      "1189.03954931 m 26703.7900244 m\n",
      "Ratio:  0.0445269959141\n"
     ]
    },
    {
     "name": "stderr",
     "output_type": "stream",
     "text": [
      "\r",
      " 34%|███▍      | 411/1200 [01:15<02:56,  4.46it/s]"
     ]
    },
    {
     "name": "stdout",
     "output_type": "stream",
     "text": [
      "805.792536062 m 6863.78781251 m\n",
      "Ratio:  0.117397646616\n"
     ]
    },
    {
     "name": "stderr",
     "output_type": "stream",
     "text": [
      "\r",
      " 34%|███▍      | 412/1200 [01:15<02:55,  4.49it/s]"
     ]
    },
    {
     "name": "stdout",
     "output_type": "stream",
     "text": [
      "4522.35094263 m 5946.69314202 m\n",
      "Ratio:  0.760481638219\n"
     ]
    },
    {
     "name": "stderr",
     "output_type": "stream",
     "text": [
      "\r",
      " 34%|███▍      | 413/1200 [01:16<02:54,  4.50it/s]"
     ]
    },
    {
     "name": "stdout",
     "output_type": "stream",
     "text": [
      "319.456450908 m 1144.91207591 m\n",
      "Ratio:  0.27902269321\n"
     ]
    },
    {
     "name": "stderr",
     "output_type": "stream",
     "text": [
      "\r",
      " 34%|███▍      | 414/1200 [01:16<03:00,  4.35it/s]"
     ]
    },
    {
     "name": "stdout",
     "output_type": "stream",
     "text": [
      "314.37984346 m 4407.62967414 m\n",
      "Ratio:  0.0713262834453\n"
     ]
    },
    {
     "name": "stderr",
     "output_type": "stream",
     "text": [
      "\r",
      " 35%|███▍      | 415/1200 [01:16<02:55,  4.47it/s]"
     ]
    },
    {
     "name": "stdout",
     "output_type": "stream",
     "text": [
      "529.295029376 m 34011.6758473 m\n",
      "Ratio:  0.0155621567062\n",
      "443.688628842 m 28694.5971008 m\n",
      "Ratio:  0.0154624449781\n"
     ]
    },
    {
     "name": "stderr",
     "output_type": "stream",
     "text": [
      " 35%|███▍      | 417/1200 [01:16<02:48,  4.65it/s]"
     ]
    },
    {
     "name": "stdout",
     "output_type": "stream",
     "text": [
      "699.325948575 m 7016.47650581 m\n",
      "Ratio:  0.0996691071361\n"
     ]
    },
    {
     "name": "stderr",
     "output_type": "stream",
     "text": [
      "\r",
      " 35%|███▍      | 418/1200 [01:17<02:47,  4.66it/s]"
     ]
    },
    {
     "name": "stdout",
     "output_type": "stream",
     "text": [
      "860.668747281 m 3384.99405881 m\n",
      "Ratio:  0.254260046644\n"
     ]
    },
    {
     "name": "stderr",
     "output_type": "stream",
     "text": [
      "\r",
      " 35%|███▍      | 419/1200 [01:17<02:45,  4.72it/s]"
     ]
    },
    {
     "name": "stdout",
     "output_type": "stream",
     "text": [
      "1520.72308003 m 1596.49169568 m\n",
      "Ratio:  0.952540551353\n",
      "2238.60690024 m 1783.61171129 m\n",
      "Ratio:  1.25509766844\n"
     ]
    },
    {
     "name": "stderr",
     "output_type": "stream",
     "text": [
      " 35%|███▌      | 421/1200 [01:17<02:43,  4.77it/s]"
     ]
    },
    {
     "name": "stdout",
     "output_type": "stream",
     "text": [
      "783.45238222 m 1430.75796805 m\n",
      "Ratio:  0.547578556062\n"
     ]
    },
    {
     "name": "stderr",
     "output_type": "stream",
     "text": [
      "\r",
      " 35%|███▌      | 422/1200 [01:17<02:45,  4.69it/s]"
     ]
    },
    {
     "name": "stdout",
     "output_type": "stream",
     "text": [
      "718.522791034 m 2334.62385641 m\n",
      "Ratio:  0.307768118218\n"
     ]
    },
    {
     "name": "stderr",
     "output_type": "stream",
     "text": [
      "\r",
      " 35%|███▌      | 423/1200 [01:18<02:46,  4.65it/s]"
     ]
    },
    {
     "name": "stdout",
     "output_type": "stream",
     "text": [
      "1069.82936071 m 3209.97691037 m\n",
      "Ratio:  0.333282571988\n",
      "1196.18715741 m 1739.07490944 m\n",
      "Ratio:  0.687829575894\n"
     ]
    },
    {
     "name": "stderr",
     "output_type": "stream",
     "text": [
      " 35%|███▌      | 425/1200 [01:18<02:42,  4.76it/s]"
     ]
    },
    {
     "name": "stdout",
     "output_type": "stream",
     "text": [
      "904.018394478 m 1943.35552617 m\n",
      "Ratio:  0.465184255946\n"
     ]
    },
    {
     "name": "stderr",
     "output_type": "stream",
     "text": [
      "\r",
      " 36%|███▌      | 426/1200 [01:18<02:41,  4.79it/s]"
     ]
    },
    {
     "name": "stdout",
     "output_type": "stream",
     "text": [
      "1175.53497001 m 12611.6830823 m\n",
      "Ratio:  0.0932099991996\n",
      "931.663901665 m 1834.70181619 m\n",
      "Ratio:  0.507801264187\n"
     ]
    },
    {
     "name": "stderr",
     "output_type": "stream",
     "text": [
      " 36%|███▌      | 428/1200 [01:19<02:43,  4.71it/s]"
     ]
    },
    {
     "name": "stdout",
     "output_type": "stream",
     "text": [
      "843.016483159 m 1857.38721456 m\n",
      "Ratio:  0.453872233292\n",
      "855.590434889 m 517.736568631 m\n",
      "Ratio:  1.65255940324\n"
     ]
    },
    {
     "name": "stderr",
     "output_type": "stream",
     "text": [
      " 36%|███▌      | 430/1200 [01:19<02:38,  4.84it/s]"
     ]
    },
    {
     "name": "stdout",
     "output_type": "stream",
     "text": [
      "674.703457691 m 547.730141653 m\n",
      "Ratio:  1.23181728808\n"
     ]
    },
    {
     "name": "stderr",
     "output_type": "stream",
     "text": [
      "\r",
      " 36%|███▌      | 431/1200 [01:19<02:39,  4.82it/s]"
     ]
    },
    {
     "name": "stdout",
     "output_type": "stream",
     "text": [
      "800.897926881 m 416.351562822 m\n",
      "Ratio:  1.9236097529\n",
      "689.827225586 m 1279.64686356 m\n",
      "Ratio:  0.539076244571\n"
     ]
    },
    {
     "name": "stderr",
     "output_type": "stream",
     "text": [
      " 36%|███▌      | 434/1200 [01:20<02:34,  4.96it/s]"
     ]
    },
    {
     "name": "stdout",
     "output_type": "stream",
     "text": [
      "651.771879919 m 2353.59183282 m\n",
      "Ratio:  0.276926470779\n",
      "649.356013061 m 1057.78902283 m\n",
      "Ratio:  0.613880461083\n"
     ]
    },
    {
     "name": "stderr",
     "output_type": "stream",
     "text": [
      "\r",
      " 36%|███▋      | 435/1200 [01:20<02:32,  5.01it/s]"
     ]
    },
    {
     "name": "stdout",
     "output_type": "stream",
     "text": [
      "2165.08794079 m 517.212337466 m\n",
      "Ratio:  4.18607172326\n",
      "262.755727621 m 478.284959425 m\n",
      "Ratio:  0.54937066793\n"
     ]
    },
    {
     "name": "stderr",
     "output_type": "stream",
     "text": [
      " 36%|███▋      | 437/1200 [01:21<02:31,  5.02it/s]"
     ]
    },
    {
     "name": "stdout",
     "output_type": "stream",
     "text": [
      "221.774687937 m 381.370399989 m\n",
      "Ratio:  0.581520453459\n",
      "138.989918483 m 506.066403688 m\n",
      "Ratio:  0.274647590652\n"
     ]
    },
    {
     "name": "stderr",
     "output_type": "stream",
     "text": [
      " 37%|███▋      | 440/1200 [01:21<02:23,  5.29it/s]"
     ]
    },
    {
     "name": "stdout",
     "output_type": "stream",
     "text": [
      "144.880297946 m 403.78197714 m\n",
      "Ratio:  0.358808233522\n",
      "188.523085623 m 27565.0677417 m\n",
      "Ratio:  0.00683920269633\n"
     ]
    },
    {
     "name": "stderr",
     "output_type": "stream",
     "text": [
      " 37%|███▋      | 442/1200 [01:21<02:18,  5.46it/s]"
     ]
    },
    {
     "name": "stdout",
     "output_type": "stream",
     "text": [
      "2881.97697398 m 386.598808799 m\n",
      "Ratio:  7.45469698401\n",
      "495.601015264 m 342.373242767 m\n",
      "Ratio:  1.44754599179\n"
     ]
    },
    {
     "name": "stderr",
     "output_type": "stream",
     "text": [
      " 37%|███▋      | 444/1200 [01:22<02:26,  5.16it/s]"
     ]
    },
    {
     "name": "stdout",
     "output_type": "stream",
     "text": [
      "480.244367986 m 352.097122061 m\n",
      "Ratio:  1.3639542555\n",
      "399.860858471 m 331.722039885 m\n",
      "Ratio:  1.20540938012\n"
     ]
    },
    {
     "name": "stderr",
     "output_type": "stream",
     "text": [
      " 37%|███▋      | 446/1200 [01:22<02:19,  5.39it/s]"
     ]
    },
    {
     "name": "stdout",
     "output_type": "stream",
     "text": [
      "2432.09259334 m 379.638886718 m\n",
      "Ratio:  6.4063315915\n",
      "319.112938871 m 396.413070416 m\n",
      "Ratio:  0.805001052403\n"
     ]
    },
    {
     "name": "stderr",
     "output_type": "stream",
     "text": [
      " 37%|███▋      | 448/1200 [01:23<02:20,  5.35it/s]"
     ]
    },
    {
     "name": "stdout",
     "output_type": "stream",
     "text": [
      "250.238688957 m 467.642130723 m\n",
      "Ratio:  0.535107238028\n",
      "380.722918423 m 15717.6340723 m\n",
      "Ratio:  0.0242226607816\n"
     ]
    },
    {
     "name": "stderr",
     "output_type": "stream",
     "text": [
      " 38%|███▊      | 450/1200 [01:23<02:18,  5.40it/s]"
     ]
    },
    {
     "name": "stdout",
     "output_type": "stream",
     "text": [
      "1980.17145838 m 840.449320265 m\n",
      "Ratio:  2.35608669153\n",
      "962.589650179 m 413.896982709 m\n",
      "Ratio:  2.32567448035\n"
     ]
    },
    {
     "name": "stderr",
     "output_type": "stream",
     "text": [
      " 38%|███▊      | 452/1200 [01:23<02:20,  5.32it/s]"
     ]
    },
    {
     "name": "stdout",
     "output_type": "stream",
     "text": [
      "311.9788251 m 449.106534935 m\n",
      "Ratio:  0.694665521057\n",
      "1329.38565785 m 631.132772855 m\n",
      "Ratio:  2.10634864013\n"
     ]
    },
    {
     "name": "stderr",
     "output_type": "stream",
     "text": [
      " 38%|███▊      | 454/1200 [01:24<02:22,  5.22it/s]"
     ]
    },
    {
     "name": "stdout",
     "output_type": "stream",
     "text": [
      "293.528075274 m 434.171269336 m\n",
      "Ratio:  0.676065175207\n",
      "401.741117218 m 190.323369361 m\n",
      "Ratio:  2.11083441076\n"
     ]
    },
    {
     "name": "stderr",
     "output_type": "stream",
     "text": [
      " 38%|███▊      | 456/1200 [01:24<02:19,  5.32it/s]"
     ]
    },
    {
     "name": "stdout",
     "output_type": "stream",
     "text": [
      "243.735322307 m 352.405989767 m\n",
      "Ratio:  0.691632178182\n",
      "1348.21227425 m 326.631219949 m\n",
      "Ratio:  4.12762832183\n"
     ]
    },
    {
     "name": "stderr",
     "output_type": "stream",
     "text": [
      " 38%|███▊      | 458/1200 [01:24<02:12,  5.60it/s]"
     ]
    },
    {
     "name": "stdout",
     "output_type": "stream",
     "text": [
      "543.203983258 m 253.463929956 m\n",
      "Ratio:  2.14312144277\n",
      "588.727886491 m 373.096372765 m\n",
      "Ratio:  1.57795124656\n"
     ]
    },
    {
     "name": "stderr",
     "output_type": "stream",
     "text": [
      " 38%|███▊      | 460/1200 [01:25<02:15,  5.47it/s]"
     ]
    },
    {
     "name": "stdout",
     "output_type": "stream",
     "text": [
      "563.961154891 m 400.628288628 m\n",
      "Ratio:  1.40769179536\n",
      "1021.54515391 m 2091.79179125 m\n",
      "Ratio:  0.488358907507\n"
     ]
    },
    {
     "name": "stderr",
     "output_type": "stream",
     "text": [
      " 38%|███▊      | 462/1200 [01:25<02:08,  5.76it/s]"
     ]
    },
    {
     "name": "stdout",
     "output_type": "stream",
     "text": [
      "6176.09511297 m 3033.59705843 m\n",
      "Ratio:  2.0358983062\n",
      "1386.24941122 m 103.147597514 m\n",
      "Ratio:  13.439473576\n"
     ]
    },
    {
     "name": "stderr",
     "output_type": "stream",
     "text": [
      " 39%|███▊      | 464/1200 [01:25<02:07,  5.79it/s]"
     ]
    },
    {
     "name": "stdout",
     "output_type": "stream",
     "text": [
      "1433.87035053 m 2133.79826975 m\n",
      "Ratio:  0.671980276139\n",
      "391.539229308 m 3857.34151237 m\n",
      "Ratio:  0.101504942731\n"
     ]
    },
    {
     "name": "stderr",
     "output_type": "stream",
     "text": [
      " 39%|███▉      | 466/1200 [01:26<02:06,  5.81it/s]"
     ]
    },
    {
     "name": "stdout",
     "output_type": "stream",
     "text": [
      "276.56032199 m 1743.50919124 m\n",
      "Ratio:  0.158622807026\n",
      "204.489093014 m 34105.8931337 m\n",
      "Ratio:  0.00599571142184\n"
     ]
    },
    {
     "name": "stderr",
     "output_type": "stream",
     "text": [
      " 39%|███▉      | 468/1200 [01:26<02:05,  5.84it/s]"
     ]
    },
    {
     "name": "stdout",
     "output_type": "stream",
     "text": [
      "183.677530453 m 12953.879602 m\n",
      "Ratio:  0.014179345192\n",
      "209.115601755 m 1980.23303289 m\n",
      "Ratio:  0.105601511682\n"
     ]
    },
    {
     "name": "stderr",
     "output_type": "stream",
     "text": [
      " 39%|███▉      | 470/1200 [01:27<02:04,  5.86it/s]"
     ]
    },
    {
     "name": "stdout",
     "output_type": "stream",
     "text": [
      "206.879387584 m 2490.54612775 m\n",
      "Ratio:  0.0830658726935\n",
      "150.065065068 m 1711.92778619 m\n",
      "Ratio:  0.0876585252477\n"
     ]
    },
    {
     "name": "stderr",
     "output_type": "stream",
     "text": [
      " 39%|███▉      | 472/1200 [01:27<02:06,  5.74it/s]"
     ]
    },
    {
     "name": "stdout",
     "output_type": "stream",
     "text": [
      "249.372560234 m 817.365397863 m\n",
      "Ratio:  0.305093121003\n",
      "177.859433366 m 1271.83888731 m\n",
      "Ratio:  0.139844311367\n"
     ]
    },
    {
     "name": "stderr",
     "output_type": "stream",
     "text": [
      " 40%|███▉      | 474/1200 [01:27<02:04,  5.82it/s]"
     ]
    },
    {
     "name": "stdout",
     "output_type": "stream",
     "text": [
      "130.638150607 m 1460.98934413 m\n",
      "Ratio:  0.0894175930383\n",
      "147.608671028 m 375.009472105 m\n",
      "Ratio:  0.393613180486\n"
     ]
    },
    {
     "name": "stderr",
     "output_type": "stream",
     "text": [
      " 40%|███▉      | 476/1200 [01:28<02:05,  5.77it/s]"
     ]
    },
    {
     "name": "stdout",
     "output_type": "stream",
     "text": [
      "140.456548733 m 169.746682025 m\n",
      "Ratio:  0.827447977524\n",
      "208.892217295 m 208.923386557 m\n",
      "Ratio:  0.99985081009\n"
     ]
    },
    {
     "name": "stderr",
     "output_type": "stream",
     "text": [
      " 40%|███▉      | 478/1200 [01:28<02:07,  5.68it/s]"
     ]
    },
    {
     "name": "stdout",
     "output_type": "stream",
     "text": [
      "193.997587096 m 62.2490261915 m\n",
      "Ratio:  3.11647585457\n",
      "336.926930214 m 66.0100109892 m\n",
      "Ratio:  5.10417927773\n"
     ]
    },
    {
     "name": "stderr",
     "output_type": "stream",
     "text": [
      " 40%|████      | 480/1200 [01:28<02:03,  5.83it/s]"
     ]
    },
    {
     "name": "stdout",
     "output_type": "stream",
     "text": [
      "225.429563034 m 61.3186557845 m\n",
      "Ratio:  3.67636178826\n",
      "251.293833239 m 212.709324431 m\n",
      "Ratio:  1.18139547437\n"
     ]
    },
    {
     "name": "stderr",
     "output_type": "stream",
     "text": [
      " 40%|████      | 482/1200 [01:29<02:02,  5.85it/s]"
     ]
    },
    {
     "name": "stdout",
     "output_type": "stream",
     "text": [
      "352.490069517 m 60.524402543 m\n",
      "Ratio:  5.82393307007\n",
      "377.279024271 m 62.8736091662 m\n",
      "Ratio:  6.00059435547\n"
     ]
    },
    {
     "name": "stderr",
     "output_type": "stream",
     "text": [
      " 40%|████      | 484/1200 [01:29<02:04,  5.74it/s]"
     ]
    },
    {
     "name": "stdout",
     "output_type": "stream",
     "text": [
      "1440.39083058 m 61.2271583284 m\n",
      "Ratio:  23.5253581892\n",
      "661.592479872 m 61.244256968 m\n",
      "Ratio:  10.8025227609\n"
     ]
    },
    {
     "name": "stderr",
     "output_type": "stream",
     "text": [
      " 40%|████      | 486/1200 [01:29<02:02,  5.85it/s]"
     ]
    },
    {
     "name": "stdout",
     "output_type": "stream",
     "text": [
      "394.945570508 m 71.1833340284 m\n",
      "Ratio:  5.548287052\n",
      "306.118641362 m 82.5226358263 m\n",
      "Ratio:  3.70951119407\n"
     ]
    },
    {
     "name": "stderr",
     "output_type": "stream",
     "text": [
      " 41%|████      | 488/1200 [01:30<02:08,  5.55it/s]"
     ]
    },
    {
     "name": "stdout",
     "output_type": "stream",
     "text": [
      "980.943755757 m 67.7062015261 m\n",
      "Ratio:  14.4882408649\n",
      "338.114394886 m 76.2647114892 m\n",
      "Ratio:  4.43343177053\n"
     ]
    },
    {
     "name": "stderr",
     "output_type": "stream",
     "text": [
      " 41%|████      | 490/1200 [01:30<02:01,  5.83it/s]"
     ]
    },
    {
     "name": "stdout",
     "output_type": "stream",
     "text": [
      "345.520466732 m 79.3184494843 m\n",
      "Ratio:  4.3561172587\n",
      "249.81771802 m 76.5993581602 m\n",
      "Ratio:  3.26135523874\n"
     ]
    },
    {
     "name": "stderr",
     "output_type": "stream",
     "text": [
      " 41%|████      | 492/1200 [01:30<01:56,  6.05it/s]"
     ]
    },
    {
     "name": "stdout",
     "output_type": "stream",
     "text": [
      "693.152775046 m 80.1945731537 m\n",
      "Ratio:  8.6433875484\n",
      "278.855711169 m 90.3344670529 m\n",
      "Ratio:  3.08692485013\n"
     ]
    },
    {
     "name": "stderr",
     "output_type": "stream",
     "text": [
      "\r",
      " 41%|████      | 493/1200 [01:30<01:56,  6.07it/s]"
     ]
    },
    {
     "name": "stdout",
     "output_type": "stream",
     "text": [
      "396.001877186 m 84.7740139228 m\n",
      "Ratio:  4.67126491788\n",
      "373.541808601 m 84.4657370614 m\n",
      "Ratio:  4.42240631049\n"
     ]
    },
    {
     "name": "stderr",
     "output_type": "stream",
     "text": [
      " 41%|████▏     | 496/1200 [01:31<02:08,  5.46it/s]"
     ]
    },
    {
     "name": "stdout",
     "output_type": "stream",
     "text": [
      "775.680044804 m 79.7461435853 m\n",
      "Ratio:  9.72686590135\n",
      "1097.77023913 m 82.6914827657 m\n",
      "Ratio:  13.2754934658\n"
     ]
    },
    {
     "name": "stderr",
     "output_type": "stream",
     "text": [
      " 42%|████▏     | 498/1200 [01:31<02:04,  5.66it/s]"
     ]
    },
    {
     "name": "stdout",
     "output_type": "stream",
     "text": [
      "1105.54550024 m 98.786632038 m\n",
      "Ratio:  11.1912459959\n",
      "355.404218785 m 91.9657891537 m\n",
      "Ratio:  3.8645263859\n"
     ]
    },
    {
     "name": "stderr",
     "output_type": "stream",
     "text": [
      " 42%|████▏     | 500/1200 [01:32<02:04,  5.61it/s]"
     ]
    },
    {
     "name": "stdout",
     "output_type": "stream",
     "text": [
      "318.043248563 m 79.6522226677 m\n",
      "Ratio:  3.99289860234\n",
      "320.197162393 m 79.231411685 m\n",
      "Ratio:  4.04129063944\n"
     ]
    },
    {
     "name": "stderr",
     "output_type": "stream",
     "text": [
      " 42%|████▏     | 502/1200 [01:32<02:00,  5.79it/s]"
     ]
    },
    {
     "name": "stdout",
     "output_type": "stream",
     "text": [
      "444.628420073 m 76.1403409157 m\n",
      "Ratio:  5.83959061288\n",
      "427.11510744 m 130.460750562 m\n",
      "Ratio:  3.27389736453\n"
     ]
    },
    {
     "name": "stderr",
     "output_type": "stream",
     "text": [
      " 42%|████▏     | 504/1200 [01:32<02:03,  5.64it/s]"
     ]
    },
    {
     "name": "stdout",
     "output_type": "stream",
     "text": [
      "618.440310092 m 143.091688637 m\n",
      "Ratio:  4.32198624519\n",
      "362.523496254 m 74.8927581635 m\n",
      "Ratio:  4.84056810222\n"
     ]
    },
    {
     "name": "stderr",
     "output_type": "stream",
     "text": [
      " 42%|████▏     | 506/1200 [01:33<02:07,  5.46it/s]"
     ]
    },
    {
     "name": "stdout",
     "output_type": "stream",
     "text": [
      "345.558815952 m 79.6033187023 m\n",
      "Ratio:  4.34101016874\n",
      "338.270093216 m 81.0162904014 m\n",
      "Ratio:  4.17533426352\n"
     ]
    },
    {
     "name": "stderr",
     "output_type": "stream",
     "text": [
      " 42%|████▏     | 508/1200 [01:33<02:05,  5.53it/s]"
     ]
    },
    {
     "name": "stdout",
     "output_type": "stream",
     "text": [
      "307.881495734 m 81.5507357439 m\n",
      "Ratio:  3.77533682469\n",
      "391.594509027 m 85.139453326 m\n",
      "Ratio:  4.59944824319\n"
     ]
    },
    {
     "name": "stderr",
     "output_type": "stream",
     "text": [
      " 42%|████▎     | 510/1200 [01:34<02:05,  5.49it/s]"
     ]
    },
    {
     "name": "stdout",
     "output_type": "stream",
     "text": [
      "348.943075281 m 69.0255871645 m\n",
      "Ratio:  5.05527138\n",
      "842.78755241 m 399.356660334 m\n",
      "Ratio:  2.11036308173\n"
     ]
    },
    {
     "name": "stderr",
     "output_type": "stream",
     "text": [
      " 43%|████▎     | 512/1200 [01:34<02:09,  5.33it/s]"
     ]
    },
    {
     "name": "stdout",
     "output_type": "stream",
     "text": [
      "470.693628477 m 76.1458977873 m\n",
      "Ratio:  6.18147059992\n",
      "329.41027945 m 251.423208574 m\n",
      "Ratio:  1.31018246612\n"
     ]
    },
    {
     "name": "stderr",
     "output_type": "stream",
     "text": [
      " 43%|████▎     | 514/1200 [01:34<02:05,  5.45it/s]"
     ]
    },
    {
     "name": "stdout",
     "output_type": "stream",
     "text": [
      "277.171882984 m 261.579493866 m\n",
      "Ratio:  1.0596086065\n",
      "483.495422429 m 257.527441951 m\n",
      "Ratio:  1.87745204459\n"
     ]
    },
    {
     "name": "stderr",
     "output_type": "stream",
     "text": [
      " 43%|████▎     | 516/1200 [01:35<02:03,  5.52it/s]"
     ]
    },
    {
     "name": "stdout",
     "output_type": "stream",
     "text": [
      "313.80821132 m 76.7547653258 m\n",
      "Ratio:  4.08845248876\n",
      "202.884792037 m 251.868278699 m\n",
      "Ratio:  0.805519428983\n"
     ]
    },
    {
     "name": "stderr",
     "output_type": "stream",
     "text": [
      " 43%|████▎     | 518/1200 [01:35<02:00,  5.65it/s]"
     ]
    },
    {
     "name": "stdout",
     "output_type": "stream",
     "text": [
      "313.11942788 m 249.815260689 m\n",
      "Ratio:  1.25340392343\n",
      "400.225631707 m 246.567947011 m\n",
      "Ratio:  1.62318596784\n"
     ]
    },
    {
     "name": "stderr",
     "output_type": "stream",
     "text": [
      " 43%|████▎     | 520/1200 [01:35<01:59,  5.68it/s]"
     ]
    },
    {
     "name": "stdout",
     "output_type": "stream",
     "text": [
      "301.030289407 m 240.120670062 m\n",
      "Ratio:  1.25366254113\n",
      "400.124477185 m 239.447168905 m\n",
      "Ratio:  1.67103448755\n"
     ]
    },
    {
     "name": "stderr",
     "output_type": "stream",
     "text": [
      "\r",
      " 43%|████▎     | 521/1200 [01:36<02:02,  5.56it/s]"
     ]
    },
    {
     "name": "stdout",
     "output_type": "stream",
     "text": [
      "786.258940303 m 235.34913186 m\n",
      "Ratio:  3.34081937796\n",
      "318.28346262 m 223.031962457 m\n",
      "Ratio:  1.42707555955\n"
     ]
    },
    {
     "name": "stderr",
     "output_type": "stream",
     "text": [
      " 44%|████▎     | 524/1200 [01:36<02:02,  5.50it/s]"
     ]
    },
    {
     "name": "stdout",
     "output_type": "stream",
     "text": [
      "287.066218647 m 228.488824199 m\n",
      "Ratio:  1.25636875087\n",
      "323.834469115 m 217.425733208 m\n",
      "Ratio:  1.48940267712\n"
     ]
    },
    {
     "name": "stderr",
     "output_type": "stream",
     "text": [
      " 44%|████▍     | 526/1200 [01:36<02:03,  5.47it/s]"
     ]
    },
    {
     "name": "stdout",
     "output_type": "stream",
     "text": [
      "350.482092542 m 223.689422713 m\n",
      "Ratio:  1.56682461017\n",
      "169.122964363 m 234.073574746 m\n",
      "Ratio:  0.722520534606\n"
     ]
    },
    {
     "name": "stderr",
     "output_type": "stream",
     "text": [
      " 44%|████▍     | 528/1200 [01:37<02:12,  5.09it/s]"
     ]
    },
    {
     "name": "stdout",
     "output_type": "stream",
     "text": [
      "248.905357807 m 235.616296957 m\n",
      "Ratio:  1.05640128048\n",
      "252.386184309 m 234.022656245 m\n",
      "Ratio:  1.07846901816\n"
     ]
    },
    {
     "name": "stderr",
     "output_type": "stream",
     "text": [
      " 44%|████▍     | 530/1200 [01:37<02:02,  5.47it/s]"
     ]
    },
    {
     "name": "stdout",
     "output_type": "stream",
     "text": [
      "157.66617972 m 239.741385743 m\n",
      "Ratio:  0.657651073599\n",
      "219.449056703 m 250.364163286 m\n",
      "Ratio:  0.87651944201\n"
     ]
    },
    {
     "name": "stderr",
     "output_type": "stream",
     "text": [
      " 44%|████▍     | 532/1200 [01:38<01:57,  5.70it/s]"
     ]
    },
    {
     "name": "stdout",
     "output_type": "stream",
     "text": [
      "216.66018693 m 250.811032695 m\n",
      "Ratio:  0.863838343161\n",
      "370.429834863 m 273.978311769 m\n",
      "Ratio:  1.35204072348\n"
     ]
    },
    {
     "name": "stderr",
     "output_type": "stream",
     "text": [
      " 44%|████▍     | 534/1200 [01:38<01:56,  5.74it/s]"
     ]
    },
    {
     "name": "stdout",
     "output_type": "stream",
     "text": [
      "273.371024444 m 287.521469529 m\n",
      "Ratio:  0.950784735803\n",
      "239.949287401 m 346.527348591 m\n",
      "Ratio:  0.692439682975\n"
     ]
    },
    {
     "name": "stderr",
     "output_type": "stream",
     "text": [
      " 45%|████▍     | 536/1200 [01:38<01:54,  5.82it/s]"
     ]
    },
    {
     "name": "stdout",
     "output_type": "stream",
     "text": [
      "511.927949781 m 377.005336453 m\n",
      "Ratio:  1.35787985018\n",
      "470.352604196 m 409.812953412 m\n",
      "Ratio:  1.14772507867\n"
     ]
    },
    {
     "name": "stderr",
     "output_type": "stream",
     "text": [
      " 45%|████▍     | 538/1200 [01:39<01:56,  5.69it/s]"
     ]
    },
    {
     "name": "stdout",
     "output_type": "stream",
     "text": [
      "1108.98952016 m 439.136528603 m\n",
      "Ratio:  2.52538663475\n",
      "256.044268801 m 452.95456415 m\n",
      "Ratio:  0.56527583353\n"
     ]
    },
    {
     "name": "stderr",
     "output_type": "stream",
     "text": [
      " 45%|████▌     | 540/1200 [01:39<01:54,  5.77it/s]"
     ]
    },
    {
     "name": "stdout",
     "output_type": "stream",
     "text": [
      "292.580894633 m 452.406010505 m\n",
      "Ratio:  0.646721944091\n",
      "209.486341772 m 465.602963165 m\n",
      "Ratio:  0.449924846587\n"
     ]
    },
    {
     "name": "stderr",
     "output_type": "stream",
     "text": [
      " 45%|████▌     | 542/1200 [01:39<01:52,  5.86it/s]"
     ]
    },
    {
     "name": "stdout",
     "output_type": "stream",
     "text": [
      "166.572970458 m 535.9126406 m\n",
      "Ratio:  0.31082112613\n",
      "159.087690291 m 528.635898436 m\n",
      "Ratio:  0.300940005705\n"
     ]
    },
    {
     "name": "stderr",
     "output_type": "stream",
     "text": [
      "\r",
      " 45%|████▌     | 543/1200 [01:39<01:51,  5.92it/s]"
     ]
    },
    {
     "name": "stdout",
     "output_type": "stream",
     "text": [
      "159.50573918 m 591.347064426 m\n",
      "Ratio:  0.269732867169\n"
     ]
    },
    {
     "name": "stderr",
     "output_type": "stream",
     "text": [
      " 45%|████▌     | 545/1200 [01:40<02:00,  5.44it/s]"
     ]
    },
    {
     "name": "stdout",
     "output_type": "stream",
     "text": [
      "176.521278683 m 664.520966777 m\n",
      "Ratio:  0.265636883572\n",
      "154.354372036 m 714.728308295 m\n",
      "Ratio:  0.215962303781\n"
     ]
    },
    {
     "name": "stderr",
     "output_type": "stream",
     "text": [
      " 46%|████▌     | 547/1200 [01:40<01:57,  5.53it/s]"
     ]
    },
    {
     "name": "stdout",
     "output_type": "stream",
     "text": [
      "148.565882646 m 772.671530002 m\n",
      "Ratio:  0.192275600793\n",
      "141.881120326 m 728.335788606 m\n",
      "Ratio:  0.194801796843\n"
     ]
    },
    {
     "name": "stderr",
     "output_type": "stream",
     "text": [
      " 46%|████▌     | 549/1200 [01:41<01:55,  5.63it/s]"
     ]
    },
    {
     "name": "stdout",
     "output_type": "stream",
     "text": [
      "154.627592626 m 770.686144841 m\n",
      "Ratio:  0.200636268942\n",
      "141.797511528 m 781.219233025 m\n",
      "Ratio:  0.181507962853\n"
     ]
    },
    {
     "name": "stderr",
     "output_type": "stream",
     "text": [
      " 46%|████▌     | 551/1200 [01:41<01:55,  5.60it/s]"
     ]
    },
    {
     "name": "stdout",
     "output_type": "stream",
     "text": [
      "129.262380357 m 944.598298727 m\n",
      "Ratio:  0.136843757321\n",
      "100.594569172 m 976.027992823 m\n",
      "Ratio:  0.103065250087\n"
     ]
    },
    {
     "name": "stderr",
     "output_type": "stream",
     "text": [
      " 46%|████▌     | 553/1200 [01:41<01:54,  5.63it/s]"
     ]
    },
    {
     "name": "stdout",
     "output_type": "stream",
     "text": [
      "98.7316283736 m 1272.1592629 m\n",
      "Ratio:  0.0776094874696\n",
      "97.5770504912 m 1415.2437623 m\n",
      "Ratio:  0.0689471687425\n"
     ]
    },
    {
     "name": "stderr",
     "output_type": "stream",
     "text": [
      "\r",
      " 46%|████▌     | 554/1200 [01:41<01:55,  5.57it/s]"
     ]
    },
    {
     "name": "stdout",
     "output_type": "stream",
     "text": [
      "99.1689582358 m 1349.28205781 m\n",
      "Ratio:  0.0734975742555\n"
     ]
    },
    {
     "name": "stderr",
     "output_type": "stream",
     "text": [
      "\r",
      " 46%|████▋     | 555/1200 [01:42<02:04,  5.19it/s]"
     ]
    },
    {
     "name": "stdout",
     "output_type": "stream",
     "text": [
      "93.091592174 m 1242.13593943 m\n",
      "Ratio:  0.0749447699074\n"
     ]
    },
    {
     "name": "stderr",
     "output_type": "stream",
     "text": [
      " 46%|████▋     | 557/1200 [01:42<02:03,  5.21it/s]"
     ]
    },
    {
     "name": "stdout",
     "output_type": "stream",
     "text": [
      "107.887305187 m 1568.21053315 m\n",
      "Ratio:  0.0687964421271\n",
      "170.450233397 m 1295.96896778 m\n",
      "Ratio:  0.131523391096\n"
     ]
    },
    {
     "name": "stderr",
     "output_type": "stream",
     "text": [
      " 47%|████▋     | 559/1200 [01:42<01:57,  5.45it/s]"
     ]
    },
    {
     "name": "stdout",
     "output_type": "stream",
     "text": [
      "294.13733032 m 1101.68535551 m\n",
      "Ratio:  0.266988508878\n",
      "172.102140221 m 1433.86745861 m\n",
      "Ratio:  0.120026533267\n"
     ]
    },
    {
     "name": "stderr",
     "output_type": "stream",
     "text": [
      " 47%|████▋     | 561/1200 [01:43<02:05,  5.10it/s]"
     ]
    },
    {
     "name": "stdout",
     "output_type": "stream",
     "text": [
      "743.421609579 m 1222.82439879 m\n",
      "Ratio:  0.607954511142\n",
      "70.8157999932 m 1495.2916181 m\n",
      "Ratio:  0.0473591900978\n"
     ]
    },
    {
     "name": "stderr",
     "output_type": "stream",
     "text": [
      " 47%|████▋     | 563/1200 [01:43<02:02,  5.20it/s]"
     ]
    },
    {
     "name": "stdout",
     "output_type": "stream",
     "text": [
      "72.289062037 m 1213.10555236 m\n",
      "Ratio:  0.0595900842232\n",
      "73.4251818461 m 1283.54541116 m\n",
      "Ratio:  0.0572049739787\n"
     ]
    },
    {
     "name": "stderr",
     "output_type": "stream",
     "text": [
      " 47%|████▋     | 565/1200 [01:44<01:58,  5.36it/s]"
     ]
    },
    {
     "name": "stdout",
     "output_type": "stream",
     "text": [
      "75.734172982 m 1285.53729202 m\n",
      "Ratio:  0.0589124667578\n",
      "1142.87586588 m 1157.78170491 m\n",
      "Ratio:  0.987125518599\n"
     ]
    },
    {
     "name": "stderr",
     "output_type": "stream",
     "text": [
      " 47%|████▋     | 567/1200 [01:44<02:00,  5.26it/s]"
     ]
    },
    {
     "name": "stdout",
     "output_type": "stream",
     "text": [
      "76.5082195282 m 1756.26301181 m\n",
      "Ratio:  0.043563076267\n",
      "72.8907545924 m 3110.97578955 m\n",
      "Ratio:  0.0234301902436\n"
     ]
    },
    {
     "name": "stderr",
     "output_type": "stream",
     "text": [
      " 47%|████▋     | 569/1200 [01:44<02:02,  5.15it/s]"
     ]
    },
    {
     "name": "stdout",
     "output_type": "stream",
     "text": [
      "80.4329401929 m 1834.6918483 m\n",
      "Ratio:  0.0438400270145\n",
      "297.783860282 m 2315.86746756 m\n",
      "Ratio:  0.128584154514\n"
     ]
    },
    {
     "name": "stderr",
     "output_type": "stream",
     "text": [
      "\r",
      " 48%|████▊     | 570/1200 [01:45<02:02,  5.15it/s]"
     ]
    },
    {
     "name": "stdout",
     "output_type": "stream",
     "text": [
      "82.1823454376 m 2843.35330346 m\n",
      "Ratio:  0.0289033182537\n"
     ]
    },
    {
     "name": "stderr",
     "output_type": "stream",
     "text": [
      " 48%|████▊     | 572/1200 [01:45<02:06,  4.98it/s]"
     ]
    },
    {
     "name": "stdout",
     "output_type": "stream",
     "text": [
      "120.79570938 m 3335.31189953 m\n",
      "Ratio:  0.0362172153664\n",
      "79.9680090825 m 2690.12242593 m\n",
      "Ratio:  0.0297265315183\n"
     ]
    },
    {
     "name": "stderr",
     "output_type": "stream",
     "text": [
      " 48%|████▊     | 574/1200 [01:45<02:01,  5.16it/s]"
     ]
    },
    {
     "name": "stdout",
     "output_type": "stream",
     "text": [
      "259.029532056 m 1149.72953215 m\n",
      "Ratio:  0.225296058605\n",
      "956.979353859 m 713.039063239 m\n",
      "Ratio:  1.34211350148\n"
     ]
    },
    {
     "name": "stderr",
     "output_type": "stream",
     "text": [
      "\r",
      " 48%|████▊     | 575/1200 [01:46<01:59,  5.21it/s]"
     ]
    },
    {
     "name": "stdout",
     "output_type": "stream",
     "text": [
      "910.976369351 m 440.334153979 m\n",
      "Ratio:  2.06882968564\n"
     ]
    },
    {
     "name": "stderr",
     "output_type": "stream",
     "text": [
      " 48%|████▊     | 577/1200 [01:46<02:07,  4.87it/s]"
     ]
    },
    {
     "name": "stdout",
     "output_type": "stream",
     "text": [
      "65.3508540373 m 358.079717085 m\n",
      "Ratio:  0.182503646309\n",
      "185.044656759 m 815.91237083 m\n",
      "Ratio:  0.226794767887\n"
     ]
    },
    {
     "name": "stderr",
     "output_type": "stream",
     "text": [
      " 48%|████▊     | 579/1200 [01:46<02:02,  5.05it/s]"
     ]
    },
    {
     "name": "stdout",
     "output_type": "stream",
     "text": [
      "148.658719281 m 9314.34958112 m\n",
      "Ratio:  0.0159601825104\n",
      "74.4739643659 m 323.173358057 m\n",
      "Ratio:  0.230445866001\n"
     ]
    },
    {
     "name": "stderr",
     "output_type": "stream",
     "text": [
      " 48%|████▊     | 581/1200 [01:47<01:58,  5.21it/s]"
     ]
    },
    {
     "name": "stdout",
     "output_type": "stream",
     "text": [
      "70.8707177047 m 418.838582754 m\n",
      "Ratio:  0.169207710614\n",
      "71.6466940927 m 389.186383933 m\n",
      "Ratio:  0.184093527036\n"
     ]
    },
    {
     "name": "stderr",
     "output_type": "stream",
     "text": [
      " 49%|████▊     | 583/1200 [01:47<01:53,  5.43it/s]"
     ]
    },
    {
     "name": "stdout",
     "output_type": "stream",
     "text": [
      "239.153578307 m 420.692646257 m\n",
      "Ratio:  0.568475775449\n",
      "83.3813381451 m 265.406736214 m\n",
      "Ratio:  0.314164362723\n"
     ]
    },
    {
     "name": "stderr",
     "output_type": "stream",
     "text": [
      " 49%|████▉     | 585/1200 [01:47<01:48,  5.65it/s]"
     ]
    },
    {
     "name": "stdout",
     "output_type": "stream",
     "text": [
      "731.591745221 m 179.47372064 m\n",
      "Ratio:  4.07631681459\n",
      "71.2720603238 m 269.3598947 m\n",
      "Ratio:  0.264597891988\n"
     ]
    },
    {
     "name": "stderr",
     "output_type": "stream",
     "text": [
      " 49%|████▉     | 587/1200 [01:48<01:49,  5.61it/s]"
     ]
    },
    {
     "name": "stdout",
     "output_type": "stream",
     "text": [
      "245.682024625 m 652.578230913 m\n",
      "Ratio:  0.376479038047\n",
      "72.542929414 m 1625.75330448 m\n",
      "Ratio:  0.044621117616\n"
     ]
    },
    {
     "name": "stderr",
     "output_type": "stream",
     "text": [
      " 49%|████▉     | 589/1200 [01:48<01:48,  5.65it/s]"
     ]
    },
    {
     "name": "stdout",
     "output_type": "stream",
     "text": [
      "70.604178314 m 4730.35257372 m\n",
      "Ratio:  0.014925775027\n",
      "144.151169687 m 160.476435017 m\n",
      "Ratio:  0.898270014985\n"
     ]
    },
    {
     "name": "stderr",
     "output_type": "stream",
     "text": [
      " 49%|████▉     | 591/1200 [01:49<01:45,  5.80it/s]"
     ]
    },
    {
     "name": "stdout",
     "output_type": "stream",
     "text": [
      "7.13361015892 m 266.257544153 m\n",
      "Ratio:  0.0267921428541\n",
      "175.427203552 m 200.542880522 m\n",
      "Ratio:  0.874761562692\n"
     ]
    },
    {
     "name": "stderr",
     "output_type": "stream",
     "text": [
      " 49%|████▉     | 593/1200 [01:49<01:53,  5.36it/s]"
     ]
    },
    {
     "name": "stdout",
     "output_type": "stream",
     "text": [
      "175.427203552 m 226.041745783 m\n",
      "Ratio:  0.776083209518\n",
      "89.1079273559 m 374.964830812 m\n",
      "Ratio:  0.237643426886\n"
     ]
    },
    {
     "name": "stderr",
     "output_type": "stream",
     "text": [
      " 50%|████▉     | 595/1200 [01:49<01:46,  5.70it/s]"
     ]
    },
    {
     "name": "stdout",
     "output_type": "stream",
     "text": [
      "74.7687457539 m 1083.9822747 m\n",
      "Ratio:  0.0689759855848\n",
      "2174.65543633 m 791.226190078 m\n",
      "Ratio:  2.7484624038\n"
     ]
    },
    {
     "name": "stderr",
     "output_type": "stream",
     "text": [
      " 50%|████▉     | 597/1200 [01:50<01:44,  5.77it/s]"
     ]
    },
    {
     "name": "stdout",
     "output_type": "stream",
     "text": [
      "70.8902466208 m 70.8887236369 m\n",
      "Ratio:  1.00002148415\n",
      "74.6704425373 m 895.551763882 m\n",
      "Ratio:  0.0833792590766\n"
     ]
    },
    {
     "name": "stderr",
     "output_type": "stream",
     "text": [
      " 50%|████▉     | 599/1200 [01:50<01:44,  5.75it/s]"
     ]
    },
    {
     "name": "stdout",
     "output_type": "stream",
     "text": [
      "176.964725536 m 71.5317967955 m\n",
      "Ratio:  2.47393094349\n",
      "185.239888253 m 72.8140685537 m\n",
      "Ratio:  2.54401233075\n"
     ]
    },
    {
     "name": "stderr",
     "output_type": "stream",
     "text": [
      " 50%|█████     | 601/1200 [01:50<01:42,  5.82it/s]"
     ]
    },
    {
     "name": "stdout",
     "output_type": "stream",
     "text": [
      "96.7581881043 m 436.180313098 m\n",
      "Ratio:  0.221830708995\n",
      "141.01965557 m 436.180313098 m\n",
      "Ratio:  0.323305869925\n"
     ]
    },
    {
     "name": "stderr",
     "output_type": "stream",
     "text": [
      " 50%|█████     | 603/1200 [01:51<01:41,  5.90it/s]"
     ]
    },
    {
     "name": "stdout",
     "output_type": "stream",
     "text": [
      "226.780330032 m 436.180313098 m\n",
      "Ratio:  0.519923351013\n",
      "6880.14019085 m 436.180313098 m\n",
      "Ratio:  15.7736146824\n"
     ]
    },
    {
     "name": "stderr",
     "output_type": "stream",
     "text": [
      " 50%|█████     | 605/1200 [01:51<01:43,  5.74it/s]"
     ]
    },
    {
     "name": "stdout",
     "output_type": "stream",
     "text": [
      "7521.7899491 m 436.180313098 m\n",
      "Ratio:  17.2446800629\n",
      "82.2292969773 m 434.85226506 m\n",
      "Ratio:  0.189097087872\n"
     ]
    },
    {
     "name": "stderr",
     "output_type": "stream",
     "text": [
      " 51%|█████     | 607/1200 [01:51<01:44,  5.70it/s]"
     ]
    },
    {
     "name": "stdout",
     "output_type": "stream",
     "text": [
      "113.616705018 m 399.42149896 m\n",
      "Ratio:  0.284453153657\n",
      "2096.70479958 m 362.548092988 m\n",
      "Ratio:  5.78324597519\n"
     ]
    },
    {
     "name": "stderr",
     "output_type": "stream",
     "text": [
      " 51%|█████     | 609/1200 [01:52<01:46,  5.56it/s]"
     ]
    },
    {
     "name": "stdout",
     "output_type": "stream",
     "text": [
      "773.651907955 m 364.983022252 m\n",
      "Ratio:  2.11969286457\n",
      "212.412497935 m 247.781319961 m\n",
      "Ratio:  0.857257915845\n"
     ]
    },
    {
     "name": "stderr",
     "output_type": "stream",
     "text": [
      " 51%|█████     | 611/1200 [01:52<01:49,  5.38it/s]"
     ]
    },
    {
     "name": "stdout",
     "output_type": "stream",
     "text": [
      "85.4854206698 m 284.242698331 m\n",
      "Ratio:  0.300747991669\n",
      "100.839071378 m 332.649960824 m\n",
      "Ratio:  0.303138684062\n"
     ]
    },
    {
     "name": "stderr",
     "output_type": "stream",
     "text": [
      " 51%|█████     | 613/1200 [01:52<01:46,  5.53it/s]"
     ]
    },
    {
     "name": "stdout",
     "output_type": "stream",
     "text": [
      "5092.52695019 m 209.293663114 m\n",
      "Ratio:  24.331969131\n",
      "944.995284678 m 211.094673097 m\n",
      "Ratio:  4.47664202423\n"
     ]
    },
    {
     "name": "stderr",
     "output_type": "stream",
     "text": [
      "\r",
      " 51%|█████     | 614/1200 [01:53<01:48,  5.42it/s]"
     ]
    },
    {
     "name": "stdout",
     "output_type": "stream",
     "text": [
      "193.210973752 m 323.290641943 m\n",
      "Ratio:  0.597638621987\n"
     ]
    },
    {
     "name": "stderr",
     "output_type": "stream",
     "text": [
      " 51%|█████▏    | 616/1200 [01:53<01:51,  5.21it/s]"
     ]
    },
    {
     "name": "stdout",
     "output_type": "stream",
     "text": [
      "211.727404136 m 1884.80870177 m\n",
      "Ratio:  0.11233363043\n",
      "239.628198764 m 1068.96275811 m\n",
      "Ratio:  0.224168893581\n"
     ]
    },
    {
     "name": "stderr",
     "output_type": "stream",
     "text": [
      " 52%|█████▏    | 618/1200 [01:53<01:53,  5.11it/s]"
     ]
    },
    {
     "name": "stdout",
     "output_type": "stream",
     "text": [
      "431.059553089 m 1216.77363184 m\n",
      "Ratio:  0.354264377374\n",
      "308.637354828 m 1181.94792336 m\n",
      "Ratio:  0.261126018099\n"
     ]
    },
    {
     "name": "stderr",
     "output_type": "stream",
     "text": [
      "\r",
      " 52%|█████▏    | 619/1200 [01:54<02:01,  4.79it/s]"
     ]
    },
    {
     "name": "stdout",
     "output_type": "stream",
     "text": [
      "20555.4591783 m 768.457340223 m\n",
      "Ratio:  26.748991912\n"
     ]
    },
    {
     "name": "stderr",
     "output_type": "stream",
     "text": [
      "\r",
      " 52%|█████▏    | 620/1200 [01:54<02:00,  4.80it/s]"
     ]
    },
    {
     "name": "stdout",
     "output_type": "stream",
     "text": [
      "1151.58696488 m 759.55614805 m\n",
      "Ratio:  1.51613145102\n"
     ]
    },
    {
     "name": "stderr",
     "output_type": "stream",
     "text": [
      "\r",
      " 52%|█████▏    | 621/1200 [01:54<02:01,  4.75it/s]"
     ]
    },
    {
     "name": "stdout",
     "output_type": "stream",
     "text": [
      "534.525872075 m 782.771669613 m\n",
      "Ratio:  0.682863078501\n"
     ]
    },
    {
     "name": "stderr",
     "output_type": "stream",
     "text": [
      "\r",
      " 52%|█████▏    | 622/1200 [01:54<02:04,  4.64it/s]"
     ]
    },
    {
     "name": "stdout",
     "output_type": "stream",
     "text": [
      "2704.64569937 m 1173.99790817 m\n",
      "Ratio:  2.30379090163\n"
     ]
    },
    {
     "name": "stderr",
     "output_type": "stream",
     "text": [
      "\r",
      " 52%|█████▏    | 623/1200 [01:55<02:03,  4.66it/s]"
     ]
    },
    {
     "name": "stdout",
     "output_type": "stream",
     "text": [
      "1077.28538128 m 4063.57545193 m\n",
      "Ratio:  0.265107758923\n"
     ]
    },
    {
     "name": "stderr",
     "output_type": "stream",
     "text": [
      " 52%|█████▏    | 625/1200 [01:55<02:02,  4.68it/s]"
     ]
    },
    {
     "name": "stdout",
     "output_type": "stream",
     "text": [
      "491.694403036 m 17903.351355 m\n",
      "Ratio:  0.0274638191077\n",
      "507.900596588 m 646.896611088 m\n",
      "Ratio:  0.785134112441\n"
     ]
    },
    {
     "name": "stderr",
     "output_type": "stream",
     "text": [
      "\r",
      " 52%|█████▏    | 626/1200 [01:55<02:00,  4.78it/s]"
     ]
    },
    {
     "name": "stdout",
     "output_type": "stream",
     "text": [
      "657.363150186 m 615.775093076 m\n",
      "Ratio:  1.06753773834\n"
     ]
    },
    {
     "name": "stderr",
     "output_type": "stream",
     "text": [
      "\r",
      " 52%|█████▏    | 627/1200 [01:55<01:59,  4.80it/s]"
     ]
    },
    {
     "name": "stdout",
     "output_type": "stream",
     "text": [
      "924.775836815 m 740.190593008 m\n",
      "Ratio:  1.24937529003\n",
      "1028.98062332 m 869.894867622 m\n",
      "Ratio:  1.18287928992\n"
     ]
    },
    {
     "name": "stderr",
     "output_type": "stream",
     "text": [
      " 52%|█████▎    | 630/1200 [01:56<01:52,  5.05it/s]"
     ]
    },
    {
     "name": "stdout",
     "output_type": "stream",
     "text": [
      "712.889507245 m 1146.97439304 m\n",
      "Ratio:  0.621539165626\n",
      "725.510360033 m 1521.0578423 m\n",
      "Ratio:  0.476977495437\n"
     ]
    },
    {
     "name": "stderr",
     "output_type": "stream",
     "text": [
      "\r",
      " 53%|█████▎    | 631/1200 [01:56<01:53,  5.02it/s]"
     ]
    },
    {
     "name": "stdout",
     "output_type": "stream",
     "text": [
      "598.998600051 m 2055.75239739 m\n",
      "Ratio:  0.291376821844\n"
     ]
    },
    {
     "name": "stderr",
     "output_type": "stream",
     "text": [
      " 53%|█████▎    | 633/1200 [01:57<01:54,  4.95it/s]"
     ]
    },
    {
     "name": "stdout",
     "output_type": "stream",
     "text": [
      "694.803137586 m 1582.36564662 m\n",
      "Ratio:  0.439091393995\n",
      "1657.6307329 m 984.273946381 m\n",
      "Ratio:  1.68411521914\n"
     ]
    },
    {
     "name": "stderr",
     "output_type": "stream",
     "text": [
      "\r",
      " 53%|█████▎    | 634/1200 [01:57<01:59,  4.74it/s]"
     ]
    },
    {
     "name": "stdout",
     "output_type": "stream",
     "text": [
      "8420.42641164 m 1296.87315346 m\n",
      "Ratio:  6.4928681646\n"
     ]
    },
    {
     "name": "stderr",
     "output_type": "stream",
     "text": [
      "\r",
      " 53%|█████▎    | 635/1200 [01:57<01:58,  4.77it/s]"
     ]
    },
    {
     "name": "stdout",
     "output_type": "stream",
     "text": [
      "789.417514887 m 2529.98315691 m\n",
      "Ratio:  0.312024810415\n"
     ]
    },
    {
     "name": "stderr",
     "output_type": "stream",
     "text": [
      "\r",
      " 53%|█████▎    | 636/1200 [01:57<02:00,  4.67it/s]"
     ]
    },
    {
     "name": "stdout",
     "output_type": "stream",
     "text": [
      "1537.22010788 m 1729.32033729 m\n",
      "Ratio:  0.888915763455\n"
     ]
    },
    {
     "name": "stderr",
     "output_type": "stream",
     "text": [
      "\r",
      " 53%|█████▎    | 637/1200 [01:57<02:00,  4.65it/s]"
     ]
    },
    {
     "name": "stdout",
     "output_type": "stream",
     "text": [
      "679.575943555 m 953.364002127 m\n",
      "Ratio:  0.712818967403\n"
     ]
    },
    {
     "name": "stderr",
     "output_type": "stream",
     "text": [
      "\r",
      " 53%|█████▎    | 638/1200 [01:58<02:07,  4.40it/s]"
     ]
    },
    {
     "name": "stdout",
     "output_type": "stream",
     "text": [
      "411.594571554 m 1091.68625808 m\n",
      "Ratio:  0.377026429076\n"
     ]
    },
    {
     "name": "stderr",
     "output_type": "stream",
     "text": [
      "\r",
      " 53%|█████▎    | 639/1200 [01:58<02:09,  4.33it/s]"
     ]
    },
    {
     "name": "stdout",
     "output_type": "stream",
     "text": [
      "333.084802515 m 1535.17300631 m\n",
      "Ratio:  0.216968902622\n"
     ]
    },
    {
     "name": "stderr",
     "output_type": "stream",
     "text": [
      "\r",
      " 53%|█████▎    | 640/1200 [01:58<02:10,  4.31it/s]"
     ]
    },
    {
     "name": "stdout",
     "output_type": "stream",
     "text": [
      "552.728509277 m 4002.04682231 m\n",
      "Ratio:  0.138111454917\n"
     ]
    },
    {
     "name": "stderr",
     "output_type": "stream",
     "text": [
      "\r",
      " 53%|█████▎    | 641/1200 [01:58<02:08,  4.37it/s]"
     ]
    },
    {
     "name": "stdout",
     "output_type": "stream",
     "text": [
      "688.2913672 m 1033.9486602 m\n",
      "Ratio:  0.665692015181\n"
     ]
    },
    {
     "name": "stderr",
     "output_type": "stream",
     "text": [
      "\r",
      " 54%|█████▎    | 642/1200 [01:59<02:08,  4.35it/s]"
     ]
    },
    {
     "name": "stdout",
     "output_type": "stream",
     "text": [
      "630.649142193 m 1151.37777499 m\n",
      "Ratio:  0.547734336977\n"
     ]
    },
    {
     "name": "stderr",
     "output_type": "stream",
     "text": [
      "\r",
      " 54%|█████▎    | 643/1200 [01:59<02:07,  4.37it/s]"
     ]
    },
    {
     "name": "stdout",
     "output_type": "stream",
     "text": [
      "671.755487625 m 1103.11694397 m\n",
      "Ratio:  0.608961263171\n"
     ]
    },
    {
     "name": "stderr",
     "output_type": "stream",
     "text": [
      "\r",
      " 54%|█████▎    | 644/1200 [01:59<02:05,  4.42it/s]"
     ]
    },
    {
     "name": "stdout",
     "output_type": "stream",
     "text": [
      "1107.5620875 m 1153.73260742 m\n",
      "Ratio:  0.959981611316\n"
     ]
    },
    {
     "name": "stderr",
     "output_type": "stream",
     "text": [
      "\r",
      " 54%|█████▍    | 645/1200 [01:59<02:05,  4.41it/s]"
     ]
    },
    {
     "name": "stdout",
     "output_type": "stream",
     "text": [
      "1976.94435681 m 1258.4822558 m\n",
      "Ratio:  1.57089569415\n"
     ]
    },
    {
     "name": "stderr",
     "output_type": "stream",
     "text": [
      "\r",
      " 54%|█████▍    | 646/1200 [02:00<02:06,  4.38it/s]"
     ]
    },
    {
     "name": "stdout",
     "output_type": "stream",
     "text": [
      "12610.3838527 m 1593.01144591 m\n",
      "Ratio:  7.9160660679\n"
     ]
    },
    {
     "name": "stderr",
     "output_type": "stream",
     "text": [
      "\r",
      " 54%|█████▍    | 647/1200 [02:00<02:09,  4.27it/s]"
     ]
    },
    {
     "name": "stdout",
     "output_type": "stream",
     "text": [
      "542.933694453 m 2071.1239906 m\n",
      "Ratio:  0.262144466926\n"
     ]
    },
    {
     "name": "stderr",
     "output_type": "stream",
     "text": [
      "\r",
      " 54%|█████▍    | 648/1200 [02:00<02:05,  4.38it/s]"
     ]
    },
    {
     "name": "stdout",
     "output_type": "stream",
     "text": [
      "276.52970645 m 2770.65886664 m\n",
      "Ratio:  0.099806479166\n"
     ]
    },
    {
     "name": "stderr",
     "output_type": "stream",
     "text": [
      "\r",
      " 54%|█████▍    | 649/1200 [02:00<02:09,  4.25it/s]"
     ]
    },
    {
     "name": "stdout",
     "output_type": "stream",
     "text": [
      "231.79012801 m 4286.13328634 m\n",
      "Ratio:  0.0540790760635\n"
     ]
    },
    {
     "name": "stderr",
     "output_type": "stream",
     "text": [
      "\r",
      " 54%|█████▍    | 650/1200 [02:00<02:07,  4.31it/s]"
     ]
    },
    {
     "name": "stdout",
     "output_type": "stream",
     "text": [
      "231.257045165 m 6190.77820344 m\n",
      "Ratio:  0.0373550848642\n"
     ]
    },
    {
     "name": "stderr",
     "output_type": "stream",
     "text": [
      "\r",
      " 54%|█████▍    | 651/1200 [02:01<02:15,  4.06it/s]"
     ]
    },
    {
     "name": "stdout",
     "output_type": "stream",
     "text": [
      "196.215893218 m 3939.44454892 m\n",
      "Ratio:  0.0498080099317\n"
     ]
    },
    {
     "name": "stderr",
     "output_type": "stream",
     "text": [
      "\r",
      " 54%|█████▍    | 652/1200 [02:01<02:12,  4.13it/s]"
     ]
    },
    {
     "name": "stdout",
     "output_type": "stream",
     "text": [
      "187.382801783 m 6272.53794815 m\n",
      "Ratio:  0.0298735222221\n"
     ]
    },
    {
     "name": "stderr",
     "output_type": "stream",
     "text": [
      "\r",
      " 54%|█████▍    | 653/1200 [02:01<02:10,  4.18it/s]"
     ]
    },
    {
     "name": "stdout",
     "output_type": "stream",
     "text": [
      "193.738294785 m 3726.98767044 m\n",
      "Ratio:  0.051982542449\n"
     ]
    },
    {
     "name": "stderr",
     "output_type": "stream",
     "text": [
      "\r",
      " 55%|█████▍    | 654/1200 [02:01<02:07,  4.30it/s]"
     ]
    },
    {
     "name": "stdout",
     "output_type": "stream",
     "text": [
      "220.234902836 m 2393.51980161 m\n",
      "Ratio:  0.0920129855152\n"
     ]
    },
    {
     "name": "stderr",
     "output_type": "stream",
     "text": [
      "\r",
      " 55%|█████▍    | 655/1200 [02:02<02:09,  4.21it/s]"
     ]
    },
    {
     "name": "stdout",
     "output_type": "stream",
     "text": [
      "252.311923768 m 7039.53762953 m\n",
      "Ratio:  0.0358421159239\n"
     ]
    },
    {
     "name": "stderr",
     "output_type": "stream",
     "text": [
      "\r",
      " 55%|█████▍    | 656/1200 [02:02<02:09,  4.20it/s]"
     ]
    },
    {
     "name": "stdout",
     "output_type": "stream",
     "text": [
      "289.247114386 m 4286.43231973 m\n",
      "Ratio:  0.0674796877242\n"
     ]
    },
    {
     "name": "stderr",
     "output_type": "stream",
     "text": [
      "\r",
      " 55%|█████▍    | 657/1200 [02:02<02:08,  4.21it/s]"
     ]
    },
    {
     "name": "stdout",
     "output_type": "stream",
     "text": [
      "261.538182894 m 6432.68491117 m\n",
      "Ratio:  0.0406577014894\n"
     ]
    },
    {
     "name": "stderr",
     "output_type": "stream",
     "text": [
      "\r",
      " 55%|█████▍    | 658/1200 [02:02<02:08,  4.23it/s]"
     ]
    },
    {
     "name": "stdout",
     "output_type": "stream",
     "text": [
      "230.651702721 m 1881.02841467 m\n",
      "Ratio:  0.12261999921\n"
     ]
    },
    {
     "name": "stderr",
     "output_type": "stream",
     "text": [
      "\r",
      " 55%|█████▍    | 659/1200 [02:03<02:13,  4.06it/s]"
     ]
    },
    {
     "name": "stdout",
     "output_type": "stream",
     "text": [
      "214.489870045 m 9735.18376315 m\n",
      "Ratio:  0.0220324418381\n"
     ]
    },
    {
     "name": "stderr",
     "output_type": "stream",
     "text": [
      "\r",
      " 55%|█████▌    | 660/1200 [02:03<02:16,  3.96it/s]"
     ]
    },
    {
     "name": "stdout",
     "output_type": "stream",
     "text": [
      "196.071611795 m 30716.063814 m\n",
      "Ratio:  0.00638335735275\n"
     ]
    },
    {
     "name": "stderr",
     "output_type": "stream",
     "text": [
      "\r",
      " 55%|█████▌    | 661/1200 [02:03<02:12,  4.06it/s]"
     ]
    },
    {
     "name": "stdout",
     "output_type": "stream",
     "text": [
      "186.198756172 m 3276.25189733 m\n",
      "Ratio:  0.0568328571816\n"
     ]
    },
    {
     "name": "stderr",
     "output_type": "stream",
     "text": [
      "\r",
      " 55%|█████▌    | 662/1200 [02:03<02:10,  4.12it/s]"
     ]
    },
    {
     "name": "stdout",
     "output_type": "stream",
     "text": [
      "170.806639553 m 2008.50661336 m\n",
      "Ratio:  0.0850416117211\n"
     ]
    },
    {
     "name": "stderr",
     "output_type": "stream",
     "text": [
      "\r",
      " 55%|█████▌    | 663/1200 [02:04<02:10,  4.10it/s]"
     ]
    },
    {
     "name": "stdout",
     "output_type": "stream",
     "text": [
      "162.961052305 m 2353.16256338 m\n",
      "Ratio:  0.0692519313542\n"
     ]
    },
    {
     "name": "stderr",
     "output_type": "stream",
     "text": [
      "\r",
      " 55%|█████▌    | 664/1200 [02:04<02:10,  4.11it/s]"
     ]
    },
    {
     "name": "stdout",
     "output_type": "stream",
     "text": [
      "156.465213664 m 2362.34022732 m\n",
      "Ratio:  0.0662331411264\n"
     ]
    },
    {
     "name": "stderr",
     "output_type": "stream",
     "text": [
      "\r",
      " 55%|█████▌    | 665/1200 [02:04<02:12,  4.03it/s]"
     ]
    },
    {
     "name": "stdout",
     "output_type": "stream",
     "text": [
      "162.325946634 m 2431.35964283 m\n",
      "Ratio:  0.0667634453474\n"
     ]
    },
    {
     "name": "stderr",
     "output_type": "stream",
     "text": [
      "\r",
      " 56%|█████▌    | 666/1200 [02:04<02:07,  4.19it/s]"
     ]
    },
    {
     "name": "stdout",
     "output_type": "stream",
     "text": [
      "148.989300893 m 5495.05343283 m\n",
      "Ratio:  0.02711334889\n"
     ]
    },
    {
     "name": "stderr",
     "output_type": "stream",
     "text": [
      "\r",
      " 56%|█████▌    | 667/1200 [02:05<02:02,  4.36it/s]"
     ]
    },
    {
     "name": "stdout",
     "output_type": "stream",
     "text": [
      "186.061245767 m 3504.26779192 m\n",
      "Ratio:  0.0530956127828\n"
     ]
    },
    {
     "name": "stderr",
     "output_type": "stream",
     "text": [
      "\r",
      " 56%|█████▌    | 668/1200 [02:05<02:01,  4.40it/s]"
     ]
    },
    {
     "name": "stdout",
     "output_type": "stream",
     "text": [
      "189.591224426 m 2520.34574302 m\n",
      "Ratio:  0.0752242921239\n"
     ]
    },
    {
     "name": "stderr",
     "output_type": "stream",
     "text": [
      "\r",
      " 56%|█████▌    | 669/1200 [02:05<01:58,  4.50it/s]"
     ]
    },
    {
     "name": "stdout",
     "output_type": "stream",
     "text": [
      "183.095362996 m 11691.4899137 m\n",
      "Ratio:  0.0156605671602\n"
     ]
    },
    {
     "name": "stderr",
     "output_type": "stream",
     "text": [
      "\r",
      " 56%|█████▌    | 670/1200 [02:05<01:55,  4.57it/s]"
     ]
    },
    {
     "name": "stdout",
     "output_type": "stream",
     "text": [
      "245.561848996 m 6157.53363483 m\n",
      "Ratio:  0.039879903799\n"
     ]
    },
    {
     "name": "stderr",
     "output_type": "stream",
     "text": [
      "\r",
      " 56%|█████▌    | 671/1200 [02:05<01:54,  4.61it/s]"
     ]
    },
    {
     "name": "stdout",
     "output_type": "stream",
     "text": [
      "250.546247148 m 4058.86912114 m\n",
      "Ratio:  0.0617280921533\n"
     ]
    },
    {
     "name": "stderr",
     "output_type": "stream",
     "text": [
      "\r",
      " 56%|█████▌    | 672/1200 [02:06<01:55,  4.58it/s]"
     ]
    },
    {
     "name": "stdout",
     "output_type": "stream",
     "text": [
      "274.374705293 m 14980.5765353 m\n",
      "Ratio:  0.0183153635407\n"
     ]
    },
    {
     "name": "stderr",
     "output_type": "stream",
     "text": [
      "\r",
      " 56%|█████▌    | 673/1200 [02:06<01:53,  4.64it/s]"
     ]
    },
    {
     "name": "stdout",
     "output_type": "stream",
     "text": [
      "249.219507629 m 567.139111124 m\n",
      "Ratio:  0.439432764804\n",
      "276.090719632 m 841.015922931 m\n",
      "Ratio:  0.328282392882\n"
     ]
    },
    {
     "name": "stderr",
     "output_type": "stream",
     "text": [
      " 56%|█████▋    | 675/1200 [02:06<01:56,  4.51it/s]"
     ]
    },
    {
     "name": "stdout",
     "output_type": "stream",
     "text": [
      "701.358094928 m 3949.99247639 m\n",
      "Ratio:  0.177559349573\n"
     ]
    },
    {
     "name": "stderr",
     "output_type": "stream",
     "text": [
      "\r",
      " 56%|█████▋    | 676/1200 [02:07<01:56,  4.51it/s]"
     ]
    },
    {
     "name": "stdout",
     "output_type": "stream",
     "text": [
      "199.061950328 m 977.009549626 m\n",
      "Ratio:  0.203746166457\n"
     ]
    },
    {
     "name": "stderr",
     "output_type": "stream",
     "text": [
      " 56%|█████▋    | 678/1200 [02:07<01:52,  4.64it/s]"
     ]
    },
    {
     "name": "stdout",
     "output_type": "stream",
     "text": [
      "175.20977872 m 292.496859167 m\n",
      "Ratio:  0.599014222646\n",
      "293.768433952 m 312.413005474 m\n",
      "Ratio:  0.940320757476\n"
     ]
    },
    {
     "name": "stderr",
     "output_type": "stream",
     "text": [
      " 57%|█████▋    | 680/1200 [02:07<01:42,  5.07it/s]"
     ]
    },
    {
     "name": "stdout",
     "output_type": "stream",
     "text": [
      "517.882714028 m 1071.11887441 m\n",
      "Ratio:  0.483496954818\n",
      "241.554410059 m 377.998045504 m\n",
      "Ratio:  0.639036135058\n"
     ]
    },
    {
     "name": "stderr",
     "output_type": "stream",
     "text": [
      " 57%|█████▋    | 682/1200 [02:08<01:38,  5.27it/s]"
     ]
    },
    {
     "name": "stdout",
     "output_type": "stream",
     "text": [
      "736.116029334 m 411.67019234 m\n",
      "Ratio:  1.78812078948\n",
      "6058.26952011 m 1111.87266318 m\n",
      "Ratio:  5.4487080407\n"
     ]
    },
    {
     "name": "stderr",
     "output_type": "stream",
     "text": [
      " 57%|█████▋    | 684/1200 [02:08<01:34,  5.44it/s]"
     ]
    },
    {
     "name": "stdout",
     "output_type": "stream",
     "text": [
      "254.839491651 m 352.442842391 m\n",
      "Ratio:  0.723066157116\n",
      "1410.7135216 m 1021.18594223 m\n",
      "Ratio:  1.38144628052\n"
     ]
    },
    {
     "name": "stderr",
     "output_type": "stream",
     "text": [
      " 57%|█████▋    | 686/1200 [02:08<01:32,  5.55it/s]"
     ]
    },
    {
     "name": "stdout",
     "output_type": "stream",
     "text": [
      "474.594363637 m 531.101057337 m\n",
      "Ratio:  0.893604629629\n",
      "668.492448292 m 314.501779799 m\n",
      "Ratio:  2.12556014379\n"
     ]
    },
    {
     "name": "stderr",
     "output_type": "stream",
     "text": [
      " 57%|█████▋    | 688/1200 [02:09<01:32,  5.51it/s]"
     ]
    },
    {
     "name": "stdout",
     "output_type": "stream",
     "text": [
      "715.655136409 m 3297.99823511 m\n",
      "Ratio:  0.21699682213\n",
      "998.696222117 m 621.94942645 m\n",
      "Ratio:  1.60575149625\n"
     ]
    },
    {
     "name": "stderr",
     "output_type": "stream",
     "text": [
      " 57%|█████▊    | 690/1200 [02:09<01:28,  5.74it/s]"
     ]
    },
    {
     "name": "stdout",
     "output_type": "stream",
     "text": [
      "2340.62292213 m 739.06464283 m\n",
      "Ratio:  3.16700703361\n",
      "581.418069214 m 648.37108511 m\n",
      "Ratio:  0.896736579663\n"
     ]
    },
    {
     "name": "stderr",
     "output_type": "stream",
     "text": [
      " 58%|█████▊    | 692/1200 [02:09<01:26,  5.91it/s]"
     ]
    },
    {
     "name": "stdout",
     "output_type": "stream",
     "text": [
      "2389.2143789 m 776.035958354 m\n",
      "Ratio:  3.07874184589\n",
      "347.109891924 m 2602.73434655 m\n",
      "Ratio:  0.133363549908\n"
     ]
    },
    {
     "name": "stderr",
     "output_type": "stream",
     "text": [
      "\r",
      " 58%|█████▊    | 693/1200 [02:10<01:25,  5.93it/s]"
     ]
    },
    {
     "name": "stdout",
     "output_type": "stream",
     "text": [
      "707.007905303 m 812.171769958 m\n",
      "Ratio:  0.870515242533\n"
     ]
    },
    {
     "name": "stderr",
     "output_type": "stream",
     "text": [
      " 58%|█████▊    | 695/1200 [02:10<01:27,  5.78it/s]"
     ]
    },
    {
     "name": "stdout",
     "output_type": "stream",
     "text": [
      "796.974596718 m 432.116624203 m\n",
      "Ratio:  1.84435069627\n",
      "238.743826089 m 1009.67744277 m\n",
      "Ratio:  0.236455541123\n"
     ]
    },
    {
     "name": "stderr",
     "output_type": "stream",
     "text": [
      " 58%|█████▊    | 697/1200 [02:10<01:25,  5.89it/s]"
     ]
    },
    {
     "name": "stdout",
     "output_type": "stream",
     "text": [
      "880.951683488 m 646.859680955 m\n",
      "Ratio:  1.36188992671\n",
      "3367.04482362 m 1364.93961314 m\n",
      "Ratio:  2.46680863477\n"
     ]
    },
    {
     "name": "stderr",
     "output_type": "stream",
     "text": [
      " 58%|█████▊    | 699/1200 [02:11<01:24,  5.93it/s]"
     ]
    },
    {
     "name": "stdout",
     "output_type": "stream",
     "text": [
      "4208.38831149 m 806.070761813 m\n",
      "Ratio:  5.22086708868\n",
      "471.502399977 m 977.601464404 m\n",
      "Ratio:  0.48230533315\n"
     ]
    },
    {
     "name": "stderr",
     "output_type": "stream",
     "text": [
      " 58%|█████▊    | 701/1200 [02:11<01:23,  6.00it/s]"
     ]
    },
    {
     "name": "stdout",
     "output_type": "stream",
     "text": [
      "786.781638065 m 1105.76565912 m\n",
      "Ratio:  0.711526562228\n",
      "3165.01129268 m 973.99419829 m\n",
      "Ratio:  3.24951760312\n"
     ]
    },
    {
     "name": "stderr",
     "output_type": "stream",
     "text": [
      " 59%|█████▊    | 703/1200 [02:11<01:21,  6.10it/s]"
     ]
    },
    {
     "name": "stdout",
     "output_type": "stream",
     "text": [
      "509.321253447 m 1273.27227922 m\n",
      "Ratio:  0.400009692945\n",
      "135.134731538 m 703.163019172 m\n",
      "Ratio:  0.19218122662\n"
     ]
    },
    {
     "name": "stderr",
     "output_type": "stream",
     "text": [
      " 59%|█████▉    | 705/1200 [02:12<01:19,  6.22it/s]"
     ]
    },
    {
     "name": "stdout",
     "output_type": "stream",
     "text": [
      "418.727673373 m 789.136536609 m\n",
      "Ratio:  0.530614987328\n",
      "418.727673373 m 239.254600001 m\n",
      "Ratio:  1.75013426438\n"
     ]
    },
    {
     "name": "stderr",
     "output_type": "stream",
     "text": [
      " 59%|█████▉    | 707/1200 [02:12<01:17,  6.33it/s]"
     ]
    },
    {
     "name": "stdout",
     "output_type": "stream",
     "text": [
      "127.345975997 m 309.946419244 m\n",
      "Ratio:  0.410864485247\n",
      "100.879780728 m 896.356346963 m\n",
      "Ratio:  0.112544281156\n"
     ]
    },
    {
     "name": "stderr",
     "output_type": "stream",
     "text": [
      " 59%|█████▉    | 709/1200 [02:12<01:15,  6.46it/s]"
     ]
    },
    {
     "name": "stdout",
     "output_type": "stream",
     "text": [
      "1522.00914905 m 834.942697523 m\n",
      "Ratio:  1.82289054514\n",
      "2539136.18712 m 148.549820793 m\n",
      "Ratio:  17092.8256498\n"
     ]
    },
    {
     "name": "stderr",
     "output_type": "stream",
     "text": [
      " 59%|█████▉    | 711/1200 [02:13<01:15,  6.49it/s]"
     ]
    },
    {
     "name": "stdout",
     "output_type": "stream",
     "text": [
      "169.495601175 m 169.495601175 m\n",
      "Ratio:  1.0\n",
      "572.730728676 m 572.730728676 m\n",
      "Ratio:  1.0\n"
     ]
    },
    {
     "name": "stderr",
     "output_type": "stream",
     "text": [
      " 59%|█████▉    | 713/1200 [02:13<01:18,  6.18it/s]"
     ]
    },
    {
     "name": "stdout",
     "output_type": "stream",
     "text": [
      "705.081476902 m 704.172556644 m\n",
      "Ratio:  1.00129076353\n",
      "167.437535453 m 167.437535453 m\n",
      "Ratio:  1.0\n"
     ]
    },
    {
     "name": "stderr",
     "output_type": "stream",
     "text": [
      " 60%|█████▉    | 715/1200 [02:13<01:18,  6.19it/s]"
     ]
    },
    {
     "name": "stdout",
     "output_type": "stream",
     "text": [
      "108.606045417 m 81.1591208084 m\n",
      "Ratio:  1.33818656899\n",
      "261.992158566 m 83.0069121307 m\n",
      "Ratio:  3.15626918097\n"
     ]
    },
    {
     "name": "stderr",
     "output_type": "stream",
     "text": [
      " 60%|█████▉    | 717/1200 [02:14<01:17,  6.24it/s]"
     ]
    },
    {
     "name": "stdout",
     "output_type": "stream",
     "text": [
      "169.258976187 m 120.288604486 m\n",
      "Ratio:  1.40710732251\n",
      "942.987583214 m 118.653342389 m\n",
      "Ratio:  7.94741693935\n"
     ]
    },
    {
     "name": "stderr",
     "output_type": "stream",
     "text": [
      " 60%|█████▉    | 719/1200 [02:14<01:18,  6.13it/s]"
     ]
    },
    {
     "name": "stdout",
     "output_type": "stream",
     "text": [
      "266.338451335 m 158.595756456 m\n",
      "Ratio:  1.67935421027\n",
      "1121.36238886 m 217.815612645 m\n",
      "Ratio:  5.14821860216\n"
     ]
    },
    {
     "name": "stderr",
     "output_type": "stream",
     "text": [
      " 60%|██████    | 721/1200 [02:14<01:19,  6.01it/s]"
     ]
    },
    {
     "name": "stdout",
     "output_type": "stream",
     "text": [
      "478.849815286 m 115.52680948 m\n",
      "Ratio:  4.14492374056\n",
      "320.869410475 m 209.387745952 m\n",
      "Ratio:  1.53241732947\n"
     ]
    },
    {
     "name": "stderr",
     "output_type": "stream",
     "text": [
      " 60%|██████    | 723/1200 [02:15<01:21,  5.82it/s]"
     ]
    },
    {
     "name": "stdout",
     "output_type": "stream",
     "text": [
      "301.482736446 m 403.454103771 m\n",
      "Ratio:  0.747254108032\n",
      "261.929803355 m 485.171484431 m\n",
      "Ratio:  0.539870564862\n"
     ]
    },
    {
     "name": "stderr",
     "output_type": "stream",
     "text": [
      " 60%|██████    | 725/1200 [02:15<01:23,  5.69it/s]"
     ]
    },
    {
     "name": "stdout",
     "output_type": "stream",
     "text": [
      "262.231873148 m 316.748787893 m\n",
      "Ratio:  0.827885956226\n",
      "249.099874008 m 1117.20576987 m\n",
      "Ratio:  0.222966870317\n"
     ]
    },
    {
     "name": "stderr",
     "output_type": "stream",
     "text": [
      " 61%|██████    | 727/1200 [02:15<01:22,  5.76it/s]"
     ]
    },
    {
     "name": "stdout",
     "output_type": "stream",
     "text": [
      "251.958880144 m 443.532384482 m\n",
      "Ratio:  0.568073243262\n",
      "288.622383719 m 320.452923833 m\n",
      "Ratio:  0.900670152317\n"
     ]
    },
    {
     "name": "stderr",
     "output_type": "stream",
     "text": [
      " 61%|██████    | 729/1200 [02:16<01:21,  5.76it/s]"
     ]
    },
    {
     "name": "stdout",
     "output_type": "stream",
     "text": [
      "327.939736572 m 1808.56310847 m\n",
      "Ratio:  0.181326122951\n",
      "341.562437884 m 290.418747397 m\n",
      "Ratio:  1.17610326794\n"
     ]
    },
    {
     "name": "stderr",
     "output_type": "stream",
     "text": [
      " 61%|██████    | 731/1200 [02:16<01:30,  5.20it/s]"
     ]
    },
    {
     "name": "stdout",
     "output_type": "stream",
     "text": [
      "366.92134577 m 144.317790517 m\n",
      "Ratio:  2.54245401386\n",
      "331.165661345 m 192.135333728 m\n",
      "Ratio:  1.72360624628\n"
     ]
    },
    {
     "name": "stderr",
     "output_type": "stream",
     "text": [
      "\r",
      " 61%|██████    | 732/1200 [02:16<01:31,  5.10it/s]"
     ]
    },
    {
     "name": "stdout",
     "output_type": "stream",
     "text": [
      "361.502394397 m 320.135932503 m\n",
      "Ratio:  1.12921530417\n"
     ]
    },
    {
     "name": "stderr",
     "output_type": "stream",
     "text": [
      " 61%|██████    | 734/1200 [02:17<01:31,  5.09it/s]"
     ]
    },
    {
     "name": "stdout",
     "output_type": "stream",
     "text": [
      "300.81054814 m 941.078399048 m\n",
      "Ratio:  0.31964451468\n",
      "280.14859123 m 463.227370326 m\n",
      "Ratio:  0.604775557699\n"
     ]
    },
    {
     "name": "stderr",
     "output_type": "stream",
     "text": [
      " 61%|██████▏   | 736/1200 [02:17<01:26,  5.36it/s]"
     ]
    },
    {
     "name": "stdout",
     "output_type": "stream",
     "text": [
      "258.496089102 m 5374.39176213 m\n",
      "Ratio:  0.0480977384127\n",
      "249.186548657 m 728.369580643 m\n",
      "Ratio:  0.34211553486\n"
     ]
    },
    {
     "name": "stderr",
     "output_type": "stream",
     "text": [
      " 62%|██████▏   | 738/1200 [02:17<01:24,  5.49it/s]"
     ]
    },
    {
     "name": "stdout",
     "output_type": "stream",
     "text": [
      "229.563835288 m 406.923220778 m\n",
      "Ratio:  0.564145331518\n",
      "225.41351562 m 390.113960052 m\n",
      "Ratio:  0.577814532937\n"
     ]
    },
    {
     "name": "stderr",
     "output_type": "stream",
     "text": [
      " 62%|██████▏   | 740/1200 [02:18<01:25,  5.38it/s]"
     ]
    },
    {
     "name": "stdout",
     "output_type": "stream",
     "text": [
      "174.330359324 m 290.666355657 m\n",
      "Ratio:  0.599761052255\n",
      "216.129498558 m 284.609006903 m\n",
      "Ratio:  0.759390930419\n"
     ]
    },
    {
     "name": "stderr",
     "output_type": "stream",
     "text": [
      " 62%|██████▏   | 742/1200 [02:18<01:21,  5.61it/s]"
     ]
    },
    {
     "name": "stdout",
     "output_type": "stream",
     "text": [
      "180.529019321 m 291.208457103 m\n",
      "Ratio:  0.619930551184\n",
      "166.270698972 m 322.73139884 m\n",
      "Ratio:  0.515198395847\n"
     ]
    },
    {
     "name": "stderr",
     "output_type": "stream",
     "text": [
      " 62%|██████▏   | 744/1200 [02:18<01:20,  5.67it/s]"
     ]
    },
    {
     "name": "stdout",
     "output_type": "stream",
     "text": [
      "165.093204758 m 312.339171515 m\n",
      "Ratio:  0.528570284531\n",
      "168.834656641 m 283.890015856 m\n",
      "Ratio:  0.594718543138\n"
     ]
    },
    {
     "name": "stderr",
     "output_type": "stream",
     "text": [
      "\r",
      " 62%|██████▏   | 745/1200 [02:19<01:19,  5.72it/s]"
     ]
    },
    {
     "name": "stdout",
     "output_type": "stream",
     "text": [
      "153.290130494 m 231.872849688 m\n",
      "Ratio:  0.661095642289\n"
     ]
    },
    {
     "name": "stderr",
     "output_type": "stream",
     "text": [
      " 62%|██████▏   | 747/1200 [02:19<01:22,  5.46it/s]"
     ]
    },
    {
     "name": "stdout",
     "output_type": "stream",
     "text": [
      "232.214076695 m 228.367389316 m\n",
      "Ratio:  1.01684429371\n",
      "205.969969657 m 220.866199803 m\n",
      "Ratio:  0.932555410654\n"
     ]
    },
    {
     "name": "stderr",
     "output_type": "stream",
     "text": [
      " 62%|██████▏   | 749/1200 [02:19<01:20,  5.62it/s]"
     ]
    },
    {
     "name": "stdout",
     "output_type": "stream",
     "text": [
      "230.241887296 m 213.178340513 m\n",
      "Ratio:  1.08004352948\n",
      "277.935836864 m 229.265917331 m\n",
      "Ratio:  1.21228589098\n"
     ]
    },
    {
     "name": "stderr",
     "output_type": "stream",
     "text": [
      " 63%|██████▎   | 751/1200 [02:20<01:19,  5.62it/s]"
     ]
    },
    {
     "name": "stdout",
     "output_type": "stream",
     "text": [
      "3772.89214257 m 196.192857342 m\n",
      "Ratio:  19.2305275211\n",
      "423.090507616 m 178.411915201 m\n",
      "Ratio:  2.37142517718\n"
     ]
    },
    {
     "name": "stderr",
     "output_type": "stream",
     "text": [
      " 63%|██████▎   | 753/1200 [02:20<01:20,  5.57it/s]"
     ]
    },
    {
     "name": "stdout",
     "output_type": "stream",
     "text": [
      "554.996316596 m 217.047599132 m\n",
      "Ratio:  2.55702582666\n",
      "456.965835422 m 406.726313926 m\n",
      "Ratio:  1.12352168959\n"
     ]
    },
    {
     "name": "stderr",
     "output_type": "stream",
     "text": [
      " 63%|██████▎   | 755/1200 [02:20<01:19,  5.57it/s]"
     ]
    },
    {
     "name": "stdout",
     "output_type": "stream",
     "text": [
      "390.482523884 m 217.618296969 m\n",
      "Ratio:  1.79434601466\n",
      "553.131952465 m 476.410270407 m\n",
      "Ratio:  1.16104120088\n"
     ]
    },
    {
     "name": "stderr",
     "output_type": "stream",
     "text": [
      "\r",
      " 63%|██████▎   | 756/1200 [02:21<01:20,  5.50it/s]"
     ]
    },
    {
     "name": "stdout",
     "output_type": "stream",
     "text": [
      "420.240461033 m 338.345135739 m\n",
      "Ratio:  1.2420467051\n"
     ]
    },
    {
     "name": "stderr",
     "output_type": "stream",
     "text": [
      " 63%|██████▎   | 758/1200 [02:21<01:21,  5.41it/s]"
     ]
    },
    {
     "name": "stdout",
     "output_type": "stream",
     "text": [
      "563.259150696 m 478.462513617 m\n",
      "Ratio:  1.17722733687\n",
      "261.198007635 m 221.786775956 m\n",
      "Ratio:  1.1776987447\n"
     ]
    },
    {
     "name": "stderr",
     "output_type": "stream",
     "text": [
      " 63%|██████▎   | 760/1200 [02:21<01:21,  5.38it/s]"
     ]
    },
    {
     "name": "stdout",
     "output_type": "stream",
     "text": [
      "184.266695811 m 222.642937557 m\n",
      "Ratio:  0.827633240169\n",
      "124.261570853 m 294.66396409 m\n",
      "Ratio:  0.421706031263\n"
     ]
    },
    {
     "name": "stderr",
     "output_type": "stream",
     "text": [
      "\r",
      " 63%|██████▎   | 761/1200 [02:22<01:22,  5.32it/s]"
     ]
    },
    {
     "name": "stdout",
     "output_type": "stream",
     "text": [
      "118.340214938 m 181.480237549 m\n",
      "Ratio:  0.65208320496\n"
     ]
    },
    {
     "name": "stderr",
     "output_type": "stream",
     "text": [
      "\r",
      " 64%|██████▎   | 762/1200 [02:22<01:31,  4.79it/s]"
     ]
    },
    {
     "name": "stdout",
     "output_type": "stream",
     "text": [
      "104.07959244 m 168.458153561 m\n",
      "Ratio:  0.617836478908\n",
      "310.443847124 m 156.971748143 m\n",
      "Ratio:  1.9777052291\n"
     ]
    },
    {
     "name": "stderr",
     "output_type": "stream",
     "text": [
      " 64%|██████▍   | 765/1200 [02:22<01:28,  4.92it/s]"
     ]
    },
    {
     "name": "stdout",
     "output_type": "stream",
     "text": [
      "121.84105008 m 86.9676141123 m\n",
      "Ratio:  1.40099336199\n",
      "290.567070178 m 136.931807847 m\n",
      "Ratio:  2.1219837432\n"
     ]
    },
    {
     "name": "stderr",
     "output_type": "stream",
     "text": [
      "\r",
      " 64%|██████▍   | 766/1200 [02:23<01:28,  4.88it/s]"
     ]
    },
    {
     "name": "stdout",
     "output_type": "stream",
     "text": [
      "170.429598174 m 132.638718156 m\n",
      "Ratio:  1.28491590196\n"
     ]
    },
    {
     "name": "stderr",
     "output_type": "stream",
     "text": [
      "\r",
      " 64%|██████▍   | 767/1200 [02:23<01:32,  4.70it/s]"
     ]
    },
    {
     "name": "stdout",
     "output_type": "stream",
     "text": [
      "198.28266926 m 115.08197981 m\n",
      "Ratio:  1.72296887477\n"
     ]
    },
    {
     "name": "stderr",
     "output_type": "stream",
     "text": [
      "\r",
      " 64%|██████▍   | 768/1200 [02:23<01:34,  4.57it/s]"
     ]
    },
    {
     "name": "stdout",
     "output_type": "stream",
     "text": [
      "300.754698604 m 78.0375640524 m\n",
      "Ratio:  3.85397343261\n"
     ]
    },
    {
     "name": "stderr",
     "output_type": "stream",
     "text": [
      " 64%|██████▍   | 770/1200 [02:23<01:33,  4.59it/s]"
     ]
    },
    {
     "name": "stdout",
     "output_type": "stream",
     "text": [
      "267.067641015 m 79.2761310392 m\n",
      "Ratio:  3.36882788696\n",
      "309.725840704 m 79.8860865243 m\n",
      "Ratio:  3.87709367401\n"
     ]
    },
    {
     "name": "stderr",
     "output_type": "stream",
     "text": [
      "\r",
      " 64%|██████▍   | 771/1200 [02:24<01:35,  4.49it/s]"
     ]
    },
    {
     "name": "stdout",
     "output_type": "stream",
     "text": [
      "345.216530596 m 84.732563314 m\n",
      "Ratio:  4.07418962785\n"
     ]
    },
    {
     "name": "stderr",
     "output_type": "stream",
     "text": [
      "\r",
      " 64%|██████▍   | 772/1200 [02:24<01:35,  4.48it/s]"
     ]
    },
    {
     "name": "stdout",
     "output_type": "stream",
     "text": [
      "271.588899532 m 83.1504053355 m\n",
      "Ratio:  3.26623662791\n"
     ]
    },
    {
     "name": "stderr",
     "output_type": "stream",
     "text": [
      "\r",
      " 64%|██████▍   | 773/1200 [02:24<01:37,  4.37it/s]"
     ]
    },
    {
     "name": "stdout",
     "output_type": "stream",
     "text": [
      "487.762661478 m 89.9218995871 m\n",
      "Ratio:  5.42429223268\n"
     ]
    },
    {
     "name": "stderr",
     "output_type": "stream",
     "text": [
      "\r",
      " 64%|██████▍   | 774/1200 [02:24<01:36,  4.40it/s]"
     ]
    },
    {
     "name": "stdout",
     "output_type": "stream",
     "text": [
      "314.816998152 m 97.7849804062 m\n",
      "Ratio:  3.21948214178\n"
     ]
    },
    {
     "name": "stderr",
     "output_type": "stream",
     "text": [
      "\r",
      " 65%|██████▍   | 775/1200 [02:25<01:38,  4.33it/s]"
     ]
    },
    {
     "name": "stdout",
     "output_type": "stream",
     "text": [
      "324.332478563 m 100.248382529 m\n",
      "Ratio:  3.23528889326\n"
     ]
    },
    {
     "name": "stderr",
     "output_type": "stream",
     "text": [
      "\r",
      " 65%|██████▍   | 776/1200 [02:25<01:41,  4.18it/s]"
     ]
    },
    {
     "name": "stdout",
     "output_type": "stream",
     "text": [
      "386.530506819 m 119.197424299 m\n",
      "Ratio:  3.24277566477\n"
     ]
    },
    {
     "name": "stderr",
     "output_type": "stream",
     "text": [
      "\r",
      " 65%|██████▍   | 777/1200 [02:25<01:38,  4.27it/s]"
     ]
    },
    {
     "name": "stdout",
     "output_type": "stream",
     "text": [
      "336.412590566 m 138.467847227 m\n",
      "Ratio:  2.42953578974\n"
     ]
    },
    {
     "name": "stderr",
     "output_type": "stream",
     "text": [
      "\r",
      " 65%|██████▍   | 778/1200 [02:25<01:36,  4.36it/s]"
     ]
    },
    {
     "name": "stdout",
     "output_type": "stream",
     "text": [
      "574.731340106 m 146.065024555 m\n",
      "Ratio:  3.93476358806\n",
      "527.028839861 m 250.964491699 m\n",
      "Ratio:  2.10001357679\n"
     ]
    },
    {
     "name": "stderr",
     "output_type": "stream",
     "text": [
      " 65%|██████▌   | 780/1200 [02:26<01:31,  4.58it/s]"
     ]
    },
    {
     "name": "stdout",
     "output_type": "stream",
     "text": [
      "361.129918465 m 189.483657116 m\n",
      "Ratio:  1.90586314387\n"
     ]
    },
    {
     "name": "stderr",
     "output_type": "stream",
     "text": [
      "\r",
      " 65%|██████▌   | 781/1200 [02:26<01:32,  4.55it/s]"
     ]
    },
    {
     "name": "stdout",
     "output_type": "stream",
     "text": [
      "315.243752675 m 265.345229749 m\n",
      "Ratio:  1.18805132835\n"
     ]
    },
    {
     "name": "stderr",
     "output_type": "stream",
     "text": [
      "\r",
      " 65%|██████▌   | 782/1200 [02:26<01:34,  4.43it/s]"
     ]
    },
    {
     "name": "stdout",
     "output_type": "stream",
     "text": [
      "539.028028655 m 312.413380713 m\n",
      "Ratio:  1.72536793214\n"
     ]
    },
    {
     "name": "stderr",
     "output_type": "stream",
     "text": [
      "\r",
      " 65%|██████▌   | 783/1200 [02:26<01:32,  4.49it/s]"
     ]
    },
    {
     "name": "stdout",
     "output_type": "stream",
     "text": [
      "441.286678021 m 399.681917951 m\n",
      "Ratio:  1.1040946768\n"
     ]
    },
    {
     "name": "stderr",
     "output_type": "stream",
     "text": [
      "\r",
      " 65%|██████▌   | 784/1200 [02:27<01:34,  4.41it/s]"
     ]
    },
    {
     "name": "stdout",
     "output_type": "stream",
     "text": [
      "397.775881504 m 567.395430772 m\n",
      "Ratio:  0.701055842066\n"
     ]
    },
    {
     "name": "stderr",
     "output_type": "stream",
     "text": [
      "\r",
      " 65%|██████▌   | 785/1200 [02:27<01:32,  4.47it/s]"
     ]
    },
    {
     "name": "stdout",
     "output_type": "stream",
     "text": [
      "493.744901632 m 944.205026889 m\n",
      "Ratio:  0.522921280412\n"
     ]
    },
    {
     "name": "stderr",
     "output_type": "stream",
     "text": [
      "\r",
      " 66%|██████▌   | 786/1200 [02:27<01:30,  4.58it/s]"
     ]
    },
    {
     "name": "stdout",
     "output_type": "stream",
     "text": [
      "433.638203475 m 2390.53981456 m\n",
      "Ratio:  0.181397607701\n"
     ]
    },
    {
     "name": "stderr",
     "output_type": "stream",
     "text": [
      "\r",
      " 66%|██████▌   | 787/1200 [02:27<01:28,  4.66it/s]"
     ]
    },
    {
     "name": "stdout",
     "output_type": "stream",
     "text": [
      "549.539864483 m 2147.60920841 m\n",
      "Ratio:  0.255884479509\n"
     ]
    },
    {
     "name": "stderr",
     "output_type": "stream",
     "text": [
      "\r",
      " 66%|██████▌   | 788/1200 [02:28<01:29,  4.58it/s]"
     ]
    },
    {
     "name": "stdout",
     "output_type": "stream",
     "text": [
      "601.156478266 m 283.541834161 m\n",
      "Ratio:  2.12016854601\n"
     ]
    },
    {
     "name": "stderr",
     "output_type": "stream",
     "text": [
      "\r",
      " 66%|██████▌   | 789/1200 [02:28<01:33,  4.40it/s]"
     ]
    },
    {
     "name": "stdout",
     "output_type": "stream",
     "text": [
      "362.563373704 m 1127.27047171 m\n",
      "Ratio:  0.321629442802\n"
     ]
    },
    {
     "name": "stderr",
     "output_type": "stream",
     "text": [
      "\r",
      " 66%|██████▌   | 790/1200 [02:28<01:32,  4.43it/s]"
     ]
    },
    {
     "name": "stdout",
     "output_type": "stream",
     "text": [
      "288.981406723 m 159.900378143 m\n",
      "Ratio:  1.80725905767\n"
     ]
    },
    {
     "name": "stderr",
     "output_type": "stream",
     "text": [
      "\r",
      " 66%|██████▌   | 791/1200 [02:28<01:30,  4.51it/s]"
     ]
    },
    {
     "name": "stdout",
     "output_type": "stream",
     "text": [
      "385.143169276 m 104.390253011 m\n",
      "Ratio:  3.6894552716\n"
     ]
    },
    {
     "name": "stderr",
     "output_type": "stream",
     "text": [
      "\r",
      " 66%|██████▌   | 792/1200 [02:28<01:28,  4.59it/s]"
     ]
    },
    {
     "name": "stdout",
     "output_type": "stream",
     "text": [
      "299.097263673 m 82.0753093894 m\n",
      "Ratio:  3.64418076396\n"
     ]
    },
    {
     "name": "stderr",
     "output_type": "stream",
     "text": [
      "\r",
      " 66%|██████▌   | 793/1200 [02:29<01:31,  4.45it/s]"
     ]
    },
    {
     "name": "stdout",
     "output_type": "stream",
     "text": [
      "458.8589269 m 374.316608068 m\n",
      "Ratio:  1.22585778191\n"
     ]
    },
    {
     "name": "stderr",
     "output_type": "stream",
     "text": [
      "\r",
      " 66%|██████▌   | 794/1200 [02:29<01:31,  4.44it/s]"
     ]
    },
    {
     "name": "stdout",
     "output_type": "stream",
     "text": [
      "2093.09767459 m 389.855569749 m\n",
      "Ratio:  5.36890540242\n"
     ]
    },
    {
     "name": "stderr",
     "output_type": "stream",
     "text": [
      "\r",
      " 66%|██████▋   | 795/1200 [02:29<01:28,  4.55it/s]"
     ]
    },
    {
     "name": "stdout",
     "output_type": "stream",
     "text": [
      "460.316425153 m 295.720940512 m\n",
      "Ratio:  1.55659056256\n"
     ]
    },
    {
     "name": "stderr",
     "output_type": "stream",
     "text": [
      "\r",
      " 66%|██████▋   | 796/1200 [02:29<01:29,  4.53it/s]"
     ]
    },
    {
     "name": "stdout",
     "output_type": "stream",
     "text": [
      "340.667043048 m 566.347950259 m\n",
      "Ratio:  0.601515451574\n"
     ]
    },
    {
     "name": "stderr",
     "output_type": "stream",
     "text": [
      "\r",
      " 66%|██████▋   | 797/1200 [02:30<01:27,  4.62it/s]"
     ]
    },
    {
     "name": "stdout",
     "output_type": "stream",
     "text": [
      "357.229835749 m 305.861011369 m\n",
      "Ratio:  1.16794825908\n"
     ]
    },
    {
     "name": "stderr",
     "output_type": "stream",
     "text": [
      "\r",
      " 66%|██████▋   | 798/1200 [02:30<01:32,  4.35it/s]"
     ]
    },
    {
     "name": "stdout",
     "output_type": "stream",
     "text": [
      "257.746132249 m 259.961980619 m\n",
      "Ratio:  0.991476259859\n"
     ]
    },
    {
     "name": "stderr",
     "output_type": "stream",
     "text": [
      " 67%|██████▋   | 800/1200 [02:30<01:26,  4.63it/s]"
     ]
    },
    {
     "name": "stdout",
     "output_type": "stream",
     "text": [
      "562.741832245 m 203.631996442 m\n",
      "Ratio:  2.76352362143\n",
      "1201.6103461 m 180.234399562 m\n",
      "Ratio:  6.66693122409\n"
     ]
    },
    {
     "name": "stderr",
     "output_type": "stream",
     "text": [
      " 67%|██████▋   | 802/1200 [02:31<01:20,  4.94it/s]"
     ]
    },
    {
     "name": "stdout",
     "output_type": "stream",
     "text": [
      "1480.14523058 m 158.697790598 m\n",
      "Ratio:  9.32681687001\n",
      "286.977655137 m 142.526314939 m\n",
      "Ratio:  2.013506455\n"
     ]
    },
    {
     "name": "stderr",
     "output_type": "stream",
     "text": [
      "\r",
      " 67%|██████▋   | 803/1200 [02:31<01:30,  4.38it/s]"
     ]
    },
    {
     "name": "stdout",
     "output_type": "stream",
     "text": [
      "263.751818668 m 126.825726323 m\n",
      "Ratio:  2.07963972542\n"
     ]
    },
    {
     "name": "stderr",
     "output_type": "stream",
     "text": [
      "\r",
      " 67%|██████▋   | 804/1200 [02:31<01:31,  4.31it/s]"
     ]
    },
    {
     "name": "stdout",
     "output_type": "stream",
     "text": [
      "193.889855893 m 122.365987479 m\n",
      "Ratio:  1.58450775323\n"
     ]
    },
    {
     "name": "stderr",
     "output_type": "stream",
     "text": [
      "\r",
      " 67%|██████▋   | 805/1200 [02:31<01:30,  4.35it/s]"
     ]
    },
    {
     "name": "stdout",
     "output_type": "stream",
     "text": [
      "269.42791118 m 120.689956586 m\n",
      "Ratio:  2.23239711738\n"
     ]
    },
    {
     "name": "stderr",
     "output_type": "stream",
     "text": [
      "\r",
      " 67%|██████▋   | 806/1200 [02:32<01:27,  4.48it/s]"
     ]
    },
    {
     "name": "stdout",
     "output_type": "stream",
     "text": [
      "582.906522935 m 126.279110448 m\n",
      "Ratio:  4.61601701872\n"
     ]
    },
    {
     "name": "stderr",
     "output_type": "stream",
     "text": [
      "\r",
      " 67%|██████▋   | 807/1200 [02:32<01:25,  4.58it/s]"
     ]
    },
    {
     "name": "stdout",
     "output_type": "stream",
     "text": [
      "370.844380944 m 127.150114257 m\n",
      "Ratio:  2.91658708378\n"
     ]
    },
    {
     "name": "stderr",
     "output_type": "stream",
     "text": [
      "\r",
      " 67%|██████▋   | 808/1200 [02:32<01:27,  4.51it/s]"
     ]
    },
    {
     "name": "stdout",
     "output_type": "stream",
     "text": [
      "147.371300926 m 120.770374327 m\n",
      "Ratio:  1.22026036391\n"
     ]
    },
    {
     "name": "stderr",
     "output_type": "stream",
     "text": [
      "\r",
      " 67%|██████▋   | 809/1200 [02:32<01:24,  4.60it/s]"
     ]
    },
    {
     "name": "stdout",
     "output_type": "stream",
     "text": [
      "8206.13548011 m 115.386044173 m\n",
      "Ratio:  71.1189601733\n",
      "686.981156454 m 116.383185064 m\n",
      "Ratio:  5.90275267063\n"
     ]
    },
    {
     "name": "stderr",
     "output_type": "stream",
     "text": [
      " 68%|██████▊   | 811/1200 [02:33<01:20,  4.82it/s]"
     ]
    },
    {
     "name": "stdout",
     "output_type": "stream",
     "text": [
      "107.644849624 m 114.634033061 m\n",
      "Ratio:  0.939030467215\n"
     ]
    },
    {
     "name": "stderr",
     "output_type": "stream",
     "text": [
      " 68%|██████▊   | 813/1200 [02:33<01:20,  4.82it/s]"
     ]
    },
    {
     "name": "stdout",
     "output_type": "stream",
     "text": [
      "175.260876924 m 139.135541244 m\n",
      "Ratio:  1.25964132066\n",
      "321.440210988 m 143.568275864 m\n",
      "Ratio:  2.23893620686\n"
     ]
    },
    {
     "name": "stderr",
     "output_type": "stream",
     "text": [
      " 68%|██████▊   | 815/1200 [02:33<01:15,  5.07it/s]"
     ]
    },
    {
     "name": "stdout",
     "output_type": "stream",
     "text": [
      "71.2557501029 m 108.984660386 m\n",
      "Ratio:  0.653814489583\n",
      "85.5025406908 m 107.003733976 m\n",
      "Ratio:  0.799061280516\n"
     ]
    },
    {
     "name": "stderr",
     "output_type": "stream",
     "text": [
      "\r",
      " 68%|██████▊   | 816/1200 [02:34<01:18,  4.91it/s]"
     ]
    },
    {
     "name": "stdout",
     "output_type": "stream",
     "text": [
      "458.743565612 m 4957.07823347 m\n",
      "Ratio:  0.0925431360986\n"
     ]
    },
    {
     "name": "stderr",
     "output_type": "stream",
     "text": [
      "\r",
      " 68%|██████▊   | 817/1200 [02:34<01:29,  4.29it/s]"
     ]
    },
    {
     "name": "stdout",
     "output_type": "stream",
     "text": [
      "17171.3057877 m 1735.59341838 m\n",
      "Ratio:  9.89362232293\n"
     ]
    },
    {
     "name": "stderr",
     "output_type": "stream",
     "text": [
      "\r",
      " 68%|██████▊   | 818/1200 [02:34<01:28,  4.30it/s]"
     ]
    },
    {
     "name": "stdout",
     "output_type": "stream",
     "text": [
      "43942.584028 m 1570.17334445 m\n",
      "Ratio:  27.9858170968\n"
     ]
    },
    {
     "name": "stderr",
     "output_type": "stream",
     "text": [
      "\r",
      " 68%|██████▊   | 819/1200 [02:34<01:29,  4.24it/s]"
     ]
    },
    {
     "name": "stdout",
     "output_type": "stream",
     "text": [
      "20871.2624357 m 2968.78690501 m\n",
      "Ratio:  7.03023258438\n"
     ]
    },
    {
     "name": "stderr",
     "output_type": "stream",
     "text": [
      "\r",
      " 68%|██████▊   | 820/1200 [02:35<01:35,  3.99it/s]"
     ]
    },
    {
     "name": "stdout",
     "output_type": "stream",
     "text": [
      "693.529910974 m 1673.4274368 m\n",
      "Ratio:  0.414436799424\n"
     ]
    },
    {
     "name": "stderr",
     "output_type": "stream",
     "text": [
      "\r",
      " 68%|██████▊   | 821/1200 [02:35<01:30,  4.18it/s]"
     ]
    },
    {
     "name": "stdout",
     "output_type": "stream",
     "text": [
      "212.14228198 m 3775.82098294 m\n",
      "Ratio:  0.0561844120624\n"
     ]
    },
    {
     "name": "stderr",
     "output_type": "stream",
     "text": [
      "\r",
      " 68%|██████▊   | 822/1200 [02:35<01:27,  4.30it/s]"
     ]
    },
    {
     "name": "stdout",
     "output_type": "stream",
     "text": [
      "1689.4651819 m 303.996729339 m\n",
      "Ratio:  5.55751104816\n"
     ]
    },
    {
     "name": "stderr",
     "output_type": "stream",
     "text": [
      " 69%|██████▊   | 824/1200 [02:35<01:20,  4.68it/s]"
     ]
    },
    {
     "name": "stdout",
     "output_type": "stream",
     "text": [
      "247.653516582 m 286.845469464 m\n",
      "Ratio:  0.863369106178\n",
      "138.479356899 m 359.550177376 m\n",
      "Ratio:  0.385146123164\n"
     ]
    },
    {
     "name": "stderr",
     "output_type": "stream",
     "text": [
      "\r",
      " 69%|██████▉   | 825/1200 [02:36<01:22,  4.56it/s]"
     ]
    },
    {
     "name": "stdout",
     "output_type": "stream",
     "text": [
      "269.894050066 m 344.135429443 m\n",
      "Ratio:  0.784266968683\n"
     ]
    },
    {
     "name": "stderr",
     "output_type": "stream",
     "text": [
      " 69%|██████▉   | 827/1200 [02:36<01:18,  4.74it/s]"
     ]
    },
    {
     "name": "stdout",
     "output_type": "stream",
     "text": [
      "92.3412854829 m 295.653362366 m\n",
      "Ratio:  0.312329563053\n",
      "87.9954789947 m 247.751560743 m\n",
      "Ratio:  0.355176285191\n"
     ]
    },
    {
     "name": "stderr",
     "output_type": "stream",
     "text": [
      " 69%|██████▉   | 829/1200 [02:37<01:12,  5.09it/s]"
     ]
    },
    {
     "name": "stdout",
     "output_type": "stream",
     "text": [
      "2784.0452477 m 341.192748233 m\n",
      "Ratio:  8.15974331846\n",
      "68.3115377874 m 503.655201989 m\n",
      "Ratio:  0.135631554122\n"
     ]
    },
    {
     "name": "stderr",
     "output_type": "stream",
     "text": [
      " 69%|██████▉   | 831/1200 [02:37<01:14,  4.96it/s]"
     ]
    },
    {
     "name": "stdout",
     "output_type": "stream",
     "text": [
      "141.362406886 m 6863.95102237 m\n",
      "Ratio:  0.0205949032016\n",
      "183.482496385 m 7573.39675499 m\n",
      "Ratio:  0.0242272394173\n"
     ]
    },
    {
     "name": "stderr",
     "output_type": "stream",
     "text": [
      " 69%|██████▉   | 833/1200 [02:37<01:08,  5.39it/s]"
     ]
    },
    {
     "name": "stdout",
     "output_type": "stream",
     "text": [
      "65.7465093509 m 941.04675378 m\n",
      "Ratio:  0.0698652953073\n",
      "518.145348242 m 1181.47882132 m\n",
      "Ratio:  0.438556611336\n"
     ]
    },
    {
     "name": "stderr",
     "output_type": "stream",
     "text": [
      " 70%|██████▉   | 835/1200 [02:38<01:06,  5.47it/s]"
     ]
    },
    {
     "name": "stdout",
     "output_type": "stream",
     "text": [
      "1173.29839026 m 907.878291857 m\n",
      "Ratio:  1.29235207051\n",
      "720.644848296 m 42551.1864504 m\n",
      "Ratio:  0.0169359519302\n"
     ]
    },
    {
     "name": "stderr",
     "output_type": "stream",
     "text": [
      " 70%|██████▉   | 837/1200 [02:38<01:04,  5.60it/s]"
     ]
    },
    {
     "name": "stdout",
     "output_type": "stream",
     "text": [
      "5887.95485438 m 20767.3545319 m\n",
      "Ratio:  0.28351973504\n",
      "1049.31081388 m 4214.14338101 m\n",
      "Ratio:  0.248997416322\n"
     ]
    },
    {
     "name": "stderr",
     "output_type": "stream",
     "text": [
      " 70%|██████▉   | 839/1200 [02:38<01:03,  5.65it/s]"
     ]
    },
    {
     "name": "stdout",
     "output_type": "stream",
     "text": [
      "317.054717359 m 1192.43084779 m\n",
      "Ratio:  0.265889395554\n",
      "383.206228965 m 857.900473731 m\n",
      "Ratio:  0.446679120363\n"
     ]
    },
    {
     "name": "stderr",
     "output_type": "stream",
     "text": [
      " 70%|███████   | 841/1200 [02:39<01:05,  5.46it/s]"
     ]
    },
    {
     "name": "stdout",
     "output_type": "stream",
     "text": [
      "604.1226992 m 863.36632113 m\n",
      "Ratio:  0.69972928572\n",
      "431.368985375 m 886.783057526 m\n",
      "Ratio:  0.486442520202\n"
     ]
    },
    {
     "name": "stderr",
     "output_type": "stream",
     "text": [
      " 70%|███████   | 843/1200 [02:39<01:05,  5.45it/s]"
     ]
    },
    {
     "name": "stdout",
     "output_type": "stream",
     "text": [
      "447.34181719 m 934.237724835 m\n",
      "Ratio:  0.478830821425\n",
      "486.376937839 m 906.502166546 m\n",
      "Ratio:  0.536542499057\n"
     ]
    },
    {
     "name": "stderr",
     "output_type": "stream",
     "text": [
      " 70%|███████   | 845/1200 [02:39<01:05,  5.44it/s]"
     ]
    },
    {
     "name": "stdout",
     "output_type": "stream",
     "text": [
      "827.080756064 m 867.216235222 m\n",
      "Ratio:  0.953719179222\n",
      "1477.49600764 m 1168.33713496 m\n",
      "Ratio:  1.26461443657\n"
     ]
    },
    {
     "name": "stderr",
     "output_type": "stream",
     "text": [
      "\r",
      " 70%|███████   | 846/1200 [02:40<01:09,  5.13it/s]"
     ]
    },
    {
     "name": "stdout",
     "output_type": "stream",
     "text": [
      "20420.1281503 m 1715.7749357 m\n",
      "Ratio:  11.9014025239\n"
     ]
    },
    {
     "name": "stderr",
     "output_type": "stream",
     "text": [
      " 71%|███████   | 848/1200 [02:40<01:10,  4.98it/s]"
     ]
    },
    {
     "name": "stdout",
     "output_type": "stream",
     "text": [
      "978.844289881 m 3094.91590962 m\n",
      "Ratio:  0.316274922637\n",
      "309.222101763 m 1037.20068361 m\n",
      "Ratio:  0.298131409524\n"
     ]
    },
    {
     "name": "stderr",
     "output_type": "stream",
     "text": [
      "\r",
      " 71%|███████   | 849/1200 [02:40<01:11,  4.91it/s]"
     ]
    },
    {
     "name": "stdout",
     "output_type": "stream",
     "text": [
      "1429.02906753 m 924.45231411 m\n",
      "Ratio:  1.5458115532\n"
     ]
    },
    {
     "name": "stderr",
     "output_type": "stream",
     "text": [
      "\r",
      " 71%|███████   | 850/1200 [02:41<01:12,  4.80it/s]"
     ]
    },
    {
     "name": "stdout",
     "output_type": "stream",
     "text": [
      "1037.52906192 m 883.646193141 m\n",
      "Ratio:  1.1741453423\n"
     ]
    },
    {
     "name": "stderr",
     "output_type": "stream",
     "text": [
      "\r",
      " 71%|███████   | 851/1200 [02:41<01:13,  4.78it/s]"
     ]
    },
    {
     "name": "stdout",
     "output_type": "stream",
     "text": [
      "1105.82993307 m 810.98221457 m\n",
      "Ratio:  1.3635686618\n"
     ]
    },
    {
     "name": "stderr",
     "output_type": "stream",
     "text": [
      "\r",
      " 71%|███████   | 852/1200 [02:41<01:14,  4.68it/s]"
     ]
    },
    {
     "name": "stdout",
     "output_type": "stream",
     "text": [
      "592.026357573 m 831.02150046 m\n",
      "Ratio:  0.712407990942\n"
     ]
    },
    {
     "name": "stderr",
     "output_type": "stream",
     "text": [
      "\r",
      " 71%|███████   | 853/1200 [02:41<01:15,  4.58it/s]"
     ]
    },
    {
     "name": "stdout",
     "output_type": "stream",
     "text": [
      "499.70859677 m 905.683848134 m\n",
      "Ratio:  0.551747276712\n"
     ]
    },
    {
     "name": "stderr",
     "output_type": "stream",
     "text": [
      "\r",
      " 71%|███████   | 854/1200 [02:41<01:15,  4.57it/s]"
     ]
    },
    {
     "name": "stdout",
     "output_type": "stream",
     "text": [
      "489.085110796 m 952.451490895 m\n",
      "Ratio:  0.513501333634\n"
     ]
    },
    {
     "name": "stderr",
     "output_type": "stream",
     "text": [
      "\r",
      " 71%|███████▏  | 855/1200 [02:42<01:15,  4.58it/s]"
     ]
    },
    {
     "name": "stdout",
     "output_type": "stream",
     "text": [
      "434.595364336 m 42029.8581868 m\n",
      "Ratio:  0.0103401577613\n"
     ]
    },
    {
     "name": "stderr",
     "output_type": "stream",
     "text": [
      "\r",
      " 71%|███████▏  | 856/1200 [02:42<01:17,  4.41it/s]"
     ]
    },
    {
     "name": "stdout",
     "output_type": "stream",
     "text": [
      "1004.74238294 m 124371.919294 m\n",
      "Ratio:  0.00807853081818\n"
     ]
    },
    {
     "name": "stderr",
     "output_type": "stream",
     "text": [
      "\r",
      " 71%|███████▏  | 857/1200 [02:42<01:18,  4.40it/s]"
     ]
    },
    {
     "name": "stdout",
     "output_type": "stream",
     "text": [
      "1153.38400566 m 61329.2779929 m\n",
      "Ratio:  0.0188064174797\n"
     ]
    },
    {
     "name": "stderr",
     "output_type": "stream",
     "text": [
      "\r",
      " 72%|███████▏  | 858/1200 [02:42<01:18,  4.34it/s]"
     ]
    },
    {
     "name": "stdout",
     "output_type": "stream",
     "text": [
      "970.141997553 m 31038.1823199 m\n",
      "Ratio:  0.031256405016\n"
     ]
    },
    {
     "name": "stderr",
     "output_type": "stream",
     "text": [
      "\r",
      " 72%|███████▏  | 859/1200 [02:43<01:18,  4.34it/s]"
     ]
    },
    {
     "name": "stdout",
     "output_type": "stream",
     "text": [
      "1146.36731962 m 33071.5512182 m\n",
      "Ratio:  0.0346632461254\n"
     ]
    },
    {
     "name": "stderr",
     "output_type": "stream",
     "text": [
      "\r",
      " 72%|███████▏  | 860/1200 [02:43<01:22,  4.11it/s]"
     ]
    },
    {
     "name": "stdout",
     "output_type": "stream",
     "text": [
      "1538.09235095 m 30370.6862822 m\n",
      "Ratio:  0.0506439774412\n"
     ]
    },
    {
     "name": "stderr",
     "output_type": "stream",
     "text": [
      "\r",
      " 72%|███████▏  | 861/1200 [02:43<01:23,  4.04it/s]"
     ]
    },
    {
     "name": "stdout",
     "output_type": "stream",
     "text": [
      "1615.73021789 m 57032.7467079 m\n",
      "Ratio:  0.0283298685606\n"
     ]
    },
    {
     "name": "stderr",
     "output_type": "stream",
     "text": [
      "\r",
      " 72%|███████▏  | 862/1200 [02:43<01:23,  4.03it/s]"
     ]
    },
    {
     "name": "stdout",
     "output_type": "stream",
     "text": [
      "908.941352072 m 18178.6637044 m\n",
      "Ratio:  0.0500004492548\n"
     ]
    },
    {
     "name": "stderr",
     "output_type": "stream",
     "text": [
      "\r",
      " 72%|███████▏  | 863/1200 [02:44<01:22,  4.08it/s]"
     ]
    },
    {
     "name": "stdout",
     "output_type": "stream",
     "text": [
      "715.395510807 m 12628.5189032 m\n",
      "Ratio:  0.0566492014062\n"
     ]
    },
    {
     "name": "stderr",
     "output_type": "stream",
     "text": [
      "\r",
      " 72%|███████▏  | 864/1200 [02:44<01:21,  4.10it/s]"
     ]
    },
    {
     "name": "stdout",
     "output_type": "stream",
     "text": [
      "707.943102411 m 19150.6772849 m\n",
      "Ratio:  0.0369670007948\n"
     ]
    },
    {
     "name": "stderr",
     "output_type": "stream",
     "text": [
      "\r",
      " 72%|███████▏  | 865/1200 [02:44<01:21,  4.12it/s]"
     ]
    },
    {
     "name": "stdout",
     "output_type": "stream",
     "text": [
      "701.54978312 m 22536.347767 m\n",
      "Ratio:  0.0311297016878\n"
     ]
    },
    {
     "name": "stderr",
     "output_type": "stream",
     "text": [
      "\r",
      " 72%|███████▏  | 866/1200 [02:44<01:21,  4.11it/s]"
     ]
    },
    {
     "name": "stdout",
     "output_type": "stream",
     "text": [
      "687.674266072 m 25485.4627159 m\n",
      "Ratio:  0.0269830010048\n"
     ]
    },
    {
     "name": "stderr",
     "output_type": "stream",
     "text": [
      "\r",
      " 72%|███████▏  | 867/1200 [02:45<01:20,  4.15it/s]"
     ]
    },
    {
     "name": "stdout",
     "output_type": "stream",
     "text": [
      "887.147310249 m 20334.8761015 m\n",
      "Ratio:  0.0436268854464\n"
     ]
    },
    {
     "name": "stderr",
     "output_type": "stream",
     "text": [
      "\r",
      " 72%|███████▏  | 868/1200 [02:45<01:21,  4.08it/s]"
     ]
    },
    {
     "name": "stdout",
     "output_type": "stream",
     "text": [
      "993.295415699 m 24065.6149515 m\n",
      "Ratio:  0.0412744663996\n"
     ]
    },
    {
     "name": "stderr",
     "output_type": "stream",
     "text": [
      "\r",
      " 72%|███████▏  | 869/1200 [02:45<01:20,  4.12it/s]"
     ]
    },
    {
     "name": "stdout",
     "output_type": "stream",
     "text": [
      "1062.97714238 m 184409.599647 m\n",
      "Ratio:  0.0057642180473\n"
     ]
    },
    {
     "name": "stderr",
     "output_type": "stream",
     "text": [
      "\r",
      " 72%|███████▎  | 870/1200 [02:45<01:18,  4.19it/s]"
     ]
    },
    {
     "name": "stdout",
     "output_type": "stream",
     "text": [
      "925.516102957 m 9481.10563422 m\n",
      "Ratio:  0.0976168960313\n"
     ]
    },
    {
     "name": "stderr",
     "output_type": "stream",
     "text": [
      "\r",
      " 73%|███████▎  | 871/1200 [02:45<01:17,  4.24it/s]"
     ]
    },
    {
     "name": "stdout",
     "output_type": "stream",
     "text": [
      "939.966866651 m 7552.28136435 m\n",
      "Ratio:  0.124461314576\n"
     ]
    },
    {
     "name": "stderr",
     "output_type": "stream",
     "text": [
      "\r",
      " 73%|███████▎  | 872/1200 [02:46<01:20,  4.09it/s]"
     ]
    },
    {
     "name": "stdout",
     "output_type": "stream",
     "text": [
      "2783.74234992 m 9428.34223337 m\n",
      "Ratio:  0.29525257792\n"
     ]
    },
    {
     "name": "stderr",
     "output_type": "stream",
     "text": [
      "\r",
      " 73%|███████▎  | 873/1200 [02:46<01:19,  4.13it/s]"
     ]
    },
    {
     "name": "stdout",
     "output_type": "stream",
     "text": [
      "5871.32318638 m 8391.49533961 m\n",
      "Ratio:  0.699675439092\n"
     ]
    },
    {
     "name": "stderr",
     "output_type": "stream",
     "text": [
      "\r",
      " 73%|███████▎  | 874/1200 [02:46<01:17,  4.19it/s]"
     ]
    },
    {
     "name": "stdout",
     "output_type": "stream",
     "text": [
      "4547.46294938 m 3347.4095739 m\n",
      "Ratio:  1.35850210408\n"
     ]
    },
    {
     "name": "stderr",
     "output_type": "stream",
     "text": [
      "\r",
      " 73%|███████▎  | 875/1200 [02:46<01:16,  4.23it/s]"
     ]
    },
    {
     "name": "stdout",
     "output_type": "stream",
     "text": [
      "2019.32900555 m 2072.29623474 m\n",
      "Ratio:  0.974440319728\n"
     ]
    },
    {
     "name": "stderr",
     "output_type": "stream",
     "text": [
      "\r",
      " 73%|███████▎  | 876/1200 [02:47<01:16,  4.23it/s]"
     ]
    },
    {
     "name": "stdout",
     "output_type": "stream",
     "text": [
      "1437.166602 m 1636.17818416 m\n",
      "Ratio:  0.878368026117\n"
     ]
    },
    {
     "name": "stderr",
     "output_type": "stream",
     "text": [
      "\r",
      " 73%|███████▎  | 877/1200 [02:47<01:14,  4.32it/s]"
     ]
    },
    {
     "name": "stdout",
     "output_type": "stream",
     "text": [
      "1150.99253737 m 8956.14731417 m\n",
      "Ratio:  0.128514248035\n"
     ]
    },
    {
     "name": "stderr",
     "output_type": "stream",
     "text": [
      "\r",
      " 73%|███████▎  | 878/1200 [02:47<01:15,  4.25it/s]"
     ]
    },
    {
     "name": "stdout",
     "output_type": "stream",
     "text": [
      "1228.32221383 m 3203.14746325 m\n",
      "Ratio:  0.383473514073\n"
     ]
    },
    {
     "name": "stderr",
     "output_type": "stream",
     "text": [
      "\r",
      " 73%|███████▎  | 879/1200 [02:47<01:15,  4.27it/s]"
     ]
    },
    {
     "name": "stdout",
     "output_type": "stream",
     "text": [
      "17884.0535525 m 1522.31458639 m\n",
      "Ratio:  11.7479354875\n"
     ]
    },
    {
     "name": "stderr",
     "output_type": "stream",
     "text": [
      "\r",
      " 73%|███████▎  | 880/1200 [02:48<01:15,  4.22it/s]"
     ]
    },
    {
     "name": "stdout",
     "output_type": "stream",
     "text": [
      "3240.81961514 m 1030.27704086 m\n",
      "Ratio:  3.1455807386\n"
     ]
    },
    {
     "name": "stderr",
     "output_type": "stream",
     "text": [
      "\r",
      " 73%|███████▎  | 881/1200 [02:48<01:15,  4.22it/s]"
     ]
    },
    {
     "name": "stdout",
     "output_type": "stream",
     "text": [
      "5389.20437243 m 879.809700626 m\n",
      "Ratio:  6.12542049559\n"
     ]
    },
    {
     "name": "stderr",
     "output_type": "stream",
     "text": [
      "\r",
      " 74%|███████▎  | 882/1200 [02:48<01:14,  4.29it/s]"
     ]
    },
    {
     "name": "stdout",
     "output_type": "stream",
     "text": [
      "3473.14073257 m 1194.67557229 m\n",
      "Ratio:  2.90718318272\n"
     ]
    },
    {
     "name": "stderr",
     "output_type": "stream",
     "text": [
      "\r",
      " 74%|███████▎  | 883/1200 [02:48<01:12,  4.37it/s]"
     ]
    },
    {
     "name": "stdout",
     "output_type": "stream",
     "text": [
      "628.999260341 m 1170.58379424 m\n",
      "Ratio:  0.537338090134\n"
     ]
    },
    {
     "name": "stderr",
     "output_type": "stream",
     "text": [
      "\r",
      " 74%|███████▎  | 884/1200 [02:49<01:11,  4.39it/s]"
     ]
    },
    {
     "name": "stdout",
     "output_type": "stream",
     "text": [
      "600.108746281 m 975.577292972 m\n",
      "Ratio:  0.61513193327\n"
     ]
    },
    {
     "name": "stderr",
     "output_type": "stream",
     "text": [
      "\r",
      " 74%|███████▍  | 885/1200 [02:49<01:16,  4.14it/s]"
     ]
    },
    {
     "name": "stdout",
     "output_type": "stream",
     "text": [
      "782.00251781 m 1864.24430291 m\n",
      "Ratio:  0.419474269863\n"
     ]
    },
    {
     "name": "stderr",
     "output_type": "stream",
     "text": [
      "\r",
      " 74%|███████▍  | 886/1200 [02:49<01:13,  4.27it/s]"
     ]
    },
    {
     "name": "stdout",
     "output_type": "stream",
     "text": [
      "1300.37495709 m 1151.71651827 m\n",
      "Ratio:  1.12907554633\n"
     ]
    },
    {
     "name": "stderr",
     "output_type": "stream",
     "text": [
      " 74%|███████▍  | 888/1200 [02:49<01:07,  4.62it/s]"
     ]
    },
    {
     "name": "stdout",
     "output_type": "stream",
     "text": [
      "1138.45924362 m 817.243084669 m\n",
      "Ratio:  1.39304848823\n",
      "15384.6888896 m 867.206594408 m\n",
      "Ratio:  17.740511879\n"
     ]
    },
    {
     "name": "stderr",
     "output_type": "stream",
     "text": [
      "\r",
      " 74%|███████▍  | 889/1200 [02:50<01:05,  4.71it/s]"
     ]
    },
    {
     "name": "stdout",
     "output_type": "stream",
     "text": [
      "341.868324665 m 669.631619248 m\n",
      "Ratio:  0.510531932541\n"
     ]
    },
    {
     "name": "stderr",
     "output_type": "stream",
     "text": [
      "\r",
      " 74%|███████▍  | 890/1200 [02:50<01:05,  4.73it/s]"
     ]
    },
    {
     "name": "stdout",
     "output_type": "stream",
     "text": [
      "322.923411271 m 443.387620551 m\n",
      "Ratio:  0.728309488817\n"
     ]
    },
    {
     "name": "stderr",
     "output_type": "stream",
     "text": [
      " 74%|███████▍  | 892/1200 [02:50<01:04,  4.80it/s]"
     ]
    },
    {
     "name": "stdout",
     "output_type": "stream",
     "text": [
      "1342.55407525 m 287.98850223 m\n",
      "Ratio:  4.66183220806\n",
      "462.006532172 m 313.571052358 m\n",
      "Ratio:  1.4733711186\n"
     ]
    },
    {
     "name": "stderr",
     "output_type": "stream",
     "text": [
      " 74%|███████▍  | 894/1200 [02:51<00:59,  5.13it/s]"
     ]
    },
    {
     "name": "stdout",
     "output_type": "stream",
     "text": [
      "1932.23540455 m 209.068928884 m\n",
      "Ratio:  9.24209740237\n",
      "4795.66801515 m 173.138422916 m\n",
      "Ratio:  27.6984619265\n"
     ]
    },
    {
     "name": "stderr",
     "output_type": "stream",
     "text": [
      " 75%|███████▍  | 896/1200 [02:51<01:00,  4.98it/s]"
     ]
    },
    {
     "name": "stdout",
     "output_type": "stream",
     "text": [
      "2235.33396202 m 180.779539879 m\n",
      "Ratio:  12.3649720732\n",
      "11361.9891491 m 196.580333977 m\n",
      "Ratio:  57.7981984219\n"
     ]
    },
    {
     "name": "stderr",
     "output_type": "stream",
     "text": [
      " 75%|███████▍  | 898/1200 [02:51<00:57,  5.25it/s]"
     ]
    },
    {
     "name": "stdout",
     "output_type": "stream",
     "text": [
      "695.762618198 m 217.548558011 m\n",
      "Ratio:  3.19819457577\n",
      "883.721089752 m 192.628194617 m\n",
      "Ratio:  4.58770374457\n"
     ]
    },
    {
     "name": "stderr",
     "output_type": "stream",
     "text": [
      "\r",
      " 75%|███████▍  | 899/1200 [02:52<00:56,  5.28it/s]"
     ]
    },
    {
     "name": "stdout",
     "output_type": "stream",
     "text": [
      "441.883204856 m 182.308420827 m\n",
      "Ratio:  2.42382223954\n"
     ]
    },
    {
     "name": "stderr",
     "output_type": "stream",
     "text": [
      " 75%|███████▌  | 901/1200 [02:52<00:56,  5.32it/s]"
     ]
    },
    {
     "name": "stdout",
     "output_type": "stream",
     "text": [
      "887.140232104 m 207.873518145 m\n",
      "Ratio:  4.26769239305\n",
      "457.082092367 m 72.6329140993 m\n",
      "Ratio:  6.29304356069\n"
     ]
    },
    {
     "name": "stderr",
     "output_type": "stream",
     "text": [
      " 75%|███████▌  | 903/1200 [02:52<00:54,  5.45it/s]"
     ]
    },
    {
     "name": "stdout",
     "output_type": "stream",
     "text": [
      "192.60329218 m 74.7076597133 m\n",
      "Ratio:  2.57809296824\n",
      "246.710568935 m 77.6216369472 m\n",
      "Ratio:  3.1783736937\n"
     ]
    },
    {
     "name": "stderr",
     "output_type": "stream",
     "text": [
      " 75%|███████▌  | 905/1200 [02:53<00:53,  5.50it/s]"
     ]
    },
    {
     "name": "stdout",
     "output_type": "stream",
     "text": [
      "297.957082537 m 88.8660603891 m\n",
      "Ratio:  3.35287826682\n",
      "531.502061163 m 3957.24308228 m\n",
      "Ratio:  0.134311198507\n"
     ]
    },
    {
     "name": "stderr",
     "output_type": "stream",
     "text": [
      " 76%|███████▌  | 907/1200 [02:53<00:55,  5.27it/s]"
     ]
    },
    {
     "name": "stdout",
     "output_type": "stream",
     "text": [
      "182.321661827 m 76.7521173415 m\n",
      "Ratio:  2.3754610054\n",
      "189.132445128 m 125.830193219 m\n",
      "Ratio:  1.50307680764\n"
     ]
    },
    {
     "name": "stderr",
     "output_type": "stream",
     "text": [
      " 76%|███████▌  | 909/1200 [02:53<00:54,  5.38it/s]"
     ]
    },
    {
     "name": "stdout",
     "output_type": "stream",
     "text": [
      "144.037444047 m 132.766959185 m\n",
      "Ratio:  1.08488922945\n",
      "2017.34954439 m 129.05801353 m\n",
      "Ratio:  15.6313388779\n"
     ]
    },
    {
     "name": "stderr",
     "output_type": "stream",
     "text": [
      " 76%|███████▌  | 911/1200 [02:54<00:53,  5.36it/s]"
     ]
    },
    {
     "name": "stdout",
     "output_type": "stream",
     "text": [
      "209.18838627 m 243.719965919 m\n",
      "Ratio:  0.858314522904\n",
      "488.162807478 m 1028.1914773 m\n",
      "Ratio:  0.474778111135\n"
     ]
    },
    {
     "name": "stderr",
     "output_type": "stream",
     "text": [
      " 76%|███████▌  | 913/1200 [02:54<00:53,  5.32it/s]"
     ]
    },
    {
     "name": "stdout",
     "output_type": "stream",
     "text": [
      "155.78484828 m 309.39628692 m\n",
      "Ratio:  0.503512339565\n",
      "585.997216384 m 880.474441562 m\n",
      "Ratio:  0.665547105882\n"
     ]
    },
    {
     "name": "stderr",
     "output_type": "stream",
     "text": [
      " 76%|███████▋  | 915/1200 [02:55<00:51,  5.50it/s]"
     ]
    },
    {
     "name": "stdout",
     "output_type": "stream",
     "text": [
      "168.395353792 m 2349.80098389 m\n",
      "Ratio:  0.0716636663897\n",
      "71.0942491882 m 1099.13098278 m\n",
      "Ratio:  0.0646822356043\n"
     ]
    },
    {
     "name": "stderr",
     "output_type": "stream",
     "text": [
      " 76%|███████▋  | 917/1200 [02:55<00:50,  5.58it/s]"
     ]
    },
    {
     "name": "stdout",
     "output_type": "stream",
     "text": [
      "98.5488169656 m 1050.55191509 m\n",
      "Ratio:  0.0938067082171\n",
      "230.141808932 m 290.509510663 m\n",
      "Ratio:  0.792200600962\n"
     ]
    },
    {
     "name": "stderr",
     "output_type": "stream",
     "text": [
      " 77%|███████▋  | 919/1200 [02:55<00:49,  5.71it/s]"
     ]
    },
    {
     "name": "stdout",
     "output_type": "stream",
     "text": [
      "97.328256947 m 172.16390398 m\n",
      "Ratio:  0.565323245447\n",
      "547.244760088 m 220.479969099 m\n",
      "Ratio:  2.48206112476\n"
     ]
    },
    {
     "name": "stderr",
     "output_type": "stream",
     "text": [
      " 77%|███████▋  | 921/1200 [02:56<00:47,  5.93it/s]"
     ]
    },
    {
     "name": "stdout",
     "output_type": "stream",
     "text": [
      "107.574949505 m 226.338866629 m\n",
      "Ratio:  0.475282708213\n",
      "79.627765047 m 183.43795407 m\n",
      "Ratio:  0.434085549256\n"
     ]
    },
    {
     "name": "stderr",
     "output_type": "stream",
     "text": [
      " 77%|███████▋  | 923/1200 [02:56<00:45,  6.07it/s]"
     ]
    },
    {
     "name": "stdout",
     "output_type": "stream",
     "text": [
      "99.7379026381 m 183.43795407 m\n",
      "Ratio:  0.543714648059\n",
      "110.967201057 m 183.43795407 m\n",
      "Ratio:  0.604930433398\n"
     ]
    },
    {
     "name": "stderr",
     "output_type": "stream",
     "text": [
      " 77%|███████▋  | 925/1200 [02:56<00:43,  6.26it/s]"
     ]
    },
    {
     "name": "stdout",
     "output_type": "stream",
     "text": [
      "80.7278213199 m 55633.2502391 m\n",
      "Ratio:  0.00145107145408\n",
      "78.7821866322 m 55633.2502391 m\n",
      "Ratio:  0.00141609893892\n"
     ]
    },
    {
     "name": "stderr",
     "output_type": "stream",
     "text": [
      " 77%|███████▋  | 927/1200 [02:57<00:42,  6.37it/s]"
     ]
    },
    {
     "name": "stdout",
     "output_type": "stream",
     "text": [
      "243.755509018 m 582.403524184 m\n",
      "Ratio:  0.418533712274\n",
      "69.9230117374 m 439.119682461 m\n",
      "Ratio:  0.159234519723\n"
     ]
    },
    {
     "name": "stderr",
     "output_type": "stream",
     "text": [
      " 77%|███████▋  | 929/1200 [02:57<00:43,  6.24it/s]"
     ]
    },
    {
     "name": "stdout",
     "output_type": "stream",
     "text": [
      "94.1741911828 m 2804.48162313 m\n",
      "Ratio:  0.0335798924143\n",
      "97.5598030583 m 881.777753132 m\n",
      "Ratio:  0.110639900714\n"
     ]
    },
    {
     "name": "stderr",
     "output_type": "stream",
     "text": [
      " 78%|███████▊  | 931/1200 [02:57<00:43,  6.22it/s]"
     ]
    },
    {
     "name": "stdout",
     "output_type": "stream",
     "text": [
      "113.266795675 m 451.608237198 m\n",
      "Ratio:  0.250807638889\n",
      "15860.788363 m 565.658939236 m\n",
      "Ratio:  28.039490341\n"
     ]
    },
    {
     "name": "stderr",
     "output_type": "stream",
     "text": [
      " 78%|███████▊  | 933/1200 [02:57<00:41,  6.36it/s]"
     ]
    },
    {
     "name": "stdout",
     "output_type": "stream",
     "text": [
      "2049.79686154 m 362.774372383 m\n",
      "Ratio:  5.65033535329\n",
      "2058.0794203 m 304.907644744 m\n",
      "Ratio:  6.74984525897\n"
     ]
    },
    {
     "name": "stderr",
     "output_type": "stream",
     "text": [
      " 78%|███████▊  | 935/1200 [02:58<00:45,  5.86it/s]"
     ]
    },
    {
     "name": "stdout",
     "output_type": "stream",
     "text": [
      "636.108499344 m 234.139816335 m\n",
      "Ratio:  2.71678909338\n",
      "269.022711133 m 144.512683055 m\n",
      "Ratio:  1.86158547088\n"
     ]
    },
    {
     "name": "stderr",
     "output_type": "stream",
     "text": [
      " 78%|███████▊  | 937/1200 [02:58<00:42,  6.20it/s]"
     ]
    },
    {
     "name": "stdout",
     "output_type": "stream",
     "text": [
      "500.899443196 m 112.373918809 m\n",
      "Ratio:  4.45743503923\n",
      "3426.18083795 m 102.200179544 m\n",
      "Ratio:  33.524215449\n"
     ]
    },
    {
     "name": "stderr",
     "output_type": "stream",
     "text": [
      " 78%|███████▊  | 939/1200 [02:58<00:42,  6.21it/s]"
     ]
    },
    {
     "name": "stdout",
     "output_type": "stream",
     "text": [
      "7388.76378578 m 92.7214043302 m\n",
      "Ratio:  79.6877898815\n",
      "340.369953775 m 87.567150547 m\n",
      "Ratio:  3.8869593409\n"
     ]
    },
    {
     "name": "stderr",
     "output_type": "stream",
     "text": [
      " 78%|███████▊  | 941/1200 [02:59<00:41,  6.17it/s]"
     ]
    },
    {
     "name": "stdout",
     "output_type": "stream",
     "text": [
      "294.773460598 m 83.4117181716 m\n",
      "Ratio:  3.533957423\n",
      "176.984389314 m 79.7309316304 m\n",
      "Ratio:  2.21977074261\n"
     ]
    },
    {
     "name": "stderr",
     "output_type": "stream",
     "text": [
      " 79%|███████▊  | 943/1200 [02:59<00:41,  6.15it/s]"
     ]
    },
    {
     "name": "stdout",
     "output_type": "stream",
     "text": [
      "178.785677721 m 76.4926911719 m\n",
      "Ratio:  2.33729098796\n",
      "372.155387082 m 75.6956056804 m\n",
      "Ratio:  4.91647280891\n"
     ]
    },
    {
     "name": "stderr",
     "output_type": "stream",
     "text": [
      " 79%|███████▉  | 945/1200 [02:59<00:41,  6.17it/s]"
     ]
    },
    {
     "name": "stdout",
     "output_type": "stream",
     "text": [
      "155.100791667 m 2673.03118038 m\n",
      "Ratio:  0.0580243106799\n",
      "161.955266268 m 293.168870272 m\n",
      "Ratio:  0.552429956556\n"
     ]
    },
    {
     "name": "stderr",
     "output_type": "stream",
     "text": [
      "\r",
      " 79%|███████▉  | 946/1200 [03:00<00:41,  6.14it/s]"
     ]
    },
    {
     "name": "stdout",
     "output_type": "stream",
     "text": [
      "130.619079132 m 341.730841179 m\n",
      "Ratio:  0.382227950749\n"
     ]
    },
    {
     "name": "stderr",
     "output_type": "stream",
     "text": [
      " 79%|███████▉  | 948/1200 [03:00<00:45,  5.56it/s]"
     ]
    },
    {
     "name": "stdout",
     "output_type": "stream",
     "text": [
      "72.3141475166 m 271.300084922 m\n",
      "Ratio:  0.266546719059\n",
      "78.8948741734 m 268.087975126 m\n",
      "Ratio:  0.294287254534\n"
     ]
    },
    {
     "name": "stderr",
     "output_type": "stream",
     "text": [
      " 79%|███████▉  | 950/1200 [03:00<00:43,  5.81it/s]"
     ]
    },
    {
     "name": "stdout",
     "output_type": "stream",
     "text": [
      "90.0185875445 m 85.575995555 m\n",
      "Ratio:  1.05191399715\n",
      "102.415570769 m 87.1895639145 m\n",
      "Ratio:  1.17463107017\n"
     ]
    },
    {
     "name": "stderr",
     "output_type": "stream",
     "text": [
      "\r",
      " 79%|███████▉  | 951/1200 [03:01<00:44,  5.66it/s]"
     ]
    },
    {
     "name": "stdout",
     "output_type": "stream",
     "text": [
      "76.8330576745 m 93.8195856932 m\n",
      "Ratio:  0.818944755584\n"
     ]
    },
    {
     "name": "stderr",
     "output_type": "stream",
     "text": [
      " 79%|███████▉  | 953/1200 [03:01<00:47,  5.20it/s]"
     ]
    },
    {
     "name": "stdout",
     "output_type": "stream",
     "text": [
      "112.898676806 m 99.182487406 m\n",
      "Ratio:  1.13829245221\n",
      "84.2005183733 m 108.634787657 m\n",
      "Ratio:  0.775078777153\n"
     ]
    },
    {
     "name": "stderr",
     "output_type": "stream",
     "text": [
      "\r",
      " 80%|███████▉  | 954/1200 [03:01<00:47,  5.14it/s]"
     ]
    },
    {
     "name": "stdout",
     "output_type": "stream",
     "text": [
      "123.262107434 m 95.8438253005 m\n",
      "Ratio:  1.28607249395\n"
     ]
    },
    {
     "name": "stderr",
     "output_type": "stream",
     "text": [
      "\r",
      " 80%|███████▉  | 955/1200 [03:01<00:48,  5.01it/s]"
     ]
    },
    {
     "name": "stdout",
     "output_type": "stream",
     "text": [
      "91.8765675338 m 69.5750947867 m\n",
      "Ratio:  1.32053815831\n",
      "99.1717253248 m 57.1757259955 m\n",
      "Ratio:  1.73450749594\n"
     ]
    },
    {
     "name": "stderr",
     "output_type": "stream",
     "text": [
      " 80%|███████▉  | 957/1200 [03:02<00:48,  4.99it/s]"
     ]
    },
    {
     "name": "stdout",
     "output_type": "stream",
     "text": [
      "74.9315782229 m 60.1398596533 m\n",
      "Ratio:  1.24595532239\n",
      "106.527901064 m 58.6206020701 m\n",
      "Ratio:  1.81724338035\n"
     ]
    },
    {
     "name": "stderr",
     "output_type": "stream",
     "text": [
      " 80%|████████  | 960/1200 [03:02<00:47,  5.07it/s]"
     ]
    },
    {
     "name": "stdout",
     "output_type": "stream",
     "text": [
      "274.326877572 m 58.9118727989 m\n",
      "Ratio:  4.65656351664\n",
      "332.737801872 m 60.2958078999 m\n",
      "Ratio:  5.51842347688\n"
     ]
    },
    {
     "name": "stderr",
     "output_type": "stream",
     "text": [
      "\r",
      " 80%|████████  | 961/1200 [03:03<00:46,  5.09it/s]"
     ]
    },
    {
     "name": "stdout",
     "output_type": "stream",
     "text": [
      "286.66220282 m 60.9844776068 m\n",
      "Ratio:  4.70057650847\n"
     ]
    },
    {
     "name": "stderr",
     "output_type": "stream",
     "text": [
      "\r",
      " 80%|████████  | 962/1200 [03:03<00:47,  4.96it/s]"
     ]
    },
    {
     "name": "stdout",
     "output_type": "stream",
     "text": [
      "164.24476658 m 62.800437384 m\n",
      "Ratio:  2.61534431004\n"
     ]
    },
    {
     "name": "stderr",
     "output_type": "stream",
     "text": [
      " 80%|████████  | 964/1200 [03:03<00:47,  5.00it/s]"
     ]
    },
    {
     "name": "stdout",
     "output_type": "stream",
     "text": [
      "7959.92186885 m 64.0828851131 m\n",
      "Ratio:  124.212913554\n",
      "66.5869765641 m 129.947566993 m\n",
      "Ratio:  0.512414184468\n"
     ]
    },
    {
     "name": "stderr",
     "output_type": "stream",
     "text": [
      " 80%|████████  | 966/1200 [03:04<00:46,  5.06it/s]"
     ]
    },
    {
     "name": "stdout",
     "output_type": "stream",
     "text": [
      "111.718509043 m 1446.45543673 m\n",
      "Ratio:  0.0772360531867\n",
      "289.07956187 m 116.348369519 m\n",
      "Ratio:  2.48460346343\n"
     ]
    },
    {
     "name": "stderr",
     "output_type": "stream",
     "text": [
      " 81%|████████  | 968/1200 [03:04<00:46,  4.98it/s]"
     ]
    },
    {
     "name": "stdout",
     "output_type": "stream",
     "text": [
      "1916.17751991 m 70.0675386864 m\n",
      "Ratio:  27.3475785768\n",
      "159.623447352 m 263.369164787 m\n",
      "Ratio:  0.606082521016\n"
     ]
    },
    {
     "name": "stderr",
     "output_type": "stream",
     "text": [
      " 81%|████████  | 970/1200 [03:04<00:45,  5.08it/s]"
     ]
    },
    {
     "name": "stdout",
     "output_type": "stream",
     "text": [
      "103.191158953 m 182.929637545 m\n",
      "Ratio:  0.564103008879\n",
      "121.827022485 m 87.9232671129 m\n",
      "Ratio:  1.38560618236\n"
     ]
    },
    {
     "name": "stderr",
     "output_type": "stream",
     "text": [
      " 81%|████████  | 972/1200 [03:05<00:43,  5.25it/s]"
     ]
    },
    {
     "name": "stdout",
     "output_type": "stream",
     "text": [
      "96.5614539539 m 73.8497103893 m\n",
      "Ratio:  1.30754004917\n",
      "57.8072105464 m 65.6725130343 m\n",
      "Ratio:  0.880234482822\n"
     ]
    },
    {
     "name": "stderr",
     "output_type": "stream",
     "text": [
      "\r",
      " 81%|████████  | 973/1200 [03:05<00:44,  5.11it/s]"
     ]
    },
    {
     "name": "stdout",
     "output_type": "stream",
     "text": [
      "102.262764995 m 66.1847760039 m\n",
      "Ratio:  1.54511008677\n"
     ]
    },
    {
     "name": "stderr",
     "output_type": "stream",
     "text": [
      "\r",
      " 81%|████████  | 974/1200 [03:05<00:45,  5.01it/s]"
     ]
    },
    {
     "name": "stdout",
     "output_type": "stream",
     "text": [
      "172.209347897 m 67.2619569077 m\n",
      "Ratio:  2.56027858561\n"
     ]
    },
    {
     "name": "stderr",
     "output_type": "stream",
     "text": [
      " 81%|████████▏ | 976/1200 [03:06<00:44,  5.01it/s]"
     ]
    },
    {
     "name": "stdout",
     "output_type": "stream",
     "text": [
      "663.667384263 m 239.380714874 m\n",
      "Ratio:  2.77243463248\n",
      "79.0310342779 m 267.985085927 m\n",
      "Ratio:  0.294908330456\n"
     ]
    },
    {
     "name": "stderr",
     "output_type": "stream",
     "text": [
      " 82%|████████▏ | 978/1200 [03:06<00:44,  4.98it/s]"
     ]
    },
    {
     "name": "stdout",
     "output_type": "stream",
     "text": [
      "1292.51771786 m 202.904325927 m\n",
      "Ratio:  6.37008458031\n",
      "3765.69238104 m 62.9960644576 m\n",
      "Ratio:  59.7766291191\n"
     ]
    },
    {
     "name": "stderr",
     "output_type": "stream",
     "text": [
      " 82%|████████▏ | 980/1200 [03:06<00:42,  5.12it/s]"
     ]
    },
    {
     "name": "stdout",
     "output_type": "stream",
     "text": [
      "5704.54995261 m 514.345398746 m\n",
      "Ratio:  11.0908933307\n",
      "1739.44745139 m 1812.7720677 m\n",
      "Ratio:  0.959551110909\n"
     ]
    },
    {
     "name": "stderr",
     "output_type": "stream",
     "text": [
      "\r",
      " 82%|████████▏ | 981/1200 [03:07<00:41,  5.33it/s]"
     ]
    },
    {
     "name": "stdout",
     "output_type": "stream",
     "text": [
      "2236.05516381 m 649.906793901 m\n",
      "Ratio:  3.44057822566\n"
     ]
    },
    {
     "name": "stderr",
     "output_type": "stream",
     "text": [
      " 82%|████████▏ | 983/1200 [03:07<00:44,  4.86it/s]"
     ]
    },
    {
     "name": "stdout",
     "output_type": "stream",
     "text": [
      "1332.06214807 m 72.7817403979 m\n",
      "Ratio:  18.3021475\n",
      "161.039041303 m 96.24582069 m\n",
      "Ratio:  1.67320554958\n"
     ]
    },
    {
     "name": "stderr",
     "output_type": "stream",
     "text": [
      "\r",
      " 82%|████████▏ | 984/1200 [03:07<00:43,  4.91it/s]"
     ]
    },
    {
     "name": "stdout",
     "output_type": "stream",
     "text": [
      "81.1613084635 m 60.6860647766 m\n",
      "Ratio:  1.33739613472\n",
      "366.665826458 m 130.845465835 m\n",
      "Ratio:  2.80228148616\n"
     ]
    },
    {
     "name": "stderr",
     "output_type": "stream",
     "text": [
      " 82%|████████▏ | 987/1200 [03:08<00:41,  5.12it/s]"
     ]
    },
    {
     "name": "stdout",
     "output_type": "stream",
     "text": [
      "129.599754802 m 310.616817966 m\n",
      "Ratio:  0.417233540832\n",
      "73.6564977853 m 103.286131098 m\n",
      "Ratio:  0.713130572345\n"
     ]
    },
    {
     "name": "stderr",
     "output_type": "stream",
     "text": [
      " 82%|████████▏ | 989/1200 [03:08<00:39,  5.40it/s]"
     ]
    },
    {
     "name": "stdout",
     "output_type": "stream",
     "text": [
      "65.3200143589 m 92.822099209 m\n",
      "Ratio:  0.703711884514\n",
      "74.4140712165 m 74.9428943778 m\n",
      "Ratio:  0.992943651754\n"
     ]
    },
    {
     "name": "stderr",
     "output_type": "stream",
     "text": [
      "\r",
      " 82%|████████▎ | 990/1200 [03:08<00:40,  5.25it/s]"
     ]
    },
    {
     "name": "stdout",
     "output_type": "stream",
     "text": [
      "91.3887719095 m 614.203811387 m\n",
      "Ratio:  0.148792257904\n"
     ]
    },
    {
     "name": "stderr",
     "output_type": "stream",
     "text": [
      "\r",
      " 83%|████████▎ | 991/1200 [03:09<00:41,  5.07it/s]"
     ]
    },
    {
     "name": "stdout",
     "output_type": "stream",
     "text": [
      "79.2753608503 m 2510.2632321 m\n",
      "Ratio:  0.0315804971513\n"
     ]
    },
    {
     "name": "stderr",
     "output_type": "stream",
     "text": [
      " 83%|████████▎ | 993/1200 [03:09<00:40,  5.10it/s]"
     ]
    },
    {
     "name": "stdout",
     "output_type": "stream",
     "text": [
      "191.511251531 m 915.027132441 m\n",
      "Ratio:  0.209295708008\n",
      "232.672182633 m 2375.96762939 m\n",
      "Ratio:  0.097927336953\n"
     ]
    },
    {
     "name": "stderr",
     "output_type": "stream",
     "text": [
      " 83%|████████▎ | 995/1200 [03:09<00:38,  5.27it/s]"
     ]
    },
    {
     "name": "stdout",
     "output_type": "stream",
     "text": [
      "410.097103182 m 2289.42879041 m\n",
      "Ratio:  0.179126385105\n",
      "303.06995761 m 1841.89129549 m\n",
      "Ratio:  0.164542803558\n"
     ]
    },
    {
     "name": "stderr",
     "output_type": "stream",
     "text": [
      " 83%|████████▎ | 997/1200 [03:10<00:37,  5.49it/s]"
     ]
    },
    {
     "name": "stdout",
     "output_type": "stream",
     "text": [
      "4852.1820913 m 7266.56029115 m\n",
      "Ratio:  0.667741255407\n",
      "4481.9274084 m 3686.58858121 m\n",
      "Ratio:  1.21573842854\n"
     ]
    },
    {
     "name": "stderr",
     "output_type": "stream",
     "text": [
      " 83%|████████▎ | 999/1200 [03:10<00:35,  5.59it/s]"
     ]
    },
    {
     "name": "stdout",
     "output_type": "stream",
     "text": [
      "3474.48807141 m 2905.68930458 m\n",
      "Ratio:  1.19575347094\n",
      "3492.17102309 m 1200.12266601 m\n",
      "Ratio:  2.90984507001\n"
     ]
    },
    {
     "name": "stderr",
     "output_type": "stream",
     "text": [
      " 83%|████████▎ | 1001/1200 [03:10<00:34,  5.84it/s]"
     ]
    },
    {
     "name": "stdout",
     "output_type": "stream",
     "text": [
      "1913.98517505 m 762.412747868 m\n",
      "Ratio:  2.51043175813\n",
      "80.8019080765 m 723.986906311 m\n",
      "Ratio:  0.111606863843\n"
     ]
    },
    {
     "name": "stderr",
     "output_type": "stream",
     "text": [
      " 84%|████████▎ | 1003/1200 [03:11<00:33,  5.92it/s]"
     ]
    },
    {
     "name": "stdout",
     "output_type": "stream",
     "text": [
      "102.88637911 m 1308.88059913 m\n",
      "Ratio:  0.0786063902073\n",
      "53.1136085724 m 1949.978616 m\n",
      "Ratio:  0.0272380466824\n"
     ]
    },
    {
     "name": "stderr",
     "output_type": "stream",
     "text": [
      " 84%|████████▍ | 1005/1200 [03:11<00:32,  6.04it/s]"
     ]
    },
    {
     "name": "stdout",
     "output_type": "stream",
     "text": [
      "729.302618489 m 247.399182246 m\n",
      "Ratio:  2.94787804822\n",
      "768.973132309 m 2293.15968693 m\n",
      "Ratio:  0.335333442626\n"
     ]
    },
    {
     "name": "stderr",
     "output_type": "stream",
     "text": [
      " 84%|████████▍ | 1007/1200 [03:11<00:33,  5.83it/s]"
     ]
    },
    {
     "name": "stdout",
     "output_type": "stream",
     "text": [
      "340.383420918 m 163.905057875 m\n",
      "Ratio:  2.07671090405\n",
      "124.313440517 m 241.341686246 m\n",
      "Ratio:  0.515093113215\n"
     ]
    },
    {
     "name": "stderr",
     "output_type": "stream",
     "text": [
      "\r",
      " 84%|████████▍ | 1008/1200 [03:12<00:35,  5.40it/s]"
     ]
    },
    {
     "name": "stdout",
     "output_type": "stream",
     "text": [
      "59.4270632459 m 96.1357823856 m\n",
      "Ratio:  0.618157586814\n"
     ]
    },
    {
     "name": "stderr",
     "output_type": "stream",
     "text": [
      " 84%|████████▍ | 1010/1200 [03:12<00:37,  5.12it/s]"
     ]
    },
    {
     "name": "stdout",
     "output_type": "stream",
     "text": [
      "69.8541274911 m 100.371385127 m\n",
      "Ratio:  0.695956595622\n",
      "62.126801877 m 99.0091114598 m\n",
      "Ratio:  0.62748570269\n"
     ]
    },
    {
     "name": "stderr",
     "output_type": "stream",
     "text": [
      " 84%|████████▍ | 1012/1200 [03:12<00:36,  5.18it/s]"
     ]
    },
    {
     "name": "stdout",
     "output_type": "stream",
     "text": [
      "72.5931454241 m 65.4948476761 m\n",
      "Ratio:  1.10837948327\n",
      "90.1586927119 m 98.9032401688 m\n",
      "Ratio:  0.911584823288\n"
     ]
    },
    {
     "name": "stderr",
     "output_type": "stream",
     "text": [
      "\r",
      " 84%|████████▍ | 1013/1200 [03:13<00:36,  5.19it/s]"
     ]
    },
    {
     "name": "stdout",
     "output_type": "stream",
     "text": [
      "85.6292919186 m 90.0279962566 m\n",
      "Ratio:  0.951140705993\n"
     ]
    },
    {
     "name": "stderr",
     "output_type": "stream",
     "text": [
      " 85%|████████▍ | 1015/1200 [03:13<00:36,  5.13it/s]"
     ]
    },
    {
     "name": "stdout",
     "output_type": "stream",
     "text": [
      "103.052523272 m 59.5200629899 m\n",
      "Ratio:  1.73139136781\n",
      "137.758451379 m 1089.12651454 m\n",
      "Ratio:  0.126485260932\n"
     ]
    },
    {
     "name": "stderr",
     "output_type": "stream",
     "text": [
      " 85%|████████▍ | 1017/1200 [03:13<00:33,  5.40it/s]"
     ]
    },
    {
     "name": "stdout",
     "output_type": "stream",
     "text": [
      "112.886258776 m 344.437923349 m\n",
      "Ratio:  0.327740504527\n",
      "83.8633097603 m 479.583212728 m\n",
      "Ratio:  0.174867066934\n"
     ]
    },
    {
     "name": "stderr",
     "output_type": "stream",
     "text": [
      " 85%|████████▍ | 1019/1200 [03:14<00:34,  5.23it/s]"
     ]
    },
    {
     "name": "stdout",
     "output_type": "stream",
     "text": [
      "73.2606937246 m 208.524100657 m\n",
      "Ratio:  0.35132962326\n",
      "227.822857409 m 301.285796032 m\n",
      "Ratio:  0.756168596095\n"
     ]
    },
    {
     "name": "stderr",
     "output_type": "stream",
     "text": [
      "\r",
      " 85%|████████▌ | 1020/1200 [03:14<00:33,  5.39it/s]"
     ]
    },
    {
     "name": "stdout",
     "output_type": "stream",
     "text": [
      "817.458890474 m 669.33963355 m\n",
      "Ratio:  1.2212916276\n"
     ]
    },
    {
     "name": "stderr",
     "output_type": "stream",
     "text": [
      " 85%|████████▌ | 1022/1200 [03:14<00:34,  5.12it/s]"
     ]
    },
    {
     "name": "stdout",
     "output_type": "stream",
     "text": [
      "126337.685455 m 651.591363012 m\n",
      "Ratio:  193.890976195\n",
      "178.476183026 m 612.724223437 m\n",
      "Ratio:  0.29128305394\n"
     ]
    },
    {
     "name": "stderr",
     "output_type": "stream",
     "text": [
      "\r",
      " 85%|████████▌ | 1023/1200 [03:14<00:35,  4.94it/s]"
     ]
    },
    {
     "name": "stdout",
     "output_type": "stream",
     "text": [
      "46.1221613028 m 255.946725536 m\n",
      "Ratio:  0.180202193273\n"
     ]
    },
    {
     "name": "stderr",
     "output_type": "stream",
     "text": [
      "\r",
      " 85%|████████▌ | 1024/1200 [03:15<00:37,  4.66it/s]"
     ]
    },
    {
     "name": "stdout",
     "output_type": "stream",
     "text": [
      "48.7319552434 m 796.179556651 m\n",
      "Ratio:  0.0612072425577\n"
     ]
    },
    {
     "name": "stderr",
     "output_type": "stream",
     "text": [
      "\r",
      " 85%|████████▌ | 1025/1200 [03:15<00:37,  4.65it/s]"
     ]
    },
    {
     "name": "stdout",
     "output_type": "stream",
     "text": [
      "2874.02975266 m 1103.64770754 m\n",
      "Ratio:  2.60411880806\n"
     ]
    },
    {
     "name": "stderr",
     "output_type": "stream",
     "text": [
      "\r",
      " 86%|████████▌ | 1026/1200 [03:15<00:37,  4.69it/s]"
     ]
    },
    {
     "name": "stdout",
     "output_type": "stream",
     "text": [
      "3893.03339654 m 358.754108602 m\n",
      "Ratio:  10.8515367579\n"
     ]
    },
    {
     "name": "stderr",
     "output_type": "stream",
     "text": [
      "\r",
      " 86%|████████▌ | 1027/1200 [03:15<00:36,  4.70it/s]"
     ]
    },
    {
     "name": "stdout",
     "output_type": "stream",
     "text": [
      "710.335902301 m 982.498220932 m\n",
      "Ratio:  0.722989504883\n"
     ]
    },
    {
     "name": "stderr",
     "output_type": "stream",
     "text": [
      "\r",
      " 86%|████████▌ | 1028/1200 [03:16<00:37,  4.58it/s]"
     ]
    },
    {
     "name": "stdout",
     "output_type": "stream",
     "text": [
      "512.948296994 m 552.841313077 m\n",
      "Ratio:  0.927840023639\n"
     ]
    },
    {
     "name": "stderr",
     "output_type": "stream",
     "text": [
      "\r",
      " 86%|████████▌ | 1029/1200 [03:16<00:41,  4.12it/s]"
     ]
    },
    {
     "name": "stdout",
     "output_type": "stream",
     "text": [
      "4506.65488552 m 1476.00760997 m\n",
      "Ratio:  3.05327347574\n"
     ]
    },
    {
     "name": "stderr",
     "output_type": "stream",
     "text": [
      "\r",
      " 86%|████████▌ | 1030/1200 [03:16<00:40,  4.15it/s]"
     ]
    },
    {
     "name": "stdout",
     "output_type": "stream",
     "text": [
      "387.899707621 m 1009.15106407 m\n",
      "Ratio:  0.384382201469\n"
     ]
    },
    {
     "name": "stderr",
     "output_type": "stream",
     "text": [
      "\r",
      " 86%|████████▌ | 1031/1200 [03:16<00:40,  4.13it/s]"
     ]
    },
    {
     "name": "stdout",
     "output_type": "stream",
     "text": [
      "583.443709091 m 680.957218846 m\n",
      "Ratio:  0.856799359701\n"
     ]
    },
    {
     "name": "stderr",
     "output_type": "stream",
     "text": [
      "\r",
      " 86%|████████▌ | 1032/1200 [03:17<00:40,  4.18it/s]"
     ]
    },
    {
     "name": "stdout",
     "output_type": "stream",
     "text": [
      "842.94130365 m 20736.4965775 m\n",
      "Ratio:  0.0406501310624\n"
     ]
    },
    {
     "name": "stderr",
     "output_type": "stream",
     "text": [
      "\r",
      " 86%|████████▌ | 1033/1200 [03:17<00:39,  4.19it/s]"
     ]
    },
    {
     "name": "stdout",
     "output_type": "stream",
     "text": [
      "1428.17488328 m 1002.38185632 m\n",
      "Ratio:  1.42478125904\n"
     ]
    },
    {
     "name": "stderr",
     "output_type": "stream",
     "text": [
      "\r",
      " 86%|████████▌ | 1034/1200 [03:17<00:39,  4.17it/s]"
     ]
    },
    {
     "name": "stdout",
     "output_type": "stream",
     "text": [
      "540.810007632 m 1219.63364471 m\n",
      "Ratio:  0.443420046649\n"
     ]
    },
    {
     "name": "stderr",
     "output_type": "stream",
     "text": [
      "\r",
      " 86%|████████▋ | 1035/1200 [03:17<00:38,  4.26it/s]"
     ]
    },
    {
     "name": "stdout",
     "output_type": "stream",
     "text": [
      "525.154380038 m 1086.62966386 m\n",
      "Ratio:  0.483287358612\n"
     ]
    },
    {
     "name": "stderr",
     "output_type": "stream",
     "text": [
      "\r",
      " 86%|████████▋ | 1036/1200 [03:18<00:37,  4.39it/s]"
     ]
    },
    {
     "name": "stdout",
     "output_type": "stream",
     "text": [
      "2372.32207066 m 330.765792319 m\n",
      "Ratio:  7.17221105009\n"
     ]
    },
    {
     "name": "stderr",
     "output_type": "stream",
     "text": [
      "\r",
      " 86%|████████▋ | 1037/1200 [03:18<00:37,  4.38it/s]"
     ]
    },
    {
     "name": "stdout",
     "output_type": "stream",
     "text": [
      "1380.4079852 m 1368.13595945 m\n",
      "Ratio:  1.00896988758\n"
     ]
    },
    {
     "name": "stderr",
     "output_type": "stream",
     "text": [
      " 87%|████████▋ | 1039/1200 [03:18<00:34,  4.61it/s]"
     ]
    },
    {
     "name": "stdout",
     "output_type": "stream",
     "text": [
      "1853.60678083 m 188378.878962 m\n",
      "Ratio:  0.00983978029299\n",
      "1132.9583951 m 435.739632422 m\n",
      "Ratio:  2.60008112827\n"
     ]
    },
    {
     "name": "stderr",
     "output_type": "stream",
     "text": [
      "\r",
      " 87%|████████▋ | 1040/1200 [03:18<00:34,  4.60it/s]"
     ]
    },
    {
     "name": "stdout",
     "output_type": "stream",
     "text": [
      "920.442117009 m 244.389494599 m\n",
      "Ratio:  3.76629166699\n"
     ]
    },
    {
     "name": "stderr",
     "output_type": "stream",
     "text": [
      "\r",
      " 87%|████████▋ | 1041/1200 [03:19<00:34,  4.62it/s]"
     ]
    },
    {
     "name": "stdout",
     "output_type": "stream",
     "text": [
      "256.094474888 m 2653.42154826 m\n",
      "Ratio:  0.0965148093623\n"
     ]
    },
    {
     "name": "stderr",
     "output_type": "stream",
     "text": [
      " 87%|████████▋ | 1043/1200 [03:19<00:34,  4.49it/s]"
     ]
    },
    {
     "name": "stdout",
     "output_type": "stream",
     "text": [
      "187.965057075 m 368.804492701 m\n",
      "Ratio:  0.509660432004\n",
      "3146.12582421 m 82.3542015141 m\n",
      "Ratio:  38.202371784\n"
     ]
    },
    {
     "name": "stderr",
     "output_type": "stream",
     "text": [
      "\r",
      " 87%|████████▋ | 1044/1200 [03:19<00:34,  4.57it/s]"
     ]
    },
    {
     "name": "stdout",
     "output_type": "stream",
     "text": [
      "270.637798728 m 111.774417137 m\n",
      "Ratio:  2.42128570794\n"
     ]
    },
    {
     "name": "stderr",
     "output_type": "stream",
     "text": [
      " 87%|████████▋ | 1046/1200 [03:20<00:32,  4.78it/s]"
     ]
    },
    {
     "name": "stdout",
     "output_type": "stream",
     "text": [
      "168.002708074 m 462.09503921 m\n",
      "Ratio:  0.363567434875\n",
      "406.175231351 m 143.774741032 m\n",
      "Ratio:  2.82508059785\n"
     ]
    },
    {
     "name": "stderr",
     "output_type": "stream",
     "text": [
      " 87%|████████▋ | 1048/1200 [03:20<00:30,  5.07it/s]"
     ]
    },
    {
     "name": "stdout",
     "output_type": "stream",
     "text": [
      "73.4543307364 m 210.562230214 m\n",
      "Ratio:  0.348848559695\n",
      "76.2616748111 m 239.802481971 m\n",
      "Ratio:  0.318018705162\n"
     ]
    },
    {
     "name": "stderr",
     "output_type": "stream",
     "text": [
      " 88%|████████▊ | 1050/1200 [03:20<00:30,  4.99it/s]"
     ]
    },
    {
     "name": "stdout",
     "output_type": "stream",
     "text": [
      "74.220919753 m 3074.06827347 m\n",
      "Ratio:  0.0241442001772\n",
      "93.1536209286 m 270.268229449 m\n",
      "Ratio:  0.34467100006\n"
     ]
    },
    {
     "name": "stderr",
     "output_type": "stream",
     "text": [
      " 88%|████████▊ | 1052/1200 [03:21<00:28,  5.22it/s]"
     ]
    },
    {
     "name": "stdout",
     "output_type": "stream",
     "text": [
      "226.069454623 m 281.056791948 m\n",
      "Ratio:  0.804355066659\n",
      "550.773778043 m 183.645649252 m\n",
      "Ratio:  2.99911149698\n"
     ]
    },
    {
     "name": "stderr",
     "output_type": "stream",
     "text": [
      "\r",
      " 88%|████████▊ | 1053/1200 [03:21<00:28,  5.22it/s]"
     ]
    },
    {
     "name": "stdout",
     "output_type": "stream",
     "text": [
      "362.709822128 m 113.612047175 m\n",
      "Ratio:  3.19252958772\n"
     ]
    },
    {
     "name": "stderr",
     "output_type": "stream",
     "text": [
      " 88%|████████▊ | 1055/1200 [03:21<00:28,  5.15it/s]"
     ]
    },
    {
     "name": "stdout",
     "output_type": "stream",
     "text": [
      "98.2240434076 m 185.030365531 m\n",
      "Ratio:  0.530853641919\n",
      "97.2431008969 m 629.757528595 m\n",
      "Ratio:  0.154413558364\n"
     ]
    },
    {
     "name": "stderr",
     "output_type": "stream",
     "text": [
      "\r",
      " 88%|████████▊ | 1056/1200 [03:22<00:27,  5.18it/s]"
     ]
    },
    {
     "name": "stdout",
     "output_type": "stream",
     "text": [
      "129.035738576 m 148.110201954 m\n",
      "Ratio:  0.87121438546\n"
     ]
    },
    {
     "name": "stderr",
     "output_type": "stream",
     "text": [
      "\r",
      " 88%|████████▊ | 1057/1200 [03:22<00:28,  4.96it/s]"
     ]
    },
    {
     "name": "stdout",
     "output_type": "stream",
     "text": [
      "72.6216557315 m 551.40621448 m\n",
      "Ratio:  0.131702642851\n",
      "71.4549397718 m 2953.87924737 m\n",
      "Ratio:  0.0241902033861\n"
     ]
    },
    {
     "name": "stderr",
     "output_type": "stream",
     "text": [
      " 88%|████████▊ | 1060/1200 [03:22<00:26,  5.28it/s]"
     ]
    },
    {
     "name": "stdout",
     "output_type": "stream",
     "text": [
      "83.3161270271 m 487.293000888 m\n",
      "Ratio:  0.170977475308\n",
      "78.8907532274 m 145.322306015 m\n",
      "Ratio:  0.54286747431\n"
     ]
    },
    {
     "name": "stderr",
     "output_type": "stream",
     "text": [
      "\r",
      " 88%|████████▊ | 1061/1200 [03:23<00:27,  5.12it/s]"
     ]
    },
    {
     "name": "stdout",
     "output_type": "stream",
     "text": [
      "73.0255028975 m 804.553231977 m\n",
      "Ratio:  0.0907652843779\n"
     ]
    },
    {
     "name": "stderr",
     "output_type": "stream",
     "text": [
      "\r",
      " 88%|████████▊ | 1062/1200 [03:23<00:27,  4.97it/s]"
     ]
    },
    {
     "name": "stdout",
     "output_type": "stream",
     "text": [
      "123.727139606 m 662.840849282 m\n",
      "Ratio:  0.186661910985\n"
     ]
    },
    {
     "name": "stderr",
     "output_type": "stream",
     "text": [
      "\r",
      " 89%|████████▊ | 1063/1200 [03:23<00:27,  4.94it/s]"
     ]
    },
    {
     "name": "stdout",
     "output_type": "stream",
     "text": [
      "522.531583989 m 139.087763241 m\n",
      "Ratio:  3.75684799162\n"
     ]
    },
    {
     "name": "stderr",
     "output_type": "stream",
     "text": [
      " 89%|████████▉ | 1065/1200 [03:23<00:27,  4.96it/s]"
     ]
    },
    {
     "name": "stdout",
     "output_type": "stream",
     "text": [
      "101.099132519 m 158.371139354 m\n",
      "Ratio:  0.638368410628\n",
      "470.601575058 m 94.3052934174 m\n",
      "Ratio:  4.99019257567\n"
     ]
    },
    {
     "name": "stderr",
     "output_type": "stream",
     "text": [
      "\r",
      " 89%|████████▉ | 1066/1200 [03:24<00:27,  4.91it/s]"
     ]
    },
    {
     "name": "stdout",
     "output_type": "stream",
     "text": [
      "677.291918268 m 333.733842233 m\n",
      "Ratio:  2.02943733167\n"
     ]
    },
    {
     "name": "stderr",
     "output_type": "stream",
     "text": [
      " 89%|████████▉ | 1068/1200 [03:24<00:26,  5.03it/s]"
     ]
    },
    {
     "name": "stdout",
     "output_type": "stream",
     "text": [
      "108.705544032 m 798.837104211 m\n",
      "Ratio:  0.136079738234\n",
      "75.5380116781 m 727.330774403 m\n",
      "Ratio:  0.103856476773\n"
     ]
    },
    {
     "name": "stderr",
     "output_type": "stream",
     "text": [
      " 89%|████████▉ | 1070/1200 [03:24<00:25,  5.15it/s]"
     ]
    },
    {
     "name": "stdout",
     "output_type": "stream",
     "text": [
      "72.929223278 m 1420.3763 m\n",
      "Ratio:  0.051345001517\n",
      "69.4288386612 m 489.519528404 m\n",
      "Ratio:  0.141830580054\n"
     ]
    },
    {
     "name": "stderr",
     "output_type": "stream",
     "text": [
      "\r",
      " 89%|████████▉ | 1071/1200 [03:25<00:26,  4.84it/s]"
     ]
    },
    {
     "name": "stdout",
     "output_type": "stream",
     "text": [
      "3685.82946003 m 311.594994556 m\n",
      "Ratio:  11.8289110044\n"
     ]
    },
    {
     "name": "stderr",
     "output_type": "stream",
     "text": [
      "\r",
      " 89%|████████▉ | 1072/1200 [03:25<00:28,  4.51it/s]"
     ]
    },
    {
     "name": "stdout",
     "output_type": "stream",
     "text": [
      "95.4399324203 m 1177.8759286 m\n",
      "Ratio:  0.0810271524384\n"
     ]
    },
    {
     "name": "stderr",
     "output_type": "stream",
     "text": [
      "\r",
      " 89%|████████▉ | 1073/1200 [03:25<00:27,  4.61it/s]"
     ]
    },
    {
     "name": "stdout",
     "output_type": "stream",
     "text": [
      "101.804774407 m 306.424308984 m\n",
      "Ratio:  0.332234654439\n"
     ]
    },
    {
     "name": "stderr",
     "output_type": "stream",
     "text": [
      "\r",
      " 90%|████████▉ | 1074/1200 [03:25<00:27,  4.57it/s]"
     ]
    },
    {
     "name": "stdout",
     "output_type": "stream",
     "text": [
      "81.8841471218 m 527.831266409 m\n",
      "Ratio:  0.155133188071\n"
     ]
    },
    {
     "name": "stderr",
     "output_type": "stream",
     "text": [
      "\r",
      " 90%|████████▉ | 1075/1200 [03:26<00:26,  4.66it/s]"
     ]
    },
    {
     "name": "stdout",
     "output_type": "stream",
     "text": [
      "81.8641625391 m 791.124838754 m\n",
      "Ratio:  0.103478185147\n"
     ]
    },
    {
     "name": "stderr",
     "output_type": "stream",
     "text": [
      "\r",
      " 90%|████████▉ | 1076/1200 [03:26<00:27,  4.44it/s]"
     ]
    },
    {
     "name": "stdout",
     "output_type": "stream",
     "text": [
      "108.311402008 m 254.808658864 m\n",
      "Ratio:  0.425069550189\n"
     ]
    },
    {
     "name": "stderr",
     "output_type": "stream",
     "text": [
      "\r",
      " 90%|████████▉ | 1077/1200 [03:26<00:27,  4.49it/s]"
     ]
    },
    {
     "name": "stdout",
     "output_type": "stream",
     "text": [
      "402.564830468 m 578.3190257 m\n",
      "Ratio:  0.696094737641\n"
     ]
    },
    {
     "name": "stderr",
     "output_type": "stream",
     "text": [
      " 90%|████████▉ | 1079/1200 [03:26<00:26,  4.65it/s]"
     ]
    },
    {
     "name": "stdout",
     "output_type": "stream",
     "text": [
      "529.220174208 m 241.059484939 m\n",
      "Ratio:  2.19539245403\n",
      "998.858117158 m 461.799005268 m\n",
      "Ratio:  2.16297156504\n"
     ]
    },
    {
     "name": "stderr",
     "output_type": "stream",
     "text": [
      "\r",
      " 90%|█████████ | 1080/1200 [03:27<00:25,  4.65it/s]"
     ]
    },
    {
     "name": "stdout",
     "output_type": "stream",
     "text": [
      "1313.07049233 m 130.927417146 m\n",
      "Ratio:  10.0289956142\n"
     ]
    },
    {
     "name": "stderr",
     "output_type": "stream",
     "text": [
      "\r",
      " 90%|█████████ | 1081/1200 [03:27<00:25,  4.74it/s]"
     ]
    },
    {
     "name": "stdout",
     "output_type": "stream",
     "text": [
      "244.644835807 m 238.352768632 m\n",
      "Ratio:  1.02639812917\n"
     ]
    },
    {
     "name": "stderr",
     "output_type": "stream",
     "text": [
      "\r",
      " 90%|█████████ | 1082/1200 [03:27<00:25,  4.60it/s]"
     ]
    },
    {
     "name": "stdout",
     "output_type": "stream",
     "text": [
      "378.996895504 m 218.798922848 m\n",
      "Ratio:  1.73216984147\n"
     ]
    },
    {
     "name": "stderr",
     "output_type": "stream",
     "text": [
      "\r",
      " 90%|█████████ | 1083/1200 [03:27<00:26,  4.42it/s]"
     ]
    },
    {
     "name": "stdout",
     "output_type": "stream",
     "text": [
      "95.6749407827 m 567.24185852 m\n",
      "Ratio:  0.168666926366\n"
     ]
    },
    {
     "name": "stderr",
     "output_type": "stream",
     "text": [
      "\r",
      " 90%|█████████ | 1084/1200 [03:28<00:26,  4.43it/s]"
     ]
    },
    {
     "name": "stdout",
     "output_type": "stream",
     "text": [
      "73.1735453954 m 2445.93846551 m\n",
      "Ratio:  0.0299163476216\n"
     ]
    },
    {
     "name": "stderr",
     "output_type": "stream",
     "text": [
      "\r",
      " 90%|█████████ | 1085/1200 [03:28<00:29,  3.92it/s]"
     ]
    },
    {
     "name": "stdout",
     "output_type": "stream",
     "text": [
      "69.087995864 m 23307.6927952 m\n",
      "Ratio:  0.00296417137771\n"
     ]
    },
    {
     "name": "stderr",
     "output_type": "stream",
     "text": [
      "\r",
      " 90%|█████████ | 1086/1200 [03:28<00:28,  4.03it/s]"
     ]
    },
    {
     "name": "stdout",
     "output_type": "stream",
     "text": [
      "89.7435645761 m 943.858726028 m\n",
      "Ratio:  0.0950815647525\n"
     ]
    },
    {
     "name": "stderr",
     "output_type": "stream",
     "text": [
      "\r",
      " 91%|█████████ | 1087/1200 [03:28<00:27,  4.08it/s]"
     ]
    },
    {
     "name": "stdout",
     "output_type": "stream",
     "text": [
      "1034.02195496 m 778.480121486 m\n",
      "Ratio:  1.32825736512\n"
     ]
    },
    {
     "name": "stderr",
     "output_type": "stream",
     "text": [
      "\r",
      " 91%|█████████ | 1088/1200 [03:29<00:27,  4.04it/s]"
     ]
    },
    {
     "name": "stdout",
     "output_type": "stream",
     "text": [
      "310.622476692 m 490.682713837 m\n",
      "Ratio:  0.633041409312\n"
     ]
    },
    {
     "name": "stderr",
     "output_type": "stream",
     "text": [
      "\r",
      " 91%|█████████ | 1089/1200 [03:29<00:27,  4.10it/s]"
     ]
    },
    {
     "name": "stdout",
     "output_type": "stream",
     "text": [
      "154.489156956 m 493.69974662 m\n",
      "Ratio:  0.312921280624\n"
     ]
    },
    {
     "name": "stderr",
     "output_type": "stream",
     "text": [
      "\r",
      " 91%|█████████ | 1090/1200 [03:29<00:26,  4.19it/s]"
     ]
    },
    {
     "name": "stdout",
     "output_type": "stream",
     "text": [
      "375.520776379 m 835.607576761 m\n",
      "Ratio:  0.449398481803\n"
     ]
    },
    {
     "name": "stderr",
     "output_type": "stream",
     "text": [
      "\r",
      " 91%|█████████ | 1091/1200 [03:29<00:24,  4.37it/s]"
     ]
    },
    {
     "name": "stdout",
     "output_type": "stream",
     "text": [
      "482.072443077 m 2206.38644822 m\n",
      "Ratio:  0.218489577592\n"
     ]
    },
    {
     "name": "stderr",
     "output_type": "stream",
     "text": [
      "\r",
      " 91%|█████████ | 1092/1200 [03:29<00:24,  4.48it/s]"
     ]
    },
    {
     "name": "stdout",
     "output_type": "stream",
     "text": [
      "737.106585901 m 29030.4891022 m\n",
      "Ratio:  0.025390773931\n"
     ]
    },
    {
     "name": "stderr",
     "output_type": "stream",
     "text": [
      "\r",
      " 91%|█████████ | 1093/1200 [03:30<00:24,  4.38it/s]"
     ]
    },
    {
     "name": "stdout",
     "output_type": "stream",
     "text": [
      "2761.14507401 m 14393.4722859 m\n",
      "Ratio:  0.191833146246\n"
     ]
    },
    {
     "name": "stderr",
     "output_type": "stream",
     "text": [
      "\r",
      " 91%|█████████ | 1094/1200 [03:30<00:24,  4.34it/s]"
     ]
    },
    {
     "name": "stdout",
     "output_type": "stream",
     "text": [
      "1528.99557753 m 493.314707833 m\n",
      "Ratio:  3.09943237704\n"
     ]
    },
    {
     "name": "stderr",
     "output_type": "stream",
     "text": [
      "\r",
      " 91%|█████████▏| 1095/1200 [03:30<00:23,  4.49it/s]"
     ]
    },
    {
     "name": "stdout",
     "output_type": "stream",
     "text": [
      "2325.93439194 m 446.792151618 m\n",
      "Ratio:  5.20585328888\n",
      "774.455173884 m 722.459569753 m\n",
      "Ratio:  1.07197026146\n"
     ]
    },
    {
     "name": "stderr",
     "output_type": "stream",
     "text": [
      " 91%|█████████▏| 1097/1200 [03:31<00:21,  4.69it/s]"
     ]
    },
    {
     "name": "stdout",
     "output_type": "stream",
     "text": [
      "9495.93865583 m 67591.2834664 m\n",
      "Ratio:  0.140490580572\n"
     ]
    },
    {
     "name": "stderr",
     "output_type": "stream",
     "text": [
      " 92%|█████████▏| 1099/1200 [03:31<00:21,  4.72it/s]"
     ]
    },
    {
     "name": "stdout",
     "output_type": "stream",
     "text": [
      "679.99424741 m 82073.3134379 m\n",
      "Ratio:  0.00828520525036\n",
      "314.553432176 m 260.029254038 m\n",
      "Ratio:  1.20968478466\n"
     ]
    },
    {
     "name": "stderr",
     "output_type": "stream",
     "text": [
      " 92%|█████████▏| 1101/1200 [03:31<00:19,  5.00it/s]"
     ]
    },
    {
     "name": "stdout",
     "output_type": "stream",
     "text": [
      "316.262258279 m 313.786101535 m\n",
      "Ratio:  1.00789122505\n",
      "505.585529725 m 504.104030989 m\n",
      "Ratio:  1.002938875\n"
     ]
    },
    {
     "name": "stderr",
     "output_type": "stream",
     "text": [
      " 92%|█████████▏| 1103/1200 [03:32<00:19,  5.07it/s]"
     ]
    },
    {
     "name": "stdout",
     "output_type": "stream",
     "text": [
      "1125.65569573 m 1417.78097746 m\n",
      "Ratio:  0.793955987301\n",
      "5651.66261527 m 1507.29906923 m\n",
      "Ratio:  3.74952969231\n"
     ]
    },
    {
     "name": "stderr",
     "output_type": "stream",
     "text": [
      "\r",
      " 92%|█████████▏| 1104/1200 [03:32<00:19,  5.04it/s]"
     ]
    },
    {
     "name": "stdout",
     "output_type": "stream",
     "text": [
      "592.364108249 m 270.628623638 m\n",
      "Ratio:  2.18884499462\n"
     ]
    },
    {
     "name": "stderr",
     "output_type": "stream",
     "text": [
      "\r",
      " 92%|█████████▏| 1105/1200 [03:32<00:19,  4.84it/s]"
     ]
    },
    {
     "name": "stdout",
     "output_type": "stream",
     "text": [
      "606.864957939 m 957.639690596 m\n",
      "Ratio:  0.633709070226\n"
     ]
    },
    {
     "name": "stderr",
     "output_type": "stream",
     "text": [
      "\r",
      " 92%|█████████▏| 1106/1200 [03:32<00:20,  4.61it/s]"
     ]
    },
    {
     "name": "stdout",
     "output_type": "stream",
     "text": [
      "1550.33869546 m 379.910895681 m\n",
      "Ratio:  4.08079555782\n"
     ]
    },
    {
     "name": "stderr",
     "output_type": "stream",
     "text": [
      "\r",
      " 92%|█████████▏| 1107/1200 [03:33<00:20,  4.49it/s]"
     ]
    },
    {
     "name": "stdout",
     "output_type": "stream",
     "text": [
      "423.994511285 m 254.386072233 m\n",
      "Ratio:  1.66673634119\n"
     ]
    },
    {
     "name": "stderr",
     "output_type": "stream",
     "text": [
      " 92%|█████████▏| 1109/1200 [03:33<00:19,  4.71it/s]"
     ]
    },
    {
     "name": "stdout",
     "output_type": "stream",
     "text": [
      "466.837040328 m 1336.05905529 m\n",
      "Ratio:  0.349413477255\n",
      "1739.60129009 m 531.785734712 m\n",
      "Ratio:  3.2712447449\n"
     ]
    },
    {
     "name": "stderr",
     "output_type": "stream",
     "text": [
      "\r",
      " 92%|█████████▎| 1110/1200 [03:33<00:18,  4.85it/s]"
     ]
    },
    {
     "name": "stdout",
     "output_type": "stream",
     "text": [
      "3986.85765143 m 195.803643436 m\n",
      "Ratio:  20.3615090173\n"
     ]
    },
    {
     "name": "stderr",
     "output_type": "stream",
     "text": [
      "\r",
      " 93%|█████████▎| 1111/1200 [03:33<00:18,  4.86it/s]"
     ]
    },
    {
     "name": "stdout",
     "output_type": "stream",
     "text": [
      "946.403649544 m 772.157116072 m\n",
      "Ratio:  1.22566201858\n"
     ]
    },
    {
     "name": "stderr",
     "output_type": "stream",
     "text": [
      "\r",
      " 93%|█████████▎| 1112/1200 [03:34<00:18,  4.81it/s]"
     ]
    },
    {
     "name": "stdout",
     "output_type": "stream",
     "text": [
      "359.213301506 m 416.624376898 m\n",
      "Ratio:  0.862199432929\n"
     ]
    },
    {
     "name": "stderr",
     "output_type": "stream",
     "text": [
      " 93%|█████████▎| 1114/1200 [03:34<00:17,  4.94it/s]"
     ]
    },
    {
     "name": "stdout",
     "output_type": "stream",
     "text": [
      "364.769823666 m 218.519289656 m\n",
      "Ratio:  1.66927974295\n",
      "838.300241299 m 1450.44354686 m\n",
      "Ratio:  0.577961302331\n"
     ]
    },
    {
     "name": "stderr",
     "output_type": "stream",
     "text": [
      " 93%|█████████▎| 1116/1200 [03:34<00:16,  5.04it/s]"
     ]
    },
    {
     "name": "stdout",
     "output_type": "stream",
     "text": [
      "500.623636733 m 573.180000546 m\n",
      "Ratio:  0.873414348469\n",
      "271.334560667 m 227.289089039 m\n",
      "Ratio:  1.19378612416\n"
     ]
    },
    {
     "name": "stderr",
     "output_type": "stream",
     "text": [
      " 93%|█████████▎| 1118/1200 [03:35<00:15,  5.27it/s]"
     ]
    },
    {
     "name": "stdout",
     "output_type": "stream",
     "text": [
      "176.874198865 m 167.825744802 m\n",
      "Ratio:  1.05391576885\n",
      "129.127825385 m 481.284064471 m\n",
      "Ratio:  0.268298568179\n"
     ]
    },
    {
     "name": "stderr",
     "output_type": "stream",
     "text": [
      " 93%|█████████▎| 1120/1200 [03:35<00:15,  5.26it/s]"
     ]
    },
    {
     "name": "stdout",
     "output_type": "stream",
     "text": [
      "618.751034359 m 112.872248637 m\n",
      "Ratio:  5.48187036079\n",
      "227.450712991 m 60.3229531194 m\n",
      "Ratio:  3.77055003492\n"
     ]
    },
    {
     "name": "stderr",
     "output_type": "stream",
     "text": [
      " 94%|█████████▎| 1122/1200 [03:36<00:14,  5.20it/s]"
     ]
    },
    {
     "name": "stdout",
     "output_type": "stream",
     "text": [
      "919.599703842 m 419.894862423 m\n",
      "Ratio:  2.19007133961\n",
      "579.431580643 m 192.178135726 m\n",
      "Ratio:  3.01507545827\n"
     ]
    },
    {
     "name": "stderr",
     "output_type": "stream",
     "text": [
      " 94%|█████████▎| 1124/1200 [03:36<00:15,  5.05it/s]"
     ]
    },
    {
     "name": "stdout",
     "output_type": "stream",
     "text": [
      "165.275900975 m 181.72576594 m\n",
      "Ratio:  0.909479732389\n",
      "75.0185237432 m 169.385947539 m\n",
      "Ratio:  0.442885167471\n"
     ]
    },
    {
     "name": "stderr",
     "output_type": "stream",
     "text": [
      " 94%|█████████▍| 1126/1200 [03:36<00:14,  5.16it/s]"
     ]
    },
    {
     "name": "stdout",
     "output_type": "stream",
     "text": [
      "111.907137332 m 176.89319626 m\n",
      "Ratio:  0.63262544687\n",
      "565.972635799 m 184.125326677 m\n",
      "Ratio:  3.07384457104\n"
     ]
    },
    {
     "name": "stderr",
     "output_type": "stream",
     "text": [
      "\r",
      " 94%|█████████▍| 1127/1200 [03:37<00:14,  5.08it/s]"
     ]
    },
    {
     "name": "stdout",
     "output_type": "stream",
     "text": [
      "281.628162852 m 156.347447219 m\n",
      "Ratio:  1.80129684151\n"
     ]
    },
    {
     "name": "stderr",
     "output_type": "stream",
     "text": [
      " 94%|█████████▍| 1129/1200 [03:37<00:14,  4.89it/s]"
     ]
    },
    {
     "name": "stdout",
     "output_type": "stream",
     "text": [
      "170.217548821 m 162.940945637 m\n",
      "Ratio:  1.04465791674\n",
      "92.0390280214 m 158.824892939 m\n",
      "Ratio:  0.579500016141\n"
     ]
    },
    {
     "name": "stderr",
     "output_type": "stream",
     "text": [
      " 94%|█████████▍| 1131/1200 [03:37<00:13,  5.10it/s]"
     ]
    },
    {
     "name": "stdout",
     "output_type": "stream",
     "text": [
      "150.973833245 m 68.0056403831 m\n",
      "Ratio:  2.22001928656\n",
      "147.235681607 m 156.515409546 m\n",
      "Ratio:  0.940710451665\n"
     ]
    },
    {
     "name": "stderr",
     "output_type": "stream",
     "text": [
      " 94%|█████████▍| 1133/1200 [03:38<00:13,  5.14it/s]"
     ]
    },
    {
     "name": "stdout",
     "output_type": "stream",
     "text": [
      "143.166064606 m 248.571589992 m\n",
      "Ratio:  0.575955058302\n",
      "150.932426194 m 684.425011808 m\n",
      "Ratio:  0.220524416248\n"
     ]
    },
    {
     "name": "stderr",
     "output_type": "stream",
     "text": [
      " 95%|█████████▍| 1135/1200 [03:38<00:12,  5.15it/s]"
     ]
    },
    {
     "name": "stdout",
     "output_type": "stream",
     "text": [
      "152.015537537 m 5743.94661977 m\n",
      "Ratio:  0.0264653464942\n",
      "142.242149163 m 119.91649088 m\n",
      "Ratio:  1.18617671447\n"
     ]
    },
    {
     "name": "stderr",
     "output_type": "stream",
     "text": [
      " 95%|█████████▍| 1137/1200 [03:39<00:11,  5.26it/s]"
     ]
    },
    {
     "name": "stdout",
     "output_type": "stream",
     "text": [
      "74.0296542076 m 81.2825190328 m\n",
      "Ratio:  0.910769684411\n",
      "734.693460634 m 98.7501723054 m\n",
      "Ratio:  7.43992079692\n"
     ]
    },
    {
     "name": "stderr",
     "output_type": "stream",
     "text": [
      " 95%|█████████▍| 1139/1200 [03:39<00:11,  5.11it/s]"
     ]
    },
    {
     "name": "stdout",
     "output_type": "stream",
     "text": [
      "177.447478042 m 107.389118019 m\n",
      "Ratio:  1.65237857724\n",
      "128.391338815 m 170.956243825 m\n",
      "Ratio:  0.751018716501\n"
     ]
    },
    {
     "name": "stderr",
     "output_type": "stream",
     "text": [
      " 95%|█████████▌| 1141/1200 [03:39<00:11,  5.14it/s]"
     ]
    },
    {
     "name": "stdout",
     "output_type": "stream",
     "text": [
      "135.445120359 m 266.552420984 m\n",
      "Ratio:  0.508136898024\n",
      "54.0691129924 m 165.047107899 m\n",
      "Ratio:  0.327598063854\n"
     ]
    },
    {
     "name": "stderr",
     "output_type": "stream",
     "text": [
      "\r",
      " 95%|█████████▌| 1142/1200 [03:40<00:11,  5.11it/s]"
     ]
    },
    {
     "name": "stdout",
     "output_type": "stream",
     "text": [
      "49.1791299571 m 911.249328895 m\n",
      "Ratio:  0.0539689066402\n"
     ]
    },
    {
     "name": "stderr",
     "output_type": "stream",
     "text": [
      "\r",
      " 95%|█████████▌| 1143/1200 [03:40<00:11,  4.83it/s]"
     ]
    },
    {
     "name": "stdout",
     "output_type": "stream",
     "text": [
      "48.9428668757 m 148.355116465 m\n",
      "Ratio:  0.329903464349\n"
     ]
    },
    {
     "name": "stderr",
     "output_type": "stream",
     "text": [
      " 95%|█████████▌| 1145/1200 [03:40<00:11,  4.99it/s]"
     ]
    },
    {
     "name": "stdout",
     "output_type": "stream",
     "text": [
      "133.64532868 m 182.919380856 m\n",
      "Ratio:  0.730624213\n",
      "133.078714225 m 318.400392744 m\n",
      "Ratio:  0.417960270333\n"
     ]
    },
    {
     "name": "stderr",
     "output_type": "stream",
     "text": [
      " 96%|█████████▌| 1147/1200 [03:41<00:10,  5.18it/s]"
     ]
    },
    {
     "name": "stdout",
     "output_type": "stream",
     "text": [
      "137.893806872 m 81.4644421546 m\n",
      "Ratio:  1.69268705738\n",
      "152.364540946 m 292.713719661 m\n",
      "Ratio:  0.520524084497\n"
     ]
    },
    {
     "name": "stderr",
     "output_type": "stream",
     "text": [
      " 96%|█████████▌| 1149/1200 [03:41<00:09,  5.27it/s]"
     ]
    },
    {
     "name": "stdout",
     "output_type": "stream",
     "text": [
      "147.119146349 m 66695.3367522 m\n",
      "Ratio:  0.00220583857153\n",
      "126.463269381 m 502.886445731 m\n",
      "Ratio:  0.251474802025\n"
     ]
    },
    {
     "name": "stderr",
     "output_type": "stream",
     "text": [
      " 96%|█████████▌| 1151/1200 [03:41<00:09,  5.40it/s]"
     ]
    },
    {
     "name": "stdout",
     "output_type": "stream",
     "text": [
      "106.807891721 m 1702.9717943 m\n",
      "Ratio:  0.0627185324373\n",
      "98.0493739904 m 618.56808659 m\n",
      "Ratio:  0.158510236975\n"
     ]
    },
    {
     "name": "stderr",
     "output_type": "stream",
     "text": [
      " 96%|█████████▌| 1153/1200 [03:42<00:08,  5.45it/s]"
     ]
    },
    {
     "name": "stdout",
     "output_type": "stream",
     "text": [
      "122.578266998 m 214.895384422 m\n",
      "Ratio:  0.570409026361\n",
      "463.654609143 m 118.554303575 m\n",
      "Ratio:  3.91090492002\n"
     ]
    },
    {
     "name": "stderr",
     "output_type": "stream",
     "text": [
      " 96%|█████████▋| 1155/1200 [03:42<00:08,  5.42it/s]"
     ]
    },
    {
     "name": "stdout",
     "output_type": "stream",
     "text": [
      "8308.48722682 m 113.988983722 m\n",
      "Ratio:  72.8885104117\n",
      "174.141382559 m 126.687570338 m\n",
      "Ratio:  1.37457354414\n"
     ]
    },
    {
     "name": "stderr",
     "output_type": "stream",
     "text": [
      "\r",
      " 96%|█████████▋| 1156/1200 [03:42<00:08,  5.41it/s]"
     ]
    },
    {
     "name": "stdout",
     "output_type": "stream",
     "text": [
      "915.281120602 m 130.546693742 m\n",
      "Ratio:  7.01113980269\n",
      "157.831474283 m 160.749936214 m\n",
      "Ratio:  0.981844708624\n"
     ]
    },
    {
     "name": "stderr",
     "output_type": "stream",
     "text": [
      " 96%|█████████▋| 1158/1200 [03:43<00:07,  5.26it/s]"
     ]
    },
    {
     "name": "stdout",
     "output_type": "stream",
     "text": [
      "169.166997204 m 187.218083426 m\n",
      "Ratio:  0.903582571235\n"
     ]
    },
    {
     "name": "stderr",
     "output_type": "stream",
     "text": [
      " 97%|█████████▋| 1160/1200 [03:43<00:08,  4.93it/s]"
     ]
    },
    {
     "name": "stdout",
     "output_type": "stream",
     "text": [
      "205.158196264 m 174.182420937 m\n",
      "Ratio:  1.17783525548\n",
      "217.644835373 m 212.509885331 m\n",
      "Ratio:  1.02416334672\n"
     ]
    },
    {
     "name": "stderr",
     "output_type": "stream",
     "text": [
      " 97%|█████████▋| 1162/1200 [03:43<00:07,  5.11it/s]"
     ]
    },
    {
     "name": "stdout",
     "output_type": "stream",
     "text": [
      "271.163457165 m 131.789682054 m\n",
      "Ratio:  2.05754694101\n",
      "274.004030287 m 115.163961215 m\n",
      "Ratio:  2.37925152448\n"
     ]
    },
    {
     "name": "stderr",
     "output_type": "stream",
     "text": [
      "\r",
      " 97%|█████████▋| 1163/1200 [03:44<00:07,  5.07it/s]"
     ]
    },
    {
     "name": "stdout",
     "output_type": "stream",
     "text": [
      "267.575863681 m 95.5207118886 m\n",
      "Ratio:  2.80123397733\n",
      "353.020833192 m 93.8246430876 m\n",
      "Ratio:  3.7625598305\n"
     ]
    },
    {
     "name": "stderr",
     "output_type": "stream",
     "text": [
      " 97%|█████████▋| 1166/1200 [03:44<00:06,  5.09it/s]"
     ]
    },
    {
     "name": "stdout",
     "output_type": "stream",
     "text": [
      "1481.65739435 m 94.8889126708 m\n",
      "Ratio:  15.6146524673\n",
      "386.540986426 m 101.517727623 m\n",
      "Ratio:  3.80762055531\n"
     ]
    },
    {
     "name": "stderr",
     "output_type": "stream",
     "text": [
      "\r",
      " 97%|█████████▋| 1167/1200 [03:44<00:06,  4.99it/s]"
     ]
    },
    {
     "name": "stdout",
     "output_type": "stream",
     "text": [
      "378.128730888 m 101.102858677 m\n",
      "Ratio:  3.74003995372\n"
     ]
    },
    {
     "name": "stderr",
     "output_type": "stream",
     "text": [
      "\r",
      " 97%|█████████▋| 1168/1200 [03:45<00:06,  4.89it/s]"
     ]
    },
    {
     "name": "stdout",
     "output_type": "stream",
     "text": [
      "276.751492461 m 98.4395028581 m\n",
      "Ratio:  2.81138653108\n"
     ]
    },
    {
     "name": "stderr",
     "output_type": "stream",
     "text": [
      "\r",
      " 97%|█████████▋| 1169/1200 [03:45<00:06,  4.67it/s]"
     ]
    },
    {
     "name": "stdout",
     "output_type": "stream",
     "text": [
      "307.077869804 m 109.439853902 m\n",
      "Ratio:  2.8059053339\n"
     ]
    },
    {
     "name": "stderr",
     "output_type": "stream",
     "text": [
      "\r",
      " 98%|█████████▊| 1170/1200 [03:45<00:06,  4.63it/s]"
     ]
    },
    {
     "name": "stdout",
     "output_type": "stream",
     "text": [
      "347.440327493 m 105.671285586 m\n",
      "Ratio:  3.28793508632\n"
     ]
    },
    {
     "name": "stderr",
     "output_type": "stream",
     "text": [
      "\r",
      " 98%|█████████▊| 1171/1200 [03:45<00:06,  4.69it/s]"
     ]
    },
    {
     "name": "stdout",
     "output_type": "stream",
     "text": [
      "326.973524253 m 141.065646037 m\n",
      "Ratio:  2.31788201761\n"
     ]
    },
    {
     "name": "stderr",
     "output_type": "stream",
     "text": [
      "\r",
      " 98%|█████████▊| 1172/1200 [03:45<00:05,  4.67it/s]"
     ]
    },
    {
     "name": "stdout",
     "output_type": "stream",
     "text": [
      "327.364573585 m 218.189177648 m\n",
      "Ratio:  1.50037035344\n"
     ]
    },
    {
     "name": "stderr",
     "output_type": "stream",
     "text": [
      "\r",
      " 98%|█████████▊| 1173/1200 [03:46<00:06,  4.38it/s]"
     ]
    },
    {
     "name": "stdout",
     "output_type": "stream",
     "text": [
      "398.909874235 m 92.0201881475 m\n",
      "Ratio:  4.3350256315\n"
     ]
    },
    {
     "name": "stderr",
     "output_type": "stream",
     "text": [
      "\r",
      " 98%|█████████▊| 1174/1200 [03:46<00:05,  4.45it/s]"
     ]
    },
    {
     "name": "stdout",
     "output_type": "stream",
     "text": [
      "405.979160408 m 69.8556080232 m\n",
      "Ratio:  5.8116903123\n"
     ]
    },
    {
     "name": "stderr",
     "output_type": "stream",
     "text": [
      "\r",
      " 98%|█████████▊| 1175/1200 [03:46<00:05,  4.57it/s]"
     ]
    },
    {
     "name": "stdout",
     "output_type": "stream",
     "text": [
      "509.239360298 m 98.0116118855 m\n",
      "Ratio:  5.19570437116\n",
      "479.125043246 m 170.72516447 m\n",
      "Ratio:  2.80641137311\n"
     ]
    },
    {
     "name": "stderr",
     "output_type": "stream",
     "text": [
      " 98%|█████████▊| 1177/1200 [03:47<00:04,  4.69it/s]"
     ]
    },
    {
     "name": "stdout",
     "output_type": "stream",
     "text": [
      "650.860625283 m 79.7675121213 m\n",
      "Ratio:  8.15947003955\n"
     ]
    },
    {
     "name": "stderr",
     "output_type": "stream",
     "text": [
      "\r",
      " 98%|█████████▊| 1178/1200 [03:47<00:04,  4.66it/s]"
     ]
    },
    {
     "name": "stdout",
     "output_type": "stream",
     "text": [
      "387.882587973 m 81.5573583118 m\n",
      "Ratio:  4.75594840247\n"
     ]
    },
    {
     "name": "stderr",
     "output_type": "stream",
     "text": [
      " 98%|█████████▊| 1180/1200 [03:47<00:04,  4.84it/s]"
     ]
    },
    {
     "name": "stdout",
     "output_type": "stream",
     "text": [
      "528.449383518 m 68.7424119284 m\n",
      "Ratio:  7.6873849592\n",
      "418.54350932 m 55.0523867398 m\n",
      "Ratio:  7.60264057756\n"
     ]
    },
    {
     "name": "stderr",
     "output_type": "stream",
     "text": [
      "\r",
      " 98%|█████████▊| 1181/1200 [03:47<00:03,  4.88it/s]"
     ]
    },
    {
     "name": "stdout",
     "output_type": "stream",
     "text": [
      "527.782495907 m 56.8271742726 m\n",
      "Ratio:  9.28750202104\n"
     ]
    },
    {
     "name": "stderr",
     "output_type": "stream",
     "text": [
      "\r",
      " 98%|█████████▊| 1182/1200 [03:48<00:03,  4.81it/s]"
     ]
    },
    {
     "name": "stdout",
     "output_type": "stream",
     "text": [
      "463.666604776 m 60.7458761908 m\n",
      "Ratio:  7.63289022813\n"
     ]
    },
    {
     "name": "stderr",
     "output_type": "stream",
     "text": [
      "\r",
      " 99%|█████████▊| 1183/1200 [03:48<00:03,  4.55it/s]"
     ]
    },
    {
     "name": "stdout",
     "output_type": "stream",
     "text": [
      "411.191553326 m 57.6297902118 m\n",
      "Ratio:  7.13505205928\n"
     ]
    },
    {
     "name": "stderr",
     "output_type": "stream",
     "text": [
      "\r",
      " 99%|█████████▊| 1184/1200 [03:48<00:03,  4.61it/s]"
     ]
    },
    {
     "name": "stdout",
     "output_type": "stream",
     "text": [
      "484.722589154 m 53.1916736086 m\n",
      "Ratio:  9.11275311096\n"
     ]
    },
    {
     "name": "stderr",
     "output_type": "stream",
     "text": [
      "\r",
      " 99%|█████████▉| 1185/1200 [03:48<00:03,  4.65it/s]"
     ]
    },
    {
     "name": "stdout",
     "output_type": "stream",
     "text": [
      "1655.98595522 m 54.1228735937 m\n",
      "Ratio:  30.5967855227\n"
     ]
    },
    {
     "name": "stderr",
     "output_type": "stream",
     "text": [
      "\r",
      " 99%|█████████▉| 1186/1200 [03:48<00:02,  4.71it/s]"
     ]
    },
    {
     "name": "stdout",
     "output_type": "stream",
     "text": [
      "588.464617122 m 56.2463065446 m\n",
      "Ratio:  10.4622801616\n"
     ]
    },
    {
     "name": "stderr",
     "output_type": "stream",
     "text": [
      "\r",
      " 99%|█████████▉| 1187/1200 [03:49<00:03,  4.17it/s]"
     ]
    },
    {
     "name": "stdout",
     "output_type": "stream",
     "text": [
      "2978.59660269 m 59.198220073 m\n",
      "Ratio:  50.3156446092\n"
     ]
    },
    {
     "name": "stderr",
     "output_type": "stream",
     "text": [
      "\r",
      " 99%|█████████▉| 1188/1200 [03:49<00:02,  4.34it/s]"
     ]
    },
    {
     "name": "stdout",
     "output_type": "stream",
     "text": [
      "787.721901253 m 59.4403921183 m\n",
      "Ratio:  13.2522998786\n"
     ]
    },
    {
     "name": "stderr",
     "output_type": "stream",
     "text": [
      " 99%|█████████▉| 1190/1200 [03:49<00:02,  4.60it/s]"
     ]
    },
    {
     "name": "stdout",
     "output_type": "stream",
     "text": [
      "774.209871019 m 62.6812906592 m\n",
      "Ratio:  12.3515304627\n",
      "580.577333007 m 80.8779679883 m\n",
      "Ratio:  7.17843619773\n"
     ]
    },
    {
     "name": "stderr",
     "output_type": "stream",
     "text": [
      " 99%|█████████▉| 1192/1200 [03:50<00:01,  4.86it/s]"
     ]
    },
    {
     "name": "stdout",
     "output_type": "stream",
     "text": [
      "401.305170462 m 97.0026631211 m\n",
      "Ratio:  4.13705312359\n",
      "251.102951282 m 101.018346073 m\n",
      "Ratio:  2.48571631831\n"
     ]
    },
    {
     "name": "stderr",
     "output_type": "stream",
     "text": [
      "\r",
      " 99%|█████████▉| 1193/1200 [03:50<00:01,  4.90it/s]"
     ]
    },
    {
     "name": "stdout",
     "output_type": "stream",
     "text": [
      "229.920279575 m 81.6808601579 m\n",
      "Ratio:  2.81486114533\n"
     ]
    },
    {
     "name": "stderr",
     "output_type": "stream",
     "text": [
      "100%|█████████▉| 1195/1200 [03:50<00:01,  4.93it/s]"
     ]
    },
    {
     "name": "stdout",
     "output_type": "stream",
     "text": [
      "207.021075373 m 76.1549821574 m\n",
      "Ratio:  2.71841801426\n",
      "151.416484718 m 82.6109672311 m\n",
      "Ratio:  1.83288599315\n"
     ]
    },
    {
     "name": "stderr",
     "output_type": "stream",
     "text": [
      "\r",
      "100%|█████████▉| 1196/1200 [03:51<00:00,  4.87it/s]"
     ]
    },
    {
     "name": "stdout",
     "output_type": "stream",
     "text": [
      "122.465722178 m 85.8585244698 m\n",
      "Ratio:  1.42636648992\n"
     ]
    },
    {
     "name": "stderr",
     "output_type": "stream",
     "text": [
      "\r",
      "100%|█████████▉| 1197/1200 [03:51<00:00,  4.71it/s]"
     ]
    },
    {
     "name": "stdout",
     "output_type": "stream",
     "text": [
      "122.643935597 m 122.8717865 m\n",
      "Ratio:  0.998145620656\n"
     ]
    },
    {
     "name": "stderr",
     "output_type": "stream",
     "text": [
      "100%|█████████▉| 1199/1200 [03:51<00:00,  4.81it/s]"
     ]
    },
    {
     "name": "stdout",
     "output_type": "stream",
     "text": [
      "110.608560798 m 173.358939879 m\n",
      "Ratio:  0.638032055778\n",
      "106.227906956 m 191.65258632 m\n",
      "Ratio:  0.554273276428\n"
     ]
    },
    {
     "name": "stderr",
     "output_type": "stream",
     "text": [
      "\n"
     ]
    },
    {
     "name": "stdout",
     "output_type": "stream",
     "text": [
      "[MoviePy] Done.\n",
      "[MoviePy] >>>> Video ready: harder_challenge_video_done_2.mp4 \n",
      "\n"
     ]
    }
   ],
   "source": [
    "harder_output = 'harder_challenge_video_done_2.mp4'\n",
    "clip1 = VideoFileClip('harder_challenge_video.mp4')\n",
    "white_clip = clip1.fl_image(process_image)  # NOTE: this function expects color images!!\n",
    "white_clip.write_videofile(harder_output, audio=False)"
   ]
  },
  {
   "cell_type": "code",
   "execution_count": 15,
   "metadata": {
    "collapsed": false
   },
   "outputs": [
    {
     "data": {
      "text/html": [
       "\n",
       "<video width=\"960\" height=\"540\" controls>\n",
       "  <source src=\"harder_challenge_video_done_2.mp4\">\n",
       "</video>\n"
      ],
      "text/plain": [
       "<IPython.core.display.HTML object>"
      ]
     },
     "execution_count": 15,
     "metadata": {},
     "output_type": "execute_result"
    }
   ],
   "source": [
    "HTML(\"\"\"\n",
    "<video width=\"960\" height=\"540\" controls>\n",
    "  <source src=\"{0}\">\n",
    "</video>\n",
    "\"\"\".format(harder_output))"
   ]
  },
  {
   "cell_type": "code",
   "execution_count": null,
   "metadata": {
    "collapsed": true
   },
   "outputs": [],
   "source": []
  }
 ],
 "metadata": {
  "anaconda-cloud": {},
  "kernelspec": {
   "display_name": "Python [conda root]",
   "language": "python",
   "name": "conda-root-py"
  },
  "language_info": {
   "codemirror_mode": {
    "name": "ipython",
    "version": 3
   },
   "file_extension": ".py",
   "mimetype": "text/x-python",
   "name": "python",
   "nbconvert_exporter": "python",
   "pygments_lexer": "ipython3",
   "version": "3.5.2"
  }
 },
 "nbformat": 4,
 "nbformat_minor": 1
}
